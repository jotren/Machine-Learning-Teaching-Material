{
 "cells": [
  {
   "cell_type": "markdown",
   "id": "e7926b5d-a78e-4cdd-b584-69c24744b8e2",
   "metadata": {},
   "source": [
    "# Univariate Challenge"
   ]
  },
  {
   "cell_type": "code",
   "execution_count": null,
   "id": "9f38ceae-cf47-481f-bbca-f0cf0f02aa1d",
   "metadata": {},
   "outputs": [],
   "source": []
  }
 ],
 "metadata": {
  "kernelspec": {
   "display_name": "Python (teaching)",
   "language": "python",
   "name": "teaching"
  },
  "language_info": {
   "codemirror_mode": {
    "name": "ipython",
    "version": 3
   },
   "file_extension": ".py",
   "mimetype": "text/x-python",
   "name": "python",
   "nbconvert_exporter": "python",
   "pygments_lexer": "ipython3",
   "version": "3.10.14"
  }
 },
 "nbformat": 4,
 "nbformat_minor": 5
}
