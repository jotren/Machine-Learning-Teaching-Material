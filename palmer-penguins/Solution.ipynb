{
 "cells": [
  {
   "cell_type": "markdown",
   "id": "fdcbf7b4-6d3c-46c3-8bf6-f40ff0bb0861",
   "metadata": {},
   "source": [
    "# Palmers Penguins Solution\n",
    "\n",
    "Below is a number of solutions to the problem. In order to solve this we have used a number of different machine learning algorithmns to classify the data:\n",
    "\n",
    "- Random Forest\n",
    "- XGBoost Random Forest\n",
    "- Support Vector Machines\n",
    "- K-Nearest Neighbour\n",
    "- Logistic Regression\n",
    "\n",
    "We will run these, find which one works best and then try to explain why."
   ]
  },
  {
   "cell_type": "code",
   "execution_count": 35,
   "id": "f9aebd57-7440-46d9-b914-b24ec131cb89",
   "metadata": {},
   "outputs": [],
   "source": [
    "import pandas as pd\n",
    "from sklearn.model_selection import train_test_split\n",
    "from sklearn.metrics import confusion_matrix, accuracy_score, classification_report\n",
    "from sklearn.ensemble import RandomForestClassifier\n",
    "import xgboost as xgb\n",
    "from sklearn.svm import SVC\n",
    "from sklearn.preprocessing import StandardScaler\n",
    "from sklearn.neighbors import KNeighborsClassifier\n"
   ]
  },
  {
   "cell_type": "code",
   "execution_count": 36,
   "id": "3591e3d3-beb6-491f-a481-2c313295b0ae",
   "metadata": {},
   "outputs": [],
   "source": [
    "df = pd.read_csv(\"./data/penguin_data.csv\")"
   ]
  },
  {
   "cell_type": "markdown",
   "id": "f00aa98a-115d-4447-b332-8ed6c066a2a4",
   "metadata": {},
   "source": [
    "## Encoding\n",
    "\n",
    "In ML feature \"encoding\" is when we convert the data from text to numbers so the machine can interpret the data. For example, in our data we have \"island_name\" and \"sex\" that are text columns. We need to convert these into numbers. This can be achieved with Functions and Lambda."
   ]
  },
  {
   "cell_type": "code",
   "execution_count": 37,
   "id": "f4f786a5-482c-4659-9a1f-8ee604c10e51",
   "metadata": {},
   "outputs": [],
   "source": [
    "# Define a function to map 'island' values to numeric values\n",
    "def map_island_to_numeric(island_name):\n",
    "    island_mapping = {\n",
    "        'Torgersen': 0,\n",
    "        'Biscoe': 1,\n",
    "        'Dream': 2\n",
    "    }\n",
    "    \n",
    "    return island_mapping.get(island_name, -1)  # Return -1 for unknown or missing values"
   ]
  },
  {
   "cell_type": "code",
   "execution_count": 38,
   "id": "f5fe285e-4280-4039-88a2-c05912ed194a",
   "metadata": {},
   "outputs": [],
   "source": [
    "\n",
    "# Define a function to map 'sex' values to 0 for male and 1 for female\n",
    "def map_sex_to_binary(sex):\n",
    "    if sex == 'male':\n",
    "        return 0\n",
    "    elif sex == 'female':\n",
    "        return 1\n",
    "    else:\n",
    "        return None  # Handle missing or other cases if necessary\n"
   ]
  },
  {
   "cell_type": "code",
   "execution_count": 43,
   "id": "ce827d54-8189-45d0-a16e-965f6a6ffae9",
   "metadata": {},
   "outputs": [],
   "source": [
    "# Define a function to map 'island' values to numeric values\n",
    "def map_species_to_numeric(species):\n",
    "    species_mapping = {\n",
    "        'Adelie': 0,\n",
    "        'Chinstrap': 1,\n",
    "        'Gentoo': 2\n",
    "    }\n",
    "    \n",
    "    return species_mapping.get(species, -1) "
   ]
  },
  {
   "cell_type": "markdown",
   "id": "34c37d62-24bf-4406-8b97-79b6d3edbd9c",
   "metadata": {},
   "source": [
    "## Train Test Split\n",
    "\n",
    "Need to understand how out model is performing. To do this we will seperate the data into training and test data:\n",
    "\n",
    "- Training data: Fitting the model to this data.\n",
    "- Test data: Model will tested against this data.\n",
    "\n",
    "We can then calculate how effective our model is."
   ]
  },
  {
   "cell_type": "code",
   "execution_count": 44,
   "id": "85f8a1ef-1e87-48ea-a377-1686a731c22a",
   "metadata": {},
   "outputs": [],
   "source": [
    "df.dropna(inplace=True)\n",
    "\n",
    "# Apply the function to create a new 'island_numeric' column\n",
    "df['island_numeric'] = df['island'].apply(map_island_to_numeric)\n",
    "\n",
    "# Apply the function to create a new 'sex_binary' column\n",
    "df['sex_binary'] = df['sex'].apply(map_sex_to_binary)\n",
    "\n",
    "# Apply the function to create a new 'sex_binary' column\n",
    "df['species'] = df['species'].apply(map_species_to_numeric)\n",
    "\n",
    "# Define the features (X) and target (y)\n",
    "X = df[['bill_length_mm', 'bill_depth_mm', 'flipper_length_mm', 'body_mass_g', 'sex_binary', 'island_numeric', 'year']]\n",
    "y = df['species']\n",
    "\n",
    "# Split the data into a training set (80%) and a test set (20%)\n",
    "X_train, X_test, y_train, y_test = train_test_split(X, y, test_size=0.2)\n",
    "\n",
    "# Standardize the feature values (important for all classifiers)\n",
    "scaler = StandardScaler()\n",
    "X_train_scaled = scaler.fit_transform(X_train)\n",
    "X_test_scaled = scaler.transform(X_test)"
   ]
  },
  {
   "cell_type": "markdown",
   "id": "977ae95b-84a0-4c09-8c29-1a83765ce7a6",
   "metadata": {},
   "source": [
    "## Random Forest Classifier\n",
    "\n",
    "A random forest classifier constructs multiple decision trees, each trained on a random subset of the data, and uses their collective votes to classify new data, reducing overfitting and enhancing accuracy by aggregating diverse insights from various perspectives of the dataset."
   ]
  },
  {
   "cell_type": "code",
   "execution_count": 45,
   "id": "5d058946-0423-4160-b392-0b6056caac3f",
   "metadata": {},
   "outputs": [],
   "source": [
    "# Define and train a Random Forest classifier\n",
    "rf_classifier = RandomForestClassifier(n_estimators=100, random_state=42)\n",
    "rf_classifier.fit(X_train_scaled, y_train)\n",
    "\n",
    "# Make predictions\n",
    "rf_predictions = rf_classifier.predict(X_test_scaled)"
   ]
  },
  {
   "cell_type": "markdown",
   "id": "5200c818-c3ed-4c7f-ab0d-8271c99d9197",
   "metadata": {},
   "source": [
    "## Model Evaluation\n",
    "\n",
    "**Accuracy Score**: The accuracy score measures the proportion of total correct predictions made by a model, providing a straightforward metric of its overall performance on a dataset.\n",
    "\n",
    "**Confusion Matrix**: A confusion matrix is a table used to describe the performance of a classification model on a set of test data for which the true values are known, showing the counts of correct and incorrect predictions across different categories.\n",
    "\n",
    "**Classification Report**: A classification report provides key metrics like precision, recall, and F1-score for each class, offering a detailed view of a model’s performance, especially useful for imbalanced datasets where accuracy alone might be misleading.\n",
    "\n"
   ]
  },
  {
   "cell_type": "code",
   "execution_count": 46,
   "id": "2b942718-6925-438b-b7ee-4412538f56fa",
   "metadata": {},
   "outputs": [],
   "source": [
    "# Evaluate the Random Forest classifier\n",
    "rf_accuracy = accuracy_score(y_test, rf_predictions)\n",
    "rf_confusion_matrix = confusion_matrix(y_test, rf_predictions)\n",
    "rf_classification_report = classification_report(y_test, rf_predictions)"
   ]
  },
  {
   "cell_type": "code",
   "execution_count": 54,
   "id": "f475e68a-8456-4836-bea1-ce9d1d447f11",
   "metadata": {},
   "outputs": [
    {
     "name": "stdout",
     "output_type": "stream",
     "text": [
      "Random Forest Classifier Accuracy: 0.9850746268656716\n",
      "\n",
      "\n",
      "Random Forest Classifier Confusion Matrix:\n",
      " [[35  0  0]\n",
      " [ 1 10  0]\n",
      " [ 0  0 21]]\n",
      "\n",
      "\n",
      "Random Forest Classifier Classification Report:\n",
      "               precision    recall  f1-score   support\n",
      "\n",
      "           0       0.97      1.00      0.99        35\n",
      "           1       1.00      0.91      0.95        11\n",
      "           2       1.00      1.00      1.00        21\n",
      "\n",
      "    accuracy                           0.99        67\n",
      "   macro avg       0.99      0.97      0.98        67\n",
      "weighted avg       0.99      0.99      0.98        67\n",
      "\n"
     ]
    }
   ],
   "source": [
    "# Display the results\n",
    "print(\"Random Forest Classifier Accuracy:\", rf_accuracy)\n",
    "print(\"\\n\")\n",
    "print(\"Random Forest Classifier Confusion Matrix:\\n\", rf_confusion_matrix)\n",
    "print(\"\\n\")\n",
    "print(\"Random Forest Classifier Classification Report:\\n\", rf_classification_report)"
   ]
  },
  {
   "cell_type": "markdown",
   "id": "5d5f1e68-731f-430c-b96a-6313ee30667e",
   "metadata": {},
   "source": [
    "## XGBoost Random Forest\n",
    "\n",
    "XGBoost Random Forest leverages the XGBoost (Extreme Gradient Boosting) framework to enhance the traditional random forest approach, utilizing gradient boosting techniques to optimize the construction of decision trees across various stages of training. This method boosts performance by focusing on correcting the mistakes of previous trees, making it highly effective for complex datasets with high-dimensional features."
   ]
  },
  {
   "cell_type": "code",
   "execution_count": 55,
   "id": "39aa15b7-dd73-43ce-abdb-1e87fa4302bc",
   "metadata": {},
   "outputs": [
    {
     "name": "stdout",
     "output_type": "stream",
     "text": [
      "\n",
      "XGBoost Classifier Accuracy: 0.9850746268656716\n",
      "\n",
      "\n",
      "XGBoost Classifier Confusion Matrix:\n",
      " [[35  0  0]\n",
      " [ 1 10  0]\n",
      " [ 0  0 21]]\n",
      "\n",
      "\n",
      "XGBoost Classifier Classification Report:\n",
      "               precision    recall  f1-score   support\n",
      "\n",
      "           0       0.97      1.00      0.99        35\n",
      "           1       1.00      0.91      0.95        11\n",
      "           2       1.00      1.00      1.00        21\n",
      "\n",
      "    accuracy                           0.99        67\n",
      "   macro avg       0.99      0.97      0.98        67\n",
      "weighted avg       0.99      0.99      0.98        67\n",
      "\n"
     ]
    }
   ],
   "source": [
    "# Define and train an XGBoost classifier\n",
    "xgb_classifier = xgb.XGBClassifier(n_estimators=100, random_state=42)\n",
    "xgb_classifier.fit(X_train_scaled, y_train)\n",
    "xgb_predictions = xgb_classifier.predict(X_test_scaled)\n",
    "\n",
    "# Evaluate the XGBoost classifier\n",
    "xgb_accuracy = accuracy_score(y_test, xgb_predictions)\n",
    "xgb_confusion_matrix = confusion_matrix(y_test, xgb_predictions)\n",
    "xgb_classification_report = classification_report(y_test, xgb_predictions)\n",
    "\n",
    "print(\"\\nXGBoost Classifier Accuracy:\", xgb_accuracy)\n",
    "print(\"\\n\")\n",
    "print(\"XGBoost Classifier Confusion Matrix:\\n\", xgb_confusion_matrix)\n",
    "print(\"\\n\")\n",
    "print(\"XGBoost Classifier Classification Report:\\n\", xgb_classification_report)"
   ]
  },
  {
   "cell_type": "markdown",
   "id": "c9faa3c9-014f-4f1e-bc3d-c7eb3b8cc8b3",
   "metadata": {},
   "source": [
    "# Support Vector Machine\n",
    "Support Vector Machine (SVM) is a powerful machine learning model used for both classification and regression tasks, which finds the optimal hyperplane that best separates different classes in the feature space. This model is particularly effective in high-dimensional spaces and for cases where the number of dimensions exceeds the number of samples."
   ]
  },
  {
   "cell_type": "code",
   "execution_count": 57,
   "id": "4f3675ac-1598-48bd-9791-25e69fe538ab",
   "metadata": {},
   "outputs": [
    {
     "name": "stdout",
     "output_type": "stream",
     "text": [
      "Support Vector Machine Classifier Accuracy: 0.9850746268656716\n",
      "\n",
      "\n",
      "Support Vector Machine Classifier Confusion Matrix:\n",
      " [[34  1  0]\n",
      " [ 0 11  0]\n",
      " [ 0  0 21]]\n",
      "\n",
      "\n",
      "Support Vector Machine Classifier Classification Report:\n",
      "               precision    recall  f1-score   support\n",
      "\n",
      "           0       1.00      0.97      0.99        35\n",
      "           1       0.92      1.00      0.96        11\n",
      "           2       1.00      1.00      1.00        21\n",
      "\n",
      "    accuracy                           0.99        67\n",
      "   macro avg       0.97      0.99      0.98        67\n",
      "weighted avg       0.99      0.99      0.99        67\n",
      "\n"
     ]
    }
   ],
   "source": [
    "# Define and train a Support Vector Machine classifier\n",
    "svm_classifier = SVC(kernel='linear', C=1.0, random_state=42)\n",
    "svm_classifier.fit(X_train_scaled, y_train)\n",
    "\n",
    "# Make predictions\n",
    "svm_predictions = svm_classifier.predict(X_test_scaled)\n",
    "\n",
    "# Evaluate the SVM classifier\n",
    "svm_accuracy = accuracy_score(y_test, svm_predictions)\n",
    "svm_confusion_matrix = confusion_matrix(y_test, svm_predictions)\n",
    "svm_classification_report = classification_report(y_test, svm_predictions)\n",
    "\n",
    "# Display the results\n",
    "print(\"Support Vector Machine Classifier Accuracy:\", svm_accuracy)\n",
    "print(\"\\n\")\n",
    "print(\"Support Vector Machine Classifier Confusion Matrix:\\n\", svm_confusion_matrix)\n",
    "print(\"\\n\")\n",
    "print(\"Support Vector Machine Classifier Classification Report:\\n\", svm_classification_report)\n"
   ]
  },
  {
   "cell_type": "markdown",
   "id": "cb618152-8faa-416a-8c71-6bee82ea3a74",
   "metadata": {},
   "source": [
    "## KNN\n",
    "\n",
    "K-Nearest Neighbors (KNN) is a simple, intuitive machine learning algorithm that classifies a new data point based on the majority vote of its 'k' nearest neighbors in the feature space, making it highly effective for classification tasks where the relationship between features is spatially significant."
   ]
  },
  {
   "cell_type": "code",
   "execution_count": 59,
   "id": "cef63e07-0114-47f4-b4d1-319ec91a00d1",
   "metadata": {},
   "outputs": [
    {
     "name": "stdout",
     "output_type": "stream",
     "text": [
      "K-Nearest Neighbors Classifier Accuracy: 0.9701492537313433\n",
      "\n",
      "\n",
      "K-Nearest Neighbors Classifier Confusion Matrix:\n",
      " [[34  1  0]\n",
      " [ 1 10  0]\n",
      " [ 0  0 21]]\n",
      "\n",
      "\n",
      "K-Nearest Neighbors Classifier Classification Report:\n",
      "               precision    recall  f1-score   support\n",
      "\n",
      "           0       0.97      0.97      0.97        35\n",
      "           1       0.91      0.91      0.91        11\n",
      "           2       1.00      1.00      1.00        21\n",
      "\n",
      "    accuracy                           0.97        67\n",
      "   macro avg       0.96      0.96      0.96        67\n",
      "weighted avg       0.97      0.97      0.97        67\n",
      "\n"
     ]
    }
   ],
   "source": [
    "# Define and train the KNN classifier\n",
    "knn_classifier = KNeighborsClassifier(n_neighbors=10)  # You can adjust the number of neighbors (k)\n",
    "knn_classifier.fit(X_train_scaled, y_train)\n",
    "\n",
    "# Make predictions\n",
    "knn_predictions = knn_classifier.predict(X_test_scaled)\n",
    "\n",
    "# Evaluate the KNN classifier\n",
    "knn_accuracy = accuracy_score(y_test, knn_predictions)\n",
    "knn_confusion_matrix = confusion_matrix(y_test, knn_predictions)\n",
    "knn_classification_report = classification_report(y_test, knn_predictions)\n",
    "\n",
    "# Display the results\n",
    "print(\"K-Nearest Neighbors Classifier Accuracy:\", knn_accuracy)\n",
    "print(\"\\n\")\n",
    "print(\"K-Nearest Neighbors Classifier Confusion Matrix:\\n\", knn_confusion_matrix)\n",
    "print(\"\\n\")\n",
    "print(\"K-Nearest Neighbors Classifier Classification Report:\\n\", knn_classification_report)"
   ]
  },
  {
   "cell_type": "code",
   "execution_count": null,
   "id": "c24920f4-78b8-4ec5-85cf-f418b301fc5d",
   "metadata": {},
   "outputs": [],
   "source": []
  }
 ],
 "metadata": {
  "kernelspec": {
   "display_name": "Python (teaching)",
   "language": "python",
   "name": "teaching"
  },
  "language_info": {
   "codemirror_mode": {
    "name": "ipython",
    "version": 3
   },
   "file_extension": ".py",
   "mimetype": "text/x-python",
   "name": "python",
   "nbconvert_exporter": "python",
   "pygments_lexer": "ipython3",
   "version": "3.10.14"
  }
 },
 "nbformat": 4,
 "nbformat_minor": 5
}
