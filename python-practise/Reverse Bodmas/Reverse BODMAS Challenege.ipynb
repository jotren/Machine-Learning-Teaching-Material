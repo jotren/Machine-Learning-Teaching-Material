{
 "cells": [
  {
   "cell_type": "markdown",
   "id": "290247cf-5c31-4e23-b984-abdf02b21baa",
   "metadata": {},
   "source": [
    "# Reverse BODMAS Challenege\n",
    "\n",
    "The challenge is to develop a Python calculator that evaluates expressions using reverse BODMAS order. The following programming constructs are essential for this task:\n",
    "\n",
    "- For loops\n",
    "- While loops\n",
    "- Functions\n",
    "- If statements\n",
    "- Lists\n",
    "\n",
    "Upon completing the basic calculator, you should create a user interface that allows interaction with the calculator. While TKinter is a recommended option for simplicity, other Python GUI frameworks are also viable. Challenge Guidelines:\n",
    "\n",
    "- Do not use any GPTs or similar AI tools for assistance.\n",
    "- Ensure you can explain and understand each line of the code you write.\n",
    "- You may utilise Python's built-in mathematical operators.\n",
    "- This project will help reinforce your understanding of fundamental programming concepts and the practical application of Python in developing interactive applications."
   ]
  },
  {
   "cell_type": "code",
   "execution_count": null,
   "id": "77029648-0d71-4c2b-bca3-33e6d608a7a3",
   "metadata": {},
   "outputs": [],
   "source": []
  }
 ],
 "metadata": {
  "kernelspec": {
   "display_name": "Python (teaching)",
   "language": "python",
   "name": "teaching"
  },
  "language_info": {
   "codemirror_mode": {
    "name": "ipython",
    "version": 3
   },
   "file_extension": ".py",
   "mimetype": "text/x-python",
   "name": "python",
   "nbconvert_exporter": "python",
   "pygments_lexer": "ipython3",
   "version": "3.10.14"
  }
 },
 "nbformat": 4,
 "nbformat_minor": 5
}
