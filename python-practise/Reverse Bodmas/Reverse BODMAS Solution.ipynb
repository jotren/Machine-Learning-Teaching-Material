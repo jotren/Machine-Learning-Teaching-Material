{
 "cells": [
  {
   "cell_type": "markdown",
   "id": "a254bbe7-3e76-4d23-bb8d-203544dc747d",
   "metadata": {},
   "source": [
    "# Rervser BODMAS Function Solution\n",
    "\n",
    "There are many ways to solve this problem, below is an example: "
   ]
  },
  {
   "cell_type": "code",
   "execution_count": 8,
   "id": "fdae502e-e6ce-4802-8161-69855aa85158",
   "metadata": {},
   "outputs": [
    {
     "name": "stdout",
     "output_type": "stream",
     "text": [
      "Reverse BODMAS result: 173.3611111111111\n"
     ]
    }
   ],
   "source": [
    "import re\n",
    "\n",
    "def process_operations(tokens, operator):\n",
    "    i = 0\n",
    "    while i < len(tokens):\n",
    "        if tokens[i] == operator:\n",
    "            if operator == '+':\n",
    "                result = tokens[i-1] + tokens[i+1]\n",
    "            elif operator == '-':\n",
    "                result = tokens[i-1] - tokens[i+1]\n",
    "            elif operator == '*':\n",
    "                result = tokens[i-1] * tokens[i+1]\n",
    "            elif operator == '/':\n",
    "                result = tokens[i-1] / tokens[i+1]\n",
    "            elif operator == '^':\n",
    "                result = tokens[i-1] ** tokens[i+1]\n",
    "\n",
    "            # Replace the operation with the result\n",
    "            tokens[i-1] = result\n",
    "            del tokens[i:i+2]\n",
    "            i -= 1  # Decrement i to stay in bounds after modification\n",
    "        else:\n",
    "            i += 1\n",
    "\n",
    "def evaluate_expression(expression):\n",
    "    # Recursively solve expressions inside brackets\n",
    "    while '(' in expression or ')' in expression:\n",
    "        expression = re.sub(r'\\(([^()]+)\\)', lambda m: str(evaluate_expression(m.group(1))), expression)\n",
    "\n",
    "    # Tokenize the expression into numbers and operators\n",
    "    tokens = re.findall(r'\\d+\\.?\\d*|\\+|-|\\*|/|\\^', expression)\n",
    "    # Convert numeric strings to floats\n",
    "    tokens = [float(token) if re.match(r'^-?\\d+(\\.\\d+)?$', token) else token for token in tokens]\n",
    "\n",
    "    # Process each operation type in reverse BODMAS order\n",
    "    for operator in ['-', '+']:\n",
    "        process_operations(tokens, operator)\n",
    "    for operator in ['/', '*']:\n",
    "        process_operations(tokens, operator)\n",
    "    process_operations(tokens, '^')\n",
    "\n",
    "    return tokens[0] if tokens else None\n",
    "\n",
    "def reverse_bodmas(expression):\n",
    "    return evaluate_expression(expression)\n",
    "\n",
    "# Example usage\n",
    "expr = \"2+(3*4)-(5/6)^2\"\n",
    "result = reverse_bodmas(expr)\n",
    "print(\"Reverse BODMAS result:\", result)\n"
   ]
  }
 ],
 "metadata": {
  "kernelspec": {
   "display_name": "Python (teaching)",
   "language": "python",
   "name": "teaching"
  },
  "language_info": {
   "codemirror_mode": {
    "name": "ipython",
    "version": 3
   },
   "file_extension": ".py",
   "mimetype": "text/x-python",
   "name": "python",
   "nbconvert_exporter": "python",
   "pygments_lexer": "ipython3",
   "version": "3.10.14"
  }
 },
 "nbformat": 4,
 "nbformat_minor": 5
}
