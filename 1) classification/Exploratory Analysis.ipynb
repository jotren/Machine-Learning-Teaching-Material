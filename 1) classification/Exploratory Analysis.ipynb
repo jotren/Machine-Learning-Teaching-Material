{
 "cells": [
  {
   "cell_type": "markdown",
   "id": "98c5f014-ec19-483f-9b4c-79e7f9400c4e",
   "metadata": {},
   "source": [
    "# Palmers Penguins Exploratory Analysis\n",
    "\n",
    "Palmers penguins is a machine learning problem that centres around categorising pengiuns into various different species. The challenge is to create a model that can distinguish the species of penguin based on some data."
   ]
  },
  {
   "cell_type": "markdown",
   "id": "5bfbab30-9560-421d-a367-4408bc738468",
   "metadata": {},
   "source": [
    "It is important to understand that we first want to explore the data and understand what is going on. Best package for this I've fount is plotly:\n",
    "\n",
    "- Quick to render\n",
    "- Allows the user to navigate and zoom around the data\n",
    "- Can export graphs to HTML which can then be shared\n",
    "\n",
    "__*** Must be used in Chrome browser to see plots***__"
   ]
  },
  {
   "cell_type": "code",
   "execution_count": 8,
   "id": "93e19b23-3d45-4102-928f-69f0c0addcf3",
   "metadata": {},
   "outputs": [],
   "source": [
    "import pandas as pd\n",
    "import os\n",
    "import plotly\n",
    "import plotly.express as px\n",
    "import plotly.io as pio\n",
    "\n",
    "df = pd.read_csv(\"./data/penguin_data.csv\")\n",
    "df.dropna(inplace=True)"
   ]
  },
  {
   "cell_type": "markdown",
   "id": "33fb90cf-cfcf-4697-9abf-d31f8e8f9a64",
   "metadata": {},
   "source": [
    "First we want start exploring the data. With a classification problem like this we want to visualise if the data can be seperate easily. If so, there is a good chance a machine will be able to seperate."
   ]
  },
  {
   "cell_type": "code",
   "execution_count": 11,
   "id": "905f910d-90ab-4a58-9e39-00c3ccd3344c",
   "metadata": {},
   "outputs": [
    {
     "data": {
      "application/vnd.plotly.v1+json": {
       "config": {
        "plotlyServerURL": "https://plot.ly"
       },
       "data": [
        {
         "customdata": [
          [
           "Torgersen",
           "male"
          ],
          [
           "Torgersen",
           "female"
          ],
          [
           "Torgersen",
           "female"
          ],
          [
           "Torgersen",
           "female"
          ],
          [
           "Torgersen",
           "male"
          ],
          [
           "Torgersen",
           "female"
          ],
          [
           "Torgersen",
           "male"
          ],
          [
           "Torgersen",
           "female"
          ],
          [
           "Torgersen",
           "male"
          ],
          [
           "Torgersen",
           "male"
          ],
          [
           "Torgersen",
           "female"
          ],
          [
           "Torgersen",
           "female"
          ],
          [
           "Torgersen",
           "male"
          ],
          [
           "Torgersen",
           "female"
          ],
          [
           "Torgersen",
           "male"
          ],
          [
           "Biscoe",
           "female"
          ],
          [
           "Biscoe",
           "male"
          ],
          [
           "Biscoe",
           "female"
          ],
          [
           "Biscoe",
           "male"
          ],
          [
           "Biscoe",
           "male"
          ],
          [
           "Biscoe",
           "female"
          ],
          [
           "Biscoe",
           "male"
          ],
          [
           "Biscoe",
           "female"
          ],
          [
           "Biscoe",
           "female"
          ],
          [
           "Biscoe",
           "male"
          ],
          [
           "Dream",
           "female"
          ],
          [
           "Dream",
           "male"
          ],
          [
           "Dream",
           "female"
          ],
          [
           "Dream",
           "male"
          ],
          [
           "Dream",
           "female"
          ],
          [
           "Dream",
           "male"
          ],
          [
           "Dream",
           "male"
          ],
          [
           "Dream",
           "female"
          ],
          [
           "Dream",
           "female"
          ],
          [
           "Dream",
           "male"
          ],
          [
           "Dream",
           "female"
          ],
          [
           "Dream",
           "male"
          ],
          [
           "Dream",
           "female"
          ],
          [
           "Dream",
           "male"
          ],
          [
           "Dream",
           "female"
          ],
          [
           "Dream",
           "male"
          ],
          [
           "Dream",
           "male"
          ],
          [
           "Dream",
           "female"
          ],
          [
           "Dream",
           "male"
          ],
          [
           "Biscoe",
           "female"
          ],
          [
           "Biscoe",
           "male"
          ],
          [
           "Biscoe",
           "female"
          ],
          [
           "Biscoe",
           "male"
          ],
          [
           "Biscoe",
           "female"
          ],
          [
           "Biscoe",
           "male"
          ],
          [
           "Biscoe",
           "female"
          ],
          [
           "Biscoe",
           "male"
          ],
          [
           "Biscoe",
           "female"
          ],
          [
           "Biscoe",
           "male"
          ],
          [
           "Biscoe",
           "female"
          ],
          [
           "Biscoe",
           "male"
          ],
          [
           "Biscoe",
           "female"
          ],
          [
           "Biscoe",
           "male"
          ],
          [
           "Biscoe",
           "female"
          ],
          [
           "Biscoe",
           "male"
          ],
          [
           "Biscoe",
           "female"
          ],
          [
           "Biscoe",
           "male"
          ],
          [
           "Torgersen",
           "female"
          ],
          [
           "Torgersen",
           "male"
          ],
          [
           "Torgersen",
           "female"
          ],
          [
           "Torgersen",
           "male"
          ],
          [
           "Torgersen",
           "female"
          ],
          [
           "Torgersen",
           "male"
          ],
          [
           "Torgersen",
           "female"
          ],
          [
           "Torgersen",
           "male"
          ],
          [
           "Torgersen",
           "female"
          ],
          [
           "Torgersen",
           "male"
          ],
          [
           "Torgersen",
           "female"
          ],
          [
           "Torgersen",
           "male"
          ],
          [
           "Torgersen",
           "female"
          ],
          [
           "Torgersen",
           "male"
          ],
          [
           "Torgersen",
           "female"
          ],
          [
           "Torgersen",
           "male"
          ],
          [
           "Dream",
           "female"
          ],
          [
           "Dream",
           "male"
          ],
          [
           "Dream",
           "male"
          ],
          [
           "Dream",
           "female"
          ],
          [
           "Dream",
           "male"
          ],
          [
           "Dream",
           "female"
          ],
          [
           "Dream",
           "female"
          ],
          [
           "Dream",
           "male"
          ],
          [
           "Dream",
           "female"
          ],
          [
           "Dream",
           "male"
          ],
          [
           "Dream",
           "female"
          ],
          [
           "Dream",
           "male"
          ],
          [
           "Dream",
           "female"
          ],
          [
           "Dream",
           "male"
          ],
          [
           "Dream",
           "female"
          ],
          [
           "Dream",
           "male"
          ],
          [
           "Biscoe",
           "female"
          ],
          [
           "Biscoe",
           "male"
          ],
          [
           "Biscoe",
           "female"
          ],
          [
           "Biscoe",
           "male"
          ],
          [
           "Biscoe",
           "female"
          ],
          [
           "Biscoe",
           "male"
          ],
          [
           "Biscoe",
           "female"
          ],
          [
           "Biscoe",
           "male"
          ],
          [
           "Biscoe",
           "female"
          ],
          [
           "Biscoe",
           "male"
          ],
          [
           "Biscoe",
           "female"
          ],
          [
           "Biscoe",
           "male"
          ],
          [
           "Biscoe",
           "female"
          ],
          [
           "Biscoe",
           "male"
          ],
          [
           "Biscoe",
           "female"
          ],
          [
           "Biscoe",
           "male"
          ],
          [
           "Torgersen",
           "female"
          ],
          [
           "Torgersen",
           "male"
          ],
          [
           "Torgersen",
           "female"
          ],
          [
           "Torgersen",
           "male"
          ],
          [
           "Torgersen",
           "female"
          ],
          [
           "Torgersen",
           "male"
          ],
          [
           "Torgersen",
           "female"
          ],
          [
           "Torgersen",
           "male"
          ],
          [
           "Torgersen",
           "female"
          ],
          [
           "Torgersen",
           "male"
          ],
          [
           "Torgersen",
           "female"
          ],
          [
           "Torgersen",
           "male"
          ],
          [
           "Torgersen",
           "female"
          ],
          [
           "Torgersen",
           "male"
          ],
          [
           "Torgersen",
           "female"
          ],
          [
           "Torgersen",
           "male"
          ],
          [
           "Dream",
           "female"
          ],
          [
           "Dream",
           "male"
          ],
          [
           "Dream",
           "female"
          ],
          [
           "Dream",
           "male"
          ],
          [
           "Dream",
           "female"
          ],
          [
           "Dream",
           "male"
          ],
          [
           "Dream",
           "female"
          ],
          [
           "Dream",
           "male"
          ],
          [
           "Dream",
           "female"
          ],
          [
           "Dream",
           "male"
          ],
          [
           "Dream",
           "female"
          ],
          [
           "Dream",
           "male"
          ],
          [
           "Dream",
           "female"
          ],
          [
           "Dream",
           "male"
          ],
          [
           "Dream",
           "male"
          ],
          [
           "Dream",
           "female"
          ],
          [
           "Dream",
           "female"
          ],
          [
           "Dream",
           "male"
          ],
          [
           "Dream",
           "female"
          ],
          [
           "Dream",
           "male"
          ]
         ],
         "hovertemplate": "species=Adelie<br>bill_length_mm=%{x}<br>body_mass_g=%{y}<br>bill_depth_mm=%{z}<br>island=%{customdata[0]}<br>sex=%{customdata[1]}<extra></extra>",
         "legendgroup": "Adelie",
         "marker": {
          "color": "#636efa",
          "symbol": "circle"
         },
         "mode": "markers",
         "name": "Adelie",
         "scene": "scene",
         "showlegend": true,
         "type": "scatter3d",
         "x": [
          39.1,
          39.5,
          40.3,
          36.7,
          39.3,
          38.9,
          39.2,
          41.1,
          38.6,
          34.6,
          36.6,
          38.7,
          42.5,
          34.4,
          46,
          37.8,
          37.7,
          35.9,
          38.2,
          38.8,
          35.3,
          40.6,
          40.5,
          37.9,
          40.5,
          39.5,
          37.2,
          39.5,
          40.9,
          36.4,
          39.2,
          38.8,
          42.2,
          37.6,
          39.8,
          36.5,
          40.8,
          36,
          44.1,
          37,
          39.6,
          41.1,
          36,
          42.3,
          39.6,
          40.1,
          35,
          42,
          34.5,
          41.4,
          39,
          40.6,
          36.5,
          37.6,
          35.7,
          41.3,
          37.6,
          41.1,
          36.4,
          41.6,
          35.5,
          41.1,
          35.9,
          41.8,
          33.5,
          39.7,
          39.6,
          45.8,
          35.5,
          42.8,
          40.9,
          37.2,
          36.2,
          42.1,
          34.6,
          42.9,
          36.7,
          35.1,
          37.3,
          41.3,
          36.3,
          36.9,
          38.3,
          38.9,
          35.7,
          41.1,
          34,
          39.6,
          36.2,
          40.8,
          38.1,
          40.3,
          33.1,
          43.2,
          35,
          41,
          37.7,
          37.8,
          37.9,
          39.7,
          38.6,
          38.2,
          38.1,
          43.2,
          38.1,
          45.6,
          39.7,
          42.2,
          39.6,
          42.7,
          38.6,
          37.3,
          35.7,
          41.1,
          36.2,
          37.7,
          40.2,
          41.4,
          35.2,
          40.6,
          38.8,
          41.5,
          39,
          44.1,
          38.5,
          43.1,
          36.8,
          37.5,
          38.1,
          41.1,
          35.6,
          40.2,
          37,
          39.7,
          40.2,
          40.6,
          32.1,
          40.7,
          37.3,
          39,
          39.2,
          36.6,
          36,
          37.8,
          36,
          41.5
         ],
         "y": [
          3750,
          3800,
          3250,
          3450,
          3650,
          3625,
          4675,
          3200,
          3800,
          4400,
          3700,
          3450,
          4500,
          3325,
          4200,
          3400,
          3600,
          3800,
          3950,
          3800,
          3800,
          3550,
          3200,
          3150,
          3950,
          3250,
          3900,
          3300,
          3900,
          3325,
          4150,
          3950,
          3550,
          3300,
          4650,
          3150,
          3900,
          3100,
          4400,
          3000,
          4600,
          3425,
          3450,
          4150,
          3500,
          4300,
          3450,
          4050,
          2900,
          3700,
          3550,
          3800,
          2850,
          3750,
          3150,
          4400,
          3600,
          4050,
          2850,
          3950,
          3350,
          4100,
          3050,
          4450,
          3600,
          3900,
          3550,
          4150,
          3700,
          4250,
          3700,
          3900,
          3550,
          4000,
          3200,
          4700,
          3800,
          4200,
          3350,
          3550,
          3800,
          3500,
          3950,
          3600,
          3550,
          4300,
          3400,
          4450,
          3300,
          4300,
          3700,
          4350,
          2900,
          4100,
          3725,
          4725,
          3075,
          4250,
          2925,
          3550,
          3750,
          3900,
          3175,
          4775,
          3825,
          4600,
          3200,
          4275,
          3900,
          4075,
          2900,
          3775,
          3350,
          3325,
          3150,
          3500,
          3450,
          3875,
          3050,
          4000,
          3275,
          4300,
          3050,
          4000,
          3325,
          3500,
          3500,
          4475,
          3425,
          3900,
          3175,
          3975,
          3400,
          4250,
          3400,
          3475,
          3050,
          3725,
          3000,
          3650,
          4250,
          3475,
          3450,
          3750,
          3700,
          4000
         ],
         "z": [
          18.7,
          17.4,
          18,
          19.3,
          20.6,
          17.8,
          19.6,
          17.6,
          21.2,
          21.1,
          17.8,
          19,
          20.7,
          18.4,
          21.5,
          18.3,
          18.7,
          19.2,
          18.1,
          17.2,
          18.9,
          18.6,
          17.9,
          18.6,
          18.9,
          16.7,
          18.1,
          17.8,
          18.9,
          17,
          21.1,
          20,
          18.5,
          19.3,
          19.1,
          18,
          18.4,
          18.5,
          19.7,
          16.9,
          18.8,
          19,
          17.9,
          21.2,
          17.7,
          18.9,
          17.9,
          19.5,
          18.1,
          18.6,
          17.5,
          18.8,
          16.6,
          19.1,
          16.9,
          21.1,
          17,
          18.2,
          17.1,
          18,
          16.2,
          19.1,
          16.6,
          19.4,
          19,
          18.4,
          17.2,
          18.9,
          17.5,
          18.5,
          16.8,
          19.4,
          16.1,
          19.1,
          17.2,
          17.6,
          18.8,
          19.4,
          17.8,
          20.3,
          19.5,
          18.6,
          19.2,
          18.8,
          18,
          18.1,
          17.1,
          18.1,
          17.3,
          18.9,
          18.6,
          18.5,
          16.1,
          18.5,
          17.9,
          20,
          16,
          20,
          18.6,
          18.9,
          17.2,
          20,
          17,
          19,
          16.5,
          20.3,
          17.7,
          19.5,
          20.7,
          18.3,
          17,
          20.5,
          17,
          18.6,
          17.2,
          19.8,
          17,
          18.5,
          15.9,
          19,
          17.6,
          18.3,
          17.1,
          18,
          17.9,
          19.2,
          18.5,
          18.5,
          17.6,
          17.5,
          17.5,
          20.1,
          16.5,
          17.9,
          17.1,
          17.2,
          15.5,
          17,
          16.8,
          18.7,
          18.6,
          18.4,
          17.8,
          18.1,
          17.1,
          18.5
         ]
        },
        {
         "customdata": [
          [
           "Biscoe",
           "female"
          ],
          [
           "Biscoe",
           "male"
          ],
          [
           "Biscoe",
           "female"
          ],
          [
           "Biscoe",
           "male"
          ],
          [
           "Biscoe",
           "male"
          ],
          [
           "Biscoe",
           "female"
          ],
          [
           "Biscoe",
           "female"
          ],
          [
           "Biscoe",
           "male"
          ],
          [
           "Biscoe",
           "female"
          ],
          [
           "Biscoe",
           "male"
          ],
          [
           "Biscoe",
           "female"
          ],
          [
           "Biscoe",
           "male"
          ],
          [
           "Biscoe",
           "female"
          ],
          [
           "Biscoe",
           "male"
          ],
          [
           "Biscoe",
           "female"
          ],
          [
           "Biscoe",
           "male"
          ],
          [
           "Biscoe",
           "female"
          ],
          [
           "Biscoe",
           "male"
          ],
          [
           "Biscoe",
           "female"
          ],
          [
           "Biscoe",
           "male"
          ],
          [
           "Biscoe",
           "male"
          ],
          [
           "Biscoe",
           "female"
          ],
          [
           "Biscoe",
           "female"
          ],
          [
           "Biscoe",
           "male"
          ],
          [
           "Biscoe",
           "female"
          ],
          [
           "Biscoe",
           "male"
          ],
          [
           "Biscoe",
           "male"
          ],
          [
           "Biscoe",
           "female"
          ],
          [
           "Biscoe",
           "male"
          ],
          [
           "Biscoe",
           "male"
          ],
          [
           "Biscoe",
           "female"
          ],
          [
           "Biscoe",
           "female"
          ],
          [
           "Biscoe",
           "male"
          ],
          [
           "Biscoe",
           "female"
          ],
          [
           "Biscoe",
           "male"
          ],
          [
           "Biscoe",
           "female"
          ],
          [
           "Biscoe",
           "male"
          ],
          [
           "Biscoe",
           "female"
          ],
          [
           "Biscoe",
           "male"
          ],
          [
           "Biscoe",
           "female"
          ],
          [
           "Biscoe",
           "male"
          ],
          [
           "Biscoe",
           "female"
          ],
          [
           "Biscoe",
           "male"
          ],
          [
           "Biscoe",
           "male"
          ],
          [
           "Biscoe",
           "female"
          ],
          [
           "Biscoe",
           "female"
          ],
          [
           "Biscoe",
           "male"
          ],
          [
           "Biscoe",
           "female"
          ],
          [
           "Biscoe",
           "male"
          ],
          [
           "Biscoe",
           "female"
          ],
          [
           "Biscoe",
           "male"
          ],
          [
           "Biscoe",
           "female"
          ],
          [
           "Biscoe",
           "male"
          ],
          [
           "Biscoe",
           "female"
          ],
          [
           "Biscoe",
           "male"
          ],
          [
           "Biscoe",
           "female"
          ],
          [
           "Biscoe",
           "male"
          ],
          [
           "Biscoe",
           "female"
          ],
          [
           "Biscoe",
           "male"
          ],
          [
           "Biscoe",
           "female"
          ],
          [
           "Biscoe",
           "male"
          ],
          [
           "Biscoe",
           "female"
          ],
          [
           "Biscoe",
           "male"
          ],
          [
           "Biscoe",
           "female"
          ],
          [
           "Biscoe",
           "male"
          ],
          [
           "Biscoe",
           "male"
          ],
          [
           "Biscoe",
           "female"
          ],
          [
           "Biscoe",
           "male"
          ],
          [
           "Biscoe",
           "female"
          ],
          [
           "Biscoe",
           "male"
          ],
          [
           "Biscoe",
           "male"
          ],
          [
           "Biscoe",
           "female"
          ],
          [
           "Biscoe",
           "female"
          ],
          [
           "Biscoe",
           "male"
          ],
          [
           "Biscoe",
           "female"
          ],
          [
           "Biscoe",
           "male"
          ],
          [
           "Biscoe",
           "female"
          ],
          [
           "Biscoe",
           "male"
          ],
          [
           "Biscoe",
           "female"
          ],
          [
           "Biscoe",
           "male"
          ],
          [
           "Biscoe",
           "female"
          ],
          [
           "Biscoe",
           "male"
          ],
          [
           "Biscoe",
           "female"
          ],
          [
           "Biscoe",
           "male"
          ],
          [
           "Biscoe",
           "female"
          ],
          [
           "Biscoe",
           "male"
          ],
          [
           "Biscoe",
           "female"
          ],
          [
           "Biscoe",
           "male"
          ],
          [
           "Biscoe",
           "female"
          ],
          [
           "Biscoe",
           "male"
          ],
          [
           "Biscoe",
           "female"
          ],
          [
           "Biscoe",
           "male"
          ],
          [
           "Biscoe",
           "female"
          ],
          [
           "Biscoe",
           "male"
          ],
          [
           "Biscoe",
           "male"
          ],
          [
           "Biscoe",
           "female"
          ],
          [
           "Biscoe",
           "female"
          ],
          [
           "Biscoe",
           "male"
          ],
          [
           "Biscoe",
           "female"
          ],
          [
           "Biscoe",
           "male"
          ],
          [
           "Biscoe",
           "female"
          ],
          [
           "Biscoe",
           "male"
          ],
          [
           "Biscoe",
           "male"
          ],
          [
           "Biscoe",
           "female"
          ],
          [
           "Biscoe",
           "male"
          ],
          [
           "Biscoe",
           "female"
          ],
          [
           "Biscoe",
           "male"
          ],
          [
           "Biscoe",
           "female"
          ],
          [
           "Biscoe",
           "male"
          ],
          [
           "Biscoe",
           "female"
          ],
          [
           "Biscoe",
           "male"
          ],
          [
           "Biscoe",
           "female"
          ],
          [
           "Biscoe",
           "male"
          ],
          [
           "Biscoe",
           "male"
          ],
          [
           "Biscoe",
           "female"
          ],
          [
           "Biscoe",
           "female"
          ],
          [
           "Biscoe",
           "male"
          ],
          [
           "Biscoe",
           "female"
          ],
          [
           "Biscoe",
           "male"
          ]
         ],
         "hovertemplate": "species=Gentoo<br>bill_length_mm=%{x}<br>body_mass_g=%{y}<br>bill_depth_mm=%{z}<br>island=%{customdata[0]}<br>sex=%{customdata[1]}<extra></extra>",
         "legendgroup": "Gentoo",
         "marker": {
          "color": "#EF553B",
          "symbol": "circle"
         },
         "mode": "markers",
         "name": "Gentoo",
         "scene": "scene",
         "showlegend": true,
         "type": "scatter3d",
         "x": [
          46.1,
          50,
          48.7,
          50,
          47.6,
          46.5,
          45.4,
          46.7,
          43.3,
          46.8,
          40.9,
          49,
          45.5,
          48.4,
          45.8,
          49.3,
          42,
          49.2,
          46.2,
          48.7,
          50.2,
          45.1,
          46.5,
          46.3,
          42.9,
          46.1,
          47.8,
          48.2,
          50,
          47.3,
          42.8,
          45.1,
          59.6,
          49.1,
          48.4,
          42.6,
          44.4,
          44,
          48.7,
          42.7,
          49.6,
          45.3,
          49.6,
          50.5,
          43.6,
          45.5,
          50.5,
          44.9,
          45.2,
          46.6,
          48.5,
          45.1,
          50.1,
          46.5,
          45,
          43.8,
          45.5,
          43.2,
          50.4,
          45.3,
          46.2,
          45.7,
          54.3,
          45.8,
          49.8,
          49.5,
          43.5,
          50.7,
          47.7,
          46.4,
          48.2,
          46.5,
          46.4,
          48.6,
          47.5,
          51.1,
          45.2,
          45.2,
          49.1,
          52.5,
          47.4,
          50,
          44.9,
          50.8,
          43.4,
          51.3,
          47.5,
          52.1,
          47.5,
          52.2,
          45.5,
          49.5,
          44.5,
          50.8,
          49.4,
          46.9,
          48.4,
          51.1,
          48.5,
          55.9,
          47.2,
          49.1,
          46.8,
          41.7,
          53.4,
          43.3,
          48.1,
          50.5,
          49.8,
          43.5,
          51.5,
          46.2,
          55.1,
          48.8,
          47.2,
          46.8,
          50.4,
          45.2,
          49.9
         ],
         "y": [
          4500,
          5700,
          4450,
          5700,
          5400,
          4550,
          4800,
          5200,
          4400,
          5150,
          4650,
          5550,
          4650,
          5850,
          4200,
          5850,
          4150,
          6300,
          4800,
          5350,
          5700,
          5000,
          4400,
          5050,
          5000,
          5100,
          5650,
          4600,
          5550,
          5250,
          4700,
          5050,
          6050,
          5150,
          5400,
          4950,
          5250,
          4350,
          5350,
          3950,
          5700,
          4300,
          4750,
          5550,
          4900,
          4200,
          5400,
          5100,
          5300,
          4850,
          5300,
          4400,
          5000,
          4900,
          5050,
          4300,
          5000,
          4450,
          5550,
          4200,
          5300,
          4400,
          5650,
          4700,
          5700,
          5800,
          4700,
          5550,
          4750,
          5000,
          5100,
          5200,
          4700,
          5800,
          4600,
          6000,
          4750,
          5950,
          4625,
          5450,
          4725,
          5350,
          4750,
          5600,
          4600,
          5300,
          4875,
          5550,
          4950,
          5400,
          4750,
          5650,
          4850,
          5200,
          4925,
          4875,
          4625,
          5250,
          4850,
          5600,
          4975,
          5500,
          5500,
          4700,
          5500,
          4575,
          5500,
          5000,
          5950,
          4650,
          5500,
          4375,
          5850,
          6000,
          4925,
          4850,
          5750,
          5200,
          5400
         ],
         "z": [
          13.2,
          16.3,
          14.1,
          15.2,
          14.5,
          13.5,
          14.6,
          15.3,
          13.4,
          15.4,
          13.7,
          16.1,
          13.7,
          14.6,
          14.6,
          15.7,
          13.5,
          15.2,
          14.5,
          15.1,
          14.3,
          14.5,
          14.5,
          15.8,
          13.1,
          15.1,
          15,
          14.3,
          15.3,
          15.3,
          14.2,
          14.5,
          17,
          14.8,
          16.3,
          13.7,
          17.3,
          13.6,
          15.7,
          13.7,
          16,
          13.7,
          15,
          15.9,
          13.9,
          13.9,
          15.9,
          13.3,
          15.8,
          14.2,
          14.1,
          14.4,
          15,
          14.4,
          15.4,
          13.9,
          15,
          14.5,
          15.3,
          13.8,
          14.9,
          13.9,
          15.7,
          14.2,
          16.8,
          16.2,
          14.2,
          15,
          15,
          15.6,
          15.6,
          14.8,
          15,
          16,
          14.2,
          16.3,
          13.8,
          16.4,
          14.5,
          15.6,
          14.6,
          15.9,
          13.8,
          17.3,
          14.4,
          14.2,
          14,
          17,
          15,
          17.1,
          14.5,
          16.1,
          14.7,
          15.7,
          15.8,
          14.6,
          14.4,
          16.5,
          15,
          17,
          15.5,
          15,
          16.1,
          14.7,
          15.8,
          14,
          15.1,
          15.2,
          15.9,
          15.2,
          16.3,
          14.1,
          16,
          16.2,
          13.7,
          14.3,
          15.7,
          14.8,
          16.1
         ]
        },
        {
         "customdata": [
          [
           "Dream",
           "female"
          ],
          [
           "Dream",
           "male"
          ],
          [
           "Dream",
           "male"
          ],
          [
           "Dream",
           "female"
          ],
          [
           "Dream",
           "male"
          ],
          [
           "Dream",
           "female"
          ],
          [
           "Dream",
           "female"
          ],
          [
           "Dream",
           "male"
          ],
          [
           "Dream",
           "female"
          ],
          [
           "Dream",
           "male"
          ],
          [
           "Dream",
           "female"
          ],
          [
           "Dream",
           "male"
          ],
          [
           "Dream",
           "female"
          ],
          [
           "Dream",
           "male"
          ],
          [
           "Dream",
           "female"
          ],
          [
           "Dream",
           "male"
          ],
          [
           "Dream",
           "male"
          ],
          [
           "Dream",
           "female"
          ],
          [
           "Dream",
           "female"
          ],
          [
           "Dream",
           "male"
          ],
          [
           "Dream",
           "female"
          ],
          [
           "Dream",
           "male"
          ],
          [
           "Dream",
           "female"
          ],
          [
           "Dream",
           "male"
          ],
          [
           "Dream",
           "female"
          ],
          [
           "Dream",
           "male"
          ],
          [
           "Dream",
           "female"
          ],
          [
           "Dream",
           "male"
          ],
          [
           "Dream",
           "female"
          ],
          [
           "Dream",
           "male"
          ],
          [
           "Dream",
           "female"
          ],
          [
           "Dream",
           "male"
          ],
          [
           "Dream",
           "female"
          ],
          [
           "Dream",
           "male"
          ],
          [
           "Dream",
           "male"
          ],
          [
           "Dream",
           "female"
          ],
          [
           "Dream",
           "female"
          ],
          [
           "Dream",
           "male"
          ],
          [
           "Dream",
           "female"
          ],
          [
           "Dream",
           "male"
          ],
          [
           "Dream",
           "male"
          ],
          [
           "Dream",
           "female"
          ],
          [
           "Dream",
           "male"
          ],
          [
           "Dream",
           "female"
          ],
          [
           "Dream",
           "female"
          ],
          [
           "Dream",
           "male"
          ],
          [
           "Dream",
           "female"
          ],
          [
           "Dream",
           "male"
          ],
          [
           "Dream",
           "male"
          ],
          [
           "Dream",
           "female"
          ],
          [
           "Dream",
           "female"
          ],
          [
           "Dream",
           "male"
          ],
          [
           "Dream",
           "female"
          ],
          [
           "Dream",
           "male"
          ],
          [
           "Dream",
           "female"
          ],
          [
           "Dream",
           "male"
          ],
          [
           "Dream",
           "female"
          ],
          [
           "Dream",
           "male"
          ],
          [
           "Dream",
           "male"
          ],
          [
           "Dream",
           "female"
          ],
          [
           "Dream",
           "male"
          ],
          [
           "Dream",
           "female"
          ],
          [
           "Dream",
           "female"
          ],
          [
           "Dream",
           "male"
          ],
          [
           "Dream",
           "female"
          ],
          [
           "Dream",
           "male"
          ],
          [
           "Dream",
           "male"
          ],
          [
           "Dream",
           "female"
          ]
         ],
         "hovertemplate": "species=Chinstrap<br>bill_length_mm=%{x}<br>body_mass_g=%{y}<br>bill_depth_mm=%{z}<br>island=%{customdata[0]}<br>sex=%{customdata[1]}<extra></extra>",
         "legendgroup": "Chinstrap",
         "marker": {
          "color": "#00cc96",
          "symbol": "circle"
         },
         "mode": "markers",
         "name": "Chinstrap",
         "scene": "scene",
         "showlegend": true,
         "type": "scatter3d",
         "x": [
          46.5,
          50,
          51.3,
          45.4,
          52.7,
          45.2,
          46.1,
          51.3,
          46,
          51.3,
          46.6,
          51.7,
          47,
          52,
          45.9,
          50.5,
          50.3,
          58,
          46.4,
          49.2,
          42.4,
          48.5,
          43.2,
          50.6,
          46.7,
          52,
          50.5,
          49.5,
          46.4,
          52.8,
          40.9,
          54.2,
          42.5,
          51,
          49.7,
          47.5,
          47.6,
          52,
          46.9,
          53.5,
          49,
          46.2,
          50.9,
          45.5,
          50.9,
          50.8,
          50.1,
          49,
          51.5,
          49.8,
          48.1,
          51.4,
          45.7,
          50.7,
          42.5,
          52.2,
          45.2,
          49.3,
          50.2,
          45.6,
          51.9,
          46.8,
          45.7,
          55.8,
          43.5,
          49.6,
          50.8,
          50.2
         ],
         "y": [
          3500,
          3900,
          3650,
          3525,
          3725,
          3950,
          3250,
          3750,
          4150,
          3700,
          3800,
          3775,
          3700,
          4050,
          3575,
          4050,
          3300,
          3700,
          3450,
          4400,
          3600,
          3400,
          2900,
          3800,
          3300,
          4150,
          3400,
          3800,
          3700,
          4550,
          3200,
          4300,
          3350,
          4100,
          3600,
          3900,
          3850,
          4800,
          2700,
          4500,
          3950,
          3650,
          3550,
          3500,
          3675,
          4450,
          3400,
          4300,
          3250,
          3675,
          3325,
          3950,
          3600,
          4050,
          3350,
          3450,
          3250,
          4050,
          3800,
          3525,
          3950,
          3650,
          3650,
          4000,
          3400,
          3775,
          4100,
          3775
         ],
         "z": [
          17.9,
          19.5,
          19.2,
          18.7,
          19.8,
          17.8,
          18.2,
          18.2,
          18.9,
          19.9,
          17.8,
          20.3,
          17.3,
          18.1,
          17.1,
          19.6,
          20,
          17.8,
          18.6,
          18.2,
          17.3,
          17.5,
          16.6,
          19.4,
          17.9,
          19,
          18.4,
          19,
          17.8,
          20,
          16.6,
          20.8,
          16.7,
          18.8,
          18.6,
          16.8,
          18.3,
          20.7,
          16.6,
          19.9,
          19.5,
          17.5,
          19.1,
          17,
          17.9,
          18.5,
          17.9,
          19.6,
          18.7,
          17.3,
          16.4,
          19,
          17.3,
          19.7,
          17.3,
          18.8,
          16.6,
          19.9,
          18.8,
          19.4,
          19.5,
          16.5,
          17,
          19.8,
          18.1,
          18.2,
          19,
          18.7
         ]
        }
       ],
       "layout": {
        "height": 600,
        "legend": {
         "title": {
          "text": "species"
         },
         "tracegroupgap": 0
        },
        "scene": {
         "aspectmode": "auto",
         "aspectratio": {
          "x": 1,
          "y": 1,
          "z": 1
         },
         "camera": {
          "center": {
           "x": 0,
           "y": 0,
           "z": 0
          },
          "eye": {
           "x": 0.01990105668856234,
           "y": 0.019901056688562336,
           "z": 0.01990105668856234
          },
          "projection": {
           "type": "perspective"
          },
          "up": {
           "x": 0,
           "y": 0,
           "z": 1
          }
         },
         "domain": {
          "x": [
           0,
           1
          ],
          "y": [
           0,
           1
          ]
         },
         "xaxis": {
          "title": {
           "text": "bill_length_mm"
          },
          "type": "linear"
         },
         "yaxis": {
          "title": {
           "text": "body_mass_g"
          },
          "type": "linear"
         },
         "zaxis": {
          "title": {
           "text": "bill_depth_mm"
          },
          "type": "linear"
         }
        },
        "template": {
         "data": {
          "bar": [
           {
            "error_x": {
             "color": "#2a3f5f"
            },
            "error_y": {
             "color": "#2a3f5f"
            },
            "marker": {
             "line": {
              "color": "#E5ECF6",
              "width": 0.5
             },
             "pattern": {
              "fillmode": "overlay",
              "size": 10,
              "solidity": 0.2
             }
            },
            "type": "bar"
           }
          ],
          "barpolar": [
           {
            "marker": {
             "line": {
              "color": "#E5ECF6",
              "width": 0.5
             },
             "pattern": {
              "fillmode": "overlay",
              "size": 10,
              "solidity": 0.2
             }
            },
            "type": "barpolar"
           }
          ],
          "carpet": [
           {
            "aaxis": {
             "endlinecolor": "#2a3f5f",
             "gridcolor": "white",
             "linecolor": "white",
             "minorgridcolor": "white",
             "startlinecolor": "#2a3f5f"
            },
            "baxis": {
             "endlinecolor": "#2a3f5f",
             "gridcolor": "white",
             "linecolor": "white",
             "minorgridcolor": "white",
             "startlinecolor": "#2a3f5f"
            },
            "type": "carpet"
           }
          ],
          "choropleth": [
           {
            "colorbar": {
             "outlinewidth": 0,
             "ticks": ""
            },
            "type": "choropleth"
           }
          ],
          "contour": [
           {
            "colorbar": {
             "outlinewidth": 0,
             "ticks": ""
            },
            "colorscale": [
             [
              0,
              "#0d0887"
             ],
             [
              0.1111111111111111,
              "#46039f"
             ],
             [
              0.2222222222222222,
              "#7201a8"
             ],
             [
              0.3333333333333333,
              "#9c179e"
             ],
             [
              0.4444444444444444,
              "#bd3786"
             ],
             [
              0.5555555555555556,
              "#d8576b"
             ],
             [
              0.6666666666666666,
              "#ed7953"
             ],
             [
              0.7777777777777778,
              "#fb9f3a"
             ],
             [
              0.8888888888888888,
              "#fdca26"
             ],
             [
              1,
              "#f0f921"
             ]
            ],
            "type": "contour"
           }
          ],
          "contourcarpet": [
           {
            "colorbar": {
             "outlinewidth": 0,
             "ticks": ""
            },
            "type": "contourcarpet"
           }
          ],
          "heatmap": [
           {
            "colorbar": {
             "outlinewidth": 0,
             "ticks": ""
            },
            "colorscale": [
             [
              0,
              "#0d0887"
             ],
             [
              0.1111111111111111,
              "#46039f"
             ],
             [
              0.2222222222222222,
              "#7201a8"
             ],
             [
              0.3333333333333333,
              "#9c179e"
             ],
             [
              0.4444444444444444,
              "#bd3786"
             ],
             [
              0.5555555555555556,
              "#d8576b"
             ],
             [
              0.6666666666666666,
              "#ed7953"
             ],
             [
              0.7777777777777778,
              "#fb9f3a"
             ],
             [
              0.8888888888888888,
              "#fdca26"
             ],
             [
              1,
              "#f0f921"
             ]
            ],
            "type": "heatmap"
           }
          ],
          "heatmapgl": [
           {
            "colorbar": {
             "outlinewidth": 0,
             "ticks": ""
            },
            "colorscale": [
             [
              0,
              "#0d0887"
             ],
             [
              0.1111111111111111,
              "#46039f"
             ],
             [
              0.2222222222222222,
              "#7201a8"
             ],
             [
              0.3333333333333333,
              "#9c179e"
             ],
             [
              0.4444444444444444,
              "#bd3786"
             ],
             [
              0.5555555555555556,
              "#d8576b"
             ],
             [
              0.6666666666666666,
              "#ed7953"
             ],
             [
              0.7777777777777778,
              "#fb9f3a"
             ],
             [
              0.8888888888888888,
              "#fdca26"
             ],
             [
              1,
              "#f0f921"
             ]
            ],
            "type": "heatmapgl"
           }
          ],
          "histogram": [
           {
            "marker": {
             "pattern": {
              "fillmode": "overlay",
              "size": 10,
              "solidity": 0.2
             }
            },
            "type": "histogram"
           }
          ],
          "histogram2d": [
           {
            "colorbar": {
             "outlinewidth": 0,
             "ticks": ""
            },
            "colorscale": [
             [
              0,
              "#0d0887"
             ],
             [
              0.1111111111111111,
              "#46039f"
             ],
             [
              0.2222222222222222,
              "#7201a8"
             ],
             [
              0.3333333333333333,
              "#9c179e"
             ],
             [
              0.4444444444444444,
              "#bd3786"
             ],
             [
              0.5555555555555556,
              "#d8576b"
             ],
             [
              0.6666666666666666,
              "#ed7953"
             ],
             [
              0.7777777777777778,
              "#fb9f3a"
             ],
             [
              0.8888888888888888,
              "#fdca26"
             ],
             [
              1,
              "#f0f921"
             ]
            ],
            "type": "histogram2d"
           }
          ],
          "histogram2dcontour": [
           {
            "colorbar": {
             "outlinewidth": 0,
             "ticks": ""
            },
            "colorscale": [
             [
              0,
              "#0d0887"
             ],
             [
              0.1111111111111111,
              "#46039f"
             ],
             [
              0.2222222222222222,
              "#7201a8"
             ],
             [
              0.3333333333333333,
              "#9c179e"
             ],
             [
              0.4444444444444444,
              "#bd3786"
             ],
             [
              0.5555555555555556,
              "#d8576b"
             ],
             [
              0.6666666666666666,
              "#ed7953"
             ],
             [
              0.7777777777777778,
              "#fb9f3a"
             ],
             [
              0.8888888888888888,
              "#fdca26"
             ],
             [
              1,
              "#f0f921"
             ]
            ],
            "type": "histogram2dcontour"
           }
          ],
          "mesh3d": [
           {
            "colorbar": {
             "outlinewidth": 0,
             "ticks": ""
            },
            "type": "mesh3d"
           }
          ],
          "parcoords": [
           {
            "line": {
             "colorbar": {
              "outlinewidth": 0,
              "ticks": ""
             }
            },
            "type": "parcoords"
           }
          ],
          "pie": [
           {
            "automargin": true,
            "type": "pie"
           }
          ],
          "scatter": [
           {
            "fillpattern": {
             "fillmode": "overlay",
             "size": 10,
             "solidity": 0.2
            },
            "type": "scatter"
           }
          ],
          "scatter3d": [
           {
            "line": {
             "colorbar": {
              "outlinewidth": 0,
              "ticks": ""
             }
            },
            "marker": {
             "colorbar": {
              "outlinewidth": 0,
              "ticks": ""
             }
            },
            "type": "scatter3d"
           }
          ],
          "scattercarpet": [
           {
            "marker": {
             "colorbar": {
              "outlinewidth": 0,
              "ticks": ""
             }
            },
            "type": "scattercarpet"
           }
          ],
          "scattergeo": [
           {
            "marker": {
             "colorbar": {
              "outlinewidth": 0,
              "ticks": ""
             }
            },
            "type": "scattergeo"
           }
          ],
          "scattergl": [
           {
            "marker": {
             "colorbar": {
              "outlinewidth": 0,
              "ticks": ""
             }
            },
            "type": "scattergl"
           }
          ],
          "scattermapbox": [
           {
            "marker": {
             "colorbar": {
              "outlinewidth": 0,
              "ticks": ""
             }
            },
            "type": "scattermapbox"
           }
          ],
          "scatterpolar": [
           {
            "marker": {
             "colorbar": {
              "outlinewidth": 0,
              "ticks": ""
             }
            },
            "type": "scatterpolar"
           }
          ],
          "scatterpolargl": [
           {
            "marker": {
             "colorbar": {
              "outlinewidth": 0,
              "ticks": ""
             }
            },
            "type": "scatterpolargl"
           }
          ],
          "scatterternary": [
           {
            "marker": {
             "colorbar": {
              "outlinewidth": 0,
              "ticks": ""
             }
            },
            "type": "scatterternary"
           }
          ],
          "surface": [
           {
            "colorbar": {
             "outlinewidth": 0,
             "ticks": ""
            },
            "colorscale": [
             [
              0,
              "#0d0887"
             ],
             [
              0.1111111111111111,
              "#46039f"
             ],
             [
              0.2222222222222222,
              "#7201a8"
             ],
             [
              0.3333333333333333,
              "#9c179e"
             ],
             [
              0.4444444444444444,
              "#bd3786"
             ],
             [
              0.5555555555555556,
              "#d8576b"
             ],
             [
              0.6666666666666666,
              "#ed7953"
             ],
             [
              0.7777777777777778,
              "#fb9f3a"
             ],
             [
              0.8888888888888888,
              "#fdca26"
             ],
             [
              1,
              "#f0f921"
             ]
            ],
            "type": "surface"
           }
          ],
          "table": [
           {
            "cells": {
             "fill": {
              "color": "#EBF0F8"
             },
             "line": {
              "color": "white"
             }
            },
            "header": {
             "fill": {
              "color": "#C8D4E3"
             },
             "line": {
              "color": "white"
             }
            },
            "type": "table"
           }
          ]
         },
         "layout": {
          "annotationdefaults": {
           "arrowcolor": "#2a3f5f",
           "arrowhead": 0,
           "arrowwidth": 1
          },
          "autotypenumbers": "strict",
          "coloraxis": {
           "colorbar": {
            "outlinewidth": 0,
            "ticks": ""
           }
          },
          "colorscale": {
           "diverging": [
            [
             0,
             "#8e0152"
            ],
            [
             0.1,
             "#c51b7d"
            ],
            [
             0.2,
             "#de77ae"
            ],
            [
             0.3,
             "#f1b6da"
            ],
            [
             0.4,
             "#fde0ef"
            ],
            [
             0.5,
             "#f7f7f7"
            ],
            [
             0.6,
             "#e6f5d0"
            ],
            [
             0.7,
             "#b8e186"
            ],
            [
             0.8,
             "#7fbc41"
            ],
            [
             0.9,
             "#4d9221"
            ],
            [
             1,
             "#276419"
            ]
           ],
           "sequential": [
            [
             0,
             "#0d0887"
            ],
            [
             0.1111111111111111,
             "#46039f"
            ],
            [
             0.2222222222222222,
             "#7201a8"
            ],
            [
             0.3333333333333333,
             "#9c179e"
            ],
            [
             0.4444444444444444,
             "#bd3786"
            ],
            [
             0.5555555555555556,
             "#d8576b"
            ],
            [
             0.6666666666666666,
             "#ed7953"
            ],
            [
             0.7777777777777778,
             "#fb9f3a"
            ],
            [
             0.8888888888888888,
             "#fdca26"
            ],
            [
             1,
             "#f0f921"
            ]
           ],
           "sequentialminus": [
            [
             0,
             "#0d0887"
            ],
            [
             0.1111111111111111,
             "#46039f"
            ],
            [
             0.2222222222222222,
             "#7201a8"
            ],
            [
             0.3333333333333333,
             "#9c179e"
            ],
            [
             0.4444444444444444,
             "#bd3786"
            ],
            [
             0.5555555555555556,
             "#d8576b"
            ],
            [
             0.6666666666666666,
             "#ed7953"
            ],
            [
             0.7777777777777778,
             "#fb9f3a"
            ],
            [
             0.8888888888888888,
             "#fdca26"
            ],
            [
             1,
             "#f0f921"
            ]
           ]
          },
          "colorway": [
           "#636efa",
           "#EF553B",
           "#00cc96",
           "#ab63fa",
           "#FFA15A",
           "#19d3f3",
           "#FF6692",
           "#B6E880",
           "#FF97FF",
           "#FECB52"
          ],
          "font": {
           "color": "#2a3f5f"
          },
          "geo": {
           "bgcolor": "white",
           "lakecolor": "white",
           "landcolor": "#E5ECF6",
           "showlakes": true,
           "showland": true,
           "subunitcolor": "white"
          },
          "hoverlabel": {
           "align": "left"
          },
          "hovermode": "closest",
          "mapbox": {
           "style": "light"
          },
          "paper_bgcolor": "white",
          "plot_bgcolor": "#E5ECF6",
          "polar": {
           "angularaxis": {
            "gridcolor": "white",
            "linecolor": "white",
            "ticks": ""
           },
           "bgcolor": "#E5ECF6",
           "radialaxis": {
            "gridcolor": "white",
            "linecolor": "white",
            "ticks": ""
           }
          },
          "scene": {
           "xaxis": {
            "backgroundcolor": "#E5ECF6",
            "gridcolor": "white",
            "gridwidth": 2,
            "linecolor": "white",
            "showbackground": true,
            "ticks": "",
            "zerolinecolor": "white"
           },
           "yaxis": {
            "backgroundcolor": "#E5ECF6",
            "gridcolor": "white",
            "gridwidth": 2,
            "linecolor": "white",
            "showbackground": true,
            "ticks": "",
            "zerolinecolor": "white"
           },
           "zaxis": {
            "backgroundcolor": "#E5ECF6",
            "gridcolor": "white",
            "gridwidth": 2,
            "linecolor": "white",
            "showbackground": true,
            "ticks": "",
            "zerolinecolor": "white"
           }
          },
          "shapedefaults": {
           "line": {
            "color": "#2a3f5f"
           }
          },
          "ternary": {
           "aaxis": {
            "gridcolor": "white",
            "linecolor": "white",
            "ticks": ""
           },
           "baxis": {
            "gridcolor": "white",
            "linecolor": "white",
            "ticks": ""
           },
           "bgcolor": "#E5ECF6",
           "caxis": {
            "gridcolor": "white",
            "linecolor": "white",
            "ticks": ""
           }
          },
          "title": {
           "x": 0.05
          },
          "xaxis": {
           "automargin": true,
           "gridcolor": "white",
           "linecolor": "white",
           "ticks": "",
           "title": {
            "standoff": 15
           },
           "zerolinecolor": "white",
           "zerolinewidth": 2
          },
          "yaxis": {
           "automargin": true,
           "gridcolor": "white",
           "linecolor": "white",
           "ticks": "",
           "title": {
            "standoff": 15
           },
           "zerolinecolor": "white",
           "zerolinewidth": 2
          }
         }
        },
        "title": {
         "text": "Penguin Bill Length vs Bill Depth Over Time"
        },
        "width": 800
       }
      },
      "image/png": "[encoded data removed]",
      "text/html": [
       "<div>                            <div id=\"1565160e-0ec4-4f52-a3c3-44736c96cd34\" class=\"plotly-graph-div\" style=\"height:600px; width:800px;\"></div>            <script type=\"text/javascript\">                require([\"plotly\"], function(Plotly) {                    window.PLOTLYENV=window.PLOTLYENV || {};                                    if (document.getElementById(\"1565160e-0ec4-4f52-a3c3-44736c96cd34\")) {                    Plotly.newPlot(                        \"1565160e-0ec4-4f52-a3c3-44736c96cd34\",                        [{\"customdata\":[[\"Torgersen\",\"male\"],[\"Torgersen\",\"female\"],[\"Torgersen\",\"female\"],[\"Torgersen\",\"female\"],[\"Torgersen\",\"male\"],[\"Torgersen\",\"female\"],[\"Torgersen\",\"male\"],[\"Torgersen\",\"female\"],[\"Torgersen\",\"male\"],[\"Torgersen\",\"male\"],[\"Torgersen\",\"female\"],[\"Torgersen\",\"female\"],[\"Torgersen\",\"male\"],[\"Torgersen\",\"female\"],[\"Torgersen\",\"male\"],[\"Biscoe\",\"female\"],[\"Biscoe\",\"male\"],[\"Biscoe\",\"female\"],[\"Biscoe\",\"male\"],[\"Biscoe\",\"male\"],[\"Biscoe\",\"female\"],[\"Biscoe\",\"male\"],[\"Biscoe\",\"female\"],[\"Biscoe\",\"female\"],[\"Biscoe\",\"male\"],[\"Dream\",\"female\"],[\"Dream\",\"male\"],[\"Dream\",\"female\"],[\"Dream\",\"male\"],[\"Dream\",\"female\"],[\"Dream\",\"male\"],[\"Dream\",\"male\"],[\"Dream\",\"female\"],[\"Dream\",\"female\"],[\"Dream\",\"male\"],[\"Dream\",\"female\"],[\"Dream\",\"male\"],[\"Dream\",\"female\"],[\"Dream\",\"male\"],[\"Dream\",\"female\"],[\"Dream\",\"male\"],[\"Dream\",\"male\"],[\"Dream\",\"female\"],[\"Dream\",\"male\"],[\"Biscoe\",\"female\"],[\"Biscoe\",\"male\"],[\"Biscoe\",\"female\"],[\"Biscoe\",\"male\"],[\"Biscoe\",\"female\"],[\"Biscoe\",\"male\"],[\"Biscoe\",\"female\"],[\"Biscoe\",\"male\"],[\"Biscoe\",\"female\"],[\"Biscoe\",\"male\"],[\"Biscoe\",\"female\"],[\"Biscoe\",\"male\"],[\"Biscoe\",\"female\"],[\"Biscoe\",\"male\"],[\"Biscoe\",\"female\"],[\"Biscoe\",\"male\"],[\"Biscoe\",\"female\"],[\"Biscoe\",\"male\"],[\"Torgersen\",\"female\"],[\"Torgersen\",\"male\"],[\"Torgersen\",\"female\"],[\"Torgersen\",\"male\"],[\"Torgersen\",\"female\"],[\"Torgersen\",\"male\"],[\"Torgersen\",\"female\"],[\"Torgersen\",\"male\"],[\"Torgersen\",\"female\"],[\"Torgersen\",\"male\"],[\"Torgersen\",\"female\"],[\"Torgersen\",\"male\"],[\"Torgersen\",\"female\"],[\"Torgersen\",\"male\"],[\"Torgersen\",\"female\"],[\"Torgersen\",\"male\"],[\"Dream\",\"female\"],[\"Dream\",\"male\"],[\"Dream\",\"male\"],[\"Dream\",\"female\"],[\"Dream\",\"male\"],[\"Dream\",\"female\"],[\"Dream\",\"female\"],[\"Dream\",\"male\"],[\"Dream\",\"female\"],[\"Dream\",\"male\"],[\"Dream\",\"female\"],[\"Dream\",\"male\"],[\"Dream\",\"female\"],[\"Dream\",\"male\"],[\"Dream\",\"female\"],[\"Dream\",\"male\"],[\"Biscoe\",\"female\"],[\"Biscoe\",\"male\"],[\"Biscoe\",\"female\"],[\"Biscoe\",\"male\"],[\"Biscoe\",\"female\"],[\"Biscoe\",\"male\"],[\"Biscoe\",\"female\"],[\"Biscoe\",\"male\"],[\"Biscoe\",\"female\"],[\"Biscoe\",\"male\"],[\"Biscoe\",\"female\"],[\"Biscoe\",\"male\"],[\"Biscoe\",\"female\"],[\"Biscoe\",\"male\"],[\"Biscoe\",\"female\"],[\"Biscoe\",\"male\"],[\"Torgersen\",\"female\"],[\"Torgersen\",\"male\"],[\"Torgersen\",\"female\"],[\"Torgersen\",\"male\"],[\"Torgersen\",\"female\"],[\"Torgersen\",\"male\"],[\"Torgersen\",\"female\"],[\"Torgersen\",\"male\"],[\"Torgersen\",\"female\"],[\"Torgersen\",\"male\"],[\"Torgersen\",\"female\"],[\"Torgersen\",\"male\"],[\"Torgersen\",\"female\"],[\"Torgersen\",\"male\"],[\"Torgersen\",\"female\"],[\"Torgersen\",\"male\"],[\"Dream\",\"female\"],[\"Dream\",\"male\"],[\"Dream\",\"female\"],[\"Dream\",\"male\"],[\"Dream\",\"female\"],[\"Dream\",\"male\"],[\"Dream\",\"female\"],[\"Dream\",\"male\"],[\"Dream\",\"female\"],[\"Dream\",\"male\"],[\"Dream\",\"female\"],[\"Dream\",\"male\"],[\"Dream\",\"female\"],[\"Dream\",\"male\"],[\"Dream\",\"male\"],[\"Dream\",\"female\"],[\"Dream\",\"female\"],[\"Dream\",\"male\"],[\"Dream\",\"female\"],[\"Dream\",\"male\"]],\"hovertemplate\":\"species=Adelie\\u003cbr\\u003ebill_length_mm=%{x}\\u003cbr\\u003ebody_mass_g=%{y}\\u003cbr\\u003ebill_depth_mm=%{z}\\u003cbr\\u003eisland=%{customdata[0]}\\u003cbr\\u003esex=%{customdata[1]}\\u003cextra\\u003e\\u003c\\u002fextra\\u003e\",\"legendgroup\":\"Adelie\",\"marker\":{\"color\":\"#636efa\",\"symbol\":\"circle\"},\"mode\":\"markers\",\"name\":\"Adelie\",\"scene\":\"scene\",\"showlegend\":true,\"x\":[39.1,39.5,40.3,36.7,39.3,38.9,39.2,41.1,38.6,34.6,36.6,38.7,42.5,34.4,46.0,37.8,37.7,35.9,38.2,38.8,35.3,40.6,40.5,37.9,40.5,39.5,37.2,39.5,40.9,36.4,39.2,38.8,42.2,37.6,39.8,36.5,40.8,36.0,44.1,37.0,39.6,41.1,36.0,42.3,39.6,40.1,35.0,42.0,34.5,41.4,39.0,40.6,36.5,37.6,35.7,41.3,37.6,41.1,36.4,41.6,35.5,41.1,35.9,41.8,33.5,39.7,39.6,45.8,35.5,42.8,40.9,37.2,36.2,42.1,34.6,42.9,36.7,35.1,37.3,41.3,36.3,36.9,38.3,38.9,35.7,41.1,34.0,39.6,36.2,40.8,38.1,40.3,33.1,43.2,35.0,41.0,37.7,37.8,37.9,39.7,38.6,38.2,38.1,43.2,38.1,45.6,39.7,42.2,39.6,42.7,38.6,37.3,35.7,41.1,36.2,37.7,40.2,41.4,35.2,40.6,38.8,41.5,39.0,44.1,38.5,43.1,36.8,37.5,38.1,41.1,35.6,40.2,37.0,39.7,40.2,40.6,32.1,40.7,37.3,39.0,39.2,36.6,36.0,37.8,36.0,41.5],\"y\":[3750.0,3800.0,3250.0,3450.0,3650.0,3625.0,4675.0,3200.0,3800.0,4400.0,3700.0,3450.0,4500.0,3325.0,4200.0,3400.0,3600.0,3800.0,3950.0,3800.0,3800.0,3550.0,3200.0,3150.0,3950.0,3250.0,3900.0,3300.0,3900.0,3325.0,4150.0,3950.0,3550.0,3300.0,4650.0,3150.0,3900.0,3100.0,4400.0,3000.0,4600.0,3425.0,3450.0,4150.0,3500.0,4300.0,3450.0,4050.0,2900.0,3700.0,3550.0,3800.0,2850.0,3750.0,3150.0,4400.0,3600.0,4050.0,2850.0,3950.0,3350.0,4100.0,3050.0,4450.0,3600.0,3900.0,3550.0,4150.0,3700.0,4250.0,3700.0,3900.0,3550.0,4000.0,3200.0,4700.0,3800.0,4200.0,3350.0,3550.0,3800.0,3500.0,3950.0,3600.0,3550.0,4300.0,3400.0,4450.0,3300.0,4300.0,3700.0,4350.0,2900.0,4100.0,3725.0,4725.0,3075.0,4250.0,2925.0,3550.0,3750.0,3900.0,3175.0,4775.0,3825.0,4600.0,3200.0,4275.0,3900.0,4075.0,2900.0,3775.0,3350.0,3325.0,3150.0,3500.0,3450.0,3875.0,3050.0,4000.0,3275.0,4300.0,3050.0,4000.0,3325.0,3500.0,3500.0,4475.0,3425.0,3900.0,3175.0,3975.0,3400.0,4250.0,3400.0,3475.0,3050.0,3725.0,3000.0,3650.0,4250.0,3475.0,3450.0,3750.0,3700.0,4000.0],\"z\":[18.7,17.4,18.0,19.3,20.6,17.8,19.6,17.6,21.2,21.1,17.8,19.0,20.7,18.4,21.5,18.3,18.7,19.2,18.1,17.2,18.9,18.6,17.9,18.6,18.9,16.7,18.1,17.8,18.9,17.0,21.1,20.0,18.5,19.3,19.1,18.0,18.4,18.5,19.7,16.9,18.8,19.0,17.9,21.2,17.7,18.9,17.9,19.5,18.1,18.6,17.5,18.8,16.6,19.1,16.9,21.1,17.0,18.2,17.1,18.0,16.2,19.1,16.6,19.4,19.0,18.4,17.2,18.9,17.5,18.5,16.8,19.4,16.1,19.1,17.2,17.6,18.8,19.4,17.8,20.3,19.5,18.6,19.2,18.8,18.0,18.1,17.1,18.1,17.3,18.9,18.6,18.5,16.1,18.5,17.9,20.0,16.0,20.0,18.6,18.9,17.2,20.0,17.0,19.0,16.5,20.3,17.7,19.5,20.7,18.3,17.0,20.5,17.0,18.6,17.2,19.8,17.0,18.5,15.9,19.0,17.6,18.3,17.1,18.0,17.9,19.2,18.5,18.5,17.6,17.5,17.5,20.1,16.5,17.9,17.1,17.2,15.5,17.0,16.8,18.7,18.6,18.4,17.8,18.1,17.1,18.5],\"type\":\"scatter3d\"},{\"customdata\":[[\"Biscoe\",\"female\"],[\"Biscoe\",\"male\"],[\"Biscoe\",\"female\"],[\"Biscoe\",\"male\"],[\"Biscoe\",\"male\"],[\"Biscoe\",\"female\"],[\"Biscoe\",\"female\"],[\"Biscoe\",\"male\"],[\"Biscoe\",\"female\"],[\"Biscoe\",\"male\"],[\"Biscoe\",\"female\"],[\"Biscoe\",\"male\"],[\"Biscoe\",\"female\"],[\"Biscoe\",\"male\"],[\"Biscoe\",\"female\"],[\"Biscoe\",\"male\"],[\"Biscoe\",\"female\"],[\"Biscoe\",\"male\"],[\"Biscoe\",\"female\"],[\"Biscoe\",\"male\"],[\"Biscoe\",\"male\"],[\"Biscoe\",\"female\"],[\"Biscoe\",\"female\"],[\"Biscoe\",\"male\"],[\"Biscoe\",\"female\"],[\"Biscoe\",\"male\"],[\"Biscoe\",\"male\"],[\"Biscoe\",\"female\"],[\"Biscoe\",\"male\"],[\"Biscoe\",\"male\"],[\"Biscoe\",\"female\"],[\"Biscoe\",\"female\"],[\"Biscoe\",\"male\"],[\"Biscoe\",\"female\"],[\"Biscoe\",\"male\"],[\"Biscoe\",\"female\"],[\"Biscoe\",\"male\"],[\"Biscoe\",\"female\"],[\"Biscoe\",\"male\"],[\"Biscoe\",\"female\"],[\"Biscoe\",\"male\"],[\"Biscoe\",\"female\"],[\"Biscoe\",\"male\"],[\"Biscoe\",\"male\"],[\"Biscoe\",\"female\"],[\"Biscoe\",\"female\"],[\"Biscoe\",\"male\"],[\"Biscoe\",\"female\"],[\"Biscoe\",\"male\"],[\"Biscoe\",\"female\"],[\"Biscoe\",\"male\"],[\"Biscoe\",\"female\"],[\"Biscoe\",\"male\"],[\"Biscoe\",\"female\"],[\"Biscoe\",\"male\"],[\"Biscoe\",\"female\"],[\"Biscoe\",\"male\"],[\"Biscoe\",\"female\"],[\"Biscoe\",\"male\"],[\"Biscoe\",\"female\"],[\"Biscoe\",\"male\"],[\"Biscoe\",\"female\"],[\"Biscoe\",\"male\"],[\"Biscoe\",\"female\"],[\"Biscoe\",\"male\"],[\"Biscoe\",\"male\"],[\"Biscoe\",\"female\"],[\"Biscoe\",\"male\"],[\"Biscoe\",\"female\"],[\"Biscoe\",\"male\"],[\"Biscoe\",\"male\"],[\"Biscoe\",\"female\"],[\"Biscoe\",\"female\"],[\"Biscoe\",\"male\"],[\"Biscoe\",\"female\"],[\"Biscoe\",\"male\"],[\"Biscoe\",\"female\"],[\"Biscoe\",\"male\"],[\"Biscoe\",\"female\"],[\"Biscoe\",\"male\"],[\"Biscoe\",\"female\"],[\"Biscoe\",\"male\"],[\"Biscoe\",\"female\"],[\"Biscoe\",\"male\"],[\"Biscoe\",\"female\"],[\"Biscoe\",\"male\"],[\"Biscoe\",\"female\"],[\"Biscoe\",\"male\"],[\"Biscoe\",\"female\"],[\"Biscoe\",\"male\"],[\"Biscoe\",\"female\"],[\"Biscoe\",\"male\"],[\"Biscoe\",\"female\"],[\"Biscoe\",\"male\"],[\"Biscoe\",\"male\"],[\"Biscoe\",\"female\"],[\"Biscoe\",\"female\"],[\"Biscoe\",\"male\"],[\"Biscoe\",\"female\"],[\"Biscoe\",\"male\"],[\"Biscoe\",\"female\"],[\"Biscoe\",\"male\"],[\"Biscoe\",\"male\"],[\"Biscoe\",\"female\"],[\"Biscoe\",\"male\"],[\"Biscoe\",\"female\"],[\"Biscoe\",\"male\"],[\"Biscoe\",\"female\"],[\"Biscoe\",\"male\"],[\"Biscoe\",\"female\"],[\"Biscoe\",\"male\"],[\"Biscoe\",\"female\"],[\"Biscoe\",\"male\"],[\"Biscoe\",\"male\"],[\"Biscoe\",\"female\"],[\"Biscoe\",\"female\"],[\"Biscoe\",\"male\"],[\"Biscoe\",\"female\"],[\"Biscoe\",\"male\"]],\"hovertemplate\":\"species=Gentoo\\u003cbr\\u003ebill_length_mm=%{x}\\u003cbr\\u003ebody_mass_g=%{y}\\u003cbr\\u003ebill_depth_mm=%{z}\\u003cbr\\u003eisland=%{customdata[0]}\\u003cbr\\u003esex=%{customdata[1]}\\u003cextra\\u003e\\u003c\\u002fextra\\u003e\",\"legendgroup\":\"Gentoo\",\"marker\":{\"color\":\"#EF553B\",\"symbol\":\"circle\"},\"mode\":\"markers\",\"name\":\"Gentoo\",\"scene\":\"scene\",\"showlegend\":true,\"x\":[46.1,50.0,48.7,50.0,47.6,46.5,45.4,46.7,43.3,46.8,40.9,49.0,45.5,48.4,45.8,49.3,42.0,49.2,46.2,48.7,50.2,45.1,46.5,46.3,42.9,46.1,47.8,48.2,50.0,47.3,42.8,45.1,59.6,49.1,48.4,42.6,44.4,44.0,48.7,42.7,49.6,45.3,49.6,50.5,43.6,45.5,50.5,44.9,45.2,46.6,48.5,45.1,50.1,46.5,45.0,43.8,45.5,43.2,50.4,45.3,46.2,45.7,54.3,45.8,49.8,49.5,43.5,50.7,47.7,46.4,48.2,46.5,46.4,48.6,47.5,51.1,45.2,45.2,49.1,52.5,47.4,50.0,44.9,50.8,43.4,51.3,47.5,52.1,47.5,52.2,45.5,49.5,44.5,50.8,49.4,46.9,48.4,51.1,48.5,55.9,47.2,49.1,46.8,41.7,53.4,43.3,48.1,50.5,49.8,43.5,51.5,46.2,55.1,48.8,47.2,46.8,50.4,45.2,49.9],\"y\":[4500.0,5700.0,4450.0,5700.0,5400.0,4550.0,4800.0,5200.0,4400.0,5150.0,4650.0,5550.0,4650.0,5850.0,4200.0,5850.0,4150.0,6300.0,4800.0,5350.0,5700.0,5000.0,4400.0,5050.0,5000.0,5100.0,5650.0,4600.0,5550.0,5250.0,4700.0,5050.0,6050.0,5150.0,5400.0,4950.0,5250.0,4350.0,5350.0,3950.0,5700.0,4300.0,4750.0,5550.0,4900.0,4200.0,5400.0,5100.0,5300.0,4850.0,5300.0,4400.0,5000.0,4900.0,5050.0,4300.0,5000.0,4450.0,5550.0,4200.0,5300.0,4400.0,5650.0,4700.0,5700.0,5800.0,4700.0,5550.0,4750.0,5000.0,5100.0,5200.0,4700.0,5800.0,4600.0,6000.0,4750.0,5950.0,4625.0,5450.0,4725.0,5350.0,4750.0,5600.0,4600.0,5300.0,4875.0,5550.0,4950.0,5400.0,4750.0,5650.0,4850.0,5200.0,4925.0,4875.0,4625.0,5250.0,4850.0,5600.0,4975.0,5500.0,5500.0,4700.0,5500.0,4575.0,5500.0,5000.0,5950.0,4650.0,5500.0,4375.0,5850.0,6000.0,4925.0,4850.0,5750.0,5200.0,5400.0],\"z\":[13.2,16.3,14.1,15.2,14.5,13.5,14.6,15.3,13.4,15.4,13.7,16.1,13.7,14.6,14.6,15.7,13.5,15.2,14.5,15.1,14.3,14.5,14.5,15.8,13.1,15.1,15.0,14.3,15.3,15.3,14.2,14.5,17.0,14.8,16.3,13.7,17.3,13.6,15.7,13.7,16.0,13.7,15.0,15.9,13.9,13.9,15.9,13.3,15.8,14.2,14.1,14.4,15.0,14.4,15.4,13.9,15.0,14.5,15.3,13.8,14.9,13.9,15.7,14.2,16.8,16.2,14.2,15.0,15.0,15.6,15.6,14.8,15.0,16.0,14.2,16.3,13.8,16.4,14.5,15.6,14.6,15.9,13.8,17.3,14.4,14.2,14.0,17.0,15.0,17.1,14.5,16.1,14.7,15.7,15.8,14.6,14.4,16.5,15.0,17.0,15.5,15.0,16.1,14.7,15.8,14.0,15.1,15.2,15.9,15.2,16.3,14.1,16.0,16.2,13.7,14.3,15.7,14.8,16.1],\"type\":\"scatter3d\"},{\"customdata\":[[\"Dream\",\"female\"],[\"Dream\",\"male\"],[\"Dream\",\"male\"],[\"Dream\",\"female\"],[\"Dream\",\"male\"],[\"Dream\",\"female\"],[\"Dream\",\"female\"],[\"Dream\",\"male\"],[\"Dream\",\"female\"],[\"Dream\",\"male\"],[\"Dream\",\"female\"],[\"Dream\",\"male\"],[\"Dream\",\"female\"],[\"Dream\",\"male\"],[\"Dream\",\"female\"],[\"Dream\",\"male\"],[\"Dream\",\"male\"],[\"Dream\",\"female\"],[\"Dream\",\"female\"],[\"Dream\",\"male\"],[\"Dream\",\"female\"],[\"Dream\",\"male\"],[\"Dream\",\"female\"],[\"Dream\",\"male\"],[\"Dream\",\"female\"],[\"Dream\",\"male\"],[\"Dream\",\"female\"],[\"Dream\",\"male\"],[\"Dream\",\"female\"],[\"Dream\",\"male\"],[\"Dream\",\"female\"],[\"Dream\",\"male\"],[\"Dream\",\"female\"],[\"Dream\",\"male\"],[\"Dream\",\"male\"],[\"Dream\",\"female\"],[\"Dream\",\"female\"],[\"Dream\",\"male\"],[\"Dream\",\"female\"],[\"Dream\",\"male\"],[\"Dream\",\"male\"],[\"Dream\",\"female\"],[\"Dream\",\"male\"],[\"Dream\",\"female\"],[\"Dream\",\"female\"],[\"Dream\",\"male\"],[\"Dream\",\"female\"],[\"Dream\",\"male\"],[\"Dream\",\"male\"],[\"Dream\",\"female\"],[\"Dream\",\"female\"],[\"Dream\",\"male\"],[\"Dream\",\"female\"],[\"Dream\",\"male\"],[\"Dream\",\"female\"],[\"Dream\",\"male\"],[\"Dream\",\"female\"],[\"Dream\",\"male\"],[\"Dream\",\"male\"],[\"Dream\",\"female\"],[\"Dream\",\"male\"],[\"Dream\",\"female\"],[\"Dream\",\"female\"],[\"Dream\",\"male\"],[\"Dream\",\"female\"],[\"Dream\",\"male\"],[\"Dream\",\"male\"],[\"Dream\",\"female\"]],\"hovertemplate\":\"species=Chinstrap\\u003cbr\\u003ebill_length_mm=%{x}\\u003cbr\\u003ebody_mass_g=%{y}\\u003cbr\\u003ebill_depth_mm=%{z}\\u003cbr\\u003eisland=%{customdata[0]}\\u003cbr\\u003esex=%{customdata[1]}\\u003cextra\\u003e\\u003c\\u002fextra\\u003e\",\"legendgroup\":\"Chinstrap\",\"marker\":{\"color\":\"#00cc96\",\"symbol\":\"circle\"},\"mode\":\"markers\",\"name\":\"Chinstrap\",\"scene\":\"scene\",\"showlegend\":true,\"x\":[46.5,50.0,51.3,45.4,52.7,45.2,46.1,51.3,46.0,51.3,46.6,51.7,47.0,52.0,45.9,50.5,50.3,58.0,46.4,49.2,42.4,48.5,43.2,50.6,46.7,52.0,50.5,49.5,46.4,52.8,40.9,54.2,42.5,51.0,49.7,47.5,47.6,52.0,46.9,53.5,49.0,46.2,50.9,45.5,50.9,50.8,50.1,49.0,51.5,49.8,48.1,51.4,45.7,50.7,42.5,52.2,45.2,49.3,50.2,45.6,51.9,46.8,45.7,55.8,43.5,49.6,50.8,50.2],\"y\":[3500.0,3900.0,3650.0,3525.0,3725.0,3950.0,3250.0,3750.0,4150.0,3700.0,3800.0,3775.0,3700.0,4050.0,3575.0,4050.0,3300.0,3700.0,3450.0,4400.0,3600.0,3400.0,2900.0,3800.0,3300.0,4150.0,3400.0,3800.0,3700.0,4550.0,3200.0,4300.0,3350.0,4100.0,3600.0,3900.0,3850.0,4800.0,2700.0,4500.0,3950.0,3650.0,3550.0,3500.0,3675.0,4450.0,3400.0,4300.0,3250.0,3675.0,3325.0,3950.0,3600.0,4050.0,3350.0,3450.0,3250.0,4050.0,3800.0,3525.0,3950.0,3650.0,3650.0,4000.0,3400.0,3775.0,4100.0,3775.0],\"z\":[17.9,19.5,19.2,18.7,19.8,17.8,18.2,18.2,18.9,19.9,17.8,20.3,17.3,18.1,17.1,19.6,20.0,17.8,18.6,18.2,17.3,17.5,16.6,19.4,17.9,19.0,18.4,19.0,17.8,20.0,16.6,20.8,16.7,18.8,18.6,16.8,18.3,20.7,16.6,19.9,19.5,17.5,19.1,17.0,17.9,18.5,17.9,19.6,18.7,17.3,16.4,19.0,17.3,19.7,17.3,18.8,16.6,19.9,18.8,19.4,19.5,16.5,17.0,19.8,18.1,18.2,19.0,18.7],\"type\":\"scatter3d\"}],                        {\"template\":{\"data\":{\"histogram2dcontour\":[{\"type\":\"histogram2dcontour\",\"colorbar\":{\"outlinewidth\":0,\"ticks\":\"\"},\"colorscale\":[[0.0,\"#0d0887\"],[0.1111111111111111,\"#46039f\"],[0.2222222222222222,\"#7201a8\"],[0.3333333333333333,\"#9c179e\"],[0.4444444444444444,\"#bd3786\"],[0.5555555555555556,\"#d8576b\"],[0.6666666666666666,\"#ed7953\"],[0.7777777777777778,\"#fb9f3a\"],[0.8888888888888888,\"#fdca26\"],[1.0,\"#f0f921\"]]}],\"choropleth\":[{\"type\":\"choropleth\",\"colorbar\":{\"outlinewidth\":0,\"ticks\":\"\"}}],\"histogram2d\":[{\"type\":\"histogram2d\",\"colorbar\":{\"outlinewidth\":0,\"ticks\":\"\"},\"colorscale\":[[0.0,\"#0d0887\"],[0.1111111111111111,\"#46039f\"],[0.2222222222222222,\"#7201a8\"],[0.3333333333333333,\"#9c179e\"],[0.4444444444444444,\"#bd3786\"],[0.5555555555555556,\"#d8576b\"],[0.6666666666666666,\"#ed7953\"],[0.7777777777777778,\"#fb9f3a\"],[0.8888888888888888,\"#fdca26\"],[1.0,\"#f0f921\"]]}],\"heatmap\":[{\"type\":\"heatmap\",\"colorbar\":{\"outlinewidth\":0,\"ticks\":\"\"},\"colorscale\":[[0.0,\"#0d0887\"],[0.1111111111111111,\"#46039f\"],[0.2222222222222222,\"#7201a8\"],[0.3333333333333333,\"#9c179e\"],[0.4444444444444444,\"#bd3786\"],[0.5555555555555556,\"#d8576b\"],[0.6666666666666666,\"#ed7953\"],[0.7777777777777778,\"#fb9f3a\"],[0.8888888888888888,\"#fdca26\"],[1.0,\"#f0f921\"]]}],\"heatmapgl\":[{\"type\":\"heatmapgl\",\"colorbar\":{\"outlinewidth\":0,\"ticks\":\"\"},\"colorscale\":[[0.0,\"#0d0887\"],[0.1111111111111111,\"#46039f\"],[0.2222222222222222,\"#7201a8\"],[0.3333333333333333,\"#9c179e\"],[0.4444444444444444,\"#bd3786\"],[0.5555555555555556,\"#d8576b\"],[0.6666666666666666,\"#ed7953\"],[0.7777777777777778,\"#fb9f3a\"],[0.8888888888888888,\"#fdca26\"],[1.0,\"#f0f921\"]]}],\"contourcarpet\":[{\"type\":\"contourcarpet\",\"colorbar\":{\"outlinewidth\":0,\"ticks\":\"\"}}],\"contour\":[{\"type\":\"contour\",\"colorbar\":{\"outlinewidth\":0,\"ticks\":\"\"},\"colorscale\":[[0.0,\"#0d0887\"],[0.1111111111111111,\"#46039f\"],[0.2222222222222222,\"#7201a8\"],[0.3333333333333333,\"#9c179e\"],[0.4444444444444444,\"#bd3786\"],[0.5555555555555556,\"#d8576b\"],[0.6666666666666666,\"#ed7953\"],[0.7777777777777778,\"#fb9f3a\"],[0.8888888888888888,\"#fdca26\"],[1.0,\"#f0f921\"]]}],\"surface\":[{\"type\":\"surface\",\"colorbar\":{\"outlinewidth\":0,\"ticks\":\"\"},\"colorscale\":[[0.0,\"#0d0887\"],[0.1111111111111111,\"#46039f\"],[0.2222222222222222,\"#7201a8\"],[0.3333333333333333,\"#9c179e\"],[0.4444444444444444,\"#bd3786\"],[0.5555555555555556,\"#d8576b\"],[0.6666666666666666,\"#ed7953\"],[0.7777777777777778,\"#fb9f3a\"],[0.8888888888888888,\"#fdca26\"],[1.0,\"#f0f921\"]]}],\"mesh3d\":[{\"type\":\"mesh3d\",\"colorbar\":{\"outlinewidth\":0,\"ticks\":\"\"}}],\"scatter\":[{\"fillpattern\":{\"fillmode\":\"overlay\",\"size\":10,\"solidity\":0.2},\"type\":\"scatter\"}],\"parcoords\":[{\"type\":\"parcoords\",\"line\":{\"colorbar\":{\"outlinewidth\":0,\"ticks\":\"\"}}}],\"scatterpolargl\":[{\"type\":\"scatterpolargl\",\"marker\":{\"colorbar\":{\"outlinewidth\":0,\"ticks\":\"\"}}}],\"bar\":[{\"error_x\":{\"color\":\"#2a3f5f\"},\"error_y\":{\"color\":\"#2a3f5f\"},\"marker\":{\"line\":{\"color\":\"#E5ECF6\",\"width\":0.5},\"pattern\":{\"fillmode\":\"overlay\",\"size\":10,\"solidity\":0.2}},\"type\":\"bar\"}],\"scattergeo\":[{\"type\":\"scattergeo\",\"marker\":{\"colorbar\":{\"outlinewidth\":0,\"ticks\":\"\"}}}],\"scatterpolar\":[{\"type\":\"scatterpolar\",\"marker\":{\"colorbar\":{\"outlinewidth\":0,\"ticks\":\"\"}}}],\"histogram\":[{\"marker\":{\"pattern\":{\"fillmode\":\"overlay\",\"size\":10,\"solidity\":0.2}},\"type\":\"histogram\"}],\"scattergl\":[{\"type\":\"scattergl\",\"marker\":{\"colorbar\":{\"outlinewidth\":0,\"ticks\":\"\"}}}],\"scatter3d\":[{\"type\":\"scatter3d\",\"line\":{\"colorbar\":{\"outlinewidth\":0,\"ticks\":\"\"}},\"marker\":{\"colorbar\":{\"outlinewidth\":0,\"ticks\":\"\"}}}],\"scattermapbox\":[{\"type\":\"scattermapbox\",\"marker\":{\"colorbar\":{\"outlinewidth\":0,\"ticks\":\"\"}}}],\"scatterternary\":[{\"type\":\"scatterternary\",\"marker\":{\"colorbar\":{\"outlinewidth\":0,\"ticks\":\"\"}}}],\"scattercarpet\":[{\"type\":\"scattercarpet\",\"marker\":{\"colorbar\":{\"outlinewidth\":0,\"ticks\":\"\"}}}],\"carpet\":[{\"aaxis\":{\"endlinecolor\":\"#2a3f5f\",\"gridcolor\":\"white\",\"linecolor\":\"white\",\"minorgridcolor\":\"white\",\"startlinecolor\":\"#2a3f5f\"},\"baxis\":{\"endlinecolor\":\"#2a3f5f\",\"gridcolor\":\"white\",\"linecolor\":\"white\",\"minorgridcolor\":\"white\",\"startlinecolor\":\"#2a3f5f\"},\"type\":\"carpet\"}],\"table\":[{\"cells\":{\"fill\":{\"color\":\"#EBF0F8\"},\"line\":{\"color\":\"white\"}},\"header\":{\"fill\":{\"color\":\"#C8D4E3\"},\"line\":{\"color\":\"white\"}},\"type\":\"table\"}],\"barpolar\":[{\"marker\":{\"line\":{\"color\":\"#E5ECF6\",\"width\":0.5},\"pattern\":{\"fillmode\":\"overlay\",\"size\":10,\"solidity\":0.2}},\"type\":\"barpolar\"}],\"pie\":[{\"automargin\":true,\"type\":\"pie\"}]},\"layout\":{\"autotypenumbers\":\"strict\",\"colorway\":[\"#636efa\",\"#EF553B\",\"#00cc96\",\"#ab63fa\",\"#FFA15A\",\"#19d3f3\",\"#FF6692\",\"#B6E880\",\"#FF97FF\",\"#FECB52\"],\"font\":{\"color\":\"#2a3f5f\"},\"hovermode\":\"closest\",\"hoverlabel\":{\"align\":\"left\"},\"paper_bgcolor\":\"white\",\"plot_bgcolor\":\"#E5ECF6\",\"polar\":{\"bgcolor\":\"#E5ECF6\",\"angularaxis\":{\"gridcolor\":\"white\",\"linecolor\":\"white\",\"ticks\":\"\"},\"radialaxis\":{\"gridcolor\":\"white\",\"linecolor\":\"white\",\"ticks\":\"\"}},\"ternary\":{\"bgcolor\":\"#E5ECF6\",\"aaxis\":{\"gridcolor\":\"white\",\"linecolor\":\"white\",\"ticks\":\"\"},\"baxis\":{\"gridcolor\":\"white\",\"linecolor\":\"white\",\"ticks\":\"\"},\"caxis\":{\"gridcolor\":\"white\",\"linecolor\":\"white\",\"ticks\":\"\"}},\"coloraxis\":{\"colorbar\":{\"outlinewidth\":0,\"ticks\":\"\"}},\"colorscale\":{\"sequential\":[[0.0,\"#0d0887\"],[0.1111111111111111,\"#46039f\"],[0.2222222222222222,\"#7201a8\"],[0.3333333333333333,\"#9c179e\"],[0.4444444444444444,\"#bd3786\"],[0.5555555555555556,\"#d8576b\"],[0.6666666666666666,\"#ed7953\"],[0.7777777777777778,\"#fb9f3a\"],[0.8888888888888888,\"#fdca26\"],[1.0,\"#f0f921\"]],\"sequentialminus\":[[0.0,\"#0d0887\"],[0.1111111111111111,\"#46039f\"],[0.2222222222222222,\"#7201a8\"],[0.3333333333333333,\"#9c179e\"],[0.4444444444444444,\"#bd3786\"],[0.5555555555555556,\"#d8576b\"],[0.6666666666666666,\"#ed7953\"],[0.7777777777777778,\"#fb9f3a\"],[0.8888888888888888,\"#fdca26\"],[1.0,\"#f0f921\"]],\"diverging\":[[0,\"#8e0152\"],[0.1,\"#c51b7d\"],[0.2,\"#de77ae\"],[0.3,\"#f1b6da\"],[0.4,\"#fde0ef\"],[0.5,\"#f7f7f7\"],[0.6,\"#e6f5d0\"],[0.7,\"#b8e186\"],[0.8,\"#7fbc41\"],[0.9,\"#4d9221\"],[1,\"#276419\"]]},\"xaxis\":{\"gridcolor\":\"white\",\"linecolor\":\"white\",\"ticks\":\"\",\"title\":{\"standoff\":15},\"zerolinecolor\":\"white\",\"automargin\":true,\"zerolinewidth\":2},\"yaxis\":{\"gridcolor\":\"white\",\"linecolor\":\"white\",\"ticks\":\"\",\"title\":{\"standoff\":15},\"zerolinecolor\":\"white\",\"automargin\":true,\"zerolinewidth\":2},\"scene\":{\"xaxis\":{\"backgroundcolor\":\"#E5ECF6\",\"gridcolor\":\"white\",\"linecolor\":\"white\",\"showbackground\":true,\"ticks\":\"\",\"zerolinecolor\":\"white\",\"gridwidth\":2},\"yaxis\":{\"backgroundcolor\":\"#E5ECF6\",\"gridcolor\":\"white\",\"linecolor\":\"white\",\"showbackground\":true,\"ticks\":\"\",\"zerolinecolor\":\"white\",\"gridwidth\":2},\"zaxis\":{\"backgroundcolor\":\"#E5ECF6\",\"gridcolor\":\"white\",\"linecolor\":\"white\",\"showbackground\":true,\"ticks\":\"\",\"zerolinecolor\":\"white\",\"gridwidth\":2}},\"shapedefaults\":{\"line\":{\"color\":\"#2a3f5f\"}},\"annotationdefaults\":{\"arrowcolor\":\"#2a3f5f\",\"arrowhead\":0,\"arrowwidth\":1},\"geo\":{\"bgcolor\":\"white\",\"landcolor\":\"#E5ECF6\",\"subunitcolor\":\"white\",\"showland\":true,\"showlakes\":true,\"lakecolor\":\"white\"},\"title\":{\"x\":0.05},\"mapbox\":{\"style\":\"light\"}}},\"scene\":{\"domain\":{\"x\":[0.0,1.0],\"y\":[0.0,1.0]},\"xaxis\":{\"title\":{\"text\":\"bill_length_mm\"}},\"yaxis\":{\"title\":{\"text\":\"body_mass_g\"}},\"zaxis\":{\"title\":{\"text\":\"bill_depth_mm\"}}},\"legend\":{\"title\":{\"text\":\"species\"},\"tracegroupgap\":0},\"title\":{\"text\":\"Penguin Bill Length vs Bill Depth Over Time\"},\"width\":800,\"height\":600},                        {\"responsive\": true}                    ).then(function(){\n",
       "                            \n",
       "var gd = document.getElementById('1565160e-0ec4-4f52-a3c3-44736c96cd34');\n",
       "var x = new MutationObserver(function (mutations, observer) {{\n",
       "        var display = window.getComputedStyle(gd).display;\n",
       "        if (!display || display === 'none') {{\n",
       "            console.log([gd, 'removed!']);\n",
       "            Plotly.purge(gd);\n",
       "            observer.disconnect();\n",
       "        }}\n",
       "}});\n",
       "\n",
       "// Listen for the removal of the full notebook cells\n",
       "var notebookContainer = gd.closest('#notebook-container');\n",
       "if (notebookContainer) {{\n",
       "    x.observe(notebookContainer, {childList: true});\n",
       "}}\n",
       "\n",
       "// Listen for the clearing of the current output cell\n",
       "var outputEl = gd.closest('.output');\n",
       "if (outputEl) {{\n",
       "    x.observe(outputEl, {childList: true});\n",
       "}}\n",
       "\n",
       "                        })                };                });            </script>        </div>"
      ]
     },
     "metadata": {},
     "output_type": "display_data"
    }
   ],
   "source": [
    "# Assuming your DataFrame is named 'df'\n",
    "fig = px.scatter_3d(df, x='bill_length_mm', y='body_mass_g', z='bill_depth_mm', color='species', hover_data=['island', 'sex'], title='Penguin Bill Length vs Bill Depth Over Time')\n",
    "# Show the interactive plot\n",
    "\n",
    "# Update the layout to adjust the size\n",
    "fig.update_layout(\n",
    "    width=800,  # width in pixels\n",
    "    height=600,  # height in pixels\n",
    ")\n",
    "\n",
    "\n",
    "fig.show()"
   ]
  },
  {
   "cell_type": "markdown",
   "id": "97d6c9c3-17fd-4f18-83fd-a4a28055b817",
   "metadata": {},
   "source": [
    "We can see from this plot there is good seperation between Chinstrap/Adelie and Gentoo. Let's see if we can seperate the Adelie and Chinstrap."
   ]
  },
  {
   "cell_type": "code",
   "execution_count": 13,
   "id": "15636bda-c832-4fc1-9f47-d64711e62433",
   "metadata": {},
   "outputs": [],
   "source": [
    "# Define the two specified species you want to include\n",
    "species_to_include_1 = ['Adelie', 'Chinstrap']\n",
    "\n",
    "# Filter the DataFrame to include only the specified species\n",
    "filtered_df_1 = df[df['species'].isin(species_to_include_2)].dropna()"
   ]
  },
  {
   "cell_type": "code",
   "execution_count": 14,
   "id": "3273a72b-9fbc-4cc2-aeff-1ce760b25eea",
   "metadata": {},
   "outputs": [
    {
     "data": {
      "application/vnd.plotly.v1+json": {
       "config": {
        "plotlyServerURL": "https://plot.ly"
       },
       "data": [
        {
         "customdata": [
          [
           "Torgersen",
           "male"
          ],
          [
           "Torgersen",
           "female"
          ],
          [
           "Torgersen",
           "female"
          ],
          [
           "Torgersen",
           "female"
          ],
          [
           "Torgersen",
           "male"
          ],
          [
           "Torgersen",
           "female"
          ],
          [
           "Torgersen",
           "male"
          ],
          [
           "Torgersen",
           "female"
          ],
          [
           "Torgersen",
           "male"
          ],
          [
           "Torgersen",
           "male"
          ],
          [
           "Torgersen",
           "female"
          ],
          [
           "Torgersen",
           "female"
          ],
          [
           "Torgersen",
           "male"
          ],
          [
           "Torgersen",
           "female"
          ],
          [
           "Torgersen",
           "male"
          ],
          [
           "Biscoe",
           "female"
          ],
          [
           "Biscoe",
           "male"
          ],
          [
           "Biscoe",
           "female"
          ],
          [
           "Biscoe",
           "male"
          ],
          [
           "Biscoe",
           "male"
          ],
          [
           "Biscoe",
           "female"
          ],
          [
           "Biscoe",
           "male"
          ],
          [
           "Biscoe",
           "female"
          ],
          [
           "Biscoe",
           "female"
          ],
          [
           "Biscoe",
           "male"
          ],
          [
           "Dream",
           "female"
          ],
          [
           "Dream",
           "male"
          ],
          [
           "Dream",
           "female"
          ],
          [
           "Dream",
           "male"
          ],
          [
           "Dream",
           "female"
          ],
          [
           "Dream",
           "male"
          ],
          [
           "Dream",
           "male"
          ],
          [
           "Dream",
           "female"
          ],
          [
           "Dream",
           "female"
          ],
          [
           "Dream",
           "male"
          ],
          [
           "Dream",
           "female"
          ],
          [
           "Dream",
           "male"
          ],
          [
           "Dream",
           "female"
          ],
          [
           "Dream",
           "male"
          ],
          [
           "Dream",
           "female"
          ],
          [
           "Dream",
           "male"
          ],
          [
           "Dream",
           "male"
          ],
          [
           "Dream",
           "female"
          ],
          [
           "Dream",
           "male"
          ],
          [
           "Biscoe",
           "female"
          ],
          [
           "Biscoe",
           "male"
          ],
          [
           "Biscoe",
           "female"
          ],
          [
           "Biscoe",
           "male"
          ],
          [
           "Biscoe",
           "female"
          ],
          [
           "Biscoe",
           "male"
          ],
          [
           "Biscoe",
           "female"
          ],
          [
           "Biscoe",
           "male"
          ],
          [
           "Biscoe",
           "female"
          ],
          [
           "Biscoe",
           "male"
          ],
          [
           "Biscoe",
           "female"
          ],
          [
           "Biscoe",
           "male"
          ],
          [
           "Biscoe",
           "female"
          ],
          [
           "Biscoe",
           "male"
          ],
          [
           "Biscoe",
           "female"
          ],
          [
           "Biscoe",
           "male"
          ],
          [
           "Biscoe",
           "female"
          ],
          [
           "Biscoe",
           "male"
          ],
          [
           "Torgersen",
           "female"
          ],
          [
           "Torgersen",
           "male"
          ],
          [
           "Torgersen",
           "female"
          ],
          [
           "Torgersen",
           "male"
          ],
          [
           "Torgersen",
           "female"
          ],
          [
           "Torgersen",
           "male"
          ],
          [
           "Torgersen",
           "female"
          ],
          [
           "Torgersen",
           "male"
          ],
          [
           "Torgersen",
           "female"
          ],
          [
           "Torgersen",
           "male"
          ],
          [
           "Torgersen",
           "female"
          ],
          [
           "Torgersen",
           "male"
          ],
          [
           "Torgersen",
           "female"
          ],
          [
           "Torgersen",
           "male"
          ],
          [
           "Torgersen",
           "female"
          ],
          [
           "Torgersen",
           "male"
          ],
          [
           "Dream",
           "female"
          ],
          [
           "Dream",
           "male"
          ],
          [
           "Dream",
           "male"
          ],
          [
           "Dream",
           "female"
          ],
          [
           "Dream",
           "male"
          ],
          [
           "Dream",
           "female"
          ],
          [
           "Dream",
           "female"
          ],
          [
           "Dream",
           "male"
          ],
          [
           "Dream",
           "female"
          ],
          [
           "Dream",
           "male"
          ],
          [
           "Dream",
           "female"
          ],
          [
           "Dream",
           "male"
          ],
          [
           "Dream",
           "female"
          ],
          [
           "Dream",
           "male"
          ],
          [
           "Dream",
           "female"
          ],
          [
           "Dream",
           "male"
          ],
          [
           "Biscoe",
           "female"
          ],
          [
           "Biscoe",
           "male"
          ],
          [
           "Biscoe",
           "female"
          ],
          [
           "Biscoe",
           "male"
          ],
          [
           "Biscoe",
           "female"
          ],
          [
           "Biscoe",
           "male"
          ],
          [
           "Biscoe",
           "female"
          ],
          [
           "Biscoe",
           "male"
          ],
          [
           "Biscoe",
           "female"
          ],
          [
           "Biscoe",
           "male"
          ],
          [
           "Biscoe",
           "female"
          ],
          [
           "Biscoe",
           "male"
          ],
          [
           "Biscoe",
           "female"
          ],
          [
           "Biscoe",
           "male"
          ],
          [
           "Biscoe",
           "female"
          ],
          [
           "Biscoe",
           "male"
          ],
          [
           "Torgersen",
           "female"
          ],
          [
           "Torgersen",
           "male"
          ],
          [
           "Torgersen",
           "female"
          ],
          [
           "Torgersen",
           "male"
          ],
          [
           "Torgersen",
           "female"
          ],
          [
           "Torgersen",
           "male"
          ],
          [
           "Torgersen",
           "female"
          ],
          [
           "Torgersen",
           "male"
          ],
          [
           "Torgersen",
           "female"
          ],
          [
           "Torgersen",
           "male"
          ],
          [
           "Torgersen",
           "female"
          ],
          [
           "Torgersen",
           "male"
          ],
          [
           "Torgersen",
           "female"
          ],
          [
           "Torgersen",
           "male"
          ],
          [
           "Torgersen",
           "female"
          ],
          [
           "Torgersen",
           "male"
          ],
          [
           "Dream",
           "female"
          ],
          [
           "Dream",
           "male"
          ],
          [
           "Dream",
           "female"
          ],
          [
           "Dream",
           "male"
          ],
          [
           "Dream",
           "female"
          ],
          [
           "Dream",
           "male"
          ],
          [
           "Dream",
           "female"
          ],
          [
           "Dream",
           "male"
          ],
          [
           "Dream",
           "female"
          ],
          [
           "Dream",
           "male"
          ],
          [
           "Dream",
           "female"
          ],
          [
           "Dream",
           "male"
          ],
          [
           "Dream",
           "female"
          ],
          [
           "Dream",
           "male"
          ],
          [
           "Dream",
           "male"
          ],
          [
           "Dream",
           "female"
          ],
          [
           "Dream",
           "female"
          ],
          [
           "Dream",
           "male"
          ],
          [
           "Dream",
           "female"
          ],
          [
           "Dream",
           "male"
          ]
         ],
         "hovertemplate": "species=Adelie<br>bill_length_mm=%{x}<br>flipper_length_mm=%{y}<br>bill_depth_mm=%{z}<br>island=%{customdata[0]}<br>sex=%{customdata[1]}<extra></extra>",
         "legendgroup": "Adelie",
         "marker": {
          "color": "#636efa",
          "symbol": "circle"
         },
         "mode": "markers",
         "name": "Adelie",
         "scene": "scene",
         "showlegend": true,
         "type": "scatter3d",
         "x": [
          39.1,
          39.5,
          40.3,
          36.7,
          39.3,
          38.9,
          39.2,
          41.1,
          38.6,
          34.6,
          36.6,
          38.7,
          42.5,
          34.4,
          46,
          37.8,
          37.7,
          35.9,
          38.2,
          38.8,
          35.3,
          40.6,
          40.5,
          37.9,
          40.5,
          39.5,
          37.2,
          39.5,
          40.9,
          36.4,
          39.2,
          38.8,
          42.2,
          37.6,
          39.8,
          36.5,
          40.8,
          36,
          44.1,
          37,
          39.6,
          41.1,
          36,
          42.3,
          39.6,
          40.1,
          35,
          42,
          34.5,
          41.4,
          39,
          40.6,
          36.5,
          37.6,
          35.7,
          41.3,
          37.6,
          41.1,
          36.4,
          41.6,
          35.5,
          41.1,
          35.9,
          41.8,
          33.5,
          39.7,
          39.6,
          45.8,
          35.5,
          42.8,
          40.9,
          37.2,
          36.2,
          42.1,
          34.6,
          42.9,
          36.7,
          35.1,
          37.3,
          41.3,
          36.3,
          36.9,
          38.3,
          38.9,
          35.7,
          41.1,
          34,
          39.6,
          36.2,
          40.8,
          38.1,
          40.3,
          33.1,
          43.2,
          35,
          41,
          37.7,
          37.8,
          37.9,
          39.7,
          38.6,
          38.2,
          38.1,
          43.2,
          38.1,
          45.6,
          39.7,
          42.2,
          39.6,
          42.7,
          38.6,
          37.3,
          35.7,
          41.1,
          36.2,
          37.7,
          40.2,
          41.4,
          35.2,
          40.6,
          38.8,
          41.5,
          39,
          44.1,
          38.5,
          43.1,
          36.8,
          37.5,
          38.1,
          41.1,
          35.6,
          40.2,
          37,
          39.7,
          40.2,
          40.6,
          32.1,
          40.7,
          37.3,
          39,
          39.2,
          36.6,
          36,
          37.8,
          36,
          41.5
         ],
         "y": [
          181,
          186,
          195,
          193,
          190,
          181,
          195,
          182,
          191,
          198,
          185,
          195,
          197,
          184,
          194,
          174,
          180,
          189,
          185,
          180,
          187,
          183,
          187,
          172,
          180,
          178,
          178,
          188,
          184,
          195,
          196,
          190,
          180,
          181,
          184,
          182,
          195,
          186,
          196,
          185,
          190,
          182,
          190,
          191,
          186,
          188,
          190,
          200,
          187,
          191,
          186,
          193,
          181,
          194,
          185,
          195,
          185,
          192,
          184,
          192,
          195,
          188,
          190,
          198,
          190,
          190,
          196,
          197,
          190,
          195,
          191,
          184,
          187,
          195,
          189,
          196,
          187,
          193,
          191,
          194,
          190,
          189,
          189,
          190,
          202,
          205,
          185,
          186,
          187,
          208,
          190,
          196,
          178,
          192,
          192,
          203,
          183,
          190,
          193,
          184,
          199,
          190,
          181,
          197,
          198,
          191,
          193,
          197,
          191,
          196,
          188,
          199,
          189,
          189,
          187,
          198,
          176,
          202,
          186,
          199,
          191,
          195,
          191,
          210,
          190,
          197,
          193,
          199,
          187,
          190,
          191,
          200,
          185,
          193,
          193,
          187,
          188,
          190,
          192,
          185,
          190,
          184,
          195,
          193,
          187,
          201
         ],
         "z": [
          18.7,
          17.4,
          18,
          19.3,
          20.6,
          17.8,
          19.6,
          17.6,
          21.2,
          21.1,
          17.8,
          19,
          20.7,
          18.4,
          21.5,
          18.3,
          18.7,
          19.2,
          18.1,
          17.2,
          18.9,
          18.6,
          17.9,
          18.6,
          18.9,
          16.7,
          18.1,
          17.8,
          18.9,
          17,
          21.1,
          20,
          18.5,
          19.3,
          19.1,
          18,
          18.4,
          18.5,
          19.7,
          16.9,
          18.8,
          19,
          17.9,
          21.2,
          17.7,
          18.9,
          17.9,
          19.5,
          18.1,
          18.6,
          17.5,
          18.8,
          16.6,
          19.1,
          16.9,
          21.1,
          17,
          18.2,
          17.1,
          18,
          16.2,
          19.1,
          16.6,
          19.4,
          19,
          18.4,
          17.2,
          18.9,
          17.5,
          18.5,
          16.8,
          19.4,
          16.1,
          19.1,
          17.2,
          17.6,
          18.8,
          19.4,
          17.8,
          20.3,
          19.5,
          18.6,
          19.2,
          18.8,
          18,
          18.1,
          17.1,
          18.1,
          17.3,
          18.9,
          18.6,
          18.5,
          16.1,
          18.5,
          17.9,
          20,
          16,
          20,
          18.6,
          18.9,
          17.2,
          20,
          17,
          19,
          16.5,
          20.3,
          17.7,
          19.5,
          20.7,
          18.3,
          17,
          20.5,
          17,
          18.6,
          17.2,
          19.8,
          17,
          18.5,
          15.9,
          19,
          17.6,
          18.3,
          17.1,
          18,
          17.9,
          19.2,
          18.5,
          18.5,
          17.6,
          17.5,
          17.5,
          20.1,
          16.5,
          17.9,
          17.1,
          17.2,
          15.5,
          17,
          16.8,
          18.7,
          18.6,
          18.4,
          17.8,
          18.1,
          17.1,
          18.5
         ]
        },
        {
         "customdata": [
          [
           "Dream",
           "female"
          ],
          [
           "Dream",
           "male"
          ],
          [
           "Dream",
           "male"
          ],
          [
           "Dream",
           "female"
          ],
          [
           "Dream",
           "male"
          ],
          [
           "Dream",
           "female"
          ],
          [
           "Dream",
           "female"
          ],
          [
           "Dream",
           "male"
          ],
          [
           "Dream",
           "female"
          ],
          [
           "Dream",
           "male"
          ],
          [
           "Dream",
           "female"
          ],
          [
           "Dream",
           "male"
          ],
          [
           "Dream",
           "female"
          ],
          [
           "Dream",
           "male"
          ],
          [
           "Dream",
           "female"
          ],
          [
           "Dream",
           "male"
          ],
          [
           "Dream",
           "male"
          ],
          [
           "Dream",
           "female"
          ],
          [
           "Dream",
           "female"
          ],
          [
           "Dream",
           "male"
          ],
          [
           "Dream",
           "female"
          ],
          [
           "Dream",
           "male"
          ],
          [
           "Dream",
           "female"
          ],
          [
           "Dream",
           "male"
          ],
          [
           "Dream",
           "female"
          ],
          [
           "Dream",
           "male"
          ],
          [
           "Dream",
           "female"
          ],
          [
           "Dream",
           "male"
          ],
          [
           "Dream",
           "female"
          ],
          [
           "Dream",
           "male"
          ],
          [
           "Dream",
           "female"
          ],
          [
           "Dream",
           "male"
          ],
          [
           "Dream",
           "female"
          ],
          [
           "Dream",
           "male"
          ],
          [
           "Dream",
           "male"
          ],
          [
           "Dream",
           "female"
          ],
          [
           "Dream",
           "female"
          ],
          [
           "Dream",
           "male"
          ],
          [
           "Dream",
           "female"
          ],
          [
           "Dream",
           "male"
          ],
          [
           "Dream",
           "male"
          ],
          [
           "Dream",
           "female"
          ],
          [
           "Dream",
           "male"
          ],
          [
           "Dream",
           "female"
          ],
          [
           "Dream",
           "female"
          ],
          [
           "Dream",
           "male"
          ],
          [
           "Dream",
           "female"
          ],
          [
           "Dream",
           "male"
          ],
          [
           "Dream",
           "male"
          ],
          [
           "Dream",
           "female"
          ],
          [
           "Dream",
           "female"
          ],
          [
           "Dream",
           "male"
          ],
          [
           "Dream",
           "female"
          ],
          [
           "Dream",
           "male"
          ],
          [
           "Dream",
           "female"
          ],
          [
           "Dream",
           "male"
          ],
          [
           "Dream",
           "female"
          ],
          [
           "Dream",
           "male"
          ],
          [
           "Dream",
           "male"
          ],
          [
           "Dream",
           "female"
          ],
          [
           "Dream",
           "male"
          ],
          [
           "Dream",
           "female"
          ],
          [
           "Dream",
           "female"
          ],
          [
           "Dream",
           "male"
          ],
          [
           "Dream",
           "female"
          ],
          [
           "Dream",
           "male"
          ],
          [
           "Dream",
           "male"
          ],
          [
           "Dream",
           "female"
          ]
         ],
         "hovertemplate": "species=Chinstrap<br>bill_length_mm=%{x}<br>flipper_length_mm=%{y}<br>bill_depth_mm=%{z}<br>island=%{customdata[0]}<br>sex=%{customdata[1]}<extra></extra>",
         "legendgroup": "Chinstrap",
         "marker": {
          "color": "#EF553B",
          "symbol": "circle"
         },
         "mode": "markers",
         "name": "Chinstrap",
         "scene": "scene",
         "showlegend": true,
         "type": "scatter3d",
         "x": [
          46.5,
          50,
          51.3,
          45.4,
          52.7,
          45.2,
          46.1,
          51.3,
          46,
          51.3,
          46.6,
          51.7,
          47,
          52,
          45.9,
          50.5,
          50.3,
          58,
          46.4,
          49.2,
          42.4,
          48.5,
          43.2,
          50.6,
          46.7,
          52,
          50.5,
          49.5,
          46.4,
          52.8,
          40.9,
          54.2,
          42.5,
          51,
          49.7,
          47.5,
          47.6,
          52,
          46.9,
          53.5,
          49,
          46.2,
          50.9,
          45.5,
          50.9,
          50.8,
          50.1,
          49,
          51.5,
          49.8,
          48.1,
          51.4,
          45.7,
          50.7,
          42.5,
          52.2,
          45.2,
          49.3,
          50.2,
          45.6,
          51.9,
          46.8,
          45.7,
          55.8,
          43.5,
          49.6,
          50.8,
          50.2
         ],
         "y": [
          192,
          196,
          193,
          188,
          197,
          198,
          178,
          197,
          195,
          198,
          193,
          194,
          185,
          201,
          190,
          201,
          197,
          181,
          190,
          195,
          181,
          191,
          187,
          193,
          195,
          197,
          200,
          200,
          191,
          205,
          187,
          201,
          187,
          203,
          195,
          199,
          195,
          210,
          192,
          205,
          210,
          187,
          196,
          196,
          196,
          201,
          190,
          212,
          187,
          198,
          199,
          201,
          193,
          203,
          187,
          197,
          191,
          203,
          202,
          194,
          206,
          189,
          195,
          207,
          202,
          193,
          210,
          198
         ],
         "z": [
          17.9,
          19.5,
          19.2,
          18.7,
          19.8,
          17.8,
          18.2,
          18.2,
          18.9,
          19.9,
          17.8,
          20.3,
          17.3,
          18.1,
          17.1,
          19.6,
          20,
          17.8,
          18.6,
          18.2,
          17.3,
          17.5,
          16.6,
          19.4,
          17.9,
          19,
          18.4,
          19,
          17.8,
          20,
          16.6,
          20.8,
          16.7,
          18.8,
          18.6,
          16.8,
          18.3,
          20.7,
          16.6,
          19.9,
          19.5,
          17.5,
          19.1,
          17,
          17.9,
          18.5,
          17.9,
          19.6,
          18.7,
          17.3,
          16.4,
          19,
          17.3,
          19.7,
          17.3,
          18.8,
          16.6,
          19.9,
          18.8,
          19.4,
          19.5,
          16.5,
          17,
          19.8,
          18.1,
          18.2,
          19,
          18.7
         ]
        }
       ],
       "layout": {
        "height": 600,
        "legend": {
         "title": {
          "text": "species"
         },
         "tracegroupgap": 0
        },
        "scene": {
         "aspectmode": "auto",
         "aspectratio": {
          "x": 1,
          "y": 1,
          "z": 1
         },
         "camera": {
          "center": {
           "x": 0,
           "y": 0,
           "z": 0
          },
          "eye": {
           "x": 0.06884460457438266,
           "y": 1.5987183627437163,
           "z": -0.9568964219182077
          },
          "projection": {
           "type": "perspective"
          },
          "up": {
           "x": 0,
           "y": 0,
           "z": 1
          }
         },
         "domain": {
          "x": [
           0,
           1
          ],
          "y": [
           0,
           1
          ]
         },
         "xaxis": {
          "title": {
           "text": "bill_length_mm"
          },
          "type": "linear"
         },
         "yaxis": {
          "title": {
           "text": "flipper_length_mm"
          },
          "type": "linear"
         },
         "zaxis": {
          "title": {
           "text": "bill_depth_mm"
          },
          "type": "linear"
         }
        },
        "template": {
         "data": {
          "bar": [
           {
            "error_x": {
             "color": "#2a3f5f"
            },
            "error_y": {
             "color": "#2a3f5f"
            },
            "marker": {
             "line": {
              "color": "#E5ECF6",
              "width": 0.5
             },
             "pattern": {
              "fillmode": "overlay",
              "size": 10,
              "solidity": 0.2
             }
            },
            "type": "bar"
           }
          ],
          "barpolar": [
           {
            "marker": {
             "line": {
              "color": "#E5ECF6",
              "width": 0.5
             },
             "pattern": {
              "fillmode": "overlay",
              "size": 10,
              "solidity": 0.2
             }
            },
            "type": "barpolar"
           }
          ],
          "carpet": [
           {
            "aaxis": {
             "endlinecolor": "#2a3f5f",
             "gridcolor": "white",
             "linecolor": "white",
             "minorgridcolor": "white",
             "startlinecolor": "#2a3f5f"
            },
            "baxis": {
             "endlinecolor": "#2a3f5f",
             "gridcolor": "white",
             "linecolor": "white",
             "minorgridcolor": "white",
             "startlinecolor": "#2a3f5f"
            },
            "type": "carpet"
           }
          ],
          "choropleth": [
           {
            "colorbar": {
             "outlinewidth": 0,
             "ticks": ""
            },
            "type": "choropleth"
           }
          ],
          "contour": [
           {
            "colorbar": {
             "outlinewidth": 0,
             "ticks": ""
            },
            "colorscale": [
             [
              0,
              "#0d0887"
             ],
             [
              0.1111111111111111,
              "#46039f"
             ],
             [
              0.2222222222222222,
              "#7201a8"
             ],
             [
              0.3333333333333333,
              "#9c179e"
             ],
             [
              0.4444444444444444,
              "#bd3786"
             ],
             [
              0.5555555555555556,
              "#d8576b"
             ],
             [
              0.6666666666666666,
              "#ed7953"
             ],
             [
              0.7777777777777778,
              "#fb9f3a"
             ],
             [
              0.8888888888888888,
              "#fdca26"
             ],
             [
              1,
              "#f0f921"
             ]
            ],
            "type": "contour"
           }
          ],
          "contourcarpet": [
           {
            "colorbar": {
             "outlinewidth": 0,
             "ticks": ""
            },
            "type": "contourcarpet"
           }
          ],
          "heatmap": [
           {
            "colorbar": {
             "outlinewidth": 0,
             "ticks": ""
            },
            "colorscale": [
             [
              0,
              "#0d0887"
             ],
             [
              0.1111111111111111,
              "#46039f"
             ],
             [
              0.2222222222222222,
              "#7201a8"
             ],
             [
              0.3333333333333333,
              "#9c179e"
             ],
             [
              0.4444444444444444,
              "#bd3786"
             ],
             [
              0.5555555555555556,
              "#d8576b"
             ],
             [
              0.6666666666666666,
              "#ed7953"
             ],
             [
              0.7777777777777778,
              "#fb9f3a"
             ],
             [
              0.8888888888888888,
              "#fdca26"
             ],
             [
              1,
              "#f0f921"
             ]
            ],
            "type": "heatmap"
           }
          ],
          "heatmapgl": [
           {
            "colorbar": {
             "outlinewidth": 0,
             "ticks": ""
            },
            "colorscale": [
             [
              0,
              "#0d0887"
             ],
             [
              0.1111111111111111,
              "#46039f"
             ],
             [
              0.2222222222222222,
              "#7201a8"
             ],
             [
              0.3333333333333333,
              "#9c179e"
             ],
             [
              0.4444444444444444,
              "#bd3786"
             ],
             [
              0.5555555555555556,
              "#d8576b"
             ],
             [
              0.6666666666666666,
              "#ed7953"
             ],
             [
              0.7777777777777778,
              "#fb9f3a"
             ],
             [
              0.8888888888888888,
              "#fdca26"
             ],
             [
              1,
              "#f0f921"
             ]
            ],
            "type": "heatmapgl"
           }
          ],
          "histogram": [
           {
            "marker": {
             "pattern": {
              "fillmode": "overlay",
              "size": 10,
              "solidity": 0.2
             }
            },
            "type": "histogram"
           }
          ],
          "histogram2d": [
           {
            "colorbar": {
             "outlinewidth": 0,
             "ticks": ""
            },
            "colorscale": [
             [
              0,
              "#0d0887"
             ],
             [
              0.1111111111111111,
              "#46039f"
             ],
             [
              0.2222222222222222,
              "#7201a8"
             ],
             [
              0.3333333333333333,
              "#9c179e"
             ],
             [
              0.4444444444444444,
              "#bd3786"
             ],
             [
              0.5555555555555556,
              "#d8576b"
             ],
             [
              0.6666666666666666,
              "#ed7953"
             ],
             [
              0.7777777777777778,
              "#fb9f3a"
             ],
             [
              0.8888888888888888,
              "#fdca26"
             ],
             [
              1,
              "#f0f921"
             ]
            ],
            "type": "histogram2d"
           }
          ],
          "histogram2dcontour": [
           {
            "colorbar": {
             "outlinewidth": 0,
             "ticks": ""
            },
            "colorscale": [
             [
              0,
              "#0d0887"
             ],
             [
              0.1111111111111111,
              "#46039f"
             ],
             [
              0.2222222222222222,
              "#7201a8"
             ],
             [
              0.3333333333333333,
              "#9c179e"
             ],
             [
              0.4444444444444444,
              "#bd3786"
             ],
             [
              0.5555555555555556,
              "#d8576b"
             ],
             [
              0.6666666666666666,
              "#ed7953"
             ],
             [
              0.7777777777777778,
              "#fb9f3a"
             ],
             [
              0.8888888888888888,
              "#fdca26"
             ],
             [
              1,
              "#f0f921"
             ]
            ],
            "type": "histogram2dcontour"
           }
          ],
          "mesh3d": [
           {
            "colorbar": {
             "outlinewidth": 0,
             "ticks": ""
            },
            "type": "mesh3d"
           }
          ],
          "parcoords": [
           {
            "line": {
             "colorbar": {
              "outlinewidth": 0,
              "ticks": ""
             }
            },
            "type": "parcoords"
           }
          ],
          "pie": [
           {
            "automargin": true,
            "type": "pie"
           }
          ],
          "scatter": [
           {
            "fillpattern": {
             "fillmode": "overlay",
             "size": 10,
             "solidity": 0.2
            },
            "type": "scatter"
           }
          ],
          "scatter3d": [
           {
            "line": {
             "colorbar": {
              "outlinewidth": 0,
              "ticks": ""
             }
            },
            "marker": {
             "colorbar": {
              "outlinewidth": 0,
              "ticks": ""
             }
            },
            "type": "scatter3d"
           }
          ],
          "scattercarpet": [
           {
            "marker": {
             "colorbar": {
              "outlinewidth": 0,
              "ticks": ""
             }
            },
            "type": "scattercarpet"
           }
          ],
          "scattergeo": [
           {
            "marker": {
             "colorbar": {
              "outlinewidth": 0,
              "ticks": ""
             }
            },
            "type": "scattergeo"
           }
          ],
          "scattergl": [
           {
            "marker": {
             "colorbar": {
              "outlinewidth": 0,
              "ticks": ""
             }
            },
            "type": "scattergl"
           }
          ],
          "scattermapbox": [
           {
            "marker": {
             "colorbar": {
              "outlinewidth": 0,
              "ticks": ""
             }
            },
            "type": "scattermapbox"
           }
          ],
          "scatterpolar": [
           {
            "marker": {
             "colorbar": {
              "outlinewidth": 0,
              "ticks": ""
             }
            },
            "type": "scatterpolar"
           }
          ],
          "scatterpolargl": [
           {
            "marker": {
             "colorbar": {
              "outlinewidth": 0,
              "ticks": ""
             }
            },
            "type": "scatterpolargl"
           }
          ],
          "scatterternary": [
           {
            "marker": {
             "colorbar": {
              "outlinewidth": 0,
              "ticks": ""
             }
            },
            "type": "scatterternary"
           }
          ],
          "surface": [
           {
            "colorbar": {
             "outlinewidth": 0,
             "ticks": ""
            },
            "colorscale": [
             [
              0,
              "#0d0887"
             ],
             [
              0.1111111111111111,
              "#46039f"
             ],
             [
              0.2222222222222222,
              "#7201a8"
             ],
             [
              0.3333333333333333,
              "#9c179e"
             ],
             [
              0.4444444444444444,
              "#bd3786"
             ],
             [
              0.5555555555555556,
              "#d8576b"
             ],
             [
              0.6666666666666666,
              "#ed7953"
             ],
             [
              0.7777777777777778,
              "#fb9f3a"
             ],
             [
              0.8888888888888888,
              "#fdca26"
             ],
             [
              1,
              "#f0f921"
             ]
            ],
            "type": "surface"
           }
          ],
          "table": [
           {
            "cells": {
             "fill": {
              "color": "#EBF0F8"
             },
             "line": {
              "color": "white"
             }
            },
            "header": {
             "fill": {
              "color": "#C8D4E3"
             },
             "line": {
              "color": "white"
             }
            },
            "type": "table"
           }
          ]
         },
         "layout": {
          "annotationdefaults": {
           "arrowcolor": "#2a3f5f",
           "arrowhead": 0,
           "arrowwidth": 1
          },
          "autotypenumbers": "strict",
          "coloraxis": {
           "colorbar": {
            "outlinewidth": 0,
            "ticks": ""
           }
          },
          "colorscale": {
           "diverging": [
            [
             0,
             "#8e0152"
            ],
            [
             0.1,
             "#c51b7d"
            ],
            [
             0.2,
             "#de77ae"
            ],
            [
             0.3,
             "#f1b6da"
            ],
            [
             0.4,
             "#fde0ef"
            ],
            [
             0.5,
             "#f7f7f7"
            ],
            [
             0.6,
             "#e6f5d0"
            ],
            [
             0.7,
             "#b8e186"
            ],
            [
             0.8,
             "#7fbc41"
            ],
            [
             0.9,
             "#4d9221"
            ],
            [
             1,
             "#276419"
            ]
           ],
           "sequential": [
            [
             0,
             "#0d0887"
            ],
            [
             0.1111111111111111,
             "#46039f"
            ],
            [
             0.2222222222222222,
             "#7201a8"
            ],
            [
             0.3333333333333333,
             "#9c179e"
            ],
            [
             0.4444444444444444,
             "#bd3786"
            ],
            [
             0.5555555555555556,
             "#d8576b"
            ],
            [
             0.6666666666666666,
             "#ed7953"
            ],
            [
             0.7777777777777778,
             "#fb9f3a"
            ],
            [
             0.8888888888888888,
             "#fdca26"
            ],
            [
             1,
             "#f0f921"
            ]
           ],
           "sequentialminus": [
            [
             0,
             "#0d0887"
            ],
            [
             0.1111111111111111,
             "#46039f"
            ],
            [
             0.2222222222222222,
             "#7201a8"
            ],
            [
             0.3333333333333333,
             "#9c179e"
            ],
            [
             0.4444444444444444,
             "#bd3786"
            ],
            [
             0.5555555555555556,
             "#d8576b"
            ],
            [
             0.6666666666666666,
             "#ed7953"
            ],
            [
             0.7777777777777778,
             "#fb9f3a"
            ],
            [
             0.8888888888888888,
             "#fdca26"
            ],
            [
             1,
             "#f0f921"
            ]
           ]
          },
          "colorway": [
           "#636efa",
           "#EF553B",
           "#00cc96",
           "#ab63fa",
           "#FFA15A",
           "#19d3f3",
           "#FF6692",
           "#B6E880",
           "#FF97FF",
           "#FECB52"
          ],
          "font": {
           "color": "#2a3f5f"
          },
          "geo": {
           "bgcolor": "white",
           "lakecolor": "white",
           "landcolor": "#E5ECF6",
           "showlakes": true,
           "showland": true,
           "subunitcolor": "white"
          },
          "hoverlabel": {
           "align": "left"
          },
          "hovermode": "closest",
          "mapbox": {
           "style": "light"
          },
          "paper_bgcolor": "white",
          "plot_bgcolor": "#E5ECF6",
          "polar": {
           "angularaxis": {
            "gridcolor": "white",
            "linecolor": "white",
            "ticks": ""
           },
           "bgcolor": "#E5ECF6",
           "radialaxis": {
            "gridcolor": "white",
            "linecolor": "white",
            "ticks": ""
           }
          },
          "scene": {
           "xaxis": {
            "backgroundcolor": "#E5ECF6",
            "gridcolor": "white",
            "gridwidth": 2,
            "linecolor": "white",
            "showbackground": true,
            "ticks": "",
            "zerolinecolor": "white"
           },
           "yaxis": {
            "backgroundcolor": "#E5ECF6",
            "gridcolor": "white",
            "gridwidth": 2,
            "linecolor": "white",
            "showbackground": true,
            "ticks": "",
            "zerolinecolor": "white"
           },
           "zaxis": {
            "backgroundcolor": "#E5ECF6",
            "gridcolor": "white",
            "gridwidth": 2,
            "linecolor": "white",
            "showbackground": true,
            "ticks": "",
            "zerolinecolor": "white"
           }
          },
          "shapedefaults": {
           "line": {
            "color": "#2a3f5f"
           }
          },
          "ternary": {
           "aaxis": {
            "gridcolor": "white",
            "linecolor": "white",
            "ticks": ""
           },
           "baxis": {
            "gridcolor": "white",
            "linecolor": "white",
            "ticks": ""
           },
           "bgcolor": "#E5ECF6",
           "caxis": {
            "gridcolor": "white",
            "linecolor": "white",
            "ticks": ""
           }
          },
          "title": {
           "x": 0.05
          },
          "xaxis": {
           "automargin": true,
           "gridcolor": "white",
           "linecolor": "white",
           "ticks": "",
           "title": {
            "standoff": 15
           },
           "zerolinecolor": "white",
           "zerolinewidth": 2
          },
          "yaxis": {
           "automargin": true,
           "gridcolor": "white",
           "linecolor": "white",
           "ticks": "",
           "title": {
            "standoff": 15
           },
           "zerolinecolor": "white",
           "zerolinewidth": 2
          }
         }
        },
        "title": {
         "text": "Penguin Bill Length vs Bill Depth Over Time"
        },
        "width": 800
       }
      },
      "image/png": "[encoded data removed]",
      "text/html": [
       "<div>                            <div id=\"fe44c63d-a4d0-4f48-9850-8f7e9b85d32e\" class=\"plotly-graph-div\" style=\"height:600px; width:800px;\"></div>            <script type=\"text/javascript\">                require([\"plotly\"], function(Plotly) {                    window.PLOTLYENV=window.PLOTLYENV || {};                                    if (document.getElementById(\"fe44c63d-a4d0-4f48-9850-8f7e9b85d32e\")) {                    Plotly.newPlot(                        \"fe44c63d-a4d0-4f48-9850-8f7e9b85d32e\",                        [{\"customdata\":[[\"Torgersen\",\"male\"],[\"Torgersen\",\"female\"],[\"Torgersen\",\"female\"],[\"Torgersen\",\"female\"],[\"Torgersen\",\"male\"],[\"Torgersen\",\"female\"],[\"Torgersen\",\"male\"],[\"Torgersen\",\"female\"],[\"Torgersen\",\"male\"],[\"Torgersen\",\"male\"],[\"Torgersen\",\"female\"],[\"Torgersen\",\"female\"],[\"Torgersen\",\"male\"],[\"Torgersen\",\"female\"],[\"Torgersen\",\"male\"],[\"Biscoe\",\"female\"],[\"Biscoe\",\"male\"],[\"Biscoe\",\"female\"],[\"Biscoe\",\"male\"],[\"Biscoe\",\"male\"],[\"Biscoe\",\"female\"],[\"Biscoe\",\"male\"],[\"Biscoe\",\"female\"],[\"Biscoe\",\"female\"],[\"Biscoe\",\"male\"],[\"Dream\",\"female\"],[\"Dream\",\"male\"],[\"Dream\",\"female\"],[\"Dream\",\"male\"],[\"Dream\",\"female\"],[\"Dream\",\"male\"],[\"Dream\",\"male\"],[\"Dream\",\"female\"],[\"Dream\",\"female\"],[\"Dream\",\"male\"],[\"Dream\",\"female\"],[\"Dream\",\"male\"],[\"Dream\",\"female\"],[\"Dream\",\"male\"],[\"Dream\",\"female\"],[\"Dream\",\"male\"],[\"Dream\",\"male\"],[\"Dream\",\"female\"],[\"Dream\",\"male\"],[\"Biscoe\",\"female\"],[\"Biscoe\",\"male\"],[\"Biscoe\",\"female\"],[\"Biscoe\",\"male\"],[\"Biscoe\",\"female\"],[\"Biscoe\",\"male\"],[\"Biscoe\",\"female\"],[\"Biscoe\",\"male\"],[\"Biscoe\",\"female\"],[\"Biscoe\",\"male\"],[\"Biscoe\",\"female\"],[\"Biscoe\",\"male\"],[\"Biscoe\",\"female\"],[\"Biscoe\",\"male\"],[\"Biscoe\",\"female\"],[\"Biscoe\",\"male\"],[\"Biscoe\",\"female\"],[\"Biscoe\",\"male\"],[\"Torgersen\",\"female\"],[\"Torgersen\",\"male\"],[\"Torgersen\",\"female\"],[\"Torgersen\",\"male\"],[\"Torgersen\",\"female\"],[\"Torgersen\",\"male\"],[\"Torgersen\",\"female\"],[\"Torgersen\",\"male\"],[\"Torgersen\",\"female\"],[\"Torgersen\",\"male\"],[\"Torgersen\",\"female\"],[\"Torgersen\",\"male\"],[\"Torgersen\",\"female\"],[\"Torgersen\",\"male\"],[\"Torgersen\",\"female\"],[\"Torgersen\",\"male\"],[\"Dream\",\"female\"],[\"Dream\",\"male\"],[\"Dream\",\"male\"],[\"Dream\",\"female\"],[\"Dream\",\"male\"],[\"Dream\",\"female\"],[\"Dream\",\"female\"],[\"Dream\",\"male\"],[\"Dream\",\"female\"],[\"Dream\",\"male\"],[\"Dream\",\"female\"],[\"Dream\",\"male\"],[\"Dream\",\"female\"],[\"Dream\",\"male\"],[\"Dream\",\"female\"],[\"Dream\",\"male\"],[\"Biscoe\",\"female\"],[\"Biscoe\",\"male\"],[\"Biscoe\",\"female\"],[\"Biscoe\",\"male\"],[\"Biscoe\",\"female\"],[\"Biscoe\",\"male\"],[\"Biscoe\",\"female\"],[\"Biscoe\",\"male\"],[\"Biscoe\",\"female\"],[\"Biscoe\",\"male\"],[\"Biscoe\",\"female\"],[\"Biscoe\",\"male\"],[\"Biscoe\",\"female\"],[\"Biscoe\",\"male\"],[\"Biscoe\",\"female\"],[\"Biscoe\",\"male\"],[\"Torgersen\",\"female\"],[\"Torgersen\",\"male\"],[\"Torgersen\",\"female\"],[\"Torgersen\",\"male\"],[\"Torgersen\",\"female\"],[\"Torgersen\",\"male\"],[\"Torgersen\",\"female\"],[\"Torgersen\",\"male\"],[\"Torgersen\",\"female\"],[\"Torgersen\",\"male\"],[\"Torgersen\",\"female\"],[\"Torgersen\",\"male\"],[\"Torgersen\",\"female\"],[\"Torgersen\",\"male\"],[\"Torgersen\",\"female\"],[\"Torgersen\",\"male\"],[\"Dream\",\"female\"],[\"Dream\",\"male\"],[\"Dream\",\"female\"],[\"Dream\",\"male\"],[\"Dream\",\"female\"],[\"Dream\",\"male\"],[\"Dream\",\"female\"],[\"Dream\",\"male\"],[\"Dream\",\"female\"],[\"Dream\",\"male\"],[\"Dream\",\"female\"],[\"Dream\",\"male\"],[\"Dream\",\"female\"],[\"Dream\",\"male\"],[\"Dream\",\"male\"],[\"Dream\",\"female\"],[\"Dream\",\"female\"],[\"Dream\",\"male\"],[\"Dream\",\"female\"],[\"Dream\",\"male\"]],\"hovertemplate\":\"species=Adelie\\u003cbr\\u003ebill_length_mm=%{x}\\u003cbr\\u003eflipper_length_mm=%{y}\\u003cbr\\u003ebill_depth_mm=%{z}\\u003cbr\\u003eisland=%{customdata[0]}\\u003cbr\\u003esex=%{customdata[1]}\\u003cextra\\u003e\\u003c\\u002fextra\\u003e\",\"legendgroup\":\"Adelie\",\"marker\":{\"color\":\"#636efa\",\"symbol\":\"circle\"},\"mode\":\"markers\",\"name\":\"Adelie\",\"scene\":\"scene\",\"showlegend\":true,\"x\":[39.1,39.5,40.3,36.7,39.3,38.9,39.2,41.1,38.6,34.6,36.6,38.7,42.5,34.4,46.0,37.8,37.7,35.9,38.2,38.8,35.3,40.6,40.5,37.9,40.5,39.5,37.2,39.5,40.9,36.4,39.2,38.8,42.2,37.6,39.8,36.5,40.8,36.0,44.1,37.0,39.6,41.1,36.0,42.3,39.6,40.1,35.0,42.0,34.5,41.4,39.0,40.6,36.5,37.6,35.7,41.3,37.6,41.1,36.4,41.6,35.5,41.1,35.9,41.8,33.5,39.7,39.6,45.8,35.5,42.8,40.9,37.2,36.2,42.1,34.6,42.9,36.7,35.1,37.3,41.3,36.3,36.9,38.3,38.9,35.7,41.1,34.0,39.6,36.2,40.8,38.1,40.3,33.1,43.2,35.0,41.0,37.7,37.8,37.9,39.7,38.6,38.2,38.1,43.2,38.1,45.6,39.7,42.2,39.6,42.7,38.6,37.3,35.7,41.1,36.2,37.7,40.2,41.4,35.2,40.6,38.8,41.5,39.0,44.1,38.5,43.1,36.8,37.5,38.1,41.1,35.6,40.2,37.0,39.7,40.2,40.6,32.1,40.7,37.3,39.0,39.2,36.6,36.0,37.8,36.0,41.5],\"y\":[181.0,186.0,195.0,193.0,190.0,181.0,195.0,182.0,191.0,198.0,185.0,195.0,197.0,184.0,194.0,174.0,180.0,189.0,185.0,180.0,187.0,183.0,187.0,172.0,180.0,178.0,178.0,188.0,184.0,195.0,196.0,190.0,180.0,181.0,184.0,182.0,195.0,186.0,196.0,185.0,190.0,182.0,190.0,191.0,186.0,188.0,190.0,200.0,187.0,191.0,186.0,193.0,181.0,194.0,185.0,195.0,185.0,192.0,184.0,192.0,195.0,188.0,190.0,198.0,190.0,190.0,196.0,197.0,190.0,195.0,191.0,184.0,187.0,195.0,189.0,196.0,187.0,193.0,191.0,194.0,190.0,189.0,189.0,190.0,202.0,205.0,185.0,186.0,187.0,208.0,190.0,196.0,178.0,192.0,192.0,203.0,183.0,190.0,193.0,184.0,199.0,190.0,181.0,197.0,198.0,191.0,193.0,197.0,191.0,196.0,188.0,199.0,189.0,189.0,187.0,198.0,176.0,202.0,186.0,199.0,191.0,195.0,191.0,210.0,190.0,197.0,193.0,199.0,187.0,190.0,191.0,200.0,185.0,193.0,193.0,187.0,188.0,190.0,192.0,185.0,190.0,184.0,195.0,193.0,187.0,201.0],\"z\":[18.7,17.4,18.0,19.3,20.6,17.8,19.6,17.6,21.2,21.1,17.8,19.0,20.7,18.4,21.5,18.3,18.7,19.2,18.1,17.2,18.9,18.6,17.9,18.6,18.9,16.7,18.1,17.8,18.9,17.0,21.1,20.0,18.5,19.3,19.1,18.0,18.4,18.5,19.7,16.9,18.8,19.0,17.9,21.2,17.7,18.9,17.9,19.5,18.1,18.6,17.5,18.8,16.6,19.1,16.9,21.1,17.0,18.2,17.1,18.0,16.2,19.1,16.6,19.4,19.0,18.4,17.2,18.9,17.5,18.5,16.8,19.4,16.1,19.1,17.2,17.6,18.8,19.4,17.8,20.3,19.5,18.6,19.2,18.8,18.0,18.1,17.1,18.1,17.3,18.9,18.6,18.5,16.1,18.5,17.9,20.0,16.0,20.0,18.6,18.9,17.2,20.0,17.0,19.0,16.5,20.3,17.7,19.5,20.7,18.3,17.0,20.5,17.0,18.6,17.2,19.8,17.0,18.5,15.9,19.0,17.6,18.3,17.1,18.0,17.9,19.2,18.5,18.5,17.6,17.5,17.5,20.1,16.5,17.9,17.1,17.2,15.5,17.0,16.8,18.7,18.6,18.4,17.8,18.1,17.1,18.5],\"type\":\"scatter3d\"},{\"customdata\":[[\"Dream\",\"female\"],[\"Dream\",\"male\"],[\"Dream\",\"male\"],[\"Dream\",\"female\"],[\"Dream\",\"male\"],[\"Dream\",\"female\"],[\"Dream\",\"female\"],[\"Dream\",\"male\"],[\"Dream\",\"female\"],[\"Dream\",\"male\"],[\"Dream\",\"female\"],[\"Dream\",\"male\"],[\"Dream\",\"female\"],[\"Dream\",\"male\"],[\"Dream\",\"female\"],[\"Dream\",\"male\"],[\"Dream\",\"male\"],[\"Dream\",\"female\"],[\"Dream\",\"female\"],[\"Dream\",\"male\"],[\"Dream\",\"female\"],[\"Dream\",\"male\"],[\"Dream\",\"female\"],[\"Dream\",\"male\"],[\"Dream\",\"female\"],[\"Dream\",\"male\"],[\"Dream\",\"female\"],[\"Dream\",\"male\"],[\"Dream\",\"female\"],[\"Dream\",\"male\"],[\"Dream\",\"female\"],[\"Dream\",\"male\"],[\"Dream\",\"female\"],[\"Dream\",\"male\"],[\"Dream\",\"male\"],[\"Dream\",\"female\"],[\"Dream\",\"female\"],[\"Dream\",\"male\"],[\"Dream\",\"female\"],[\"Dream\",\"male\"],[\"Dream\",\"male\"],[\"Dream\",\"female\"],[\"Dream\",\"male\"],[\"Dream\",\"female\"],[\"Dream\",\"female\"],[\"Dream\",\"male\"],[\"Dream\",\"female\"],[\"Dream\",\"male\"],[\"Dream\",\"male\"],[\"Dream\",\"female\"],[\"Dream\",\"female\"],[\"Dream\",\"male\"],[\"Dream\",\"female\"],[\"Dream\",\"male\"],[\"Dream\",\"female\"],[\"Dream\",\"male\"],[\"Dream\",\"female\"],[\"Dream\",\"male\"],[\"Dream\",\"male\"],[\"Dream\",\"female\"],[\"Dream\",\"male\"],[\"Dream\",\"female\"],[\"Dream\",\"female\"],[\"Dream\",\"male\"],[\"Dream\",\"female\"],[\"Dream\",\"male\"],[\"Dream\",\"male\"],[\"Dream\",\"female\"]],\"hovertemplate\":\"species=Chinstrap\\u003cbr\\u003ebill_length_mm=%{x}\\u003cbr\\u003eflipper_length_mm=%{y}\\u003cbr\\u003ebill_depth_mm=%{z}\\u003cbr\\u003eisland=%{customdata[0]}\\u003cbr\\u003esex=%{customdata[1]}\\u003cextra\\u003e\\u003c\\u002fextra\\u003e\",\"legendgroup\":\"Chinstrap\",\"marker\":{\"color\":\"#EF553B\",\"symbol\":\"circle\"},\"mode\":\"markers\",\"name\":\"Chinstrap\",\"scene\":\"scene\",\"showlegend\":true,\"x\":[46.5,50.0,51.3,45.4,52.7,45.2,46.1,51.3,46.0,51.3,46.6,51.7,47.0,52.0,45.9,50.5,50.3,58.0,46.4,49.2,42.4,48.5,43.2,50.6,46.7,52.0,50.5,49.5,46.4,52.8,40.9,54.2,42.5,51.0,49.7,47.5,47.6,52.0,46.9,53.5,49.0,46.2,50.9,45.5,50.9,50.8,50.1,49.0,51.5,49.8,48.1,51.4,45.7,50.7,42.5,52.2,45.2,49.3,50.2,45.6,51.9,46.8,45.7,55.8,43.5,49.6,50.8,50.2],\"y\":[192.0,196.0,193.0,188.0,197.0,198.0,178.0,197.0,195.0,198.0,193.0,194.0,185.0,201.0,190.0,201.0,197.0,181.0,190.0,195.0,181.0,191.0,187.0,193.0,195.0,197.0,200.0,200.0,191.0,205.0,187.0,201.0,187.0,203.0,195.0,199.0,195.0,210.0,192.0,205.0,210.0,187.0,196.0,196.0,196.0,201.0,190.0,212.0,187.0,198.0,199.0,201.0,193.0,203.0,187.0,197.0,191.0,203.0,202.0,194.0,206.0,189.0,195.0,207.0,202.0,193.0,210.0,198.0],\"z\":[17.9,19.5,19.2,18.7,19.8,17.8,18.2,18.2,18.9,19.9,17.8,20.3,17.3,18.1,17.1,19.6,20.0,17.8,18.6,18.2,17.3,17.5,16.6,19.4,17.9,19.0,18.4,19.0,17.8,20.0,16.6,20.8,16.7,18.8,18.6,16.8,18.3,20.7,16.6,19.9,19.5,17.5,19.1,17.0,17.9,18.5,17.9,19.6,18.7,17.3,16.4,19.0,17.3,19.7,17.3,18.8,16.6,19.9,18.8,19.4,19.5,16.5,17.0,19.8,18.1,18.2,19.0,18.7],\"type\":\"scatter3d\"}],                        {\"template\":{\"data\":{\"histogram2dcontour\":[{\"type\":\"histogram2dcontour\",\"colorbar\":{\"outlinewidth\":0,\"ticks\":\"\"},\"colorscale\":[[0.0,\"#0d0887\"],[0.1111111111111111,\"#46039f\"],[0.2222222222222222,\"#7201a8\"],[0.3333333333333333,\"#9c179e\"],[0.4444444444444444,\"#bd3786\"],[0.5555555555555556,\"#d8576b\"],[0.6666666666666666,\"#ed7953\"],[0.7777777777777778,\"#fb9f3a\"],[0.8888888888888888,\"#fdca26\"],[1.0,\"#f0f921\"]]}],\"choropleth\":[{\"type\":\"choropleth\",\"colorbar\":{\"outlinewidth\":0,\"ticks\":\"\"}}],\"histogram2d\":[{\"type\":\"histogram2d\",\"colorbar\":{\"outlinewidth\":0,\"ticks\":\"\"},\"colorscale\":[[0.0,\"#0d0887\"],[0.1111111111111111,\"#46039f\"],[0.2222222222222222,\"#7201a8\"],[0.3333333333333333,\"#9c179e\"],[0.4444444444444444,\"#bd3786\"],[0.5555555555555556,\"#d8576b\"],[0.6666666666666666,\"#ed7953\"],[0.7777777777777778,\"#fb9f3a\"],[0.8888888888888888,\"#fdca26\"],[1.0,\"#f0f921\"]]}],\"heatmap\":[{\"type\":\"heatmap\",\"colorbar\":{\"outlinewidth\":0,\"ticks\":\"\"},\"colorscale\":[[0.0,\"#0d0887\"],[0.1111111111111111,\"#46039f\"],[0.2222222222222222,\"#7201a8\"],[0.3333333333333333,\"#9c179e\"],[0.4444444444444444,\"#bd3786\"],[0.5555555555555556,\"#d8576b\"],[0.6666666666666666,\"#ed7953\"],[0.7777777777777778,\"#fb9f3a\"],[0.8888888888888888,\"#fdca26\"],[1.0,\"#f0f921\"]]}],\"heatmapgl\":[{\"type\":\"heatmapgl\",\"colorbar\":{\"outlinewidth\":0,\"ticks\":\"\"},\"colorscale\":[[0.0,\"#0d0887\"],[0.1111111111111111,\"#46039f\"],[0.2222222222222222,\"#7201a8\"],[0.3333333333333333,\"#9c179e\"],[0.4444444444444444,\"#bd3786\"],[0.5555555555555556,\"#d8576b\"],[0.6666666666666666,\"#ed7953\"],[0.7777777777777778,\"#fb9f3a\"],[0.8888888888888888,\"#fdca26\"],[1.0,\"#f0f921\"]]}],\"contourcarpet\":[{\"type\":\"contourcarpet\",\"colorbar\":{\"outlinewidth\":0,\"ticks\":\"\"}}],\"contour\":[{\"type\":\"contour\",\"colorbar\":{\"outlinewidth\":0,\"ticks\":\"\"},\"colorscale\":[[0.0,\"#0d0887\"],[0.1111111111111111,\"#46039f\"],[0.2222222222222222,\"#7201a8\"],[0.3333333333333333,\"#9c179e\"],[0.4444444444444444,\"#bd3786\"],[0.5555555555555556,\"#d8576b\"],[0.6666666666666666,\"#ed7953\"],[0.7777777777777778,\"#fb9f3a\"],[0.8888888888888888,\"#fdca26\"],[1.0,\"#f0f921\"]]}],\"surface\":[{\"type\":\"surface\",\"colorbar\":{\"outlinewidth\":0,\"ticks\":\"\"},\"colorscale\":[[0.0,\"#0d0887\"],[0.1111111111111111,\"#46039f\"],[0.2222222222222222,\"#7201a8\"],[0.3333333333333333,\"#9c179e\"],[0.4444444444444444,\"#bd3786\"],[0.5555555555555556,\"#d8576b\"],[0.6666666666666666,\"#ed7953\"],[0.7777777777777778,\"#fb9f3a\"],[0.8888888888888888,\"#fdca26\"],[1.0,\"#f0f921\"]]}],\"mesh3d\":[{\"type\":\"mesh3d\",\"colorbar\":{\"outlinewidth\":0,\"ticks\":\"\"}}],\"scatter\":[{\"fillpattern\":{\"fillmode\":\"overlay\",\"size\":10,\"solidity\":0.2},\"type\":\"scatter\"}],\"parcoords\":[{\"type\":\"parcoords\",\"line\":{\"colorbar\":{\"outlinewidth\":0,\"ticks\":\"\"}}}],\"scatterpolargl\":[{\"type\":\"scatterpolargl\",\"marker\":{\"colorbar\":{\"outlinewidth\":0,\"ticks\":\"\"}}}],\"bar\":[{\"error_x\":{\"color\":\"#2a3f5f\"},\"error_y\":{\"color\":\"#2a3f5f\"},\"marker\":{\"line\":{\"color\":\"#E5ECF6\",\"width\":0.5},\"pattern\":{\"fillmode\":\"overlay\",\"size\":10,\"solidity\":0.2}},\"type\":\"bar\"}],\"scattergeo\":[{\"type\":\"scattergeo\",\"marker\":{\"colorbar\":{\"outlinewidth\":0,\"ticks\":\"\"}}}],\"scatterpolar\":[{\"type\":\"scatterpolar\",\"marker\":{\"colorbar\":{\"outlinewidth\":0,\"ticks\":\"\"}}}],\"histogram\":[{\"marker\":{\"pattern\":{\"fillmode\":\"overlay\",\"size\":10,\"solidity\":0.2}},\"type\":\"histogram\"}],\"scattergl\":[{\"type\":\"scattergl\",\"marker\":{\"colorbar\":{\"outlinewidth\":0,\"ticks\":\"\"}}}],\"scatter3d\":[{\"type\":\"scatter3d\",\"line\":{\"colorbar\":{\"outlinewidth\":0,\"ticks\":\"\"}},\"marker\":{\"colorbar\":{\"outlinewidth\":0,\"ticks\":\"\"}}}],\"scattermapbox\":[{\"type\":\"scattermapbox\",\"marker\":{\"colorbar\":{\"outlinewidth\":0,\"ticks\":\"\"}}}],\"scatterternary\":[{\"type\":\"scatterternary\",\"marker\":{\"colorbar\":{\"outlinewidth\":0,\"ticks\":\"\"}}}],\"scattercarpet\":[{\"type\":\"scattercarpet\",\"marker\":{\"colorbar\":{\"outlinewidth\":0,\"ticks\":\"\"}}}],\"carpet\":[{\"aaxis\":{\"endlinecolor\":\"#2a3f5f\",\"gridcolor\":\"white\",\"linecolor\":\"white\",\"minorgridcolor\":\"white\",\"startlinecolor\":\"#2a3f5f\"},\"baxis\":{\"endlinecolor\":\"#2a3f5f\",\"gridcolor\":\"white\",\"linecolor\":\"white\",\"minorgridcolor\":\"white\",\"startlinecolor\":\"#2a3f5f\"},\"type\":\"carpet\"}],\"table\":[{\"cells\":{\"fill\":{\"color\":\"#EBF0F8\"},\"line\":{\"color\":\"white\"}},\"header\":{\"fill\":{\"color\":\"#C8D4E3\"},\"line\":{\"color\":\"white\"}},\"type\":\"table\"}],\"barpolar\":[{\"marker\":{\"line\":{\"color\":\"#E5ECF6\",\"width\":0.5},\"pattern\":{\"fillmode\":\"overlay\",\"size\":10,\"solidity\":0.2}},\"type\":\"barpolar\"}],\"pie\":[{\"automargin\":true,\"type\":\"pie\"}]},\"layout\":{\"autotypenumbers\":\"strict\",\"colorway\":[\"#636efa\",\"#EF553B\",\"#00cc96\",\"#ab63fa\",\"#FFA15A\",\"#19d3f3\",\"#FF6692\",\"#B6E880\",\"#FF97FF\",\"#FECB52\"],\"font\":{\"color\":\"#2a3f5f\"},\"hovermode\":\"closest\",\"hoverlabel\":{\"align\":\"left\"},\"paper_bgcolor\":\"white\",\"plot_bgcolor\":\"#E5ECF6\",\"polar\":{\"bgcolor\":\"#E5ECF6\",\"angularaxis\":{\"gridcolor\":\"white\",\"linecolor\":\"white\",\"ticks\":\"\"},\"radialaxis\":{\"gridcolor\":\"white\",\"linecolor\":\"white\",\"ticks\":\"\"}},\"ternary\":{\"bgcolor\":\"#E5ECF6\",\"aaxis\":{\"gridcolor\":\"white\",\"linecolor\":\"white\",\"ticks\":\"\"},\"baxis\":{\"gridcolor\":\"white\",\"linecolor\":\"white\",\"ticks\":\"\"},\"caxis\":{\"gridcolor\":\"white\",\"linecolor\":\"white\",\"ticks\":\"\"}},\"coloraxis\":{\"colorbar\":{\"outlinewidth\":0,\"ticks\":\"\"}},\"colorscale\":{\"sequential\":[[0.0,\"#0d0887\"],[0.1111111111111111,\"#46039f\"],[0.2222222222222222,\"#7201a8\"],[0.3333333333333333,\"#9c179e\"],[0.4444444444444444,\"#bd3786\"],[0.5555555555555556,\"#d8576b\"],[0.6666666666666666,\"#ed7953\"],[0.7777777777777778,\"#fb9f3a\"],[0.8888888888888888,\"#fdca26\"],[1.0,\"#f0f921\"]],\"sequentialminus\":[[0.0,\"#0d0887\"],[0.1111111111111111,\"#46039f\"],[0.2222222222222222,\"#7201a8\"],[0.3333333333333333,\"#9c179e\"],[0.4444444444444444,\"#bd3786\"],[0.5555555555555556,\"#d8576b\"],[0.6666666666666666,\"#ed7953\"],[0.7777777777777778,\"#fb9f3a\"],[0.8888888888888888,\"#fdca26\"],[1.0,\"#f0f921\"]],\"diverging\":[[0,\"#8e0152\"],[0.1,\"#c51b7d\"],[0.2,\"#de77ae\"],[0.3,\"#f1b6da\"],[0.4,\"#fde0ef\"],[0.5,\"#f7f7f7\"],[0.6,\"#e6f5d0\"],[0.7,\"#b8e186\"],[0.8,\"#7fbc41\"],[0.9,\"#4d9221\"],[1,\"#276419\"]]},\"xaxis\":{\"gridcolor\":\"white\",\"linecolor\":\"white\",\"ticks\":\"\",\"title\":{\"standoff\":15},\"zerolinecolor\":\"white\",\"automargin\":true,\"zerolinewidth\":2},\"yaxis\":{\"gridcolor\":\"white\",\"linecolor\":\"white\",\"ticks\":\"\",\"title\":{\"standoff\":15},\"zerolinecolor\":\"white\",\"automargin\":true,\"zerolinewidth\":2},\"scene\":{\"xaxis\":{\"backgroundcolor\":\"#E5ECF6\",\"gridcolor\":\"white\",\"linecolor\":\"white\",\"showbackground\":true,\"ticks\":\"\",\"zerolinecolor\":\"white\",\"gridwidth\":2},\"yaxis\":{\"backgroundcolor\":\"#E5ECF6\",\"gridcolor\":\"white\",\"linecolor\":\"white\",\"showbackground\":true,\"ticks\":\"\",\"zerolinecolor\":\"white\",\"gridwidth\":2},\"zaxis\":{\"backgroundcolor\":\"#E5ECF6\",\"gridcolor\":\"white\",\"linecolor\":\"white\",\"showbackground\":true,\"ticks\":\"\",\"zerolinecolor\":\"white\",\"gridwidth\":2}},\"shapedefaults\":{\"line\":{\"color\":\"#2a3f5f\"}},\"annotationdefaults\":{\"arrowcolor\":\"#2a3f5f\",\"arrowhead\":0,\"arrowwidth\":1},\"geo\":{\"bgcolor\":\"white\",\"landcolor\":\"#E5ECF6\",\"subunitcolor\":\"white\",\"showland\":true,\"showlakes\":true,\"lakecolor\":\"white\"},\"title\":{\"x\":0.05},\"mapbox\":{\"style\":\"light\"}}},\"scene\":{\"domain\":{\"x\":[0.0,1.0],\"y\":[0.0,1.0]},\"xaxis\":{\"title\":{\"text\":\"bill_length_mm\"}},\"yaxis\":{\"title\":{\"text\":\"flipper_length_mm\"}},\"zaxis\":{\"title\":{\"text\":\"bill_depth_mm\"}}},\"legend\":{\"title\":{\"text\":\"species\"},\"tracegroupgap\":0},\"title\":{\"text\":\"Penguin Bill Length vs Bill Depth Over Time\"},\"width\":800,\"height\":600},                        {\"responsive\": true}                    ).then(function(){\n",
       "                            \n",
       "var gd = document.getElementById('fe44c63d-a4d0-4f48-9850-8f7e9b85d32e');\n",
       "var x = new MutationObserver(function (mutations, observer) {{\n",
       "        var display = window.getComputedStyle(gd).display;\n",
       "        if (!display || display === 'none') {{\n",
       "            console.log([gd, 'removed!']);\n",
       "            Plotly.purge(gd);\n",
       "            observer.disconnect();\n",
       "        }}\n",
       "}});\n",
       "\n",
       "// Listen for the removal of the full notebook cells\n",
       "var notebookContainer = gd.closest('#notebook-container');\n",
       "if (notebookContainer) {{\n",
       "    x.observe(notebookContainer, {childList: true});\n",
       "}}\n",
       "\n",
       "// Listen for the clearing of the current output cell\n",
       "var outputEl = gd.closest('.output');\n",
       "if (outputEl) {{\n",
       "    x.observe(outputEl, {childList: true});\n",
       "}}\n",
       "\n",
       "                        })                };                });            </script>        </div>"
      ]
     },
     "metadata": {},
     "output_type": "display_data"
    }
   ],
   "source": [
    "\n",
    "# Assuming your DataFrame is named 'df'\n",
    "fig = px.scatter_3d(filtered_df_2, x='bill_length_mm', y='flipper_length_mm', z='bill_depth_mm', color='species', hover_data=['island', 'sex'], title='Penguin Bill Length vs Bill Depth Over Time')\n",
    "\n",
    "# Update the layout to adjust the size\n",
    "fig.update_layout(\n",
    "    width=800,  # width in pixels\n",
    "    height=600,  # height in pixels\n",
    ")\n",
    "\n",
    "# Show the interactive plot\n",
    "fig.show()"
   ]
  },
  {
   "cell_type": "code",
   "execution_count": 15,
   "id": "a6d03618-ecef-4791-a702-475108741dea",
   "metadata": {},
   "outputs": [
    {
     "data": {
      "application/vnd.plotly.v1+json": {
       "config": {
        "plotlyServerURL": "https://plot.ly"
       },
       "data": [
        {
         "customdata": [
          [
           "Torgersen",
           "female"
          ],
          [
           "Torgersen",
           "female"
          ],
          [
           "Torgersen",
           "female"
          ],
          [
           "Torgersen",
           "female"
          ],
          [
           "Torgersen",
           "female"
          ],
          [
           "Torgersen",
           "female"
          ],
          [
           "Torgersen",
           "female"
          ],
          [
           "Torgersen",
           "female"
          ],
          [
           "Biscoe",
           "female"
          ],
          [
           "Biscoe",
           "female"
          ],
          [
           "Biscoe",
           "female"
          ],
          [
           "Biscoe",
           "female"
          ],
          [
           "Biscoe",
           "female"
          ],
          [
           "Dream",
           "female"
          ],
          [
           "Dream",
           "female"
          ],
          [
           "Dream",
           "female"
          ],
          [
           "Dream",
           "female"
          ],
          [
           "Dream",
           "female"
          ],
          [
           "Dream",
           "female"
          ],
          [
           "Dream",
           "female"
          ],
          [
           "Dream",
           "female"
          ],
          [
           "Dream",
           "female"
          ],
          [
           "Biscoe",
           "female"
          ],
          [
           "Biscoe",
           "female"
          ],
          [
           "Biscoe",
           "female"
          ],
          [
           "Biscoe",
           "female"
          ],
          [
           "Biscoe",
           "female"
          ],
          [
           "Biscoe",
           "female"
          ],
          [
           "Biscoe",
           "female"
          ],
          [
           "Biscoe",
           "female"
          ],
          [
           "Biscoe",
           "female"
          ],
          [
           "Torgersen",
           "female"
          ],
          [
           "Torgersen",
           "female"
          ],
          [
           "Torgersen",
           "female"
          ],
          [
           "Torgersen",
           "female"
          ],
          [
           "Torgersen",
           "female"
          ],
          [
           "Torgersen",
           "female"
          ],
          [
           "Torgersen",
           "female"
          ],
          [
           "Torgersen",
           "female"
          ],
          [
           "Dream",
           "female"
          ],
          [
           "Dream",
           "female"
          ],
          [
           "Dream",
           "female"
          ],
          [
           "Dream",
           "female"
          ],
          [
           "Dream",
           "female"
          ],
          [
           "Dream",
           "female"
          ],
          [
           "Dream",
           "female"
          ],
          [
           "Dream",
           "female"
          ],
          [
           "Biscoe",
           "female"
          ],
          [
           "Biscoe",
           "female"
          ],
          [
           "Biscoe",
           "female"
          ],
          [
           "Biscoe",
           "female"
          ],
          [
           "Biscoe",
           "female"
          ],
          [
           "Biscoe",
           "female"
          ],
          [
           "Biscoe",
           "female"
          ],
          [
           "Biscoe",
           "female"
          ],
          [
           "Torgersen",
           "female"
          ],
          [
           "Torgersen",
           "female"
          ],
          [
           "Torgersen",
           "female"
          ],
          [
           "Torgersen",
           "female"
          ],
          [
           "Torgersen",
           "female"
          ],
          [
           "Torgersen",
           "female"
          ],
          [
           "Torgersen",
           "female"
          ],
          [
           "Torgersen",
           "female"
          ],
          [
           "Dream",
           "female"
          ],
          [
           "Dream",
           "female"
          ],
          [
           "Dream",
           "female"
          ],
          [
           "Dream",
           "female"
          ],
          [
           "Dream",
           "female"
          ],
          [
           "Dream",
           "female"
          ],
          [
           "Dream",
           "female"
          ],
          [
           "Dream",
           "female"
          ],
          [
           "Dream",
           "female"
          ],
          [
           "Dream",
           "female"
          ]
         ],
         "hovertemplate": "species=Adelie<br>sex=%{customdata[1]}<br>bill_length_mm=%{x}<br>flipper_length_mm=%{y}<br>bill_depth_mm=%{z}<br>island=%{customdata[0]}<extra></extra>",
         "legendgroup": "Adelie",
         "marker": {
          "color": "#636efa",
          "symbol": "circle"
         },
         "mode": "markers",
         "name": "Adelie",
         "scene": "scene",
         "showlegend": true,
         "type": "scatter3d",
         "x": [
          39.5,
          40.3,
          36.7,
          38.9,
          41.1,
          36.6,
          38.7,
          34.4,
          37.8,
          35.9,
          35.3,
          40.5,
          37.9,
          39.5,
          39.5,
          36.4,
          42.2,
          37.6,
          36.5,
          36,
          37,
          36,
          39.6,
          35,
          34.5,
          39,
          36.5,
          35.7,
          37.6,
          36.4,
          35.5,
          35.9,
          33.5,
          39.6,
          35.5,
          40.9,
          36.2,
          34.6,
          36.7,
          37.3,
          36.9,
          38.9,
          35.7,
          34,
          36.2,
          38.1,
          33.1,
          35,
          37.7,
          37.9,
          38.6,
          38.1,
          38.1,
          39.7,
          39.6,
          38.6,
          35.7,
          36.2,
          40.2,
          35.2,
          38.8,
          39,
          38.5,
          36.8,
          38.1,
          35.6,
          37,
          40.2,
          32.1,
          37.3,
          36.6,
          36,
          36
         ],
         "y": [
          186,
          195,
          193,
          181,
          182,
          185,
          195,
          184,
          174,
          189,
          187,
          187,
          172,
          178,
          188,
          195,
          180,
          181,
          182,
          186,
          185,
          190,
          186,
          190,
          187,
          186,
          181,
          185,
          185,
          184,
          195,
          190,
          190,
          196,
          190,
          191,
          187,
          189,
          187,
          191,
          189,
          190,
          202,
          185,
          187,
          190,
          178,
          192,
          183,
          193,
          199,
          181,
          198,
          193,
          191,
          188,
          189,
          187,
          176,
          186,
          191,
          191,
          190,
          193,
          187,
          191,
          185,
          193,
          188,
          192,
          184,
          195,
          187
         ],
         "z": [
          17.4,
          18,
          19.3,
          17.8,
          17.6,
          17.8,
          19,
          18.4,
          18.3,
          19.2,
          18.9,
          17.9,
          18.6,
          16.7,
          17.8,
          17,
          18.5,
          19.3,
          18,
          18.5,
          16.9,
          17.9,
          17.7,
          17.9,
          18.1,
          17.5,
          16.6,
          16.9,
          17,
          17.1,
          16.2,
          16.6,
          19,
          17.2,
          17.5,
          16.8,
          16.1,
          17.2,
          18.8,
          17.8,
          18.6,
          18.8,
          18,
          17.1,
          17.3,
          18.6,
          16.1,
          17.9,
          16,
          18.6,
          17.2,
          17,
          16.5,
          17.7,
          20.7,
          17,
          17,
          17.2,
          17,
          15.9,
          17.6,
          17.1,
          17.9,
          18.5,
          17.6,
          17.5,
          16.5,
          17.1,
          15.5,
          16.8,
          18.4,
          17.8,
          17.1
         ]
        },
        {
         "customdata": [
          [
           "Dream",
           "female"
          ],
          [
           "Dream",
           "female"
          ],
          [
           "Dream",
           "female"
          ],
          [
           "Dream",
           "female"
          ],
          [
           "Dream",
           "female"
          ],
          [
           "Dream",
           "female"
          ],
          [
           "Dream",
           "female"
          ],
          [
           "Dream",
           "female"
          ],
          [
           "Dream",
           "female"
          ],
          [
           "Dream",
           "female"
          ],
          [
           "Dream",
           "female"
          ],
          [
           "Dream",
           "female"
          ],
          [
           "Dream",
           "female"
          ],
          [
           "Dream",
           "female"
          ],
          [
           "Dream",
           "female"
          ],
          [
           "Dream",
           "female"
          ],
          [
           "Dream",
           "female"
          ],
          [
           "Dream",
           "female"
          ],
          [
           "Dream",
           "female"
          ],
          [
           "Dream",
           "female"
          ],
          [
           "Dream",
           "female"
          ],
          [
           "Dream",
           "female"
          ],
          [
           "Dream",
           "female"
          ],
          [
           "Dream",
           "female"
          ],
          [
           "Dream",
           "female"
          ],
          [
           "Dream",
           "female"
          ],
          [
           "Dream",
           "female"
          ],
          [
           "Dream",
           "female"
          ],
          [
           "Dream",
           "female"
          ],
          [
           "Dream",
           "female"
          ],
          [
           "Dream",
           "female"
          ],
          [
           "Dream",
           "female"
          ],
          [
           "Dream",
           "female"
          ],
          [
           "Dream",
           "female"
          ]
         ],
         "hovertemplate": "species=Chinstrap<br>sex=%{customdata[1]}<br>bill_length_mm=%{x}<br>flipper_length_mm=%{y}<br>bill_depth_mm=%{z}<br>island=%{customdata[0]}<extra></extra>",
         "legendgroup": "Chinstrap",
         "marker": {
          "color": "#EF553B",
          "symbol": "circle"
         },
         "mode": "markers",
         "name": "Chinstrap",
         "scene": "scene",
         "showlegend": true,
         "type": "scatter3d",
         "x": [
          46.5,
          45.4,
          45.2,
          46.1,
          46,
          46.6,
          47,
          45.9,
          58,
          46.4,
          42.4,
          43.2,
          46.7,
          50.5,
          46.4,
          40.9,
          42.5,
          47.5,
          47.6,
          46.9,
          46.2,
          45.5,
          50.9,
          50.1,
          49.8,
          48.1,
          45.7,
          42.5,
          45.2,
          45.6,
          46.8,
          45.7,
          43.5,
          50.2
         ],
         "y": [
          192,
          188,
          198,
          178,
          195,
          193,
          185,
          190,
          181,
          190,
          181,
          187,
          195,
          200,
          191,
          187,
          187,
          199,
          195,
          192,
          187,
          196,
          196,
          190,
          198,
          199,
          193,
          187,
          191,
          194,
          189,
          195,
          202,
          198
         ],
         "z": [
          17.9,
          18.7,
          17.8,
          18.2,
          18.9,
          17.8,
          17.3,
          17.1,
          17.8,
          18.6,
          17.3,
          16.6,
          17.9,
          18.4,
          17.8,
          16.6,
          16.7,
          16.8,
          18.3,
          16.6,
          17.5,
          17,
          17.9,
          17.9,
          17.3,
          16.4,
          17.3,
          17.3,
          16.6,
          19.4,
          16.5,
          17,
          18.1,
          18.7
         ]
        }
       ],
       "frames": [
        {
         "data": [
          {
           "customdata": [
            [
             "Torgersen",
             "male"
            ],
            [
             "Torgersen",
             "male"
            ],
            [
             "Torgersen",
             "male"
            ],
            [
             "Torgersen",
             "male"
            ],
            [
             "Torgersen",
             "male"
            ],
            [
             "Torgersen",
             "male"
            ],
            [
             "Torgersen",
             "male"
            ],
            [
             "Biscoe",
             "male"
            ],
            [
             "Biscoe",
             "male"
            ],
            [
             "Biscoe",
             "male"
            ],
            [
             "Biscoe",
             "male"
            ],
            [
             "Biscoe",
             "male"
            ],
            [
             "Dream",
             "male"
            ],
            [
             "Dream",
             "male"
            ],
            [
             "Dream",
             "male"
            ],
            [
             "Dream",
             "male"
            ],
            [
             "Dream",
             "male"
            ],
            [
             "Dream",
             "male"
            ],
            [
             "Dream",
             "male"
            ],
            [
             "Dream",
             "male"
            ],
            [
             "Dream",
             "male"
            ],
            [
             "Dream",
             "male"
            ],
            [
             "Biscoe",
             "male"
            ],
            [
             "Biscoe",
             "male"
            ],
            [
             "Biscoe",
             "male"
            ],
            [
             "Biscoe",
             "male"
            ],
            [
             "Biscoe",
             "male"
            ],
            [
             "Biscoe",
             "male"
            ],
            [
             "Biscoe",
             "male"
            ],
            [
             "Biscoe",
             "male"
            ],
            [
             "Biscoe",
             "male"
            ],
            [
             "Torgersen",
             "male"
            ],
            [
             "Torgersen",
             "male"
            ],
            [
             "Torgersen",
             "male"
            ],
            [
             "Torgersen",
             "male"
            ],
            [
             "Torgersen",
             "male"
            ],
            [
             "Torgersen",
             "male"
            ],
            [
             "Torgersen",
             "male"
            ],
            [
             "Torgersen",
             "male"
            ],
            [
             "Dream",
             "male"
            ],
            [
             "Dream",
             "male"
            ],
            [
             "Dream",
             "male"
            ],
            [
             "Dream",
             "male"
            ],
            [
             "Dream",
             "male"
            ],
            [
             "Dream",
             "male"
            ],
            [
             "Dream",
             "male"
            ],
            [
             "Dream",
             "male"
            ],
            [
             "Biscoe",
             "male"
            ],
            [
             "Biscoe",
             "male"
            ],
            [
             "Biscoe",
             "male"
            ],
            [
             "Biscoe",
             "male"
            ],
            [
             "Biscoe",
             "male"
            ],
            [
             "Biscoe",
             "male"
            ],
            [
             "Biscoe",
             "male"
            ],
            [
             "Biscoe",
             "male"
            ],
            [
             "Torgersen",
             "male"
            ],
            [
             "Torgersen",
             "male"
            ],
            [
             "Torgersen",
             "male"
            ],
            [
             "Torgersen",
             "male"
            ],
            [
             "Torgersen",
             "male"
            ],
            [
             "Torgersen",
             "male"
            ],
            [
             "Torgersen",
             "male"
            ],
            [
             "Torgersen",
             "male"
            ],
            [
             "Dream",
             "male"
            ],
            [
             "Dream",
             "male"
            ],
            [
             "Dream",
             "male"
            ],
            [
             "Dream",
             "male"
            ],
            [
             "Dream",
             "male"
            ],
            [
             "Dream",
             "male"
            ],
            [
             "Dream",
             "male"
            ],
            [
             "Dream",
             "male"
            ],
            [
             "Dream",
             "male"
            ],
            [
             "Dream",
             "male"
            ]
           ],
           "hovertemplate": "species=Adelie<br>sex=%{customdata[1]}<br>bill_length_mm=%{x}<br>flipper_length_mm=%{y}<br>bill_depth_mm=%{z}<br>island=%{customdata[0]}<extra></extra>",
           "legendgroup": "Adelie",
           "marker": {
            "color": "#636efa",
            "symbol": "circle"
           },
           "mode": "markers",
           "name": "Adelie",
           "scene": "scene",
           "showlegend": true,
           "type": "scatter3d",
           "x": [
            39.1,
            39.3,
            39.2,
            38.6,
            34.6,
            42.5,
            46,
            37.7,
            38.2,
            38.8,
            40.6,
            40.5,
            37.2,
            40.9,
            39.2,
            38.8,
            39.8,
            40.8,
            44.1,
            39.6,
            41.1,
            42.3,
            40.1,
            42,
            41.4,
            40.6,
            37.6,
            41.3,
            41.1,
            41.6,
            41.1,
            41.8,
            39.7,
            45.8,
            42.8,
            37.2,
            42.1,
            42.9,
            35.1,
            41.3,
            36.3,
            38.3,
            41.1,
            39.6,
            40.8,
            40.3,
            43.2,
            41,
            37.8,
            39.7,
            38.2,
            43.2,
            45.6,
            42.2,
            42.7,
            37.3,
            41.1,
            37.7,
            41.4,
            40.6,
            41.5,
            44.1,
            43.1,
            37.5,
            41.1,
            40.2,
            39.7,
            40.6,
            40.7,
            39,
            39.2,
            37.8,
            41.5
           ],
           "y": [
            181,
            190,
            195,
            191,
            198,
            197,
            194,
            180,
            185,
            180,
            183,
            180,
            178,
            184,
            196,
            190,
            184,
            195,
            196,
            190,
            182,
            191,
            188,
            200,
            191,
            193,
            194,
            195,
            192,
            192,
            188,
            198,
            190,
            197,
            195,
            184,
            195,
            196,
            193,
            194,
            190,
            189,
            205,
            186,
            208,
            196,
            192,
            203,
            190,
            184,
            190,
            197,
            191,
            197,
            196,
            199,
            189,
            198,
            202,
            199,
            195,
            210,
            197,
            199,
            190,
            200,
            193,
            187,
            190,
            185,
            190,
            193,
            201
           ],
           "z": [
            18.7,
            20.6,
            19.6,
            21.2,
            21.1,
            20.7,
            21.5,
            18.7,
            18.1,
            17.2,
            18.6,
            18.9,
            18.1,
            18.9,
            21.1,
            20,
            19.1,
            18.4,
            19.7,
            18.8,
            19,
            21.2,
            18.9,
            19.5,
            18.6,
            18.8,
            19.1,
            21.1,
            18.2,
            18,
            19.1,
            19.4,
            18.4,
            18.9,
            18.5,
            19.4,
            19.1,
            17.6,
            19.4,
            20.3,
            19.5,
            19.2,
            18.1,
            18.1,
            18.9,
            18.5,
            18.5,
            20,
            20,
            18.9,
            20,
            19,
            20.3,
            19.5,
            18.3,
            20.5,
            18.6,
            19.8,
            18.5,
            19,
            18.3,
            18,
            19.2,
            18.5,
            17.5,
            20.1,
            17.9,
            17.2,
            17,
            18.7,
            18.6,
            18.1,
            18.5
           ]
          },
          {
           "customdata": [
            [
             "Dream",
             "male"
            ],
            [
             "Dream",
             "male"
            ],
            [
             "Dream",
             "male"
            ],
            [
             "Dream",
             "male"
            ],
            [
             "Dream",
             "male"
            ],
            [
             "Dream",
             "male"
            ],
            [
             "Dream",
             "male"
            ],
            [
             "Dream",
             "male"
            ],
            [
             "Dream",
             "male"
            ],
            [
             "Dream",
             "male"
            ],
            [
             "Dream",
             "male"
            ],
            [
             "Dream",
             "male"
            ],
            [
             "Dream",
             "male"
            ],
            [
             "Dream",
             "male"
            ],
            [
             "Dream",
             "male"
            ],
            [
             "Dream",
             "male"
            ],
            [
             "Dream",
             "male"
            ],
            [
             "Dream",
             "male"
            ],
            [
             "Dream",
             "male"
            ],
            [
             "Dream",
             "male"
            ],
            [
             "Dream",
             "male"
            ],
            [
             "Dream",
             "male"
            ],
            [
             "Dream",
             "male"
            ],
            [
             "Dream",
             "male"
            ],
            [
             "Dream",
             "male"
            ],
            [
             "Dream",
             "male"
            ],
            [
             "Dream",
             "male"
            ],
            [
             "Dream",
             "male"
            ],
            [
             "Dream",
             "male"
            ],
            [
             "Dream",
             "male"
            ],
            [
             "Dream",
             "male"
            ],
            [
             "Dream",
             "male"
            ],
            [
             "Dream",
             "male"
            ],
            [
             "Dream",
             "male"
            ]
           ],
           "hovertemplate": "species=Chinstrap<br>sex=%{customdata[1]}<br>bill_length_mm=%{x}<br>flipper_length_mm=%{y}<br>bill_depth_mm=%{z}<br>island=%{customdata[0]}<extra></extra>",
           "legendgroup": "Chinstrap",
           "marker": {
            "color": "#EF553B",
            "symbol": "circle"
           },
           "mode": "markers",
           "name": "Chinstrap",
           "scene": "scene",
           "showlegend": true,
           "type": "scatter3d",
           "x": [
            50,
            51.3,
            52.7,
            51.3,
            51.3,
            51.7,
            52,
            50.5,
            50.3,
            49.2,
            48.5,
            50.6,
            52,
            49.5,
            52.8,
            54.2,
            51,
            49.7,
            52,
            53.5,
            49,
            50.9,
            50.8,
            49,
            51.5,
            51.4,
            50.7,
            52.2,
            49.3,
            50.2,
            51.9,
            55.8,
            49.6,
            50.8
           ],
           "y": [
            196,
            193,
            197,
            197,
            198,
            194,
            201,
            201,
            197,
            195,
            191,
            193,
            197,
            200,
            205,
            201,
            203,
            195,
            210,
            205,
            210,
            196,
            201,
            212,
            187,
            201,
            203,
            197,
            203,
            202,
            206,
            207,
            193,
            210
           ],
           "z": [
            19.5,
            19.2,
            19.8,
            18.2,
            19.9,
            20.3,
            18.1,
            19.6,
            20,
            18.2,
            17.5,
            19.4,
            19,
            19,
            20,
            20.8,
            18.8,
            18.6,
            20.7,
            19.9,
            19.5,
            19.1,
            18.5,
            19.6,
            18.7,
            19,
            19.7,
            18.8,
            19.9,
            18.8,
            19.5,
            19.8,
            18.2,
            19
           ]
          }
         ],
         "name": "male"
        },
        {
         "data": [
          {
           "customdata": [
            [
             "Torgersen",
             "female"
            ],
            [
             "Torgersen",
             "female"
            ],
            [
             "Torgersen",
             "female"
            ],
            [
             "Torgersen",
             "female"
            ],
            [
             "Torgersen",
             "female"
            ],
            [
             "Torgersen",
             "female"
            ],
            [
             "Torgersen",
             "female"
            ],
            [
             "Torgersen",
             "female"
            ],
            [
             "Biscoe",
             "female"
            ],
            [
             "Biscoe",
             "female"
            ],
            [
             "Biscoe",
             "female"
            ],
            [
             "Biscoe",
             "female"
            ],
            [
             "Biscoe",
             "female"
            ],
            [
             "Dream",
             "female"
            ],
            [
             "Dream",
             "female"
            ],
            [
             "Dream",
             "female"
            ],
            [
             "Dream",
             "female"
            ],
            [
             "Dream",
             "female"
            ],
            [
             "Dream",
             "female"
            ],
            [
             "Dream",
             "female"
            ],
            [
             "Dream",
             "female"
            ],
            [
             "Dream",
             "female"
            ],
            [
             "Biscoe",
             "female"
            ],
            [
             "Biscoe",
             "female"
            ],
            [
             "Biscoe",
             "female"
            ],
            [
             "Biscoe",
             "female"
            ],
            [
             "Biscoe",
             "female"
            ],
            [
             "Biscoe",
             "female"
            ],
            [
             "Biscoe",
             "female"
            ],
            [
             "Biscoe",
             "female"
            ],
            [
             "Biscoe",
             "female"
            ],
            [
             "Torgersen",
             "female"
            ],
            [
             "Torgersen",
             "female"
            ],
            [
             "Torgersen",
             "female"
            ],
            [
             "Torgersen",
             "female"
            ],
            [
             "Torgersen",
             "female"
            ],
            [
             "Torgersen",
             "female"
            ],
            [
             "Torgersen",
             "female"
            ],
            [
             "Torgersen",
             "female"
            ],
            [
             "Dream",
             "female"
            ],
            [
             "Dream",
             "female"
            ],
            [
             "Dream",
             "female"
            ],
            [
             "Dream",
             "female"
            ],
            [
             "Dream",
             "female"
            ],
            [
             "Dream",
             "female"
            ],
            [
             "Dream",
             "female"
            ],
            [
             "Dream",
             "female"
            ],
            [
             "Biscoe",
             "female"
            ],
            [
             "Biscoe",
             "female"
            ],
            [
             "Biscoe",
             "female"
            ],
            [
             "Biscoe",
             "female"
            ],
            [
             "Biscoe",
             "female"
            ],
            [
             "Biscoe",
             "female"
            ],
            [
             "Biscoe",
             "female"
            ],
            [
             "Biscoe",
             "female"
            ],
            [
             "Torgersen",
             "female"
            ],
            [
             "Torgersen",
             "female"
            ],
            [
             "Torgersen",
             "female"
            ],
            [
             "Torgersen",
             "female"
            ],
            [
             "Torgersen",
             "female"
            ],
            [
             "Torgersen",
             "female"
            ],
            [
             "Torgersen",
             "female"
            ],
            [
             "Torgersen",
             "female"
            ],
            [
             "Dream",
             "female"
            ],
            [
             "Dream",
             "female"
            ],
            [
             "Dream",
             "female"
            ],
            [
             "Dream",
             "female"
            ],
            [
             "Dream",
             "female"
            ],
            [
             "Dream",
             "female"
            ],
            [
             "Dream",
             "female"
            ],
            [
             "Dream",
             "female"
            ],
            [
             "Dream",
             "female"
            ],
            [
             "Dream",
             "female"
            ]
           ],
           "hovertemplate": "species=Adelie<br>sex=%{customdata[1]}<br>bill_length_mm=%{x}<br>flipper_length_mm=%{y}<br>bill_depth_mm=%{z}<br>island=%{customdata[0]}<extra></extra>",
           "legendgroup": "Adelie",
           "marker": {
            "color": "#636efa",
            "symbol": "circle"
           },
           "mode": "markers",
           "name": "Adelie",
           "scene": "scene",
           "showlegend": true,
           "type": "scatter3d",
           "x": [
            39.5,
            40.3,
            36.7,
            38.9,
            41.1,
            36.6,
            38.7,
            34.4,
            37.8,
            35.9,
            35.3,
            40.5,
            37.9,
            39.5,
            39.5,
            36.4,
            42.2,
            37.6,
            36.5,
            36,
            37,
            36,
            39.6,
            35,
            34.5,
            39,
            36.5,
            35.7,
            37.6,
            36.4,
            35.5,
            35.9,
            33.5,
            39.6,
            35.5,
            40.9,
            36.2,
            34.6,
            36.7,
            37.3,
            36.9,
            38.9,
            35.7,
            34,
            36.2,
            38.1,
            33.1,
            35,
            37.7,
            37.9,
            38.6,
            38.1,
            38.1,
            39.7,
            39.6,
            38.6,
            35.7,
            36.2,
            40.2,
            35.2,
            38.8,
            39,
            38.5,
            36.8,
            38.1,
            35.6,
            37,
            40.2,
            32.1,
            37.3,
            36.6,
            36,
            36
           ],
           "y": [
            186,
            195,
            193,
            181,
            182,
            185,
            195,
            184,
            174,
            189,
            187,
            187,
            172,
            178,
            188,
            195,
            180,
            181,
            182,
            186,
            185,
            190,
            186,
            190,
            187,
            186,
            181,
            185,
            185,
            184,
            195,
            190,
            190,
            196,
            190,
            191,
            187,
            189,
            187,
            191,
            189,
            190,
            202,
            185,
            187,
            190,
            178,
            192,
            183,
            193,
            199,
            181,
            198,
            193,
            191,
            188,
            189,
            187,
            176,
            186,
            191,
            191,
            190,
            193,
            187,
            191,
            185,
            193,
            188,
            192,
            184,
            195,
            187
           ],
           "z": [
            17.4,
            18,
            19.3,
            17.8,
            17.6,
            17.8,
            19,
            18.4,
            18.3,
            19.2,
            18.9,
            17.9,
            18.6,
            16.7,
            17.8,
            17,
            18.5,
            19.3,
            18,
            18.5,
            16.9,
            17.9,
            17.7,
            17.9,
            18.1,
            17.5,
            16.6,
            16.9,
            17,
            17.1,
            16.2,
            16.6,
            19,
            17.2,
            17.5,
            16.8,
            16.1,
            17.2,
            18.8,
            17.8,
            18.6,
            18.8,
            18,
            17.1,
            17.3,
            18.6,
            16.1,
            17.9,
            16,
            18.6,
            17.2,
            17,
            16.5,
            17.7,
            20.7,
            17,
            17,
            17.2,
            17,
            15.9,
            17.6,
            17.1,
            17.9,
            18.5,
            17.6,
            17.5,
            16.5,
            17.1,
            15.5,
            16.8,
            18.4,
            17.8,
            17.1
           ]
          },
          {
           "customdata": [
            [
             "Dream",
             "female"
            ],
            [
             "Dream",
             "female"
            ],
            [
             "Dream",
             "female"
            ],
            [
             "Dream",
             "female"
            ],
            [
             "Dream",
             "female"
            ],
            [
             "Dream",
             "female"
            ],
            [
             "Dream",
             "female"
            ],
            [
             "Dream",
             "female"
            ],
            [
             "Dream",
             "female"
            ],
            [
             "Dream",
             "female"
            ],
            [
             "Dream",
             "female"
            ],
            [
             "Dream",
             "female"
            ],
            [
             "Dream",
             "female"
            ],
            [
             "Dream",
             "female"
            ],
            [
             "Dream",
             "female"
            ],
            [
             "Dream",
             "female"
            ],
            [
             "Dream",
             "female"
            ],
            [
             "Dream",
             "female"
            ],
            [
             "Dream",
             "female"
            ],
            [
             "Dream",
             "female"
            ],
            [
             "Dream",
             "female"
            ],
            [
             "Dream",
             "female"
            ],
            [
             "Dream",
             "female"
            ],
            [
             "Dream",
             "female"
            ],
            [
             "Dream",
             "female"
            ],
            [
             "Dream",
             "female"
            ],
            [
             "Dream",
             "female"
            ],
            [
             "Dream",
             "female"
            ],
            [
             "Dream",
             "female"
            ],
            [
             "Dream",
             "female"
            ],
            [
             "Dream",
             "female"
            ],
            [
             "Dream",
             "female"
            ],
            [
             "Dream",
             "female"
            ],
            [
             "Dream",
             "female"
            ]
           ],
           "hovertemplate": "species=Chinstrap<br>sex=%{customdata[1]}<br>bill_length_mm=%{x}<br>flipper_length_mm=%{y}<br>bill_depth_mm=%{z}<br>island=%{customdata[0]}<extra></extra>",
           "legendgroup": "Chinstrap",
           "marker": {
            "color": "#EF553B",
            "symbol": "circle"
           },
           "mode": "markers",
           "name": "Chinstrap",
           "scene": "scene",
           "showlegend": true,
           "type": "scatter3d",
           "x": [
            46.5,
            45.4,
            45.2,
            46.1,
            46,
            46.6,
            47,
            45.9,
            58,
            46.4,
            42.4,
            43.2,
            46.7,
            50.5,
            46.4,
            40.9,
            42.5,
            47.5,
            47.6,
            46.9,
            46.2,
            45.5,
            50.9,
            50.1,
            49.8,
            48.1,
            45.7,
            42.5,
            45.2,
            45.6,
            46.8,
            45.7,
            43.5,
            50.2
           ],
           "y": [
            192,
            188,
            198,
            178,
            195,
            193,
            185,
            190,
            181,
            190,
            181,
            187,
            195,
            200,
            191,
            187,
            187,
            199,
            195,
            192,
            187,
            196,
            196,
            190,
            198,
            199,
            193,
            187,
            191,
            194,
            189,
            195,
            202,
            198
           ],
           "z": [
            17.9,
            18.7,
            17.8,
            18.2,
            18.9,
            17.8,
            17.3,
            17.1,
            17.8,
            18.6,
            17.3,
            16.6,
            17.9,
            18.4,
            17.8,
            16.6,
            16.7,
            16.8,
            18.3,
            16.6,
            17.5,
            17,
            17.9,
            17.9,
            17.3,
            16.4,
            17.3,
            17.3,
            16.6,
            19.4,
            16.5,
            17,
            18.1,
            18.7
           ]
          }
         ],
         "name": "female"
        }
       ],
       "layout": {
        "height": 600,
        "legend": {
         "title": {
          "text": "species"
         },
         "tracegroupgap": 0
        },
        "scene": {
         "aspectmode": "auto",
         "aspectratio": {
          "x": 1,
          "y": 1,
          "z": 1
         },
         "camera": {
          "center": {
           "x": 0,
           "y": 0,
           "z": 0
          },
          "eye": {
           "x": 0.11980746595227021,
           "y": 2.5714464433879267,
           "z": -0.2368124750544571
          },
          "projection": {
           "type": "perspective"
          },
          "up": {
           "x": 0,
           "y": 0,
           "z": 1
          }
         },
         "domain": {
          "x": [
           0,
           1
          ],
          "y": [
           0,
           1
          ]
         },
         "xaxis": {
          "title": {
           "text": "bill_length_mm"
          },
          "type": "linear"
         },
         "yaxis": {
          "title": {
           "text": "flipper_length_mm"
          },
          "type": "linear"
         },
         "zaxis": {
          "title": {
           "text": "bill_depth_mm"
          },
          "type": "linear"
         }
        },
        "sliders": [
         {
          "active": 1,
          "currentvalue": {
           "prefix": "sex="
          },
          "len": 0.9,
          "pad": {
           "b": 10,
           "t": 60
          },
          "steps": [
           {
            "args": [
             [
              "male"
             ],
             {
              "frame": {
               "duration": 0,
               "redraw": true
              },
              "fromcurrent": true,
              "mode": "immediate",
              "transition": {
               "duration": 0,
               "easing": "linear"
              }
             }
            ],
            "label": "male",
            "method": "animate"
           },
           {
            "args": [
             [
              "female"
             ],
             {
              "frame": {
               "duration": 0,
               "redraw": true
              },
              "fromcurrent": true,
              "mode": "immediate",
              "transition": {
               "duration": 0,
               "easing": "linear"
              }
             }
            ],
            "label": "female",
            "method": "animate"
           }
          ],
          "x": 0.1,
          "xanchor": "left",
          "y": 0,
          "yanchor": "top"
         }
        ],
        "template": {
         "data": {
          "bar": [
           {
            "error_x": {
             "color": "#2a3f5f"
            },
            "error_y": {
             "color": "#2a3f5f"
            },
            "marker": {
             "line": {
              "color": "#E5ECF6",
              "width": 0.5
             },
             "pattern": {
              "fillmode": "overlay",
              "size": 10,
              "solidity": 0.2
             }
            },
            "type": "bar"
           }
          ],
          "barpolar": [
           {
            "marker": {
             "line": {
              "color": "#E5ECF6",
              "width": 0.5
             },
             "pattern": {
              "fillmode": "overlay",
              "size": 10,
              "solidity": 0.2
             }
            },
            "type": "barpolar"
           }
          ],
          "carpet": [
           {
            "aaxis": {
             "endlinecolor": "#2a3f5f",
             "gridcolor": "white",
             "linecolor": "white",
             "minorgridcolor": "white",
             "startlinecolor": "#2a3f5f"
            },
            "baxis": {
             "endlinecolor": "#2a3f5f",
             "gridcolor": "white",
             "linecolor": "white",
             "minorgridcolor": "white",
             "startlinecolor": "#2a3f5f"
            },
            "type": "carpet"
           }
          ],
          "choropleth": [
           {
            "colorbar": {
             "outlinewidth": 0,
             "ticks": ""
            },
            "type": "choropleth"
           }
          ],
          "contour": [
           {
            "colorbar": {
             "outlinewidth": 0,
             "ticks": ""
            },
            "colorscale": [
             [
              0,
              "#0d0887"
             ],
             [
              0.1111111111111111,
              "#46039f"
             ],
             [
              0.2222222222222222,
              "#7201a8"
             ],
             [
              0.3333333333333333,
              "#9c179e"
             ],
             [
              0.4444444444444444,
              "#bd3786"
             ],
             [
              0.5555555555555556,
              "#d8576b"
             ],
             [
              0.6666666666666666,
              "#ed7953"
             ],
             [
              0.7777777777777778,
              "#fb9f3a"
             ],
             [
              0.8888888888888888,
              "#fdca26"
             ],
             [
              1,
              "#f0f921"
             ]
            ],
            "type": "contour"
           }
          ],
          "contourcarpet": [
           {
            "colorbar": {
             "outlinewidth": 0,
             "ticks": ""
            },
            "type": "contourcarpet"
           }
          ],
          "heatmap": [
           {
            "colorbar": {
             "outlinewidth": 0,
             "ticks": ""
            },
            "colorscale": [
             [
              0,
              "#0d0887"
             ],
             [
              0.1111111111111111,
              "#46039f"
             ],
             [
              0.2222222222222222,
              "#7201a8"
             ],
             [
              0.3333333333333333,
              "#9c179e"
             ],
             [
              0.4444444444444444,
              "#bd3786"
             ],
             [
              0.5555555555555556,
              "#d8576b"
             ],
             [
              0.6666666666666666,
              "#ed7953"
             ],
             [
              0.7777777777777778,
              "#fb9f3a"
             ],
             [
              0.8888888888888888,
              "#fdca26"
             ],
             [
              1,
              "#f0f921"
             ]
            ],
            "type": "heatmap"
           }
          ],
          "heatmapgl": [
           {
            "colorbar": {
             "outlinewidth": 0,
             "ticks": ""
            },
            "colorscale": [
             [
              0,
              "#0d0887"
             ],
             [
              0.1111111111111111,
              "#46039f"
             ],
             [
              0.2222222222222222,
              "#7201a8"
             ],
             [
              0.3333333333333333,
              "#9c179e"
             ],
             [
              0.4444444444444444,
              "#bd3786"
             ],
             [
              0.5555555555555556,
              "#d8576b"
             ],
             [
              0.6666666666666666,
              "#ed7953"
             ],
             [
              0.7777777777777778,
              "#fb9f3a"
             ],
             [
              0.8888888888888888,
              "#fdca26"
             ],
             [
              1,
              "#f0f921"
             ]
            ],
            "type": "heatmapgl"
           }
          ],
          "histogram": [
           {
            "marker": {
             "pattern": {
              "fillmode": "overlay",
              "size": 10,
              "solidity": 0.2
             }
            },
            "type": "histogram"
           }
          ],
          "histogram2d": [
           {
            "colorbar": {
             "outlinewidth": 0,
             "ticks": ""
            },
            "colorscale": [
             [
              0,
              "#0d0887"
             ],
             [
              0.1111111111111111,
              "#46039f"
             ],
             [
              0.2222222222222222,
              "#7201a8"
             ],
             [
              0.3333333333333333,
              "#9c179e"
             ],
             [
              0.4444444444444444,
              "#bd3786"
             ],
             [
              0.5555555555555556,
              "#d8576b"
             ],
             [
              0.6666666666666666,
              "#ed7953"
             ],
             [
              0.7777777777777778,
              "#fb9f3a"
             ],
             [
              0.8888888888888888,
              "#fdca26"
             ],
             [
              1,
              "#f0f921"
             ]
            ],
            "type": "histogram2d"
           }
          ],
          "histogram2dcontour": [
           {
            "colorbar": {
             "outlinewidth": 0,
             "ticks": ""
            },
            "colorscale": [
             [
              0,
              "#0d0887"
             ],
             [
              0.1111111111111111,
              "#46039f"
             ],
             [
              0.2222222222222222,
              "#7201a8"
             ],
             [
              0.3333333333333333,
              "#9c179e"
             ],
             [
              0.4444444444444444,
              "#bd3786"
             ],
             [
              0.5555555555555556,
              "#d8576b"
             ],
             [
              0.6666666666666666,
              "#ed7953"
             ],
             [
              0.7777777777777778,
              "#fb9f3a"
             ],
             [
              0.8888888888888888,
              "#fdca26"
             ],
             [
              1,
              "#f0f921"
             ]
            ],
            "type": "histogram2dcontour"
           }
          ],
          "mesh3d": [
           {
            "colorbar": {
             "outlinewidth": 0,
             "ticks": ""
            },
            "type": "mesh3d"
           }
          ],
          "parcoords": [
           {
            "line": {
             "colorbar": {
              "outlinewidth": 0,
              "ticks": ""
             }
            },
            "type": "parcoords"
           }
          ],
          "pie": [
           {
            "automargin": true,
            "type": "pie"
           }
          ],
          "scatter": [
           {
            "fillpattern": {
             "fillmode": "overlay",
             "size": 10,
             "solidity": 0.2
            },
            "type": "scatter"
           }
          ],
          "scatter3d": [
           {
            "line": {
             "colorbar": {
              "outlinewidth": 0,
              "ticks": ""
             }
            },
            "marker": {
             "colorbar": {
              "outlinewidth": 0,
              "ticks": ""
             }
            },
            "type": "scatter3d"
           }
          ],
          "scattercarpet": [
           {
            "marker": {
             "colorbar": {
              "outlinewidth": 0,
              "ticks": ""
             }
            },
            "type": "scattercarpet"
           }
          ],
          "scattergeo": [
           {
            "marker": {
             "colorbar": {
              "outlinewidth": 0,
              "ticks": ""
             }
            },
            "type": "scattergeo"
           }
          ],
          "scattergl": [
           {
            "marker": {
             "colorbar": {
              "outlinewidth": 0,
              "ticks": ""
             }
            },
            "type": "scattergl"
           }
          ],
          "scattermapbox": [
           {
            "marker": {
             "colorbar": {
              "outlinewidth": 0,
              "ticks": ""
             }
            },
            "type": "scattermapbox"
           }
          ],
          "scatterpolar": [
           {
            "marker": {
             "colorbar": {
              "outlinewidth": 0,
              "ticks": ""
             }
            },
            "type": "scatterpolar"
           }
          ],
          "scatterpolargl": [
           {
            "marker": {
             "colorbar": {
              "outlinewidth": 0,
              "ticks": ""
             }
            },
            "type": "scatterpolargl"
           }
          ],
          "scatterternary": [
           {
            "marker": {
             "colorbar": {
              "outlinewidth": 0,
              "ticks": ""
             }
            },
            "type": "scatterternary"
           }
          ],
          "surface": [
           {
            "colorbar": {
             "outlinewidth": 0,
             "ticks": ""
            },
            "colorscale": [
             [
              0,
              "#0d0887"
             ],
             [
              0.1111111111111111,
              "#46039f"
             ],
             [
              0.2222222222222222,
              "#7201a8"
             ],
             [
              0.3333333333333333,
              "#9c179e"
             ],
             [
              0.4444444444444444,
              "#bd3786"
             ],
             [
              0.5555555555555556,
              "#d8576b"
             ],
             [
              0.6666666666666666,
              "#ed7953"
             ],
             [
              0.7777777777777778,
              "#fb9f3a"
             ],
             [
              0.8888888888888888,
              "#fdca26"
             ],
             [
              1,
              "#f0f921"
             ]
            ],
            "type": "surface"
           }
          ],
          "table": [
           {
            "cells": {
             "fill": {
              "color": "#EBF0F8"
             },
             "line": {
              "color": "white"
             }
            },
            "header": {
             "fill": {
              "color": "#C8D4E3"
             },
             "line": {
              "color": "white"
             }
            },
            "type": "table"
           }
          ]
         },
         "layout": {
          "annotationdefaults": {
           "arrowcolor": "#2a3f5f",
           "arrowhead": 0,
           "arrowwidth": 1
          },
          "autotypenumbers": "strict",
          "coloraxis": {
           "colorbar": {
            "outlinewidth": 0,
            "ticks": ""
           }
          },
          "colorscale": {
           "diverging": [
            [
             0,
             "#8e0152"
            ],
            [
             0.1,
             "#c51b7d"
            ],
            [
             0.2,
             "#de77ae"
            ],
            [
             0.3,
             "#f1b6da"
            ],
            [
             0.4,
             "#fde0ef"
            ],
            [
             0.5,
             "#f7f7f7"
            ],
            [
             0.6,
             "#e6f5d0"
            ],
            [
             0.7,
             "#b8e186"
            ],
            [
             0.8,
             "#7fbc41"
            ],
            [
             0.9,
             "#4d9221"
            ],
            [
             1,
             "#276419"
            ]
           ],
           "sequential": [
            [
             0,
             "#0d0887"
            ],
            [
             0.1111111111111111,
             "#46039f"
            ],
            [
             0.2222222222222222,
             "#7201a8"
            ],
            [
             0.3333333333333333,
             "#9c179e"
            ],
            [
             0.4444444444444444,
             "#bd3786"
            ],
            [
             0.5555555555555556,
             "#d8576b"
            ],
            [
             0.6666666666666666,
             "#ed7953"
            ],
            [
             0.7777777777777778,
             "#fb9f3a"
            ],
            [
             0.8888888888888888,
             "#fdca26"
            ],
            [
             1,
             "#f0f921"
            ]
           ],
           "sequentialminus": [
            [
             0,
             "#0d0887"
            ],
            [
             0.1111111111111111,
             "#46039f"
            ],
            [
             0.2222222222222222,
             "#7201a8"
            ],
            [
             0.3333333333333333,
             "#9c179e"
            ],
            [
             0.4444444444444444,
             "#bd3786"
            ],
            [
             0.5555555555555556,
             "#d8576b"
            ],
            [
             0.6666666666666666,
             "#ed7953"
            ],
            [
             0.7777777777777778,
             "#fb9f3a"
            ],
            [
             0.8888888888888888,
             "#fdca26"
            ],
            [
             1,
             "#f0f921"
            ]
           ]
          },
          "colorway": [
           "#636efa",
           "#EF553B",
           "#00cc96",
           "#ab63fa",
           "#FFA15A",
           "#19d3f3",
           "#FF6692",
           "#B6E880",
           "#FF97FF",
           "#FECB52"
          ],
          "font": {
           "color": "#2a3f5f"
          },
          "geo": {
           "bgcolor": "white",
           "lakecolor": "white",
           "landcolor": "#E5ECF6",
           "showlakes": true,
           "showland": true,
           "subunitcolor": "white"
          },
          "hoverlabel": {
           "align": "left"
          },
          "hovermode": "closest",
          "mapbox": {
           "style": "light"
          },
          "paper_bgcolor": "white",
          "plot_bgcolor": "#E5ECF6",
          "polar": {
           "angularaxis": {
            "gridcolor": "white",
            "linecolor": "white",
            "ticks": ""
           },
           "bgcolor": "#E5ECF6",
           "radialaxis": {
            "gridcolor": "white",
            "linecolor": "white",
            "ticks": ""
           }
          },
          "scene": {
           "xaxis": {
            "backgroundcolor": "#E5ECF6",
            "gridcolor": "white",
            "gridwidth": 2,
            "linecolor": "white",
            "showbackground": true,
            "ticks": "",
            "zerolinecolor": "white"
           },
           "yaxis": {
            "backgroundcolor": "#E5ECF6",
            "gridcolor": "white",
            "gridwidth": 2,
            "linecolor": "white",
            "showbackground": true,
            "ticks": "",
            "zerolinecolor": "white"
           },
           "zaxis": {
            "backgroundcolor": "#E5ECF6",
            "gridcolor": "white",
            "gridwidth": 2,
            "linecolor": "white",
            "showbackground": true,
            "ticks": "",
            "zerolinecolor": "white"
           }
          },
          "shapedefaults": {
           "line": {
            "color": "#2a3f5f"
           }
          },
          "ternary": {
           "aaxis": {
            "gridcolor": "white",
            "linecolor": "white",
            "ticks": ""
           },
           "baxis": {
            "gridcolor": "white",
            "linecolor": "white",
            "ticks": ""
           },
           "bgcolor": "#E5ECF6",
           "caxis": {
            "gridcolor": "white",
            "linecolor": "white",
            "ticks": ""
           }
          },
          "title": {
           "x": 0.05
          },
          "xaxis": {
           "automargin": true,
           "gridcolor": "white",
           "linecolor": "white",
           "ticks": "",
           "title": {
            "standoff": 15
           },
           "zerolinecolor": "white",
           "zerolinewidth": 2
          },
          "yaxis": {
           "automargin": true,
           "gridcolor": "white",
           "linecolor": "white",
           "ticks": "",
           "title": {
            "standoff": 15
           },
           "zerolinecolor": "white",
           "zerolinewidth": 2
          }
         }
        },
        "title": {
         "text": "Penguin Bill Length vs Bill Depth Over Time"
        },
        "updatemenus": [
         {
          "buttons": [
           {
            "args": [
             null,
             {
              "frame": {
               "duration": 500,
               "redraw": true
              },
              "fromcurrent": true,
              "mode": "immediate",
              "transition": {
               "duration": 500,
               "easing": "linear"
              }
             }
            ],
            "label": "&#9654;",
            "method": "animate"
           },
           {
            "args": [
             [
              null
             ],
             {
              "frame": {
               "duration": 0,
               "redraw": true
              },
              "fromcurrent": true,
              "mode": "immediate",
              "transition": {
               "duration": 0,
               "easing": "linear"
              }
             }
            ],
            "label": "&#9724;",
            "method": "animate"
           }
          ],
          "direction": "left",
          "pad": {
           "r": 10,
           "t": 70
          },
          "showactive": false,
          "type": "buttons",
          "x": 0.1,
          "xanchor": "right",
          "y": 0,
          "yanchor": "top"
         }
        ],
        "width": 800
       }
      },
      "image/png": "[encoded data removed]",
      "text/html": [
       "<div>                            <div id=\"728d9df4-638e-499f-98f7-d903bf444c32\" class=\"plotly-graph-div\" style=\"height:600px; width:800px;\"></div>            <script type=\"text/javascript\">                require([\"plotly\"], function(Plotly) {                    window.PLOTLYENV=window.PLOTLYENV || {};                                    if (document.getElementById(\"728d9df4-638e-499f-98f7-d903bf444c32\")) {                    Plotly.newPlot(                        \"728d9df4-638e-499f-98f7-d903bf444c32\",                        [{\"customdata\":[[\"Torgersen\",\"male\"],[\"Torgersen\",\"male\"],[\"Torgersen\",\"male\"],[\"Torgersen\",\"male\"],[\"Torgersen\",\"male\"],[\"Torgersen\",\"male\"],[\"Torgersen\",\"male\"],[\"Biscoe\",\"male\"],[\"Biscoe\",\"male\"],[\"Biscoe\",\"male\"],[\"Biscoe\",\"male\"],[\"Biscoe\",\"male\"],[\"Dream\",\"male\"],[\"Dream\",\"male\"],[\"Dream\",\"male\"],[\"Dream\",\"male\"],[\"Dream\",\"male\"],[\"Dream\",\"male\"],[\"Dream\",\"male\"],[\"Dream\",\"male\"],[\"Dream\",\"male\"],[\"Dream\",\"male\"],[\"Biscoe\",\"male\"],[\"Biscoe\",\"male\"],[\"Biscoe\",\"male\"],[\"Biscoe\",\"male\"],[\"Biscoe\",\"male\"],[\"Biscoe\",\"male\"],[\"Biscoe\",\"male\"],[\"Biscoe\",\"male\"],[\"Biscoe\",\"male\"],[\"Torgersen\",\"male\"],[\"Torgersen\",\"male\"],[\"Torgersen\",\"male\"],[\"Torgersen\",\"male\"],[\"Torgersen\",\"male\"],[\"Torgersen\",\"male\"],[\"Torgersen\",\"male\"],[\"Torgersen\",\"male\"],[\"Dream\",\"male\"],[\"Dream\",\"male\"],[\"Dream\",\"male\"],[\"Dream\",\"male\"],[\"Dream\",\"male\"],[\"Dream\",\"male\"],[\"Dream\",\"male\"],[\"Dream\",\"male\"],[\"Biscoe\",\"male\"],[\"Biscoe\",\"male\"],[\"Biscoe\",\"male\"],[\"Biscoe\",\"male\"],[\"Biscoe\",\"male\"],[\"Biscoe\",\"male\"],[\"Biscoe\",\"male\"],[\"Biscoe\",\"male\"],[\"Torgersen\",\"male\"],[\"Torgersen\",\"male\"],[\"Torgersen\",\"male\"],[\"Torgersen\",\"male\"],[\"Torgersen\",\"male\"],[\"Torgersen\",\"male\"],[\"Torgersen\",\"male\"],[\"Torgersen\",\"male\"],[\"Dream\",\"male\"],[\"Dream\",\"male\"],[\"Dream\",\"male\"],[\"Dream\",\"male\"],[\"Dream\",\"male\"],[\"Dream\",\"male\"],[\"Dream\",\"male\"],[\"Dream\",\"male\"],[\"Dream\",\"male\"],[\"Dream\",\"male\"]],\"hovertemplate\":\"species=Adelie\\u003cbr\\u003esex=%{customdata[1]}\\u003cbr\\u003ebill_length_mm=%{x}\\u003cbr\\u003eflipper_length_mm=%{y}\\u003cbr\\u003ebill_depth_mm=%{z}\\u003cbr\\u003eisland=%{customdata[0]}\\u003cextra\\u003e\\u003c\\u002fextra\\u003e\",\"legendgroup\":\"Adelie\",\"marker\":{\"color\":\"#636efa\",\"symbol\":\"circle\"},\"mode\":\"markers\",\"name\":\"Adelie\",\"scene\":\"scene\",\"showlegend\":true,\"x\":[39.1,39.3,39.2,38.6,34.6,42.5,46.0,37.7,38.2,38.8,40.6,40.5,37.2,40.9,39.2,38.8,39.8,40.8,44.1,39.6,41.1,42.3,40.1,42.0,41.4,40.6,37.6,41.3,41.1,41.6,41.1,41.8,39.7,45.8,42.8,37.2,42.1,42.9,35.1,41.3,36.3,38.3,41.1,39.6,40.8,40.3,43.2,41.0,37.8,39.7,38.2,43.2,45.6,42.2,42.7,37.3,41.1,37.7,41.4,40.6,41.5,44.1,43.1,37.5,41.1,40.2,39.7,40.6,40.7,39.0,39.2,37.8,41.5],\"y\":[181.0,190.0,195.0,191.0,198.0,197.0,194.0,180.0,185.0,180.0,183.0,180.0,178.0,184.0,196.0,190.0,184.0,195.0,196.0,190.0,182.0,191.0,188.0,200.0,191.0,193.0,194.0,195.0,192.0,192.0,188.0,198.0,190.0,197.0,195.0,184.0,195.0,196.0,193.0,194.0,190.0,189.0,205.0,186.0,208.0,196.0,192.0,203.0,190.0,184.0,190.0,197.0,191.0,197.0,196.0,199.0,189.0,198.0,202.0,199.0,195.0,210.0,197.0,199.0,190.0,200.0,193.0,187.0,190.0,185.0,190.0,193.0,201.0],\"z\":[18.7,20.6,19.6,21.2,21.1,20.7,21.5,18.7,18.1,17.2,18.6,18.9,18.1,18.9,21.1,20.0,19.1,18.4,19.7,18.8,19.0,21.2,18.9,19.5,18.6,18.8,19.1,21.1,18.2,18.0,19.1,19.4,18.4,18.9,18.5,19.4,19.1,17.6,19.4,20.3,19.5,19.2,18.1,18.1,18.9,18.5,18.5,20.0,20.0,18.9,20.0,19.0,20.3,19.5,18.3,20.5,18.6,19.8,18.5,19.0,18.3,18.0,19.2,18.5,17.5,20.1,17.9,17.2,17.0,18.7,18.6,18.1,18.5],\"type\":\"scatter3d\"},{\"customdata\":[[\"Dream\",\"male\"],[\"Dream\",\"male\"],[\"Dream\",\"male\"],[\"Dream\",\"male\"],[\"Dream\",\"male\"],[\"Dream\",\"male\"],[\"Dream\",\"male\"],[\"Dream\",\"male\"],[\"Dream\",\"male\"],[\"Dream\",\"male\"],[\"Dream\",\"male\"],[\"Dream\",\"male\"],[\"Dream\",\"male\"],[\"Dream\",\"male\"],[\"Dream\",\"male\"],[\"Dream\",\"male\"],[\"Dream\",\"male\"],[\"Dream\",\"male\"],[\"Dream\",\"male\"],[\"Dream\",\"male\"],[\"Dream\",\"male\"],[\"Dream\",\"male\"],[\"Dream\",\"male\"],[\"Dream\",\"male\"],[\"Dream\",\"male\"],[\"Dream\",\"male\"],[\"Dream\",\"male\"],[\"Dream\",\"male\"],[\"Dream\",\"male\"],[\"Dream\",\"male\"],[\"Dream\",\"male\"],[\"Dream\",\"male\"],[\"Dream\",\"male\"],[\"Dream\",\"male\"]],\"hovertemplate\":\"species=Chinstrap\\u003cbr\\u003esex=%{customdata[1]}\\u003cbr\\u003ebill_length_mm=%{x}\\u003cbr\\u003eflipper_length_mm=%{y}\\u003cbr\\u003ebill_depth_mm=%{z}\\u003cbr\\u003eisland=%{customdata[0]}\\u003cextra\\u003e\\u003c\\u002fextra\\u003e\",\"legendgroup\":\"Chinstrap\",\"marker\":{\"color\":\"#EF553B\",\"symbol\":\"circle\"},\"mode\":\"markers\",\"name\":\"Chinstrap\",\"scene\":\"scene\",\"showlegend\":true,\"x\":[50.0,51.3,52.7,51.3,51.3,51.7,52.0,50.5,50.3,49.2,48.5,50.6,52.0,49.5,52.8,54.2,51.0,49.7,52.0,53.5,49.0,50.9,50.8,49.0,51.5,51.4,50.7,52.2,49.3,50.2,51.9,55.8,49.6,50.8],\"y\":[196.0,193.0,197.0,197.0,198.0,194.0,201.0,201.0,197.0,195.0,191.0,193.0,197.0,200.0,205.0,201.0,203.0,195.0,210.0,205.0,210.0,196.0,201.0,212.0,187.0,201.0,203.0,197.0,203.0,202.0,206.0,207.0,193.0,210.0],\"z\":[19.5,19.2,19.8,18.2,19.9,20.3,18.1,19.6,20.0,18.2,17.5,19.4,19.0,19.0,20.0,20.8,18.8,18.6,20.7,19.9,19.5,19.1,18.5,19.6,18.7,19.0,19.7,18.8,19.9,18.8,19.5,19.8,18.2,19.0],\"type\":\"scatter3d\"}],                        {\"template\":{\"data\":{\"histogram2dcontour\":[{\"type\":\"histogram2dcontour\",\"colorbar\":{\"outlinewidth\":0,\"ticks\":\"\"},\"colorscale\":[[0.0,\"#0d0887\"],[0.1111111111111111,\"#46039f\"],[0.2222222222222222,\"#7201a8\"],[0.3333333333333333,\"#9c179e\"],[0.4444444444444444,\"#bd3786\"],[0.5555555555555556,\"#d8576b\"],[0.6666666666666666,\"#ed7953\"],[0.7777777777777778,\"#fb9f3a\"],[0.8888888888888888,\"#fdca26\"],[1.0,\"#f0f921\"]]}],\"choropleth\":[{\"type\":\"choropleth\",\"colorbar\":{\"outlinewidth\":0,\"ticks\":\"\"}}],\"histogram2d\":[{\"type\":\"histogram2d\",\"colorbar\":{\"outlinewidth\":0,\"ticks\":\"\"},\"colorscale\":[[0.0,\"#0d0887\"],[0.1111111111111111,\"#46039f\"],[0.2222222222222222,\"#7201a8\"],[0.3333333333333333,\"#9c179e\"],[0.4444444444444444,\"#bd3786\"],[0.5555555555555556,\"#d8576b\"],[0.6666666666666666,\"#ed7953\"],[0.7777777777777778,\"#fb9f3a\"],[0.8888888888888888,\"#fdca26\"],[1.0,\"#f0f921\"]]}],\"heatmap\":[{\"type\":\"heatmap\",\"colorbar\":{\"outlinewidth\":0,\"ticks\":\"\"},\"colorscale\":[[0.0,\"#0d0887\"],[0.1111111111111111,\"#46039f\"],[0.2222222222222222,\"#7201a8\"],[0.3333333333333333,\"#9c179e\"],[0.4444444444444444,\"#bd3786\"],[0.5555555555555556,\"#d8576b\"],[0.6666666666666666,\"#ed7953\"],[0.7777777777777778,\"#fb9f3a\"],[0.8888888888888888,\"#fdca26\"],[1.0,\"#f0f921\"]]}],\"heatmapgl\":[{\"type\":\"heatmapgl\",\"colorbar\":{\"outlinewidth\":0,\"ticks\":\"\"},\"colorscale\":[[0.0,\"#0d0887\"],[0.1111111111111111,\"#46039f\"],[0.2222222222222222,\"#7201a8\"],[0.3333333333333333,\"#9c179e\"],[0.4444444444444444,\"#bd3786\"],[0.5555555555555556,\"#d8576b\"],[0.6666666666666666,\"#ed7953\"],[0.7777777777777778,\"#fb9f3a\"],[0.8888888888888888,\"#fdca26\"],[1.0,\"#f0f921\"]]}],\"contourcarpet\":[{\"type\":\"contourcarpet\",\"colorbar\":{\"outlinewidth\":0,\"ticks\":\"\"}}],\"contour\":[{\"type\":\"contour\",\"colorbar\":{\"outlinewidth\":0,\"ticks\":\"\"},\"colorscale\":[[0.0,\"#0d0887\"],[0.1111111111111111,\"#46039f\"],[0.2222222222222222,\"#7201a8\"],[0.3333333333333333,\"#9c179e\"],[0.4444444444444444,\"#bd3786\"],[0.5555555555555556,\"#d8576b\"],[0.6666666666666666,\"#ed7953\"],[0.7777777777777778,\"#fb9f3a\"],[0.8888888888888888,\"#fdca26\"],[1.0,\"#f0f921\"]]}],\"surface\":[{\"type\":\"surface\",\"colorbar\":{\"outlinewidth\":0,\"ticks\":\"\"},\"colorscale\":[[0.0,\"#0d0887\"],[0.1111111111111111,\"#46039f\"],[0.2222222222222222,\"#7201a8\"],[0.3333333333333333,\"#9c179e\"],[0.4444444444444444,\"#bd3786\"],[0.5555555555555556,\"#d8576b\"],[0.6666666666666666,\"#ed7953\"],[0.7777777777777778,\"#fb9f3a\"],[0.8888888888888888,\"#fdca26\"],[1.0,\"#f0f921\"]]}],\"mesh3d\":[{\"type\":\"mesh3d\",\"colorbar\":{\"outlinewidth\":0,\"ticks\":\"\"}}],\"scatter\":[{\"fillpattern\":{\"fillmode\":\"overlay\",\"size\":10,\"solidity\":0.2},\"type\":\"scatter\"}],\"parcoords\":[{\"type\":\"parcoords\",\"line\":{\"colorbar\":{\"outlinewidth\":0,\"ticks\":\"\"}}}],\"scatterpolargl\":[{\"type\":\"scatterpolargl\",\"marker\":{\"colorbar\":{\"outlinewidth\":0,\"ticks\":\"\"}}}],\"bar\":[{\"error_x\":{\"color\":\"#2a3f5f\"},\"error_y\":{\"color\":\"#2a3f5f\"},\"marker\":{\"line\":{\"color\":\"#E5ECF6\",\"width\":0.5},\"pattern\":{\"fillmode\":\"overlay\",\"size\":10,\"solidity\":0.2}},\"type\":\"bar\"}],\"scattergeo\":[{\"type\":\"scattergeo\",\"marker\":{\"colorbar\":{\"outlinewidth\":0,\"ticks\":\"\"}}}],\"scatterpolar\":[{\"type\":\"scatterpolar\",\"marker\":{\"colorbar\":{\"outlinewidth\":0,\"ticks\":\"\"}}}],\"histogram\":[{\"marker\":{\"pattern\":{\"fillmode\":\"overlay\",\"size\":10,\"solidity\":0.2}},\"type\":\"histogram\"}],\"scattergl\":[{\"type\":\"scattergl\",\"marker\":{\"colorbar\":{\"outlinewidth\":0,\"ticks\":\"\"}}}],\"scatter3d\":[{\"type\":\"scatter3d\",\"line\":{\"colorbar\":{\"outlinewidth\":0,\"ticks\":\"\"}},\"marker\":{\"colorbar\":{\"outlinewidth\":0,\"ticks\":\"\"}}}],\"scattermapbox\":[{\"type\":\"scattermapbox\",\"marker\":{\"colorbar\":{\"outlinewidth\":0,\"ticks\":\"\"}}}],\"scatterternary\":[{\"type\":\"scatterternary\",\"marker\":{\"colorbar\":{\"outlinewidth\":0,\"ticks\":\"\"}}}],\"scattercarpet\":[{\"type\":\"scattercarpet\",\"marker\":{\"colorbar\":{\"outlinewidth\":0,\"ticks\":\"\"}}}],\"carpet\":[{\"aaxis\":{\"endlinecolor\":\"#2a3f5f\",\"gridcolor\":\"white\",\"linecolor\":\"white\",\"minorgridcolor\":\"white\",\"startlinecolor\":\"#2a3f5f\"},\"baxis\":{\"endlinecolor\":\"#2a3f5f\",\"gridcolor\":\"white\",\"linecolor\":\"white\",\"minorgridcolor\":\"white\",\"startlinecolor\":\"#2a3f5f\"},\"type\":\"carpet\"}],\"table\":[{\"cells\":{\"fill\":{\"color\":\"#EBF0F8\"},\"line\":{\"color\":\"white\"}},\"header\":{\"fill\":{\"color\":\"#C8D4E3\"},\"line\":{\"color\":\"white\"}},\"type\":\"table\"}],\"barpolar\":[{\"marker\":{\"line\":{\"color\":\"#E5ECF6\",\"width\":0.5},\"pattern\":{\"fillmode\":\"overlay\",\"size\":10,\"solidity\":0.2}},\"type\":\"barpolar\"}],\"pie\":[{\"automargin\":true,\"type\":\"pie\"}]},\"layout\":{\"autotypenumbers\":\"strict\",\"colorway\":[\"#636efa\",\"#EF553B\",\"#00cc96\",\"#ab63fa\",\"#FFA15A\",\"#19d3f3\",\"#FF6692\",\"#B6E880\",\"#FF97FF\",\"#FECB52\"],\"font\":{\"color\":\"#2a3f5f\"},\"hovermode\":\"closest\",\"hoverlabel\":{\"align\":\"left\"},\"paper_bgcolor\":\"white\",\"plot_bgcolor\":\"#E5ECF6\",\"polar\":{\"bgcolor\":\"#E5ECF6\",\"angularaxis\":{\"gridcolor\":\"white\",\"linecolor\":\"white\",\"ticks\":\"\"},\"radialaxis\":{\"gridcolor\":\"white\",\"linecolor\":\"white\",\"ticks\":\"\"}},\"ternary\":{\"bgcolor\":\"#E5ECF6\",\"aaxis\":{\"gridcolor\":\"white\",\"linecolor\":\"white\",\"ticks\":\"\"},\"baxis\":{\"gridcolor\":\"white\",\"linecolor\":\"white\",\"ticks\":\"\"},\"caxis\":{\"gridcolor\":\"white\",\"linecolor\":\"white\",\"ticks\":\"\"}},\"coloraxis\":{\"colorbar\":{\"outlinewidth\":0,\"ticks\":\"\"}},\"colorscale\":{\"sequential\":[[0.0,\"#0d0887\"],[0.1111111111111111,\"#46039f\"],[0.2222222222222222,\"#7201a8\"],[0.3333333333333333,\"#9c179e\"],[0.4444444444444444,\"#bd3786\"],[0.5555555555555556,\"#d8576b\"],[0.6666666666666666,\"#ed7953\"],[0.7777777777777778,\"#fb9f3a\"],[0.8888888888888888,\"#fdca26\"],[1.0,\"#f0f921\"]],\"sequentialminus\":[[0.0,\"#0d0887\"],[0.1111111111111111,\"#46039f\"],[0.2222222222222222,\"#7201a8\"],[0.3333333333333333,\"#9c179e\"],[0.4444444444444444,\"#bd3786\"],[0.5555555555555556,\"#d8576b\"],[0.6666666666666666,\"#ed7953\"],[0.7777777777777778,\"#fb9f3a\"],[0.8888888888888888,\"#fdca26\"],[1.0,\"#f0f921\"]],\"diverging\":[[0,\"#8e0152\"],[0.1,\"#c51b7d\"],[0.2,\"#de77ae\"],[0.3,\"#f1b6da\"],[0.4,\"#fde0ef\"],[0.5,\"#f7f7f7\"],[0.6,\"#e6f5d0\"],[0.7,\"#b8e186\"],[0.8,\"#7fbc41\"],[0.9,\"#4d9221\"],[1,\"#276419\"]]},\"xaxis\":{\"gridcolor\":\"white\",\"linecolor\":\"white\",\"ticks\":\"\",\"title\":{\"standoff\":15},\"zerolinecolor\":\"white\",\"automargin\":true,\"zerolinewidth\":2},\"yaxis\":{\"gridcolor\":\"white\",\"linecolor\":\"white\",\"ticks\":\"\",\"title\":{\"standoff\":15},\"zerolinecolor\":\"white\",\"automargin\":true,\"zerolinewidth\":2},\"scene\":{\"xaxis\":{\"backgroundcolor\":\"#E5ECF6\",\"gridcolor\":\"white\",\"linecolor\":\"white\",\"showbackground\":true,\"ticks\":\"\",\"zerolinecolor\":\"white\",\"gridwidth\":2},\"yaxis\":{\"backgroundcolor\":\"#E5ECF6\",\"gridcolor\":\"white\",\"linecolor\":\"white\",\"showbackground\":true,\"ticks\":\"\",\"zerolinecolor\":\"white\",\"gridwidth\":2},\"zaxis\":{\"backgroundcolor\":\"#E5ECF6\",\"gridcolor\":\"white\",\"linecolor\":\"white\",\"showbackground\":true,\"ticks\":\"\",\"zerolinecolor\":\"white\",\"gridwidth\":2}},\"shapedefaults\":{\"line\":{\"color\":\"#2a3f5f\"}},\"annotationdefaults\":{\"arrowcolor\":\"#2a3f5f\",\"arrowhead\":0,\"arrowwidth\":1},\"geo\":{\"bgcolor\":\"white\",\"landcolor\":\"#E5ECF6\",\"subunitcolor\":\"white\",\"showland\":true,\"showlakes\":true,\"lakecolor\":\"white\"},\"title\":{\"x\":0.05},\"mapbox\":{\"style\":\"light\"}}},\"scene\":{\"domain\":{\"x\":[0.0,1.0],\"y\":[0.0,1.0]},\"xaxis\":{\"title\":{\"text\":\"bill_length_mm\"}},\"yaxis\":{\"title\":{\"text\":\"flipper_length_mm\"}},\"zaxis\":{\"title\":{\"text\":\"bill_depth_mm\"}}},\"legend\":{\"title\":{\"text\":\"species\"},\"tracegroupgap\":0},\"title\":{\"text\":\"Penguin Bill Length vs Bill Depth Over Time\"},\"updatemenus\":[{\"buttons\":[{\"args\":[null,{\"frame\":{\"duration\":500,\"redraw\":true},\"mode\":\"immediate\",\"fromcurrent\":true,\"transition\":{\"duration\":500,\"easing\":\"linear\"}}],\"label\":\"&#9654;\",\"method\":\"animate\"},{\"args\":[[null],{\"frame\":{\"duration\":0,\"redraw\":true},\"mode\":\"immediate\",\"fromcurrent\":true,\"transition\":{\"duration\":0,\"easing\":\"linear\"}}],\"label\":\"&#9724;\",\"method\":\"animate\"}],\"direction\":\"left\",\"pad\":{\"r\":10,\"t\":70},\"showactive\":false,\"type\":\"buttons\",\"x\":0.1,\"xanchor\":\"right\",\"y\":0,\"yanchor\":\"top\"}],\"sliders\":[{\"active\":0,\"currentvalue\":{\"prefix\":\"sex=\"},\"len\":0.9,\"pad\":{\"b\":10,\"t\":60},\"steps\":[{\"args\":[[\"male\"],{\"frame\":{\"duration\":0,\"redraw\":true},\"mode\":\"immediate\",\"fromcurrent\":true,\"transition\":{\"duration\":0,\"easing\":\"linear\"}}],\"label\":\"male\",\"method\":\"animate\"},{\"args\":[[\"female\"],{\"frame\":{\"duration\":0,\"redraw\":true},\"mode\":\"immediate\",\"fromcurrent\":true,\"transition\":{\"duration\":0,\"easing\":\"linear\"}}],\"label\":\"female\",\"method\":\"animate\"}],\"x\":0.1,\"xanchor\":\"left\",\"y\":0,\"yanchor\":\"top\"}],\"width\":800,\"height\":600},                        {\"responsive\": true}                    ).then(function(){\n",
       "                            Plotly.addFrames('728d9df4-638e-499f-98f7-d903bf444c32', [{\"data\":[{\"customdata\":[[\"Torgersen\",\"male\"],[\"Torgersen\",\"male\"],[\"Torgersen\",\"male\"],[\"Torgersen\",\"male\"],[\"Torgersen\",\"male\"],[\"Torgersen\",\"male\"],[\"Torgersen\",\"male\"],[\"Biscoe\",\"male\"],[\"Biscoe\",\"male\"],[\"Biscoe\",\"male\"],[\"Biscoe\",\"male\"],[\"Biscoe\",\"male\"],[\"Dream\",\"male\"],[\"Dream\",\"male\"],[\"Dream\",\"male\"],[\"Dream\",\"male\"],[\"Dream\",\"male\"],[\"Dream\",\"male\"],[\"Dream\",\"male\"],[\"Dream\",\"male\"],[\"Dream\",\"male\"],[\"Dream\",\"male\"],[\"Biscoe\",\"male\"],[\"Biscoe\",\"male\"],[\"Biscoe\",\"male\"],[\"Biscoe\",\"male\"],[\"Biscoe\",\"male\"],[\"Biscoe\",\"male\"],[\"Biscoe\",\"male\"],[\"Biscoe\",\"male\"],[\"Biscoe\",\"male\"],[\"Torgersen\",\"male\"],[\"Torgersen\",\"male\"],[\"Torgersen\",\"male\"],[\"Torgersen\",\"male\"],[\"Torgersen\",\"male\"],[\"Torgersen\",\"male\"],[\"Torgersen\",\"male\"],[\"Torgersen\",\"male\"],[\"Dream\",\"male\"],[\"Dream\",\"male\"],[\"Dream\",\"male\"],[\"Dream\",\"male\"],[\"Dream\",\"male\"],[\"Dream\",\"male\"],[\"Dream\",\"male\"],[\"Dream\",\"male\"],[\"Biscoe\",\"male\"],[\"Biscoe\",\"male\"],[\"Biscoe\",\"male\"],[\"Biscoe\",\"male\"],[\"Biscoe\",\"male\"],[\"Biscoe\",\"male\"],[\"Biscoe\",\"male\"],[\"Biscoe\",\"male\"],[\"Torgersen\",\"male\"],[\"Torgersen\",\"male\"],[\"Torgersen\",\"male\"],[\"Torgersen\",\"male\"],[\"Torgersen\",\"male\"],[\"Torgersen\",\"male\"],[\"Torgersen\",\"male\"],[\"Torgersen\",\"male\"],[\"Dream\",\"male\"],[\"Dream\",\"male\"],[\"Dream\",\"male\"],[\"Dream\",\"male\"],[\"Dream\",\"male\"],[\"Dream\",\"male\"],[\"Dream\",\"male\"],[\"Dream\",\"male\"],[\"Dream\",\"male\"],[\"Dream\",\"male\"]],\"hovertemplate\":\"species=Adelie\\u003cbr\\u003esex=%{customdata[1]}\\u003cbr\\u003ebill_length_mm=%{x}\\u003cbr\\u003eflipper_length_mm=%{y}\\u003cbr\\u003ebill_depth_mm=%{z}\\u003cbr\\u003eisland=%{customdata[0]}\\u003cextra\\u003e\\u003c\\u002fextra\\u003e\",\"legendgroup\":\"Adelie\",\"marker\":{\"color\":\"#636efa\",\"symbol\":\"circle\"},\"mode\":\"markers\",\"name\":\"Adelie\",\"scene\":\"scene\",\"showlegend\":true,\"x\":[39.1,39.3,39.2,38.6,34.6,42.5,46.0,37.7,38.2,38.8,40.6,40.5,37.2,40.9,39.2,38.8,39.8,40.8,44.1,39.6,41.1,42.3,40.1,42.0,41.4,40.6,37.6,41.3,41.1,41.6,41.1,41.8,39.7,45.8,42.8,37.2,42.1,42.9,35.1,41.3,36.3,38.3,41.1,39.6,40.8,40.3,43.2,41.0,37.8,39.7,38.2,43.2,45.6,42.2,42.7,37.3,41.1,37.7,41.4,40.6,41.5,44.1,43.1,37.5,41.1,40.2,39.7,40.6,40.7,39.0,39.2,37.8,41.5],\"y\":[181.0,190.0,195.0,191.0,198.0,197.0,194.0,180.0,185.0,180.0,183.0,180.0,178.0,184.0,196.0,190.0,184.0,195.0,196.0,190.0,182.0,191.0,188.0,200.0,191.0,193.0,194.0,195.0,192.0,192.0,188.0,198.0,190.0,197.0,195.0,184.0,195.0,196.0,193.0,194.0,190.0,189.0,205.0,186.0,208.0,196.0,192.0,203.0,190.0,184.0,190.0,197.0,191.0,197.0,196.0,199.0,189.0,198.0,202.0,199.0,195.0,210.0,197.0,199.0,190.0,200.0,193.0,187.0,190.0,185.0,190.0,193.0,201.0],\"z\":[18.7,20.6,19.6,21.2,21.1,20.7,21.5,18.7,18.1,17.2,18.6,18.9,18.1,18.9,21.1,20.0,19.1,18.4,19.7,18.8,19.0,21.2,18.9,19.5,18.6,18.8,19.1,21.1,18.2,18.0,19.1,19.4,18.4,18.9,18.5,19.4,19.1,17.6,19.4,20.3,19.5,19.2,18.1,18.1,18.9,18.5,18.5,20.0,20.0,18.9,20.0,19.0,20.3,19.5,18.3,20.5,18.6,19.8,18.5,19.0,18.3,18.0,19.2,18.5,17.5,20.1,17.9,17.2,17.0,18.7,18.6,18.1,18.5],\"type\":\"scatter3d\"},{\"customdata\":[[\"Dream\",\"male\"],[\"Dream\",\"male\"],[\"Dream\",\"male\"],[\"Dream\",\"male\"],[\"Dream\",\"male\"],[\"Dream\",\"male\"],[\"Dream\",\"male\"],[\"Dream\",\"male\"],[\"Dream\",\"male\"],[\"Dream\",\"male\"],[\"Dream\",\"male\"],[\"Dream\",\"male\"],[\"Dream\",\"male\"],[\"Dream\",\"male\"],[\"Dream\",\"male\"],[\"Dream\",\"male\"],[\"Dream\",\"male\"],[\"Dream\",\"male\"],[\"Dream\",\"male\"],[\"Dream\",\"male\"],[\"Dream\",\"male\"],[\"Dream\",\"male\"],[\"Dream\",\"male\"],[\"Dream\",\"male\"],[\"Dream\",\"male\"],[\"Dream\",\"male\"],[\"Dream\",\"male\"],[\"Dream\",\"male\"],[\"Dream\",\"male\"],[\"Dream\",\"male\"],[\"Dream\",\"male\"],[\"Dream\",\"male\"],[\"Dream\",\"male\"],[\"Dream\",\"male\"]],\"hovertemplate\":\"species=Chinstrap\\u003cbr\\u003esex=%{customdata[1]}\\u003cbr\\u003ebill_length_mm=%{x}\\u003cbr\\u003eflipper_length_mm=%{y}\\u003cbr\\u003ebill_depth_mm=%{z}\\u003cbr\\u003eisland=%{customdata[0]}\\u003cextra\\u003e\\u003c\\u002fextra\\u003e\",\"legendgroup\":\"Chinstrap\",\"marker\":{\"color\":\"#EF553B\",\"symbol\":\"circle\"},\"mode\":\"markers\",\"name\":\"Chinstrap\",\"scene\":\"scene\",\"showlegend\":true,\"x\":[50.0,51.3,52.7,51.3,51.3,51.7,52.0,50.5,50.3,49.2,48.5,50.6,52.0,49.5,52.8,54.2,51.0,49.7,52.0,53.5,49.0,50.9,50.8,49.0,51.5,51.4,50.7,52.2,49.3,50.2,51.9,55.8,49.6,50.8],\"y\":[196.0,193.0,197.0,197.0,198.0,194.0,201.0,201.0,197.0,195.0,191.0,193.0,197.0,200.0,205.0,201.0,203.0,195.0,210.0,205.0,210.0,196.0,201.0,212.0,187.0,201.0,203.0,197.0,203.0,202.0,206.0,207.0,193.0,210.0],\"z\":[19.5,19.2,19.8,18.2,19.9,20.3,18.1,19.6,20.0,18.2,17.5,19.4,19.0,19.0,20.0,20.8,18.8,18.6,20.7,19.9,19.5,19.1,18.5,19.6,18.7,19.0,19.7,18.8,19.9,18.8,19.5,19.8,18.2,19.0],\"type\":\"scatter3d\"}],\"name\":\"male\"},{\"data\":[{\"customdata\":[[\"Torgersen\",\"female\"],[\"Torgersen\",\"female\"],[\"Torgersen\",\"female\"],[\"Torgersen\",\"female\"],[\"Torgersen\",\"female\"],[\"Torgersen\",\"female\"],[\"Torgersen\",\"female\"],[\"Torgersen\",\"female\"],[\"Biscoe\",\"female\"],[\"Biscoe\",\"female\"],[\"Biscoe\",\"female\"],[\"Biscoe\",\"female\"],[\"Biscoe\",\"female\"],[\"Dream\",\"female\"],[\"Dream\",\"female\"],[\"Dream\",\"female\"],[\"Dream\",\"female\"],[\"Dream\",\"female\"],[\"Dream\",\"female\"],[\"Dream\",\"female\"],[\"Dream\",\"female\"],[\"Dream\",\"female\"],[\"Biscoe\",\"female\"],[\"Biscoe\",\"female\"],[\"Biscoe\",\"female\"],[\"Biscoe\",\"female\"],[\"Biscoe\",\"female\"],[\"Biscoe\",\"female\"],[\"Biscoe\",\"female\"],[\"Biscoe\",\"female\"],[\"Biscoe\",\"female\"],[\"Torgersen\",\"female\"],[\"Torgersen\",\"female\"],[\"Torgersen\",\"female\"],[\"Torgersen\",\"female\"],[\"Torgersen\",\"female\"],[\"Torgersen\",\"female\"],[\"Torgersen\",\"female\"],[\"Torgersen\",\"female\"],[\"Dream\",\"female\"],[\"Dream\",\"female\"],[\"Dream\",\"female\"],[\"Dream\",\"female\"],[\"Dream\",\"female\"],[\"Dream\",\"female\"],[\"Dream\",\"female\"],[\"Dream\",\"female\"],[\"Biscoe\",\"female\"],[\"Biscoe\",\"female\"],[\"Biscoe\",\"female\"],[\"Biscoe\",\"female\"],[\"Biscoe\",\"female\"],[\"Biscoe\",\"female\"],[\"Biscoe\",\"female\"],[\"Biscoe\",\"female\"],[\"Torgersen\",\"female\"],[\"Torgersen\",\"female\"],[\"Torgersen\",\"female\"],[\"Torgersen\",\"female\"],[\"Torgersen\",\"female\"],[\"Torgersen\",\"female\"],[\"Torgersen\",\"female\"],[\"Torgersen\",\"female\"],[\"Dream\",\"female\"],[\"Dream\",\"female\"],[\"Dream\",\"female\"],[\"Dream\",\"female\"],[\"Dream\",\"female\"],[\"Dream\",\"female\"],[\"Dream\",\"female\"],[\"Dream\",\"female\"],[\"Dream\",\"female\"],[\"Dream\",\"female\"]],\"hovertemplate\":\"species=Adelie\\u003cbr\\u003esex=%{customdata[1]}\\u003cbr\\u003ebill_length_mm=%{x}\\u003cbr\\u003eflipper_length_mm=%{y}\\u003cbr\\u003ebill_depth_mm=%{z}\\u003cbr\\u003eisland=%{customdata[0]}\\u003cextra\\u003e\\u003c\\u002fextra\\u003e\",\"legendgroup\":\"Adelie\",\"marker\":{\"color\":\"#636efa\",\"symbol\":\"circle\"},\"mode\":\"markers\",\"name\":\"Adelie\",\"scene\":\"scene\",\"showlegend\":true,\"x\":[39.5,40.3,36.7,38.9,41.1,36.6,38.7,34.4,37.8,35.9,35.3,40.5,37.9,39.5,39.5,36.4,42.2,37.6,36.5,36.0,37.0,36.0,39.6,35.0,34.5,39.0,36.5,35.7,37.6,36.4,35.5,35.9,33.5,39.6,35.5,40.9,36.2,34.6,36.7,37.3,36.9,38.9,35.7,34.0,36.2,38.1,33.1,35.0,37.7,37.9,38.6,38.1,38.1,39.7,39.6,38.6,35.7,36.2,40.2,35.2,38.8,39.0,38.5,36.8,38.1,35.6,37.0,40.2,32.1,37.3,36.6,36.0,36.0],\"y\":[186.0,195.0,193.0,181.0,182.0,185.0,195.0,184.0,174.0,189.0,187.0,187.0,172.0,178.0,188.0,195.0,180.0,181.0,182.0,186.0,185.0,190.0,186.0,190.0,187.0,186.0,181.0,185.0,185.0,184.0,195.0,190.0,190.0,196.0,190.0,191.0,187.0,189.0,187.0,191.0,189.0,190.0,202.0,185.0,187.0,190.0,178.0,192.0,183.0,193.0,199.0,181.0,198.0,193.0,191.0,188.0,189.0,187.0,176.0,186.0,191.0,191.0,190.0,193.0,187.0,191.0,185.0,193.0,188.0,192.0,184.0,195.0,187.0],\"z\":[17.4,18.0,19.3,17.8,17.6,17.8,19.0,18.4,18.3,19.2,18.9,17.9,18.6,16.7,17.8,17.0,18.5,19.3,18.0,18.5,16.9,17.9,17.7,17.9,18.1,17.5,16.6,16.9,17.0,17.1,16.2,16.6,19.0,17.2,17.5,16.8,16.1,17.2,18.8,17.8,18.6,18.8,18.0,17.1,17.3,18.6,16.1,17.9,16.0,18.6,17.2,17.0,16.5,17.7,20.7,17.0,17.0,17.2,17.0,15.9,17.6,17.1,17.9,18.5,17.6,17.5,16.5,17.1,15.5,16.8,18.4,17.8,17.1],\"type\":\"scatter3d\"},{\"customdata\":[[\"Dream\",\"female\"],[\"Dream\",\"female\"],[\"Dream\",\"female\"],[\"Dream\",\"female\"],[\"Dream\",\"female\"],[\"Dream\",\"female\"],[\"Dream\",\"female\"],[\"Dream\",\"female\"],[\"Dream\",\"female\"],[\"Dream\",\"female\"],[\"Dream\",\"female\"],[\"Dream\",\"female\"],[\"Dream\",\"female\"],[\"Dream\",\"female\"],[\"Dream\",\"female\"],[\"Dream\",\"female\"],[\"Dream\",\"female\"],[\"Dream\",\"female\"],[\"Dream\",\"female\"],[\"Dream\",\"female\"],[\"Dream\",\"female\"],[\"Dream\",\"female\"],[\"Dream\",\"female\"],[\"Dream\",\"female\"],[\"Dream\",\"female\"],[\"Dream\",\"female\"],[\"Dream\",\"female\"],[\"Dream\",\"female\"],[\"Dream\",\"female\"],[\"Dream\",\"female\"],[\"Dream\",\"female\"],[\"Dream\",\"female\"],[\"Dream\",\"female\"],[\"Dream\",\"female\"]],\"hovertemplate\":\"species=Chinstrap\\u003cbr\\u003esex=%{customdata[1]}\\u003cbr\\u003ebill_length_mm=%{x}\\u003cbr\\u003eflipper_length_mm=%{y}\\u003cbr\\u003ebill_depth_mm=%{z}\\u003cbr\\u003eisland=%{customdata[0]}\\u003cextra\\u003e\\u003c\\u002fextra\\u003e\",\"legendgroup\":\"Chinstrap\",\"marker\":{\"color\":\"#EF553B\",\"symbol\":\"circle\"},\"mode\":\"markers\",\"name\":\"Chinstrap\",\"scene\":\"scene\",\"showlegend\":true,\"x\":[46.5,45.4,45.2,46.1,46.0,46.6,47.0,45.9,58.0,46.4,42.4,43.2,46.7,50.5,46.4,40.9,42.5,47.5,47.6,46.9,46.2,45.5,50.9,50.1,49.8,48.1,45.7,42.5,45.2,45.6,46.8,45.7,43.5,50.2],\"y\":[192.0,188.0,198.0,178.0,195.0,193.0,185.0,190.0,181.0,190.0,181.0,187.0,195.0,200.0,191.0,187.0,187.0,199.0,195.0,192.0,187.0,196.0,196.0,190.0,198.0,199.0,193.0,187.0,191.0,194.0,189.0,195.0,202.0,198.0],\"z\":[17.9,18.7,17.8,18.2,18.9,17.8,17.3,17.1,17.8,18.6,17.3,16.6,17.9,18.4,17.8,16.6,16.7,16.8,18.3,16.6,17.5,17.0,17.9,17.9,17.3,16.4,17.3,17.3,16.6,19.4,16.5,17.0,18.1,18.7],\"type\":\"scatter3d\"}],\"name\":\"female\"}]);\n",
       "                        }).then(function(){\n",
       "                            \n",
       "var gd = document.getElementById('728d9df4-638e-499f-98f7-d903bf444c32');\n",
       "var x = new MutationObserver(function (mutations, observer) {{\n",
       "        var display = window.getComputedStyle(gd).display;\n",
       "        if (!display || display === 'none') {{\n",
       "            console.log([gd, 'removed!']);\n",
       "            Plotly.purge(gd);\n",
       "            observer.disconnect();\n",
       "        }}\n",
       "}});\n",
       "\n",
       "// Listen for the removal of the full notebook cells\n",
       "var notebookContainer = gd.closest('#notebook-container');\n",
       "if (notebookContainer) {{\n",
       "    x.observe(notebookContainer, {childList: true});\n",
       "}}\n",
       "\n",
       "// Listen for the clearing of the current output cell\n",
       "var outputEl = gd.closest('.output');\n",
       "if (outputEl) {{\n",
       "    x.observe(outputEl, {childList: true});\n",
       "}}\n",
       "\n",
       "                        })                };                });            </script>        </div>"
      ]
     },
     "metadata": {},
     "output_type": "display_data"
    }
   ],
   "source": [
    "# Assuming your DataFrame is named 'df'\n",
    "fig = px.scatter_3d(filtered_df_2, x='bill_length_mm', y='flipper_length_mm', z='bill_depth_mm', animation_frame='sex', color='species', hover_data=['island', 'sex'], title='Penguin Bill Length vs Bill Depth Over Time')\n",
    "\n",
    "# Update the layout to adjust the size\n",
    "fig.update_layout(\n",
    "    width=800,  # width in pixels\n",
    "    height=600,  # height in pixels\n",
    ")\n",
    "\n",
    "\n",
    "# Show the interactive plot\n",
    "fig.show()\n"
   ]
  },
  {
   "cell_type": "markdown",
   "id": "63d152bc-0bc8-488f-8523-f0b8b5d529c3",
   "metadata": {},
   "source": [
    "It looks like there is good seperate between male Adelie and Chinstrap, but poor seperate between the females."
   ]
  },
  {
   "cell_type": "code",
   "execution_count": 16,
   "id": "beff080f-cea2-432c-ba9c-9a976501a7c0",
   "metadata": {},
   "outputs": [
    {
     "data": {
      "application/vnd.plotly.v1+json": {
       "config": {
        "plotlyServerURL": "https://plot.ly"
       },
       "data": [
        {
         "customdata": [
          [
           "Torgersen",
           "female"
          ],
          [
           "Torgersen",
           "female"
          ],
          [
           "Torgersen",
           "female"
          ],
          [
           "Torgersen",
           "female"
          ],
          [
           "Torgersen",
           "female"
          ],
          [
           "Torgersen",
           "female"
          ],
          [
           "Torgersen",
           "female"
          ],
          [
           "Torgersen",
           "female"
          ],
          [
           "Biscoe",
           "female"
          ],
          [
           "Biscoe",
           "female"
          ],
          [
           "Biscoe",
           "female"
          ],
          [
           "Biscoe",
           "female"
          ],
          [
           "Biscoe",
           "female"
          ],
          [
           "Dream",
           "female"
          ],
          [
           "Dream",
           "female"
          ],
          [
           "Dream",
           "female"
          ],
          [
           "Dream",
           "female"
          ],
          [
           "Dream",
           "female"
          ],
          [
           "Dream",
           "female"
          ],
          [
           "Dream",
           "female"
          ],
          [
           "Dream",
           "female"
          ],
          [
           "Dream",
           "female"
          ],
          [
           "Biscoe",
           "female"
          ],
          [
           "Biscoe",
           "female"
          ],
          [
           "Biscoe",
           "female"
          ],
          [
           "Biscoe",
           "female"
          ],
          [
           "Biscoe",
           "female"
          ],
          [
           "Biscoe",
           "female"
          ],
          [
           "Biscoe",
           "female"
          ],
          [
           "Biscoe",
           "female"
          ],
          [
           "Biscoe",
           "female"
          ],
          [
           "Torgersen",
           "female"
          ],
          [
           "Torgersen",
           "female"
          ],
          [
           "Torgersen",
           "female"
          ],
          [
           "Torgersen",
           "female"
          ],
          [
           "Torgersen",
           "female"
          ],
          [
           "Torgersen",
           "female"
          ],
          [
           "Torgersen",
           "female"
          ],
          [
           "Torgersen",
           "female"
          ],
          [
           "Dream",
           "female"
          ],
          [
           "Dream",
           "female"
          ],
          [
           "Dream",
           "female"
          ],
          [
           "Dream",
           "female"
          ],
          [
           "Dream",
           "female"
          ],
          [
           "Dream",
           "female"
          ],
          [
           "Dream",
           "female"
          ],
          [
           "Dream",
           "female"
          ],
          [
           "Biscoe",
           "female"
          ],
          [
           "Biscoe",
           "female"
          ],
          [
           "Biscoe",
           "female"
          ],
          [
           "Biscoe",
           "female"
          ],
          [
           "Biscoe",
           "female"
          ],
          [
           "Biscoe",
           "female"
          ],
          [
           "Biscoe",
           "female"
          ],
          [
           "Biscoe",
           "female"
          ],
          [
           "Torgersen",
           "female"
          ],
          [
           "Torgersen",
           "female"
          ],
          [
           "Torgersen",
           "female"
          ],
          [
           "Torgersen",
           "female"
          ],
          [
           "Torgersen",
           "female"
          ],
          [
           "Torgersen",
           "female"
          ],
          [
           "Torgersen",
           "female"
          ],
          [
           "Torgersen",
           "female"
          ],
          [
           "Dream",
           "female"
          ],
          [
           "Dream",
           "female"
          ],
          [
           "Dream",
           "female"
          ],
          [
           "Dream",
           "female"
          ],
          [
           "Dream",
           "female"
          ],
          [
           "Dream",
           "female"
          ],
          [
           "Dream",
           "female"
          ],
          [
           "Dream",
           "female"
          ],
          [
           "Dream",
           "female"
          ],
          [
           "Dream",
           "female"
          ]
         ],
         "hovertemplate": "species=Adelie<br>sex=%{customdata[1]}<br>bill_length_mm=%{x}<br>body_mass_g=%{y}<br>bill_depth_mm=%{z}<br>island=%{customdata[0]}<extra></extra>",
         "legendgroup": "Adelie",
         "marker": {
          "color": "#636efa",
          "symbol": "circle"
         },
         "mode": "markers",
         "name": "Adelie",
         "scene": "scene",
         "showlegend": true,
         "type": "scatter3d",
         "x": [
          39.5,
          40.3,
          36.7,
          38.9,
          41.1,
          36.6,
          38.7,
          34.4,
          37.8,
          35.9,
          35.3,
          40.5,
          37.9,
          39.5,
          39.5,
          36.4,
          42.2,
          37.6,
          36.5,
          36,
          37,
          36,
          39.6,
          35,
          34.5,
          39,
          36.5,
          35.7,
          37.6,
          36.4,
          35.5,
          35.9,
          33.5,
          39.6,
          35.5,
          40.9,
          36.2,
          34.6,
          36.7,
          37.3,
          36.9,
          38.9,
          35.7,
          34,
          36.2,
          38.1,
          33.1,
          35,
          37.7,
          37.9,
          38.6,
          38.1,
          38.1,
          39.7,
          39.6,
          38.6,
          35.7,
          36.2,
          40.2,
          35.2,
          38.8,
          39,
          38.5,
          36.8,
          38.1,
          35.6,
          37,
          40.2,
          32.1,
          37.3,
          36.6,
          36,
          36
         ],
         "y": [
          3800,
          3250,
          3450,
          3625,
          3200,
          3700,
          3450,
          3325,
          3400,
          3800,
          3800,
          3200,
          3150,
          3250,
          3300,
          3325,
          3550,
          3300,
          3150,
          3100,
          3000,
          3450,
          3500,
          3450,
          2900,
          3550,
          2850,
          3150,
          3600,
          2850,
          3350,
          3050,
          3600,
          3550,
          3700,
          3700,
          3550,
          3200,
          3800,
          3350,
          3500,
          3600,
          3550,
          3400,
          3300,
          3700,
          2900,
          3725,
          3075,
          2925,
          3750,
          3175,
          3825,
          3200,
          3900,
          2900,
          3350,
          3150,
          3450,
          3050,
          3275,
          3050,
          3325,
          3500,
          3425,
          3175,
          3400,
          3400,
          3050,
          3000,
          3475,
          3450,
          3700
         ],
         "z": [
          17.4,
          18,
          19.3,
          17.8,
          17.6,
          17.8,
          19,
          18.4,
          18.3,
          19.2,
          18.9,
          17.9,
          18.6,
          16.7,
          17.8,
          17,
          18.5,
          19.3,
          18,
          18.5,
          16.9,
          17.9,
          17.7,
          17.9,
          18.1,
          17.5,
          16.6,
          16.9,
          17,
          17.1,
          16.2,
          16.6,
          19,
          17.2,
          17.5,
          16.8,
          16.1,
          17.2,
          18.8,
          17.8,
          18.6,
          18.8,
          18,
          17.1,
          17.3,
          18.6,
          16.1,
          17.9,
          16,
          18.6,
          17.2,
          17,
          16.5,
          17.7,
          20.7,
          17,
          17,
          17.2,
          17,
          15.9,
          17.6,
          17.1,
          17.9,
          18.5,
          17.6,
          17.5,
          16.5,
          17.1,
          15.5,
          16.8,
          18.4,
          17.8,
          17.1
         ]
        },
        {
         "customdata": [
          [
           "Dream",
           "female"
          ],
          [
           "Dream",
           "female"
          ],
          [
           "Dream",
           "female"
          ],
          [
           "Dream",
           "female"
          ],
          [
           "Dream",
           "female"
          ],
          [
           "Dream",
           "female"
          ],
          [
           "Dream",
           "female"
          ],
          [
           "Dream",
           "female"
          ],
          [
           "Dream",
           "female"
          ],
          [
           "Dream",
           "female"
          ],
          [
           "Dream",
           "female"
          ],
          [
           "Dream",
           "female"
          ],
          [
           "Dream",
           "female"
          ],
          [
           "Dream",
           "female"
          ],
          [
           "Dream",
           "female"
          ],
          [
           "Dream",
           "female"
          ],
          [
           "Dream",
           "female"
          ],
          [
           "Dream",
           "female"
          ],
          [
           "Dream",
           "female"
          ],
          [
           "Dream",
           "female"
          ],
          [
           "Dream",
           "female"
          ],
          [
           "Dream",
           "female"
          ],
          [
           "Dream",
           "female"
          ],
          [
           "Dream",
           "female"
          ],
          [
           "Dream",
           "female"
          ],
          [
           "Dream",
           "female"
          ],
          [
           "Dream",
           "female"
          ],
          [
           "Dream",
           "female"
          ],
          [
           "Dream",
           "female"
          ],
          [
           "Dream",
           "female"
          ],
          [
           "Dream",
           "female"
          ],
          [
           "Dream",
           "female"
          ],
          [
           "Dream",
           "female"
          ],
          [
           "Dream",
           "female"
          ]
         ],
         "hovertemplate": "species=Chinstrap<br>sex=%{customdata[1]}<br>bill_length_mm=%{x}<br>body_mass_g=%{y}<br>bill_depth_mm=%{z}<br>island=%{customdata[0]}<extra></extra>",
         "legendgroup": "Chinstrap",
         "marker": {
          "color": "#EF553B",
          "symbol": "circle"
         },
         "mode": "markers",
         "name": "Chinstrap",
         "scene": "scene",
         "showlegend": true,
         "type": "scatter3d",
         "x": [
          46.5,
          45.4,
          45.2,
          46.1,
          46,
          46.6,
          47,
          45.9,
          58,
          46.4,
          42.4,
          43.2,
          46.7,
          50.5,
          46.4,
          40.9,
          42.5,
          47.5,
          47.6,
          46.9,
          46.2,
          45.5,
          50.9,
          50.1,
          49.8,
          48.1,
          45.7,
          42.5,
          45.2,
          45.6,
          46.8,
          45.7,
          43.5,
          50.2
         ],
         "y": [
          3500,
          3525,
          3950,
          3250,
          4150,
          3800,
          3700,
          3575,
          3700,
          3450,
          3600,
          2900,
          3300,
          3400,
          3700,
          3200,
          3350,
          3900,
          3850,
          2700,
          3650,
          3500,
          3675,
          3400,
          3675,
          3325,
          3600,
          3350,
          3250,
          3525,
          3650,
          3650,
          3400,
          3775
         ],
         "z": [
          17.9,
          18.7,
          17.8,
          18.2,
          18.9,
          17.8,
          17.3,
          17.1,
          17.8,
          18.6,
          17.3,
          16.6,
          17.9,
          18.4,
          17.8,
          16.6,
          16.7,
          16.8,
          18.3,
          16.6,
          17.5,
          17,
          17.9,
          17.9,
          17.3,
          16.4,
          17.3,
          17.3,
          16.6,
          19.4,
          16.5,
          17,
          18.1,
          18.7
         ]
        }
       ],
       "frames": [
        {
         "data": [
          {
           "customdata": [
            [
             "Torgersen",
             "male"
            ],
            [
             "Torgersen",
             "male"
            ],
            [
             "Torgersen",
             "male"
            ],
            [
             "Torgersen",
             "male"
            ],
            [
             "Torgersen",
             "male"
            ],
            [
             "Torgersen",
             "male"
            ],
            [
             "Torgersen",
             "male"
            ],
            [
             "Biscoe",
             "male"
            ],
            [
             "Biscoe",
             "male"
            ],
            [
             "Biscoe",
             "male"
            ],
            [
             "Biscoe",
             "male"
            ],
            [
             "Biscoe",
             "male"
            ],
            [
             "Dream",
             "male"
            ],
            [
             "Dream",
             "male"
            ],
            [
             "Dream",
             "male"
            ],
            [
             "Dream",
             "male"
            ],
            [
             "Dream",
             "male"
            ],
            [
             "Dream",
             "male"
            ],
            [
             "Dream",
             "male"
            ],
            [
             "Dream",
             "male"
            ],
            [
             "Dream",
             "male"
            ],
            [
             "Dream",
             "male"
            ],
            [
             "Biscoe",
             "male"
            ],
            [
             "Biscoe",
             "male"
            ],
            [
             "Biscoe",
             "male"
            ],
            [
             "Biscoe",
             "male"
            ],
            [
             "Biscoe",
             "male"
            ],
            [
             "Biscoe",
             "male"
            ],
            [
             "Biscoe",
             "male"
            ],
            [
             "Biscoe",
             "male"
            ],
            [
             "Biscoe",
             "male"
            ],
            [
             "Torgersen",
             "male"
            ],
            [
             "Torgersen",
             "male"
            ],
            [
             "Torgersen",
             "male"
            ],
            [
             "Torgersen",
             "male"
            ],
            [
             "Torgersen",
             "male"
            ],
            [
             "Torgersen",
             "male"
            ],
            [
             "Torgersen",
             "male"
            ],
            [
             "Torgersen",
             "male"
            ],
            [
             "Dream",
             "male"
            ],
            [
             "Dream",
             "male"
            ],
            [
             "Dream",
             "male"
            ],
            [
             "Dream",
             "male"
            ],
            [
             "Dream",
             "male"
            ],
            [
             "Dream",
             "male"
            ],
            [
             "Dream",
             "male"
            ],
            [
             "Dream",
             "male"
            ],
            [
             "Biscoe",
             "male"
            ],
            [
             "Biscoe",
             "male"
            ],
            [
             "Biscoe",
             "male"
            ],
            [
             "Biscoe",
             "male"
            ],
            [
             "Biscoe",
             "male"
            ],
            [
             "Biscoe",
             "male"
            ],
            [
             "Biscoe",
             "male"
            ],
            [
             "Biscoe",
             "male"
            ],
            [
             "Torgersen",
             "male"
            ],
            [
             "Torgersen",
             "male"
            ],
            [
             "Torgersen",
             "male"
            ],
            [
             "Torgersen",
             "male"
            ],
            [
             "Torgersen",
             "male"
            ],
            [
             "Torgersen",
             "male"
            ],
            [
             "Torgersen",
             "male"
            ],
            [
             "Torgersen",
             "male"
            ],
            [
             "Dream",
             "male"
            ],
            [
             "Dream",
             "male"
            ],
            [
             "Dream",
             "male"
            ],
            [
             "Dream",
             "male"
            ],
            [
             "Dream",
             "male"
            ],
            [
             "Dream",
             "male"
            ],
            [
             "Dream",
             "male"
            ],
            [
             "Dream",
             "male"
            ],
            [
             "Dream",
             "male"
            ],
            [
             "Dream",
             "male"
            ]
           ],
           "hovertemplate": "species=Adelie<br>sex=%{customdata[1]}<br>bill_length_mm=%{x}<br>body_mass_g=%{y}<br>bill_depth_mm=%{z}<br>island=%{customdata[0]}<extra></extra>",
           "legendgroup": "Adelie",
           "marker": {
            "color": "#636efa",
            "symbol": "circle"
           },
           "mode": "markers",
           "name": "Adelie",
           "scene": "scene",
           "showlegend": true,
           "type": "scatter3d",
           "x": [
            39.1,
            39.3,
            39.2,
            38.6,
            34.6,
            42.5,
            46,
            37.7,
            38.2,
            38.8,
            40.6,
            40.5,
            37.2,
            40.9,
            39.2,
            38.8,
            39.8,
            40.8,
            44.1,
            39.6,
            41.1,
            42.3,
            40.1,
            42,
            41.4,
            40.6,
            37.6,
            41.3,
            41.1,
            41.6,
            41.1,
            41.8,
            39.7,
            45.8,
            42.8,
            37.2,
            42.1,
            42.9,
            35.1,
            41.3,
            36.3,
            38.3,
            41.1,
            39.6,
            40.8,
            40.3,
            43.2,
            41,
            37.8,
            39.7,
            38.2,
            43.2,
            45.6,
            42.2,
            42.7,
            37.3,
            41.1,
            37.7,
            41.4,
            40.6,
            41.5,
            44.1,
            43.1,
            37.5,
            41.1,
            40.2,
            39.7,
            40.6,
            40.7,
            39,
            39.2,
            37.8,
            41.5
           ],
           "y": [
            3750,
            3650,
            4675,
            3800,
            4400,
            4500,
            4200,
            3600,
            3950,
            3800,
            3550,
            3950,
            3900,
            3900,
            4150,
            3950,
            4650,
            3900,
            4400,
            4600,
            3425,
            4150,
            4300,
            4050,
            3700,
            3800,
            3750,
            4400,
            4050,
            3950,
            4100,
            4450,
            3900,
            4150,
            4250,
            3900,
            4000,
            4700,
            4200,
            3550,
            3800,
            3950,
            4300,
            4450,
            4300,
            4350,
            4100,
            4725,
            4250,
            3550,
            3900,
            4775,
            4600,
            4275,
            4075,
            3775,
            3325,
            3500,
            3875,
            4000,
            4300,
            4000,
            3500,
            4475,
            3900,
            3975,
            4250,
            3475,
            3725,
            3650,
            4250,
            3750,
            4000
           ],
           "z": [
            18.7,
            20.6,
            19.6,
            21.2,
            21.1,
            20.7,
            21.5,
            18.7,
            18.1,
            17.2,
            18.6,
            18.9,
            18.1,
            18.9,
            21.1,
            20,
            19.1,
            18.4,
            19.7,
            18.8,
            19,
            21.2,
            18.9,
            19.5,
            18.6,
            18.8,
            19.1,
            21.1,
            18.2,
            18,
            19.1,
            19.4,
            18.4,
            18.9,
            18.5,
            19.4,
            19.1,
            17.6,
            19.4,
            20.3,
            19.5,
            19.2,
            18.1,
            18.1,
            18.9,
            18.5,
            18.5,
            20,
            20,
            18.9,
            20,
            19,
            20.3,
            19.5,
            18.3,
            20.5,
            18.6,
            19.8,
            18.5,
            19,
            18.3,
            18,
            19.2,
            18.5,
            17.5,
            20.1,
            17.9,
            17.2,
            17,
            18.7,
            18.6,
            18.1,
            18.5
           ]
          },
          {
           "customdata": [
            [
             "Dream",
             "male"
            ],
            [
             "Dream",
             "male"
            ],
            [
             "Dream",
             "male"
            ],
            [
             "Dream",
             "male"
            ],
            [
             "Dream",
             "male"
            ],
            [
             "Dream",
             "male"
            ],
            [
             "Dream",
             "male"
            ],
            [
             "Dream",
             "male"
            ],
            [
             "Dream",
             "male"
            ],
            [
             "Dream",
             "male"
            ],
            [
             "Dream",
             "male"
            ],
            [
             "Dream",
             "male"
            ],
            [
             "Dream",
             "male"
            ],
            [
             "Dream",
             "male"
            ],
            [
             "Dream",
             "male"
            ],
            [
             "Dream",
             "male"
            ],
            [
             "Dream",
             "male"
            ],
            [
             "Dream",
             "male"
            ],
            [
             "Dream",
             "male"
            ],
            [
             "Dream",
             "male"
            ],
            [
             "Dream",
             "male"
            ],
            [
             "Dream",
             "male"
            ],
            [
             "Dream",
             "male"
            ],
            [
             "Dream",
             "male"
            ],
            [
             "Dream",
             "male"
            ],
            [
             "Dream",
             "male"
            ],
            [
             "Dream",
             "male"
            ],
            [
             "Dream",
             "male"
            ],
            [
             "Dream",
             "male"
            ],
            [
             "Dream",
             "male"
            ],
            [
             "Dream",
             "male"
            ],
            [
             "Dream",
             "male"
            ],
            [
             "Dream",
             "male"
            ],
            [
             "Dream",
             "male"
            ]
           ],
           "hovertemplate": "species=Chinstrap<br>sex=%{customdata[1]}<br>bill_length_mm=%{x}<br>body_mass_g=%{y}<br>bill_depth_mm=%{z}<br>island=%{customdata[0]}<extra></extra>",
           "legendgroup": "Chinstrap",
           "marker": {
            "color": "#EF553B",
            "symbol": "circle"
           },
           "mode": "markers",
           "name": "Chinstrap",
           "scene": "scene",
           "showlegend": true,
           "type": "scatter3d",
           "x": [
            50,
            51.3,
            52.7,
            51.3,
            51.3,
            51.7,
            52,
            50.5,
            50.3,
            49.2,
            48.5,
            50.6,
            52,
            49.5,
            52.8,
            54.2,
            51,
            49.7,
            52,
            53.5,
            49,
            50.9,
            50.8,
            49,
            51.5,
            51.4,
            50.7,
            52.2,
            49.3,
            50.2,
            51.9,
            55.8,
            49.6,
            50.8
           ],
           "y": [
            3900,
            3650,
            3725,
            3750,
            3700,
            3775,
            4050,
            4050,
            3300,
            4400,
            3400,
            3800,
            4150,
            3800,
            4550,
            4300,
            4100,
            3600,
            4800,
            4500,
            3950,
            3550,
            4450,
            4300,
            3250,
            3950,
            4050,
            3450,
            4050,
            3800,
            3950,
            4000,
            3775,
            4100
           ],
           "z": [
            19.5,
            19.2,
            19.8,
            18.2,
            19.9,
            20.3,
            18.1,
            19.6,
            20,
            18.2,
            17.5,
            19.4,
            19,
            19,
            20,
            20.8,
            18.8,
            18.6,
            20.7,
            19.9,
            19.5,
            19.1,
            18.5,
            19.6,
            18.7,
            19,
            19.7,
            18.8,
            19.9,
            18.8,
            19.5,
            19.8,
            18.2,
            19
           ]
          }
         ],
         "name": "male"
        },
        {
         "data": [
          {
           "customdata": [
            [
             "Torgersen",
             "female"
            ],
            [
             "Torgersen",
             "female"
            ],
            [
             "Torgersen",
             "female"
            ],
            [
             "Torgersen",
             "female"
            ],
            [
             "Torgersen",
             "female"
            ],
            [
             "Torgersen",
             "female"
            ],
            [
             "Torgersen",
             "female"
            ],
            [
             "Torgersen",
             "female"
            ],
            [
             "Biscoe",
             "female"
            ],
            [
             "Biscoe",
             "female"
            ],
            [
             "Biscoe",
             "female"
            ],
            [
             "Biscoe",
             "female"
            ],
            [
             "Biscoe",
             "female"
            ],
            [
             "Dream",
             "female"
            ],
            [
             "Dream",
             "female"
            ],
            [
             "Dream",
             "female"
            ],
            [
             "Dream",
             "female"
            ],
            [
             "Dream",
             "female"
            ],
            [
             "Dream",
             "female"
            ],
            [
             "Dream",
             "female"
            ],
            [
             "Dream",
             "female"
            ],
            [
             "Dream",
             "female"
            ],
            [
             "Biscoe",
             "female"
            ],
            [
             "Biscoe",
             "female"
            ],
            [
             "Biscoe",
             "female"
            ],
            [
             "Biscoe",
             "female"
            ],
            [
             "Biscoe",
             "female"
            ],
            [
             "Biscoe",
             "female"
            ],
            [
             "Biscoe",
             "female"
            ],
            [
             "Biscoe",
             "female"
            ],
            [
             "Biscoe",
             "female"
            ],
            [
             "Torgersen",
             "female"
            ],
            [
             "Torgersen",
             "female"
            ],
            [
             "Torgersen",
             "female"
            ],
            [
             "Torgersen",
             "female"
            ],
            [
             "Torgersen",
             "female"
            ],
            [
             "Torgersen",
             "female"
            ],
            [
             "Torgersen",
             "female"
            ],
            [
             "Torgersen",
             "female"
            ],
            [
             "Dream",
             "female"
            ],
            [
             "Dream",
             "female"
            ],
            [
             "Dream",
             "female"
            ],
            [
             "Dream",
             "female"
            ],
            [
             "Dream",
             "female"
            ],
            [
             "Dream",
             "female"
            ],
            [
             "Dream",
             "female"
            ],
            [
             "Dream",
             "female"
            ],
            [
             "Biscoe",
             "female"
            ],
            [
             "Biscoe",
             "female"
            ],
            [
             "Biscoe",
             "female"
            ],
            [
             "Biscoe",
             "female"
            ],
            [
             "Biscoe",
             "female"
            ],
            [
             "Biscoe",
             "female"
            ],
            [
             "Biscoe",
             "female"
            ],
            [
             "Biscoe",
             "female"
            ],
            [
             "Torgersen",
             "female"
            ],
            [
             "Torgersen",
             "female"
            ],
            [
             "Torgersen",
             "female"
            ],
            [
             "Torgersen",
             "female"
            ],
            [
             "Torgersen",
             "female"
            ],
            [
             "Torgersen",
             "female"
            ],
            [
             "Torgersen",
             "female"
            ],
            [
             "Torgersen",
             "female"
            ],
            [
             "Dream",
             "female"
            ],
            [
             "Dream",
             "female"
            ],
            [
             "Dream",
             "female"
            ],
            [
             "Dream",
             "female"
            ],
            [
             "Dream",
             "female"
            ],
            [
             "Dream",
             "female"
            ],
            [
             "Dream",
             "female"
            ],
            [
             "Dream",
             "female"
            ],
            [
             "Dream",
             "female"
            ],
            [
             "Dream",
             "female"
            ]
           ],
           "hovertemplate": "species=Adelie<br>sex=%{customdata[1]}<br>bill_length_mm=%{x}<br>body_mass_g=%{y}<br>bill_depth_mm=%{z}<br>island=%{customdata[0]}<extra></extra>",
           "legendgroup": "Adelie",
           "marker": {
            "color": "#636efa",
            "symbol": "circle"
           },
           "mode": "markers",
           "name": "Adelie",
           "scene": "scene",
           "showlegend": true,
           "type": "scatter3d",
           "x": [
            39.5,
            40.3,
            36.7,
            38.9,
            41.1,
            36.6,
            38.7,
            34.4,
            37.8,
            35.9,
            35.3,
            40.5,
            37.9,
            39.5,
            39.5,
            36.4,
            42.2,
            37.6,
            36.5,
            36,
            37,
            36,
            39.6,
            35,
            34.5,
            39,
            36.5,
            35.7,
            37.6,
            36.4,
            35.5,
            35.9,
            33.5,
            39.6,
            35.5,
            40.9,
            36.2,
            34.6,
            36.7,
            37.3,
            36.9,
            38.9,
            35.7,
            34,
            36.2,
            38.1,
            33.1,
            35,
            37.7,
            37.9,
            38.6,
            38.1,
            38.1,
            39.7,
            39.6,
            38.6,
            35.7,
            36.2,
            40.2,
            35.2,
            38.8,
            39,
            38.5,
            36.8,
            38.1,
            35.6,
            37,
            40.2,
            32.1,
            37.3,
            36.6,
            36,
            36
           ],
           "y": [
            3800,
            3250,
            3450,
            3625,
            3200,
            3700,
            3450,
            3325,
            3400,
            3800,
            3800,
            3200,
            3150,
            3250,
            3300,
            3325,
            3550,
            3300,
            3150,
            3100,
            3000,
            3450,
            3500,
            3450,
            2900,
            3550,
            2850,
            3150,
            3600,
            2850,
            3350,
            3050,
            3600,
            3550,
            3700,
            3700,
            3550,
            3200,
            3800,
            3350,
            3500,
            3600,
            3550,
            3400,
            3300,
            3700,
            2900,
            3725,
            3075,
            2925,
            3750,
            3175,
            3825,
            3200,
            3900,
            2900,
            3350,
            3150,
            3450,
            3050,
            3275,
            3050,
            3325,
            3500,
            3425,
            3175,
            3400,
            3400,
            3050,
            3000,
            3475,
            3450,
            3700
           ],
           "z": [
            17.4,
            18,
            19.3,
            17.8,
            17.6,
            17.8,
            19,
            18.4,
            18.3,
            19.2,
            18.9,
            17.9,
            18.6,
            16.7,
            17.8,
            17,
            18.5,
            19.3,
            18,
            18.5,
            16.9,
            17.9,
            17.7,
            17.9,
            18.1,
            17.5,
            16.6,
            16.9,
            17,
            17.1,
            16.2,
            16.6,
            19,
            17.2,
            17.5,
            16.8,
            16.1,
            17.2,
            18.8,
            17.8,
            18.6,
            18.8,
            18,
            17.1,
            17.3,
            18.6,
            16.1,
            17.9,
            16,
            18.6,
            17.2,
            17,
            16.5,
            17.7,
            20.7,
            17,
            17,
            17.2,
            17,
            15.9,
            17.6,
            17.1,
            17.9,
            18.5,
            17.6,
            17.5,
            16.5,
            17.1,
            15.5,
            16.8,
            18.4,
            17.8,
            17.1
           ]
          },
          {
           "customdata": [
            [
             "Dream",
             "female"
            ],
            [
             "Dream",
             "female"
            ],
            [
             "Dream",
             "female"
            ],
            [
             "Dream",
             "female"
            ],
            [
             "Dream",
             "female"
            ],
            [
             "Dream",
             "female"
            ],
            [
             "Dream",
             "female"
            ],
            [
             "Dream",
             "female"
            ],
            [
             "Dream",
             "female"
            ],
            [
             "Dream",
             "female"
            ],
            [
             "Dream",
             "female"
            ],
            [
             "Dream",
             "female"
            ],
            [
             "Dream",
             "female"
            ],
            [
             "Dream",
             "female"
            ],
            [
             "Dream",
             "female"
            ],
            [
             "Dream",
             "female"
            ],
            [
             "Dream",
             "female"
            ],
            [
             "Dream",
             "female"
            ],
            [
             "Dream",
             "female"
            ],
            [
             "Dream",
             "female"
            ],
            [
             "Dream",
             "female"
            ],
            [
             "Dream",
             "female"
            ],
            [
             "Dream",
             "female"
            ],
            [
             "Dream",
             "female"
            ],
            [
             "Dream",
             "female"
            ],
            [
             "Dream",
             "female"
            ],
            [
             "Dream",
             "female"
            ],
            [
             "Dream",
             "female"
            ],
            [
             "Dream",
             "female"
            ],
            [
             "Dream",
             "female"
            ],
            [
             "Dream",
             "female"
            ],
            [
             "Dream",
             "female"
            ],
            [
             "Dream",
             "female"
            ],
            [
             "Dream",
             "female"
            ]
           ],
           "hovertemplate": "species=Chinstrap<br>sex=%{customdata[1]}<br>bill_length_mm=%{x}<br>body_mass_g=%{y}<br>bill_depth_mm=%{z}<br>island=%{customdata[0]}<extra></extra>",
           "legendgroup": "Chinstrap",
           "marker": {
            "color": "#EF553B",
            "symbol": "circle"
           },
           "mode": "markers",
           "name": "Chinstrap",
           "scene": "scene",
           "showlegend": true,
           "type": "scatter3d",
           "x": [
            46.5,
            45.4,
            45.2,
            46.1,
            46,
            46.6,
            47,
            45.9,
            58,
            46.4,
            42.4,
            43.2,
            46.7,
            50.5,
            46.4,
            40.9,
            42.5,
            47.5,
            47.6,
            46.9,
            46.2,
            45.5,
            50.9,
            50.1,
            49.8,
            48.1,
            45.7,
            42.5,
            45.2,
            45.6,
            46.8,
            45.7,
            43.5,
            50.2
           ],
           "y": [
            3500,
            3525,
            3950,
            3250,
            4150,
            3800,
            3700,
            3575,
            3700,
            3450,
            3600,
            2900,
            3300,
            3400,
            3700,
            3200,
            3350,
            3900,
            3850,
            2700,
            3650,
            3500,
            3675,
            3400,
            3675,
            3325,
            3600,
            3350,
            3250,
            3525,
            3650,
            3650,
            3400,
            3775
           ],
           "z": [
            17.9,
            18.7,
            17.8,
            18.2,
            18.9,
            17.8,
            17.3,
            17.1,
            17.8,
            18.6,
            17.3,
            16.6,
            17.9,
            18.4,
            17.8,
            16.6,
            16.7,
            16.8,
            18.3,
            16.6,
            17.5,
            17,
            17.9,
            17.9,
            17.3,
            16.4,
            17.3,
            17.3,
            16.6,
            19.4,
            16.5,
            17,
            18.1,
            18.7
           ]
          }
         ],
         "name": "female"
        }
       ],
       "layout": {
        "height": 600,
        "legend": {
         "title": {
          "text": "species"
         },
         "tracegroupgap": 0
        },
        "scene": {
         "aspectmode": "auto",
         "aspectratio": {
          "x": 1,
          "y": 1,
          "z": 1
         },
         "camera": {
          "center": {
           "x": 0,
           "y": 0,
           "z": 0
          },
          "eye": {
           "x": 0.11050541778323457,
           "y": 2.1553493056371025,
           "z": 0.17250485016432113
          },
          "projection": {
           "type": "perspective"
          },
          "up": {
           "x": 0,
           "y": 0,
           "z": 1
          }
         },
         "domain": {
          "x": [
           0,
           1
          ],
          "y": [
           0,
           1
          ]
         },
         "xaxis": {
          "title": {
           "text": "bill_length_mm"
          },
          "type": "linear"
         },
         "yaxis": {
          "title": {
           "text": "body_mass_g"
          },
          "type": "linear"
         },
         "zaxis": {
          "title": {
           "text": "bill_depth_mm"
          },
          "type": "linear"
         }
        },
        "sliders": [
         {
          "active": 1,
          "currentvalue": {
           "prefix": "sex="
          },
          "len": 0.9,
          "pad": {
           "b": 10,
           "t": 60
          },
          "steps": [
           {
            "args": [
             [
              "male"
             ],
             {
              "frame": {
               "duration": 0,
               "redraw": true
              },
              "fromcurrent": true,
              "mode": "immediate",
              "transition": {
               "duration": 0,
               "easing": "linear"
              }
             }
            ],
            "label": "male",
            "method": "animate"
           },
           {
            "args": [
             [
              "female"
             ],
             {
              "frame": {
               "duration": 0,
               "redraw": true
              },
              "fromcurrent": true,
              "mode": "immediate",
              "transition": {
               "duration": 0,
               "easing": "linear"
              }
             }
            ],
            "label": "female",
            "method": "animate"
           }
          ],
          "x": 0.1,
          "xanchor": "left",
          "y": 0,
          "yanchor": "top"
         }
        ],
        "template": {
         "data": {
          "bar": [
           {
            "error_x": {
             "color": "#2a3f5f"
            },
            "error_y": {
             "color": "#2a3f5f"
            },
            "marker": {
             "line": {
              "color": "#E5ECF6",
              "width": 0.5
             },
             "pattern": {
              "fillmode": "overlay",
              "size": 10,
              "solidity": 0.2
             }
            },
            "type": "bar"
           }
          ],
          "barpolar": [
           {
            "marker": {
             "line": {
              "color": "#E5ECF6",
              "width": 0.5
             },
             "pattern": {
              "fillmode": "overlay",
              "size": 10,
              "solidity": 0.2
             }
            },
            "type": "barpolar"
           }
          ],
          "carpet": [
           {
            "aaxis": {
             "endlinecolor": "#2a3f5f",
             "gridcolor": "white",
             "linecolor": "white",
             "minorgridcolor": "white",
             "startlinecolor": "#2a3f5f"
            },
            "baxis": {
             "endlinecolor": "#2a3f5f",
             "gridcolor": "white",
             "linecolor": "white",
             "minorgridcolor": "white",
             "startlinecolor": "#2a3f5f"
            },
            "type": "carpet"
           }
          ],
          "choropleth": [
           {
            "colorbar": {
             "outlinewidth": 0,
             "ticks": ""
            },
            "type": "choropleth"
           }
          ],
          "contour": [
           {
            "colorbar": {
             "outlinewidth": 0,
             "ticks": ""
            },
            "colorscale": [
             [
              0,
              "#0d0887"
             ],
             [
              0.1111111111111111,
              "#46039f"
             ],
             [
              0.2222222222222222,
              "#7201a8"
             ],
             [
              0.3333333333333333,
              "#9c179e"
             ],
             [
              0.4444444444444444,
              "#bd3786"
             ],
             [
              0.5555555555555556,
              "#d8576b"
             ],
             [
              0.6666666666666666,
              "#ed7953"
             ],
             [
              0.7777777777777778,
              "#fb9f3a"
             ],
             [
              0.8888888888888888,
              "#fdca26"
             ],
             [
              1,
              "#f0f921"
             ]
            ],
            "type": "contour"
           }
          ],
          "contourcarpet": [
           {
            "colorbar": {
             "outlinewidth": 0,
             "ticks": ""
            },
            "type": "contourcarpet"
           }
          ],
          "heatmap": [
           {
            "colorbar": {
             "outlinewidth": 0,
             "ticks": ""
            },
            "colorscale": [
             [
              0,
              "#0d0887"
             ],
             [
              0.1111111111111111,
              "#46039f"
             ],
             [
              0.2222222222222222,
              "#7201a8"
             ],
             [
              0.3333333333333333,
              "#9c179e"
             ],
             [
              0.4444444444444444,
              "#bd3786"
             ],
             [
              0.5555555555555556,
              "#d8576b"
             ],
             [
              0.6666666666666666,
              "#ed7953"
             ],
             [
              0.7777777777777778,
              "#fb9f3a"
             ],
             [
              0.8888888888888888,
              "#fdca26"
             ],
             [
              1,
              "#f0f921"
             ]
            ],
            "type": "heatmap"
           }
          ],
          "heatmapgl": [
           {
            "colorbar": {
             "outlinewidth": 0,
             "ticks": ""
            },
            "colorscale": [
             [
              0,
              "#0d0887"
             ],
             [
              0.1111111111111111,
              "#46039f"
             ],
             [
              0.2222222222222222,
              "#7201a8"
             ],
             [
              0.3333333333333333,
              "#9c179e"
             ],
             [
              0.4444444444444444,
              "#bd3786"
             ],
             [
              0.5555555555555556,
              "#d8576b"
             ],
             [
              0.6666666666666666,
              "#ed7953"
             ],
             [
              0.7777777777777778,
              "#fb9f3a"
             ],
             [
              0.8888888888888888,
              "#fdca26"
             ],
             [
              1,
              "#f0f921"
             ]
            ],
            "type": "heatmapgl"
           }
          ],
          "histogram": [
           {
            "marker": {
             "pattern": {
              "fillmode": "overlay",
              "size": 10,
              "solidity": 0.2
             }
            },
            "type": "histogram"
           }
          ],
          "histogram2d": [
           {
            "colorbar": {
             "outlinewidth": 0,
             "ticks": ""
            },
            "colorscale": [
             [
              0,
              "#0d0887"
             ],
             [
              0.1111111111111111,
              "#46039f"
             ],
             [
              0.2222222222222222,
              "#7201a8"
             ],
             [
              0.3333333333333333,
              "#9c179e"
             ],
             [
              0.4444444444444444,
              "#bd3786"
             ],
             [
              0.5555555555555556,
              "#d8576b"
             ],
             [
              0.6666666666666666,
              "#ed7953"
             ],
             [
              0.7777777777777778,
              "#fb9f3a"
             ],
             [
              0.8888888888888888,
              "#fdca26"
             ],
             [
              1,
              "#f0f921"
             ]
            ],
            "type": "histogram2d"
           }
          ],
          "histogram2dcontour": [
           {
            "colorbar": {
             "outlinewidth": 0,
             "ticks": ""
            },
            "colorscale": [
             [
              0,
              "#0d0887"
             ],
             [
              0.1111111111111111,
              "#46039f"
             ],
             [
              0.2222222222222222,
              "#7201a8"
             ],
             [
              0.3333333333333333,
              "#9c179e"
             ],
             [
              0.4444444444444444,
              "#bd3786"
             ],
             [
              0.5555555555555556,
              "#d8576b"
             ],
             [
              0.6666666666666666,
              "#ed7953"
             ],
             [
              0.7777777777777778,
              "#fb9f3a"
             ],
             [
              0.8888888888888888,
              "#fdca26"
             ],
             [
              1,
              "#f0f921"
             ]
            ],
            "type": "histogram2dcontour"
           }
          ],
          "mesh3d": [
           {
            "colorbar": {
             "outlinewidth": 0,
             "ticks": ""
            },
            "type": "mesh3d"
           }
          ],
          "parcoords": [
           {
            "line": {
             "colorbar": {
              "outlinewidth": 0,
              "ticks": ""
             }
            },
            "type": "parcoords"
           }
          ],
          "pie": [
           {
            "automargin": true,
            "type": "pie"
           }
          ],
          "scatter": [
           {
            "fillpattern": {
             "fillmode": "overlay",
             "size": 10,
             "solidity": 0.2
            },
            "type": "scatter"
           }
          ],
          "scatter3d": [
           {
            "line": {
             "colorbar": {
              "outlinewidth": 0,
              "ticks": ""
             }
            },
            "marker": {
             "colorbar": {
              "outlinewidth": 0,
              "ticks": ""
             }
            },
            "type": "scatter3d"
           }
          ],
          "scattercarpet": [
           {
            "marker": {
             "colorbar": {
              "outlinewidth": 0,
              "ticks": ""
             }
            },
            "type": "scattercarpet"
           }
          ],
          "scattergeo": [
           {
            "marker": {
             "colorbar": {
              "outlinewidth": 0,
              "ticks": ""
             }
            },
            "type": "scattergeo"
           }
          ],
          "scattergl": [
           {
            "marker": {
             "colorbar": {
              "outlinewidth": 0,
              "ticks": ""
             }
            },
            "type": "scattergl"
           }
          ],
          "scattermapbox": [
           {
            "marker": {
             "colorbar": {
              "outlinewidth": 0,
              "ticks": ""
             }
            },
            "type": "scattermapbox"
           }
          ],
          "scatterpolar": [
           {
            "marker": {
             "colorbar": {
              "outlinewidth": 0,
              "ticks": ""
             }
            },
            "type": "scatterpolar"
           }
          ],
          "scatterpolargl": [
           {
            "marker": {
             "colorbar": {
              "outlinewidth": 0,
              "ticks": ""
             }
            },
            "type": "scatterpolargl"
           }
          ],
          "scatterternary": [
           {
            "marker": {
             "colorbar": {
              "outlinewidth": 0,
              "ticks": ""
             }
            },
            "type": "scatterternary"
           }
          ],
          "surface": [
           {
            "colorbar": {
             "outlinewidth": 0,
             "ticks": ""
            },
            "colorscale": [
             [
              0,
              "#0d0887"
             ],
             [
              0.1111111111111111,
              "#46039f"
             ],
             [
              0.2222222222222222,
              "#7201a8"
             ],
             [
              0.3333333333333333,
              "#9c179e"
             ],
             [
              0.4444444444444444,
              "#bd3786"
             ],
             [
              0.5555555555555556,
              "#d8576b"
             ],
             [
              0.6666666666666666,
              "#ed7953"
             ],
             [
              0.7777777777777778,
              "#fb9f3a"
             ],
             [
              0.8888888888888888,
              "#fdca26"
             ],
             [
              1,
              "#f0f921"
             ]
            ],
            "type": "surface"
           }
          ],
          "table": [
           {
            "cells": {
             "fill": {
              "color": "#EBF0F8"
             },
             "line": {
              "color": "white"
             }
            },
            "header": {
             "fill": {
              "color": "#C8D4E3"
             },
             "line": {
              "color": "white"
             }
            },
            "type": "table"
           }
          ]
         },
         "layout": {
          "annotationdefaults": {
           "arrowcolor": "#2a3f5f",
           "arrowhead": 0,
           "arrowwidth": 1
          },
          "autotypenumbers": "strict",
          "coloraxis": {
           "colorbar": {
            "outlinewidth": 0,
            "ticks": ""
           }
          },
          "colorscale": {
           "diverging": [
            [
             0,
             "#8e0152"
            ],
            [
             0.1,
             "#c51b7d"
            ],
            [
             0.2,
             "#de77ae"
            ],
            [
             0.3,
             "#f1b6da"
            ],
            [
             0.4,
             "#fde0ef"
            ],
            [
             0.5,
             "#f7f7f7"
            ],
            [
             0.6,
             "#e6f5d0"
            ],
            [
             0.7,
             "#b8e186"
            ],
            [
             0.8,
             "#7fbc41"
            ],
            [
             0.9,
             "#4d9221"
            ],
            [
             1,
             "#276419"
            ]
           ],
           "sequential": [
            [
             0,
             "#0d0887"
            ],
            [
             0.1111111111111111,
             "#46039f"
            ],
            [
             0.2222222222222222,
             "#7201a8"
            ],
            [
             0.3333333333333333,
             "#9c179e"
            ],
            [
             0.4444444444444444,
             "#bd3786"
            ],
            [
             0.5555555555555556,
             "#d8576b"
            ],
            [
             0.6666666666666666,
             "#ed7953"
            ],
            [
             0.7777777777777778,
             "#fb9f3a"
            ],
            [
             0.8888888888888888,
             "#fdca26"
            ],
            [
             1,
             "#f0f921"
            ]
           ],
           "sequentialminus": [
            [
             0,
             "#0d0887"
            ],
            [
             0.1111111111111111,
             "#46039f"
            ],
            [
             0.2222222222222222,
             "#7201a8"
            ],
            [
             0.3333333333333333,
             "#9c179e"
            ],
            [
             0.4444444444444444,
             "#bd3786"
            ],
            [
             0.5555555555555556,
             "#d8576b"
            ],
            [
             0.6666666666666666,
             "#ed7953"
            ],
            [
             0.7777777777777778,
             "#fb9f3a"
            ],
            [
             0.8888888888888888,
             "#fdca26"
            ],
            [
             1,
             "#f0f921"
            ]
           ]
          },
          "colorway": [
           "#636efa",
           "#EF553B",
           "#00cc96",
           "#ab63fa",
           "#FFA15A",
           "#19d3f3",
           "#FF6692",
           "#B6E880",
           "#FF97FF",
           "#FECB52"
          ],
          "font": {
           "color": "#2a3f5f"
          },
          "geo": {
           "bgcolor": "white",
           "lakecolor": "white",
           "landcolor": "#E5ECF6",
           "showlakes": true,
           "showland": true,
           "subunitcolor": "white"
          },
          "hoverlabel": {
           "align": "left"
          },
          "hovermode": "closest",
          "mapbox": {
           "style": "light"
          },
          "paper_bgcolor": "white",
          "plot_bgcolor": "#E5ECF6",
          "polar": {
           "angularaxis": {
            "gridcolor": "white",
            "linecolor": "white",
            "ticks": ""
           },
           "bgcolor": "#E5ECF6",
           "radialaxis": {
            "gridcolor": "white",
            "linecolor": "white",
            "ticks": ""
           }
          },
          "scene": {
           "xaxis": {
            "backgroundcolor": "#E5ECF6",
            "gridcolor": "white",
            "gridwidth": 2,
            "linecolor": "white",
            "showbackground": true,
            "ticks": "",
            "zerolinecolor": "white"
           },
           "yaxis": {
            "backgroundcolor": "#E5ECF6",
            "gridcolor": "white",
            "gridwidth": 2,
            "linecolor": "white",
            "showbackground": true,
            "ticks": "",
            "zerolinecolor": "white"
           },
           "zaxis": {
            "backgroundcolor": "#E5ECF6",
            "gridcolor": "white",
            "gridwidth": 2,
            "linecolor": "white",
            "showbackground": true,
            "ticks": "",
            "zerolinecolor": "white"
           }
          },
          "shapedefaults": {
           "line": {
            "color": "#2a3f5f"
           }
          },
          "ternary": {
           "aaxis": {
            "gridcolor": "white",
            "linecolor": "white",
            "ticks": ""
           },
           "baxis": {
            "gridcolor": "white",
            "linecolor": "white",
            "ticks": ""
           },
           "bgcolor": "#E5ECF6",
           "caxis": {
            "gridcolor": "white",
            "linecolor": "white",
            "ticks": ""
           }
          },
          "title": {
           "x": 0.05
          },
          "xaxis": {
           "automargin": true,
           "gridcolor": "white",
           "linecolor": "white",
           "ticks": "",
           "title": {
            "standoff": 15
           },
           "zerolinecolor": "white",
           "zerolinewidth": 2
          },
          "yaxis": {
           "automargin": true,
           "gridcolor": "white",
           "linecolor": "white",
           "ticks": "",
           "title": {
            "standoff": 15
           },
           "zerolinecolor": "white",
           "zerolinewidth": 2
          }
         }
        },
        "title": {
         "text": "Penguin Bill Length vs Bill Depth Over Time"
        },
        "updatemenus": [
         {
          "buttons": [
           {
            "args": [
             null,
             {
              "frame": {
               "duration": 500,
               "redraw": true
              },
              "fromcurrent": true,
              "mode": "immediate",
              "transition": {
               "duration": 500,
               "easing": "linear"
              }
             }
            ],
            "label": "&#9654;",
            "method": "animate"
           },
           {
            "args": [
             [
              null
             ],
             {
              "frame": {
               "duration": 0,
               "redraw": true
              },
              "fromcurrent": true,
              "mode": "immediate",
              "transition": {
               "duration": 0,
               "easing": "linear"
              }
             }
            ],
            "label": "&#9724;",
            "method": "animate"
           }
          ],
          "direction": "left",
          "pad": {
           "r": 10,
           "t": 70
          },
          "showactive": false,
          "type": "buttons",
          "x": 0.1,
          "xanchor": "right",
          "y": 0,
          "yanchor": "top"
         }
        ],
        "width": 800
       }
      },
      "image/png": "[encoded data removed]",
      "text/html": [
       "<div>                            <div id=\"49d08577-a1b1-473d-a737-6faf2977337d\" class=\"plotly-graph-div\" style=\"height:600px; width:800px;\"></div>            <script type=\"text/javascript\">                require([\"plotly\"], function(Plotly) {                    window.PLOTLYENV=window.PLOTLYENV || {};                                    if (document.getElementById(\"49d08577-a1b1-473d-a737-6faf2977337d\")) {                    Plotly.newPlot(                        \"49d08577-a1b1-473d-a737-6faf2977337d\",                        [{\"customdata\":[[\"Torgersen\",\"male\"],[\"Torgersen\",\"male\"],[\"Torgersen\",\"male\"],[\"Torgersen\",\"male\"],[\"Torgersen\",\"male\"],[\"Torgersen\",\"male\"],[\"Torgersen\",\"male\"],[\"Biscoe\",\"male\"],[\"Biscoe\",\"male\"],[\"Biscoe\",\"male\"],[\"Biscoe\",\"male\"],[\"Biscoe\",\"male\"],[\"Dream\",\"male\"],[\"Dream\",\"male\"],[\"Dream\",\"male\"],[\"Dream\",\"male\"],[\"Dream\",\"male\"],[\"Dream\",\"male\"],[\"Dream\",\"male\"],[\"Dream\",\"male\"],[\"Dream\",\"male\"],[\"Dream\",\"male\"],[\"Biscoe\",\"male\"],[\"Biscoe\",\"male\"],[\"Biscoe\",\"male\"],[\"Biscoe\",\"male\"],[\"Biscoe\",\"male\"],[\"Biscoe\",\"male\"],[\"Biscoe\",\"male\"],[\"Biscoe\",\"male\"],[\"Biscoe\",\"male\"],[\"Torgersen\",\"male\"],[\"Torgersen\",\"male\"],[\"Torgersen\",\"male\"],[\"Torgersen\",\"male\"],[\"Torgersen\",\"male\"],[\"Torgersen\",\"male\"],[\"Torgersen\",\"male\"],[\"Torgersen\",\"male\"],[\"Dream\",\"male\"],[\"Dream\",\"male\"],[\"Dream\",\"male\"],[\"Dream\",\"male\"],[\"Dream\",\"male\"],[\"Dream\",\"male\"],[\"Dream\",\"male\"],[\"Dream\",\"male\"],[\"Biscoe\",\"male\"],[\"Biscoe\",\"male\"],[\"Biscoe\",\"male\"],[\"Biscoe\",\"male\"],[\"Biscoe\",\"male\"],[\"Biscoe\",\"male\"],[\"Biscoe\",\"male\"],[\"Biscoe\",\"male\"],[\"Torgersen\",\"male\"],[\"Torgersen\",\"male\"],[\"Torgersen\",\"male\"],[\"Torgersen\",\"male\"],[\"Torgersen\",\"male\"],[\"Torgersen\",\"male\"],[\"Torgersen\",\"male\"],[\"Torgersen\",\"male\"],[\"Dream\",\"male\"],[\"Dream\",\"male\"],[\"Dream\",\"male\"],[\"Dream\",\"male\"],[\"Dream\",\"male\"],[\"Dream\",\"male\"],[\"Dream\",\"male\"],[\"Dream\",\"male\"],[\"Dream\",\"male\"],[\"Dream\",\"male\"]],\"hovertemplate\":\"species=Adelie\\u003cbr\\u003esex=%{customdata[1]}\\u003cbr\\u003ebill_length_mm=%{x}\\u003cbr\\u003ebody_mass_g=%{y}\\u003cbr\\u003ebill_depth_mm=%{z}\\u003cbr\\u003eisland=%{customdata[0]}\\u003cextra\\u003e\\u003c\\u002fextra\\u003e\",\"legendgroup\":\"Adelie\",\"marker\":{\"color\":\"#636efa\",\"symbol\":\"circle\"},\"mode\":\"markers\",\"name\":\"Adelie\",\"scene\":\"scene\",\"showlegend\":true,\"x\":[39.1,39.3,39.2,38.6,34.6,42.5,46.0,37.7,38.2,38.8,40.6,40.5,37.2,40.9,39.2,38.8,39.8,40.8,44.1,39.6,41.1,42.3,40.1,42.0,41.4,40.6,37.6,41.3,41.1,41.6,41.1,41.8,39.7,45.8,42.8,37.2,42.1,42.9,35.1,41.3,36.3,38.3,41.1,39.6,40.8,40.3,43.2,41.0,37.8,39.7,38.2,43.2,45.6,42.2,42.7,37.3,41.1,37.7,41.4,40.6,41.5,44.1,43.1,37.5,41.1,40.2,39.7,40.6,40.7,39.0,39.2,37.8,41.5],\"y\":[3750.0,3650.0,4675.0,3800.0,4400.0,4500.0,4200.0,3600.0,3950.0,3800.0,3550.0,3950.0,3900.0,3900.0,4150.0,3950.0,4650.0,3900.0,4400.0,4600.0,3425.0,4150.0,4300.0,4050.0,3700.0,3800.0,3750.0,4400.0,4050.0,3950.0,4100.0,4450.0,3900.0,4150.0,4250.0,3900.0,4000.0,4700.0,4200.0,3550.0,3800.0,3950.0,4300.0,4450.0,4300.0,4350.0,4100.0,4725.0,4250.0,3550.0,3900.0,4775.0,4600.0,4275.0,4075.0,3775.0,3325.0,3500.0,3875.0,4000.0,4300.0,4000.0,3500.0,4475.0,3900.0,3975.0,4250.0,3475.0,3725.0,3650.0,4250.0,3750.0,4000.0],\"z\":[18.7,20.6,19.6,21.2,21.1,20.7,21.5,18.7,18.1,17.2,18.6,18.9,18.1,18.9,21.1,20.0,19.1,18.4,19.7,18.8,19.0,21.2,18.9,19.5,18.6,18.8,19.1,21.1,18.2,18.0,19.1,19.4,18.4,18.9,18.5,19.4,19.1,17.6,19.4,20.3,19.5,19.2,18.1,18.1,18.9,18.5,18.5,20.0,20.0,18.9,20.0,19.0,20.3,19.5,18.3,20.5,18.6,19.8,18.5,19.0,18.3,18.0,19.2,18.5,17.5,20.1,17.9,17.2,17.0,18.7,18.6,18.1,18.5],\"type\":\"scatter3d\"},{\"customdata\":[[\"Dream\",\"male\"],[\"Dream\",\"male\"],[\"Dream\",\"male\"],[\"Dream\",\"male\"],[\"Dream\",\"male\"],[\"Dream\",\"male\"],[\"Dream\",\"male\"],[\"Dream\",\"male\"],[\"Dream\",\"male\"],[\"Dream\",\"male\"],[\"Dream\",\"male\"],[\"Dream\",\"male\"],[\"Dream\",\"male\"],[\"Dream\",\"male\"],[\"Dream\",\"male\"],[\"Dream\",\"male\"],[\"Dream\",\"male\"],[\"Dream\",\"male\"],[\"Dream\",\"male\"],[\"Dream\",\"male\"],[\"Dream\",\"male\"],[\"Dream\",\"male\"],[\"Dream\",\"male\"],[\"Dream\",\"male\"],[\"Dream\",\"male\"],[\"Dream\",\"male\"],[\"Dream\",\"male\"],[\"Dream\",\"male\"],[\"Dream\",\"male\"],[\"Dream\",\"male\"],[\"Dream\",\"male\"],[\"Dream\",\"male\"],[\"Dream\",\"male\"],[\"Dream\",\"male\"]],\"hovertemplate\":\"species=Chinstrap\\u003cbr\\u003esex=%{customdata[1]}\\u003cbr\\u003ebill_length_mm=%{x}\\u003cbr\\u003ebody_mass_g=%{y}\\u003cbr\\u003ebill_depth_mm=%{z}\\u003cbr\\u003eisland=%{customdata[0]}\\u003cextra\\u003e\\u003c\\u002fextra\\u003e\",\"legendgroup\":\"Chinstrap\",\"marker\":{\"color\":\"#EF553B\",\"symbol\":\"circle\"},\"mode\":\"markers\",\"name\":\"Chinstrap\",\"scene\":\"scene\",\"showlegend\":true,\"x\":[50.0,51.3,52.7,51.3,51.3,51.7,52.0,50.5,50.3,49.2,48.5,50.6,52.0,49.5,52.8,54.2,51.0,49.7,52.0,53.5,49.0,50.9,50.8,49.0,51.5,51.4,50.7,52.2,49.3,50.2,51.9,55.8,49.6,50.8],\"y\":[3900.0,3650.0,3725.0,3750.0,3700.0,3775.0,4050.0,4050.0,3300.0,4400.0,3400.0,3800.0,4150.0,3800.0,4550.0,4300.0,4100.0,3600.0,4800.0,4500.0,3950.0,3550.0,4450.0,4300.0,3250.0,3950.0,4050.0,3450.0,4050.0,3800.0,3950.0,4000.0,3775.0,4100.0],\"z\":[19.5,19.2,19.8,18.2,19.9,20.3,18.1,19.6,20.0,18.2,17.5,19.4,19.0,19.0,20.0,20.8,18.8,18.6,20.7,19.9,19.5,19.1,18.5,19.6,18.7,19.0,19.7,18.8,19.9,18.8,19.5,19.8,18.2,19.0],\"type\":\"scatter3d\"}],                        {\"template\":{\"data\":{\"histogram2dcontour\":[{\"type\":\"histogram2dcontour\",\"colorbar\":{\"outlinewidth\":0,\"ticks\":\"\"},\"colorscale\":[[0.0,\"#0d0887\"],[0.1111111111111111,\"#46039f\"],[0.2222222222222222,\"#7201a8\"],[0.3333333333333333,\"#9c179e\"],[0.4444444444444444,\"#bd3786\"],[0.5555555555555556,\"#d8576b\"],[0.6666666666666666,\"#ed7953\"],[0.7777777777777778,\"#fb9f3a\"],[0.8888888888888888,\"#fdca26\"],[1.0,\"#f0f921\"]]}],\"choropleth\":[{\"type\":\"choropleth\",\"colorbar\":{\"outlinewidth\":0,\"ticks\":\"\"}}],\"histogram2d\":[{\"type\":\"histogram2d\",\"colorbar\":{\"outlinewidth\":0,\"ticks\":\"\"},\"colorscale\":[[0.0,\"#0d0887\"],[0.1111111111111111,\"#46039f\"],[0.2222222222222222,\"#7201a8\"],[0.3333333333333333,\"#9c179e\"],[0.4444444444444444,\"#bd3786\"],[0.5555555555555556,\"#d8576b\"],[0.6666666666666666,\"#ed7953\"],[0.7777777777777778,\"#fb9f3a\"],[0.8888888888888888,\"#fdca26\"],[1.0,\"#f0f921\"]]}],\"heatmap\":[{\"type\":\"heatmap\",\"colorbar\":{\"outlinewidth\":0,\"ticks\":\"\"},\"colorscale\":[[0.0,\"#0d0887\"],[0.1111111111111111,\"#46039f\"],[0.2222222222222222,\"#7201a8\"],[0.3333333333333333,\"#9c179e\"],[0.4444444444444444,\"#bd3786\"],[0.5555555555555556,\"#d8576b\"],[0.6666666666666666,\"#ed7953\"],[0.7777777777777778,\"#fb9f3a\"],[0.8888888888888888,\"#fdca26\"],[1.0,\"#f0f921\"]]}],\"heatmapgl\":[{\"type\":\"heatmapgl\",\"colorbar\":{\"outlinewidth\":0,\"ticks\":\"\"},\"colorscale\":[[0.0,\"#0d0887\"],[0.1111111111111111,\"#46039f\"],[0.2222222222222222,\"#7201a8\"],[0.3333333333333333,\"#9c179e\"],[0.4444444444444444,\"#bd3786\"],[0.5555555555555556,\"#d8576b\"],[0.6666666666666666,\"#ed7953\"],[0.7777777777777778,\"#fb9f3a\"],[0.8888888888888888,\"#fdca26\"],[1.0,\"#f0f921\"]]}],\"contourcarpet\":[{\"type\":\"contourcarpet\",\"colorbar\":{\"outlinewidth\":0,\"ticks\":\"\"}}],\"contour\":[{\"type\":\"contour\",\"colorbar\":{\"outlinewidth\":0,\"ticks\":\"\"},\"colorscale\":[[0.0,\"#0d0887\"],[0.1111111111111111,\"#46039f\"],[0.2222222222222222,\"#7201a8\"],[0.3333333333333333,\"#9c179e\"],[0.4444444444444444,\"#bd3786\"],[0.5555555555555556,\"#d8576b\"],[0.6666666666666666,\"#ed7953\"],[0.7777777777777778,\"#fb9f3a\"],[0.8888888888888888,\"#fdca26\"],[1.0,\"#f0f921\"]]}],\"surface\":[{\"type\":\"surface\",\"colorbar\":{\"outlinewidth\":0,\"ticks\":\"\"},\"colorscale\":[[0.0,\"#0d0887\"],[0.1111111111111111,\"#46039f\"],[0.2222222222222222,\"#7201a8\"],[0.3333333333333333,\"#9c179e\"],[0.4444444444444444,\"#bd3786\"],[0.5555555555555556,\"#d8576b\"],[0.6666666666666666,\"#ed7953\"],[0.7777777777777778,\"#fb9f3a\"],[0.8888888888888888,\"#fdca26\"],[1.0,\"#f0f921\"]]}],\"mesh3d\":[{\"type\":\"mesh3d\",\"colorbar\":{\"outlinewidth\":0,\"ticks\":\"\"}}],\"scatter\":[{\"fillpattern\":{\"fillmode\":\"overlay\",\"size\":10,\"solidity\":0.2},\"type\":\"scatter\"}],\"parcoords\":[{\"type\":\"parcoords\",\"line\":{\"colorbar\":{\"outlinewidth\":0,\"ticks\":\"\"}}}],\"scatterpolargl\":[{\"type\":\"scatterpolargl\",\"marker\":{\"colorbar\":{\"outlinewidth\":0,\"ticks\":\"\"}}}],\"bar\":[{\"error_x\":{\"color\":\"#2a3f5f\"},\"error_y\":{\"color\":\"#2a3f5f\"},\"marker\":{\"line\":{\"color\":\"#E5ECF6\",\"width\":0.5},\"pattern\":{\"fillmode\":\"overlay\",\"size\":10,\"solidity\":0.2}},\"type\":\"bar\"}],\"scattergeo\":[{\"type\":\"scattergeo\",\"marker\":{\"colorbar\":{\"outlinewidth\":0,\"ticks\":\"\"}}}],\"scatterpolar\":[{\"type\":\"scatterpolar\",\"marker\":{\"colorbar\":{\"outlinewidth\":0,\"ticks\":\"\"}}}],\"histogram\":[{\"marker\":{\"pattern\":{\"fillmode\":\"overlay\",\"size\":10,\"solidity\":0.2}},\"type\":\"histogram\"}],\"scattergl\":[{\"type\":\"scattergl\",\"marker\":{\"colorbar\":{\"outlinewidth\":0,\"ticks\":\"\"}}}],\"scatter3d\":[{\"type\":\"scatter3d\",\"line\":{\"colorbar\":{\"outlinewidth\":0,\"ticks\":\"\"}},\"marker\":{\"colorbar\":{\"outlinewidth\":0,\"ticks\":\"\"}}}],\"scattermapbox\":[{\"type\":\"scattermapbox\",\"marker\":{\"colorbar\":{\"outlinewidth\":0,\"ticks\":\"\"}}}],\"scatterternary\":[{\"type\":\"scatterternary\",\"marker\":{\"colorbar\":{\"outlinewidth\":0,\"ticks\":\"\"}}}],\"scattercarpet\":[{\"type\":\"scattercarpet\",\"marker\":{\"colorbar\":{\"outlinewidth\":0,\"ticks\":\"\"}}}],\"carpet\":[{\"aaxis\":{\"endlinecolor\":\"#2a3f5f\",\"gridcolor\":\"white\",\"linecolor\":\"white\",\"minorgridcolor\":\"white\",\"startlinecolor\":\"#2a3f5f\"},\"baxis\":{\"endlinecolor\":\"#2a3f5f\",\"gridcolor\":\"white\",\"linecolor\":\"white\",\"minorgridcolor\":\"white\",\"startlinecolor\":\"#2a3f5f\"},\"type\":\"carpet\"}],\"table\":[{\"cells\":{\"fill\":{\"color\":\"#EBF0F8\"},\"line\":{\"color\":\"white\"}},\"header\":{\"fill\":{\"color\":\"#C8D4E3\"},\"line\":{\"color\":\"white\"}},\"type\":\"table\"}],\"barpolar\":[{\"marker\":{\"line\":{\"color\":\"#E5ECF6\",\"width\":0.5},\"pattern\":{\"fillmode\":\"overlay\",\"size\":10,\"solidity\":0.2}},\"type\":\"barpolar\"}],\"pie\":[{\"automargin\":true,\"type\":\"pie\"}]},\"layout\":{\"autotypenumbers\":\"strict\",\"colorway\":[\"#636efa\",\"#EF553B\",\"#00cc96\",\"#ab63fa\",\"#FFA15A\",\"#19d3f3\",\"#FF6692\",\"#B6E880\",\"#FF97FF\",\"#FECB52\"],\"font\":{\"color\":\"#2a3f5f\"},\"hovermode\":\"closest\",\"hoverlabel\":{\"align\":\"left\"},\"paper_bgcolor\":\"white\",\"plot_bgcolor\":\"#E5ECF6\",\"polar\":{\"bgcolor\":\"#E5ECF6\",\"angularaxis\":{\"gridcolor\":\"white\",\"linecolor\":\"white\",\"ticks\":\"\"},\"radialaxis\":{\"gridcolor\":\"white\",\"linecolor\":\"white\",\"ticks\":\"\"}},\"ternary\":{\"bgcolor\":\"#E5ECF6\",\"aaxis\":{\"gridcolor\":\"white\",\"linecolor\":\"white\",\"ticks\":\"\"},\"baxis\":{\"gridcolor\":\"white\",\"linecolor\":\"white\",\"ticks\":\"\"},\"caxis\":{\"gridcolor\":\"white\",\"linecolor\":\"white\",\"ticks\":\"\"}},\"coloraxis\":{\"colorbar\":{\"outlinewidth\":0,\"ticks\":\"\"}},\"colorscale\":{\"sequential\":[[0.0,\"#0d0887\"],[0.1111111111111111,\"#46039f\"],[0.2222222222222222,\"#7201a8\"],[0.3333333333333333,\"#9c179e\"],[0.4444444444444444,\"#bd3786\"],[0.5555555555555556,\"#d8576b\"],[0.6666666666666666,\"#ed7953\"],[0.7777777777777778,\"#fb9f3a\"],[0.8888888888888888,\"#fdca26\"],[1.0,\"#f0f921\"]],\"sequentialminus\":[[0.0,\"#0d0887\"],[0.1111111111111111,\"#46039f\"],[0.2222222222222222,\"#7201a8\"],[0.3333333333333333,\"#9c179e\"],[0.4444444444444444,\"#bd3786\"],[0.5555555555555556,\"#d8576b\"],[0.6666666666666666,\"#ed7953\"],[0.7777777777777778,\"#fb9f3a\"],[0.8888888888888888,\"#fdca26\"],[1.0,\"#f0f921\"]],\"diverging\":[[0,\"#8e0152\"],[0.1,\"#c51b7d\"],[0.2,\"#de77ae\"],[0.3,\"#f1b6da\"],[0.4,\"#fde0ef\"],[0.5,\"#f7f7f7\"],[0.6,\"#e6f5d0\"],[0.7,\"#b8e186\"],[0.8,\"#7fbc41\"],[0.9,\"#4d9221\"],[1,\"#276419\"]]},\"xaxis\":{\"gridcolor\":\"white\",\"linecolor\":\"white\",\"ticks\":\"\",\"title\":{\"standoff\":15},\"zerolinecolor\":\"white\",\"automargin\":true,\"zerolinewidth\":2},\"yaxis\":{\"gridcolor\":\"white\",\"linecolor\":\"white\",\"ticks\":\"\",\"title\":{\"standoff\":15},\"zerolinecolor\":\"white\",\"automargin\":true,\"zerolinewidth\":2},\"scene\":{\"xaxis\":{\"backgroundcolor\":\"#E5ECF6\",\"gridcolor\":\"white\",\"linecolor\":\"white\",\"showbackground\":true,\"ticks\":\"\",\"zerolinecolor\":\"white\",\"gridwidth\":2},\"yaxis\":{\"backgroundcolor\":\"#E5ECF6\",\"gridcolor\":\"white\",\"linecolor\":\"white\",\"showbackground\":true,\"ticks\":\"\",\"zerolinecolor\":\"white\",\"gridwidth\":2},\"zaxis\":{\"backgroundcolor\":\"#E5ECF6\",\"gridcolor\":\"white\",\"linecolor\":\"white\",\"showbackground\":true,\"ticks\":\"\",\"zerolinecolor\":\"white\",\"gridwidth\":2}},\"shapedefaults\":{\"line\":{\"color\":\"#2a3f5f\"}},\"annotationdefaults\":{\"arrowcolor\":\"#2a3f5f\",\"arrowhead\":0,\"arrowwidth\":1},\"geo\":{\"bgcolor\":\"white\",\"landcolor\":\"#E5ECF6\",\"subunitcolor\":\"white\",\"showland\":true,\"showlakes\":true,\"lakecolor\":\"white\"},\"title\":{\"x\":0.05},\"mapbox\":{\"style\":\"light\"}}},\"scene\":{\"domain\":{\"x\":[0.0,1.0],\"y\":[0.0,1.0]},\"xaxis\":{\"title\":{\"text\":\"bill_length_mm\"}},\"yaxis\":{\"title\":{\"text\":\"body_mass_g\"}},\"zaxis\":{\"title\":{\"text\":\"bill_depth_mm\"}}},\"legend\":{\"title\":{\"text\":\"species\"},\"tracegroupgap\":0},\"title\":{\"text\":\"Penguin Bill Length vs Bill Depth Over Time\"},\"updatemenus\":[{\"buttons\":[{\"args\":[null,{\"frame\":{\"duration\":500,\"redraw\":true},\"mode\":\"immediate\",\"fromcurrent\":true,\"transition\":{\"duration\":500,\"easing\":\"linear\"}}],\"label\":\"&#9654;\",\"method\":\"animate\"},{\"args\":[[null],{\"frame\":{\"duration\":0,\"redraw\":true},\"mode\":\"immediate\",\"fromcurrent\":true,\"transition\":{\"duration\":0,\"easing\":\"linear\"}}],\"label\":\"&#9724;\",\"method\":\"animate\"}],\"direction\":\"left\",\"pad\":{\"r\":10,\"t\":70},\"showactive\":false,\"type\":\"buttons\",\"x\":0.1,\"xanchor\":\"right\",\"y\":0,\"yanchor\":\"top\"}],\"sliders\":[{\"active\":0,\"currentvalue\":{\"prefix\":\"sex=\"},\"len\":0.9,\"pad\":{\"b\":10,\"t\":60},\"steps\":[{\"args\":[[\"male\"],{\"frame\":{\"duration\":0,\"redraw\":true},\"mode\":\"immediate\",\"fromcurrent\":true,\"transition\":{\"duration\":0,\"easing\":\"linear\"}}],\"label\":\"male\",\"method\":\"animate\"},{\"args\":[[\"female\"],{\"frame\":{\"duration\":0,\"redraw\":true},\"mode\":\"immediate\",\"fromcurrent\":true,\"transition\":{\"duration\":0,\"easing\":\"linear\"}}],\"label\":\"female\",\"method\":\"animate\"}],\"x\":0.1,\"xanchor\":\"left\",\"y\":0,\"yanchor\":\"top\"}],\"width\":800,\"height\":600},                        {\"responsive\": true}                    ).then(function(){\n",
       "                            Plotly.addFrames('49d08577-a1b1-473d-a737-6faf2977337d', [{\"data\":[{\"customdata\":[[\"Torgersen\",\"male\"],[\"Torgersen\",\"male\"],[\"Torgersen\",\"male\"],[\"Torgersen\",\"male\"],[\"Torgersen\",\"male\"],[\"Torgersen\",\"male\"],[\"Torgersen\",\"male\"],[\"Biscoe\",\"male\"],[\"Biscoe\",\"male\"],[\"Biscoe\",\"male\"],[\"Biscoe\",\"male\"],[\"Biscoe\",\"male\"],[\"Dream\",\"male\"],[\"Dream\",\"male\"],[\"Dream\",\"male\"],[\"Dream\",\"male\"],[\"Dream\",\"male\"],[\"Dream\",\"male\"],[\"Dream\",\"male\"],[\"Dream\",\"male\"],[\"Dream\",\"male\"],[\"Dream\",\"male\"],[\"Biscoe\",\"male\"],[\"Biscoe\",\"male\"],[\"Biscoe\",\"male\"],[\"Biscoe\",\"male\"],[\"Biscoe\",\"male\"],[\"Biscoe\",\"male\"],[\"Biscoe\",\"male\"],[\"Biscoe\",\"male\"],[\"Biscoe\",\"male\"],[\"Torgersen\",\"male\"],[\"Torgersen\",\"male\"],[\"Torgersen\",\"male\"],[\"Torgersen\",\"male\"],[\"Torgersen\",\"male\"],[\"Torgersen\",\"male\"],[\"Torgersen\",\"male\"],[\"Torgersen\",\"male\"],[\"Dream\",\"male\"],[\"Dream\",\"male\"],[\"Dream\",\"male\"],[\"Dream\",\"male\"],[\"Dream\",\"male\"],[\"Dream\",\"male\"],[\"Dream\",\"male\"],[\"Dream\",\"male\"],[\"Biscoe\",\"male\"],[\"Biscoe\",\"male\"],[\"Biscoe\",\"male\"],[\"Biscoe\",\"male\"],[\"Biscoe\",\"male\"],[\"Biscoe\",\"male\"],[\"Biscoe\",\"male\"],[\"Biscoe\",\"male\"],[\"Torgersen\",\"male\"],[\"Torgersen\",\"male\"],[\"Torgersen\",\"male\"],[\"Torgersen\",\"male\"],[\"Torgersen\",\"male\"],[\"Torgersen\",\"male\"],[\"Torgersen\",\"male\"],[\"Torgersen\",\"male\"],[\"Dream\",\"male\"],[\"Dream\",\"male\"],[\"Dream\",\"male\"],[\"Dream\",\"male\"],[\"Dream\",\"male\"],[\"Dream\",\"male\"],[\"Dream\",\"male\"],[\"Dream\",\"male\"],[\"Dream\",\"male\"],[\"Dream\",\"male\"]],\"hovertemplate\":\"species=Adelie\\u003cbr\\u003esex=%{customdata[1]}\\u003cbr\\u003ebill_length_mm=%{x}\\u003cbr\\u003ebody_mass_g=%{y}\\u003cbr\\u003ebill_depth_mm=%{z}\\u003cbr\\u003eisland=%{customdata[0]}\\u003cextra\\u003e\\u003c\\u002fextra\\u003e\",\"legendgroup\":\"Adelie\",\"marker\":{\"color\":\"#636efa\",\"symbol\":\"circle\"},\"mode\":\"markers\",\"name\":\"Adelie\",\"scene\":\"scene\",\"showlegend\":true,\"x\":[39.1,39.3,39.2,38.6,34.6,42.5,46.0,37.7,38.2,38.8,40.6,40.5,37.2,40.9,39.2,38.8,39.8,40.8,44.1,39.6,41.1,42.3,40.1,42.0,41.4,40.6,37.6,41.3,41.1,41.6,41.1,41.8,39.7,45.8,42.8,37.2,42.1,42.9,35.1,41.3,36.3,38.3,41.1,39.6,40.8,40.3,43.2,41.0,37.8,39.7,38.2,43.2,45.6,42.2,42.7,37.3,41.1,37.7,41.4,40.6,41.5,44.1,43.1,37.5,41.1,40.2,39.7,40.6,40.7,39.0,39.2,37.8,41.5],\"y\":[3750.0,3650.0,4675.0,3800.0,4400.0,4500.0,4200.0,3600.0,3950.0,3800.0,3550.0,3950.0,3900.0,3900.0,4150.0,3950.0,4650.0,3900.0,4400.0,4600.0,3425.0,4150.0,4300.0,4050.0,3700.0,3800.0,3750.0,4400.0,4050.0,3950.0,4100.0,4450.0,3900.0,4150.0,4250.0,3900.0,4000.0,4700.0,4200.0,3550.0,3800.0,3950.0,4300.0,4450.0,4300.0,4350.0,4100.0,4725.0,4250.0,3550.0,3900.0,4775.0,4600.0,4275.0,4075.0,3775.0,3325.0,3500.0,3875.0,4000.0,4300.0,4000.0,3500.0,4475.0,3900.0,3975.0,4250.0,3475.0,3725.0,3650.0,4250.0,3750.0,4000.0],\"z\":[18.7,20.6,19.6,21.2,21.1,20.7,21.5,18.7,18.1,17.2,18.6,18.9,18.1,18.9,21.1,20.0,19.1,18.4,19.7,18.8,19.0,21.2,18.9,19.5,18.6,18.8,19.1,21.1,18.2,18.0,19.1,19.4,18.4,18.9,18.5,19.4,19.1,17.6,19.4,20.3,19.5,19.2,18.1,18.1,18.9,18.5,18.5,20.0,20.0,18.9,20.0,19.0,20.3,19.5,18.3,20.5,18.6,19.8,18.5,19.0,18.3,18.0,19.2,18.5,17.5,20.1,17.9,17.2,17.0,18.7,18.6,18.1,18.5],\"type\":\"scatter3d\"},{\"customdata\":[[\"Dream\",\"male\"],[\"Dream\",\"male\"],[\"Dream\",\"male\"],[\"Dream\",\"male\"],[\"Dream\",\"male\"],[\"Dream\",\"male\"],[\"Dream\",\"male\"],[\"Dream\",\"male\"],[\"Dream\",\"male\"],[\"Dream\",\"male\"],[\"Dream\",\"male\"],[\"Dream\",\"male\"],[\"Dream\",\"male\"],[\"Dream\",\"male\"],[\"Dream\",\"male\"],[\"Dream\",\"male\"],[\"Dream\",\"male\"],[\"Dream\",\"male\"],[\"Dream\",\"male\"],[\"Dream\",\"male\"],[\"Dream\",\"male\"],[\"Dream\",\"male\"],[\"Dream\",\"male\"],[\"Dream\",\"male\"],[\"Dream\",\"male\"],[\"Dream\",\"male\"],[\"Dream\",\"male\"],[\"Dream\",\"male\"],[\"Dream\",\"male\"],[\"Dream\",\"male\"],[\"Dream\",\"male\"],[\"Dream\",\"male\"],[\"Dream\",\"male\"],[\"Dream\",\"male\"]],\"hovertemplate\":\"species=Chinstrap\\u003cbr\\u003esex=%{customdata[1]}\\u003cbr\\u003ebill_length_mm=%{x}\\u003cbr\\u003ebody_mass_g=%{y}\\u003cbr\\u003ebill_depth_mm=%{z}\\u003cbr\\u003eisland=%{customdata[0]}\\u003cextra\\u003e\\u003c\\u002fextra\\u003e\",\"legendgroup\":\"Chinstrap\",\"marker\":{\"color\":\"#EF553B\",\"symbol\":\"circle\"},\"mode\":\"markers\",\"name\":\"Chinstrap\",\"scene\":\"scene\",\"showlegend\":true,\"x\":[50.0,51.3,52.7,51.3,51.3,51.7,52.0,50.5,50.3,49.2,48.5,50.6,52.0,49.5,52.8,54.2,51.0,49.7,52.0,53.5,49.0,50.9,50.8,49.0,51.5,51.4,50.7,52.2,49.3,50.2,51.9,55.8,49.6,50.8],\"y\":[3900.0,3650.0,3725.0,3750.0,3700.0,3775.0,4050.0,4050.0,3300.0,4400.0,3400.0,3800.0,4150.0,3800.0,4550.0,4300.0,4100.0,3600.0,4800.0,4500.0,3950.0,3550.0,4450.0,4300.0,3250.0,3950.0,4050.0,3450.0,4050.0,3800.0,3950.0,4000.0,3775.0,4100.0],\"z\":[19.5,19.2,19.8,18.2,19.9,20.3,18.1,19.6,20.0,18.2,17.5,19.4,19.0,19.0,20.0,20.8,18.8,18.6,20.7,19.9,19.5,19.1,18.5,19.6,18.7,19.0,19.7,18.8,19.9,18.8,19.5,19.8,18.2,19.0],\"type\":\"scatter3d\"}],\"name\":\"male\"},{\"data\":[{\"customdata\":[[\"Torgersen\",\"female\"],[\"Torgersen\",\"female\"],[\"Torgersen\",\"female\"],[\"Torgersen\",\"female\"],[\"Torgersen\",\"female\"],[\"Torgersen\",\"female\"],[\"Torgersen\",\"female\"],[\"Torgersen\",\"female\"],[\"Biscoe\",\"female\"],[\"Biscoe\",\"female\"],[\"Biscoe\",\"female\"],[\"Biscoe\",\"female\"],[\"Biscoe\",\"female\"],[\"Dream\",\"female\"],[\"Dream\",\"female\"],[\"Dream\",\"female\"],[\"Dream\",\"female\"],[\"Dream\",\"female\"],[\"Dream\",\"female\"],[\"Dream\",\"female\"],[\"Dream\",\"female\"],[\"Dream\",\"female\"],[\"Biscoe\",\"female\"],[\"Biscoe\",\"female\"],[\"Biscoe\",\"female\"],[\"Biscoe\",\"female\"],[\"Biscoe\",\"female\"],[\"Biscoe\",\"female\"],[\"Biscoe\",\"female\"],[\"Biscoe\",\"female\"],[\"Biscoe\",\"female\"],[\"Torgersen\",\"female\"],[\"Torgersen\",\"female\"],[\"Torgersen\",\"female\"],[\"Torgersen\",\"female\"],[\"Torgersen\",\"female\"],[\"Torgersen\",\"female\"],[\"Torgersen\",\"female\"],[\"Torgersen\",\"female\"],[\"Dream\",\"female\"],[\"Dream\",\"female\"],[\"Dream\",\"female\"],[\"Dream\",\"female\"],[\"Dream\",\"female\"],[\"Dream\",\"female\"],[\"Dream\",\"female\"],[\"Dream\",\"female\"],[\"Biscoe\",\"female\"],[\"Biscoe\",\"female\"],[\"Biscoe\",\"female\"],[\"Biscoe\",\"female\"],[\"Biscoe\",\"female\"],[\"Biscoe\",\"female\"],[\"Biscoe\",\"female\"],[\"Biscoe\",\"female\"],[\"Torgersen\",\"female\"],[\"Torgersen\",\"female\"],[\"Torgersen\",\"female\"],[\"Torgersen\",\"female\"],[\"Torgersen\",\"female\"],[\"Torgersen\",\"female\"],[\"Torgersen\",\"female\"],[\"Torgersen\",\"female\"],[\"Dream\",\"female\"],[\"Dream\",\"female\"],[\"Dream\",\"female\"],[\"Dream\",\"female\"],[\"Dream\",\"female\"],[\"Dream\",\"female\"],[\"Dream\",\"female\"],[\"Dream\",\"female\"],[\"Dream\",\"female\"],[\"Dream\",\"female\"]],\"hovertemplate\":\"species=Adelie\\u003cbr\\u003esex=%{customdata[1]}\\u003cbr\\u003ebill_length_mm=%{x}\\u003cbr\\u003ebody_mass_g=%{y}\\u003cbr\\u003ebill_depth_mm=%{z}\\u003cbr\\u003eisland=%{customdata[0]}\\u003cextra\\u003e\\u003c\\u002fextra\\u003e\",\"legendgroup\":\"Adelie\",\"marker\":{\"color\":\"#636efa\",\"symbol\":\"circle\"},\"mode\":\"markers\",\"name\":\"Adelie\",\"scene\":\"scene\",\"showlegend\":true,\"x\":[39.5,40.3,36.7,38.9,41.1,36.6,38.7,34.4,37.8,35.9,35.3,40.5,37.9,39.5,39.5,36.4,42.2,37.6,36.5,36.0,37.0,36.0,39.6,35.0,34.5,39.0,36.5,35.7,37.6,36.4,35.5,35.9,33.5,39.6,35.5,40.9,36.2,34.6,36.7,37.3,36.9,38.9,35.7,34.0,36.2,38.1,33.1,35.0,37.7,37.9,38.6,38.1,38.1,39.7,39.6,38.6,35.7,36.2,40.2,35.2,38.8,39.0,38.5,36.8,38.1,35.6,37.0,40.2,32.1,37.3,36.6,36.0,36.0],\"y\":[3800.0,3250.0,3450.0,3625.0,3200.0,3700.0,3450.0,3325.0,3400.0,3800.0,3800.0,3200.0,3150.0,3250.0,3300.0,3325.0,3550.0,3300.0,3150.0,3100.0,3000.0,3450.0,3500.0,3450.0,2900.0,3550.0,2850.0,3150.0,3600.0,2850.0,3350.0,3050.0,3600.0,3550.0,3700.0,3700.0,3550.0,3200.0,3800.0,3350.0,3500.0,3600.0,3550.0,3400.0,3300.0,3700.0,2900.0,3725.0,3075.0,2925.0,3750.0,3175.0,3825.0,3200.0,3900.0,2900.0,3350.0,3150.0,3450.0,3050.0,3275.0,3050.0,3325.0,3500.0,3425.0,3175.0,3400.0,3400.0,3050.0,3000.0,3475.0,3450.0,3700.0],\"z\":[17.4,18.0,19.3,17.8,17.6,17.8,19.0,18.4,18.3,19.2,18.9,17.9,18.6,16.7,17.8,17.0,18.5,19.3,18.0,18.5,16.9,17.9,17.7,17.9,18.1,17.5,16.6,16.9,17.0,17.1,16.2,16.6,19.0,17.2,17.5,16.8,16.1,17.2,18.8,17.8,18.6,18.8,18.0,17.1,17.3,18.6,16.1,17.9,16.0,18.6,17.2,17.0,16.5,17.7,20.7,17.0,17.0,17.2,17.0,15.9,17.6,17.1,17.9,18.5,17.6,17.5,16.5,17.1,15.5,16.8,18.4,17.8,17.1],\"type\":\"scatter3d\"},{\"customdata\":[[\"Dream\",\"female\"],[\"Dream\",\"female\"],[\"Dream\",\"female\"],[\"Dream\",\"female\"],[\"Dream\",\"female\"],[\"Dream\",\"female\"],[\"Dream\",\"female\"],[\"Dream\",\"female\"],[\"Dream\",\"female\"],[\"Dream\",\"female\"],[\"Dream\",\"female\"],[\"Dream\",\"female\"],[\"Dream\",\"female\"],[\"Dream\",\"female\"],[\"Dream\",\"female\"],[\"Dream\",\"female\"],[\"Dream\",\"female\"],[\"Dream\",\"female\"],[\"Dream\",\"female\"],[\"Dream\",\"female\"],[\"Dream\",\"female\"],[\"Dream\",\"female\"],[\"Dream\",\"female\"],[\"Dream\",\"female\"],[\"Dream\",\"female\"],[\"Dream\",\"female\"],[\"Dream\",\"female\"],[\"Dream\",\"female\"],[\"Dream\",\"female\"],[\"Dream\",\"female\"],[\"Dream\",\"female\"],[\"Dream\",\"female\"],[\"Dream\",\"female\"],[\"Dream\",\"female\"]],\"hovertemplate\":\"species=Chinstrap\\u003cbr\\u003esex=%{customdata[1]}\\u003cbr\\u003ebill_length_mm=%{x}\\u003cbr\\u003ebody_mass_g=%{y}\\u003cbr\\u003ebill_depth_mm=%{z}\\u003cbr\\u003eisland=%{customdata[0]}\\u003cextra\\u003e\\u003c\\u002fextra\\u003e\",\"legendgroup\":\"Chinstrap\",\"marker\":{\"color\":\"#EF553B\",\"symbol\":\"circle\"},\"mode\":\"markers\",\"name\":\"Chinstrap\",\"scene\":\"scene\",\"showlegend\":true,\"x\":[46.5,45.4,45.2,46.1,46.0,46.6,47.0,45.9,58.0,46.4,42.4,43.2,46.7,50.5,46.4,40.9,42.5,47.5,47.6,46.9,46.2,45.5,50.9,50.1,49.8,48.1,45.7,42.5,45.2,45.6,46.8,45.7,43.5,50.2],\"y\":[3500.0,3525.0,3950.0,3250.0,4150.0,3800.0,3700.0,3575.0,3700.0,3450.0,3600.0,2900.0,3300.0,3400.0,3700.0,3200.0,3350.0,3900.0,3850.0,2700.0,3650.0,3500.0,3675.0,3400.0,3675.0,3325.0,3600.0,3350.0,3250.0,3525.0,3650.0,3650.0,3400.0,3775.0],\"z\":[17.9,18.7,17.8,18.2,18.9,17.8,17.3,17.1,17.8,18.6,17.3,16.6,17.9,18.4,17.8,16.6,16.7,16.8,18.3,16.6,17.5,17.0,17.9,17.9,17.3,16.4,17.3,17.3,16.6,19.4,16.5,17.0,18.1,18.7],\"type\":\"scatter3d\"}],\"name\":\"female\"}]);\n",
       "                        }).then(function(){\n",
       "                            \n",
       "var gd = document.getElementById('49d08577-a1b1-473d-a737-6faf2977337d');\n",
       "var x = new MutationObserver(function (mutations, observer) {{\n",
       "        var display = window.getComputedStyle(gd).display;\n",
       "        if (!display || display === 'none') {{\n",
       "            console.log([gd, 'removed!']);\n",
       "            Plotly.purge(gd);\n",
       "            observer.disconnect();\n",
       "        }}\n",
       "}});\n",
       "\n",
       "// Listen for the removal of the full notebook cells\n",
       "var notebookContainer = gd.closest('#notebook-container');\n",
       "if (notebookContainer) {{\n",
       "    x.observe(notebookContainer, {childList: true});\n",
       "}}\n",
       "\n",
       "// Listen for the clearing of the current output cell\n",
       "var outputEl = gd.closest('.output');\n",
       "if (outputEl) {{\n",
       "    x.observe(outputEl, {childList: true});\n",
       "}}\n",
       "\n",
       "                        })                };                });            </script>        </div>"
      ]
     },
     "metadata": {},
     "output_type": "display_data"
    }
   ],
   "source": [
    "# Assuming your DataFrame is named 'df'\n",
    "fig = px.scatter_3d(filtered_df_2, x='bill_length_mm', y='body_mass_g', z='bill_depth_mm', animation_frame='sex', color='species', hover_data=['island', 'sex'], title='Penguin Bill Length vs Bill Depth Over Time')\n",
    "\n",
    "# Update the layout to adjust the size\n",
    "fig.update_layout(\n",
    "    width=800,  # width in pixels\n",
    "    height=600,  # height in pixels\n",
    ")\n",
    "\n",
    "# Show the interactive plot\n",
    "fig.show()"
   ]
  },
  {
   "cell_type": "markdown",
   "id": "3c258393-a497-4b77-bd79-96acba7e759b",
   "metadata": {},
   "source": [
    "Better seperation with these metrics."
   ]
  },
  {
   "cell_type": "code",
   "execution_count": 17,
   "id": "b4d3b9a1-f2aa-441a-b9bf-2644e6ec7e6c",
   "metadata": {},
   "outputs": [
    {
     "data": {
      "application/vnd.plotly.v1+json": {
       "config": {
        "plotlyServerURL": "https://plot.ly"
       },
       "data": [
        {
         "customdata": [
          [
           "female"
          ],
          [
           "female"
          ],
          [
           "female"
          ],
          [
           "female"
          ],
          [
           "female"
          ],
          [
           "female"
          ],
          [
           "female"
          ],
          [
           "female"
          ],
          [
           "female"
          ],
          [
           "female"
          ],
          [
           "female"
          ],
          [
           "female"
          ],
          [
           "female"
          ],
          [
           "female"
          ],
          [
           "female"
          ],
          [
           "female"
          ],
          [
           "female"
          ],
          [
           "female"
          ],
          [
           "female"
          ],
          [
           "female"
          ],
          [
           "female"
          ],
          [
           "female"
          ],
          [
           "female"
          ],
          [
           "female"
          ],
          [
           "female"
          ],
          [
           "female"
          ],
          [
           "female"
          ],
          [
           "female"
          ],
          [
           "female"
          ],
          [
           "female"
          ],
          [
           "female"
          ],
          [
           "female"
          ],
          [
           "female"
          ],
          [
           "female"
          ],
          [
           "female"
          ],
          [
           "female"
          ],
          [
           "female"
          ],
          [
           "female"
          ],
          [
           "female"
          ],
          [
           "female"
          ],
          [
           "female"
          ],
          [
           "female"
          ],
          [
           "female"
          ],
          [
           "female"
          ],
          [
           "female"
          ],
          [
           "female"
          ],
          [
           "female"
          ],
          [
           "female"
          ],
          [
           "female"
          ],
          [
           "female"
          ],
          [
           "female"
          ],
          [
           "female"
          ],
          [
           "female"
          ],
          [
           "female"
          ],
          [
           "female"
          ],
          [
           "female"
          ],
          [
           "female"
          ],
          [
           "female"
          ],
          [
           "female"
          ],
          [
           "female"
          ],
          [
           "female"
          ],
          [
           "female"
          ],
          [
           "female"
          ],
          [
           "female"
          ],
          [
           "female"
          ],
          [
           "female"
          ],
          [
           "female"
          ],
          [
           "female"
          ],
          [
           "female"
          ],
          [
           "female"
          ],
          [
           "female"
          ],
          [
           "female"
          ],
          [
           "female"
          ]
         ],
         "hovertemplate": "species=Adelie<br>sex=%{customdata[0]}<br>bill_length_mm=%{x}<br>body_mass_g=%{y}<br>island=%{z}<extra></extra>",
         "legendgroup": "Adelie",
         "marker": {
          "color": "#636efa",
          "symbol": "circle"
         },
         "mode": "markers",
         "name": "Adelie",
         "scene": "scene",
         "showlegend": true,
         "type": "scatter3d",
         "x": [
          39.5,
          40.3,
          36.7,
          38.9,
          41.1,
          36.6,
          38.7,
          34.4,
          37.8,
          35.9,
          35.3,
          40.5,
          37.9,
          39.5,
          39.5,
          36.4,
          42.2,
          37.6,
          36.5,
          36,
          37,
          36,
          39.6,
          35,
          34.5,
          39,
          36.5,
          35.7,
          37.6,
          36.4,
          35.5,
          35.9,
          33.5,
          39.6,
          35.5,
          40.9,
          36.2,
          34.6,
          36.7,
          37.3,
          36.9,
          38.9,
          35.7,
          34,
          36.2,
          38.1,
          33.1,
          35,
          37.7,
          37.9,
          38.6,
          38.1,
          38.1,
          39.7,
          39.6,
          38.6,
          35.7,
          36.2,
          40.2,
          35.2,
          38.8,
          39,
          38.5,
          36.8,
          38.1,
          35.6,
          37,
          40.2,
          32.1,
          37.3,
          36.6,
          36,
          36
         ],
         "y": [
          3800,
          3250,
          3450,
          3625,
          3200,
          3700,
          3450,
          3325,
          3400,
          3800,
          3800,
          3200,
          3150,
          3250,
          3300,
          3325,
          3550,
          3300,
          3150,
          3100,
          3000,
          3450,
          3500,
          3450,
          2900,
          3550,
          2850,
          3150,
          3600,
          2850,
          3350,
          3050,
          3600,
          3550,
          3700,
          3700,
          3550,
          3200,
          3800,
          3350,
          3500,
          3600,
          3550,
          3400,
          3300,
          3700,
          2900,
          3725,
          3075,
          2925,
          3750,
          3175,
          3825,
          3200,
          3900,
          2900,
          3350,
          3150,
          3450,
          3050,
          3275,
          3050,
          3325,
          3500,
          3425,
          3175,
          3400,
          3400,
          3050,
          3000,
          3475,
          3450,
          3700
         ],
         "z": [
          "Torgersen",
          "Torgersen",
          "Torgersen",
          "Torgersen",
          "Torgersen",
          "Torgersen",
          "Torgersen",
          "Torgersen",
          "Biscoe",
          "Biscoe",
          "Biscoe",
          "Biscoe",
          "Biscoe",
          "Dream",
          "Dream",
          "Dream",
          "Dream",
          "Dream",
          "Dream",
          "Dream",
          "Dream",
          "Dream",
          "Biscoe",
          "Biscoe",
          "Biscoe",
          "Biscoe",
          "Biscoe",
          "Biscoe",
          "Biscoe",
          "Biscoe",
          "Biscoe",
          "Torgersen",
          "Torgersen",
          "Torgersen",
          "Torgersen",
          "Torgersen",
          "Torgersen",
          "Torgersen",
          "Torgersen",
          "Dream",
          "Dream",
          "Dream",
          "Dream",
          "Dream",
          "Dream",
          "Dream",
          "Dream",
          "Biscoe",
          "Biscoe",
          "Biscoe",
          "Biscoe",
          "Biscoe",
          "Biscoe",
          "Biscoe",
          "Biscoe",
          "Torgersen",
          "Torgersen",
          "Torgersen",
          "Torgersen",
          "Torgersen",
          "Torgersen",
          "Torgersen",
          "Torgersen",
          "Dream",
          "Dream",
          "Dream",
          "Dream",
          "Dream",
          "Dream",
          "Dream",
          "Dream",
          "Dream",
          "Dream"
         ]
        },
        {
         "customdata": [
          [
           "female"
          ],
          [
           "female"
          ],
          [
           "female"
          ],
          [
           "female"
          ],
          [
           "female"
          ],
          [
           "female"
          ],
          [
           "female"
          ],
          [
           "female"
          ],
          [
           "female"
          ],
          [
           "female"
          ],
          [
           "female"
          ],
          [
           "female"
          ],
          [
           "female"
          ],
          [
           "female"
          ],
          [
           "female"
          ],
          [
           "female"
          ],
          [
           "female"
          ],
          [
           "female"
          ],
          [
           "female"
          ],
          [
           "female"
          ],
          [
           "female"
          ],
          [
           "female"
          ],
          [
           "female"
          ],
          [
           "female"
          ],
          [
           "female"
          ],
          [
           "female"
          ],
          [
           "female"
          ],
          [
           "female"
          ],
          [
           "female"
          ],
          [
           "female"
          ],
          [
           "female"
          ],
          [
           "female"
          ],
          [
           "female"
          ],
          [
           "female"
          ]
         ],
         "hovertemplate": "species=Chinstrap<br>sex=%{customdata[0]}<br>bill_length_mm=%{x}<br>body_mass_g=%{y}<br>island=%{z}<extra></extra>",
         "legendgroup": "Chinstrap",
         "marker": {
          "color": "#EF553B",
          "symbol": "circle"
         },
         "mode": "markers",
         "name": "Chinstrap",
         "scene": "scene",
         "showlegend": true,
         "type": "scatter3d",
         "x": [
          46.5,
          45.4,
          45.2,
          46.1,
          46,
          46.6,
          47,
          45.9,
          58,
          46.4,
          42.4,
          43.2,
          46.7,
          50.5,
          46.4,
          40.9,
          42.5,
          47.5,
          47.6,
          46.9,
          46.2,
          45.5,
          50.9,
          50.1,
          49.8,
          48.1,
          45.7,
          42.5,
          45.2,
          45.6,
          46.8,
          45.7,
          43.5,
          50.2
         ],
         "y": [
          3500,
          3525,
          3950,
          3250,
          4150,
          3800,
          3700,
          3575,
          3700,
          3450,
          3600,
          2900,
          3300,
          3400,
          3700,
          3200,
          3350,
          3900,
          3850,
          2700,
          3650,
          3500,
          3675,
          3400,
          3675,
          3325,
          3600,
          3350,
          3250,
          3525,
          3650,
          3650,
          3400,
          3775
         ],
         "z": [
          "Dream",
          "Dream",
          "Dream",
          "Dream",
          "Dream",
          "Dream",
          "Dream",
          "Dream",
          "Dream",
          "Dream",
          "Dream",
          "Dream",
          "Dream",
          "Dream",
          "Dream",
          "Dream",
          "Dream",
          "Dream",
          "Dream",
          "Dream",
          "Dream",
          "Dream",
          "Dream",
          "Dream",
          "Dream",
          "Dream",
          "Dream",
          "Dream",
          "Dream",
          "Dream",
          "Dream",
          "Dream",
          "Dream",
          "Dream"
         ]
        }
       ],
       "frames": [
        {
         "data": [
          {
           "customdata": [
            [
             "male"
            ],
            [
             "male"
            ],
            [
             "male"
            ],
            [
             "male"
            ],
            [
             "male"
            ],
            [
             "male"
            ],
            [
             "male"
            ],
            [
             "male"
            ],
            [
             "male"
            ],
            [
             "male"
            ],
            [
             "male"
            ],
            [
             "male"
            ],
            [
             "male"
            ],
            [
             "male"
            ],
            [
             "male"
            ],
            [
             "male"
            ],
            [
             "male"
            ],
            [
             "male"
            ],
            [
             "male"
            ],
            [
             "male"
            ],
            [
             "male"
            ],
            [
             "male"
            ],
            [
             "male"
            ],
            [
             "male"
            ],
            [
             "male"
            ],
            [
             "male"
            ],
            [
             "male"
            ],
            [
             "male"
            ],
            [
             "male"
            ],
            [
             "male"
            ],
            [
             "male"
            ],
            [
             "male"
            ],
            [
             "male"
            ],
            [
             "male"
            ],
            [
             "male"
            ],
            [
             "male"
            ],
            [
             "male"
            ],
            [
             "male"
            ],
            [
             "male"
            ],
            [
             "male"
            ],
            [
             "male"
            ],
            [
             "male"
            ],
            [
             "male"
            ],
            [
             "male"
            ],
            [
             "male"
            ],
            [
             "male"
            ],
            [
             "male"
            ],
            [
             "male"
            ],
            [
             "male"
            ],
            [
             "male"
            ],
            [
             "male"
            ],
            [
             "male"
            ],
            [
             "male"
            ],
            [
             "male"
            ],
            [
             "male"
            ],
            [
             "male"
            ],
            [
             "male"
            ],
            [
             "male"
            ],
            [
             "male"
            ],
            [
             "male"
            ],
            [
             "male"
            ],
            [
             "male"
            ],
            [
             "male"
            ],
            [
             "male"
            ],
            [
             "male"
            ],
            [
             "male"
            ],
            [
             "male"
            ],
            [
             "male"
            ],
            [
             "male"
            ],
            [
             "male"
            ],
            [
             "male"
            ],
            [
             "male"
            ],
            [
             "male"
            ]
           ],
           "hovertemplate": "species=Adelie<br>sex=%{customdata[0]}<br>bill_length_mm=%{x}<br>body_mass_g=%{y}<br>island=%{z}<extra></extra>",
           "legendgroup": "Adelie",
           "marker": {
            "color": "#636efa",
            "symbol": "circle"
           },
           "mode": "markers",
           "name": "Adelie",
           "scene": "scene",
           "showlegend": true,
           "type": "scatter3d",
           "x": [
            39.1,
            39.3,
            39.2,
            38.6,
            34.6,
            42.5,
            46,
            37.7,
            38.2,
            38.8,
            40.6,
            40.5,
            37.2,
            40.9,
            39.2,
            38.8,
            39.8,
            40.8,
            44.1,
            39.6,
            41.1,
            42.3,
            40.1,
            42,
            41.4,
            40.6,
            37.6,
            41.3,
            41.1,
            41.6,
            41.1,
            41.8,
            39.7,
            45.8,
            42.8,
            37.2,
            42.1,
            42.9,
            35.1,
            41.3,
            36.3,
            38.3,
            41.1,
            39.6,
            40.8,
            40.3,
            43.2,
            41,
            37.8,
            39.7,
            38.2,
            43.2,
            45.6,
            42.2,
            42.7,
            37.3,
            41.1,
            37.7,
            41.4,
            40.6,
            41.5,
            44.1,
            43.1,
            37.5,
            41.1,
            40.2,
            39.7,
            40.6,
            40.7,
            39,
            39.2,
            37.8,
            41.5
           ],
           "y": [
            3750,
            3650,
            4675,
            3800,
            4400,
            4500,
            4200,
            3600,
            3950,
            3800,
            3550,
            3950,
            3900,
            3900,
            4150,
            3950,
            4650,
            3900,
            4400,
            4600,
            3425,
            4150,
            4300,
            4050,
            3700,
            3800,
            3750,
            4400,
            4050,
            3950,
            4100,
            4450,
            3900,
            4150,
            4250,
            3900,
            4000,
            4700,
            4200,
            3550,
            3800,
            3950,
            4300,
            4450,
            4300,
            4350,
            4100,
            4725,
            4250,
            3550,
            3900,
            4775,
            4600,
            4275,
            4075,
            3775,
            3325,
            3500,
            3875,
            4000,
            4300,
            4000,
            3500,
            4475,
            3900,
            3975,
            4250,
            3475,
            3725,
            3650,
            4250,
            3750,
            4000
           ],
           "z": [
            "Torgersen",
            "Torgersen",
            "Torgersen",
            "Torgersen",
            "Torgersen",
            "Torgersen",
            "Torgersen",
            "Biscoe",
            "Biscoe",
            "Biscoe",
            "Biscoe",
            "Biscoe",
            "Dream",
            "Dream",
            "Dream",
            "Dream",
            "Dream",
            "Dream",
            "Dream",
            "Dream",
            "Dream",
            "Dream",
            "Biscoe",
            "Biscoe",
            "Biscoe",
            "Biscoe",
            "Biscoe",
            "Biscoe",
            "Biscoe",
            "Biscoe",
            "Biscoe",
            "Torgersen",
            "Torgersen",
            "Torgersen",
            "Torgersen",
            "Torgersen",
            "Torgersen",
            "Torgersen",
            "Torgersen",
            "Dream",
            "Dream",
            "Dream",
            "Dream",
            "Dream",
            "Dream",
            "Dream",
            "Dream",
            "Biscoe",
            "Biscoe",
            "Biscoe",
            "Biscoe",
            "Biscoe",
            "Biscoe",
            "Biscoe",
            "Biscoe",
            "Torgersen",
            "Torgersen",
            "Torgersen",
            "Torgersen",
            "Torgersen",
            "Torgersen",
            "Torgersen",
            "Torgersen",
            "Dream",
            "Dream",
            "Dream",
            "Dream",
            "Dream",
            "Dream",
            "Dream",
            "Dream",
            "Dream",
            "Dream"
           ]
          },
          {
           "customdata": [
            [
             "male"
            ],
            [
             "male"
            ],
            [
             "male"
            ],
            [
             "male"
            ],
            [
             "male"
            ],
            [
             "male"
            ],
            [
             "male"
            ],
            [
             "male"
            ],
            [
             "male"
            ],
            [
             "male"
            ],
            [
             "male"
            ],
            [
             "male"
            ],
            [
             "male"
            ],
            [
             "male"
            ],
            [
             "male"
            ],
            [
             "male"
            ],
            [
             "male"
            ],
            [
             "male"
            ],
            [
             "male"
            ],
            [
             "male"
            ],
            [
             "male"
            ],
            [
             "male"
            ],
            [
             "male"
            ],
            [
             "male"
            ],
            [
             "male"
            ],
            [
             "male"
            ],
            [
             "male"
            ],
            [
             "male"
            ],
            [
             "male"
            ],
            [
             "male"
            ],
            [
             "male"
            ],
            [
             "male"
            ],
            [
             "male"
            ],
            [
             "male"
            ]
           ],
           "hovertemplate": "species=Chinstrap<br>sex=%{customdata[0]}<br>bill_length_mm=%{x}<br>body_mass_g=%{y}<br>island=%{z}<extra></extra>",
           "legendgroup": "Chinstrap",
           "marker": {
            "color": "#EF553B",
            "symbol": "circle"
           },
           "mode": "markers",
           "name": "Chinstrap",
           "scene": "scene",
           "showlegend": true,
           "type": "scatter3d",
           "x": [
            50,
            51.3,
            52.7,
            51.3,
            51.3,
            51.7,
            52,
            50.5,
            50.3,
            49.2,
            48.5,
            50.6,
            52,
            49.5,
            52.8,
            54.2,
            51,
            49.7,
            52,
            53.5,
            49,
            50.9,
            50.8,
            49,
            51.5,
            51.4,
            50.7,
            52.2,
            49.3,
            50.2,
            51.9,
            55.8,
            49.6,
            50.8
           ],
           "y": [
            3900,
            3650,
            3725,
            3750,
            3700,
            3775,
            4050,
            4050,
            3300,
            4400,
            3400,
            3800,
            4150,
            3800,
            4550,
            4300,
            4100,
            3600,
            4800,
            4500,
            3950,
            3550,
            4450,
            4300,
            3250,
            3950,
            4050,
            3450,
            4050,
            3800,
            3950,
            4000,
            3775,
            4100
           ],
           "z": [
            "Dream",
            "Dream",
            "Dream",
            "Dream",
            "Dream",
            "Dream",
            "Dream",
            "Dream",
            "Dream",
            "Dream",
            "Dream",
            "Dream",
            "Dream",
            "Dream",
            "Dream",
            "Dream",
            "Dream",
            "Dream",
            "Dream",
            "Dream",
            "Dream",
            "Dream",
            "Dream",
            "Dream",
            "Dream",
            "Dream",
            "Dream",
            "Dream",
            "Dream",
            "Dream",
            "Dream",
            "Dream",
            "Dream",
            "Dream"
           ]
          }
         ],
         "name": "male"
        },
        {
         "data": [
          {
           "customdata": [
            [
             "female"
            ],
            [
             "female"
            ],
            [
             "female"
            ],
            [
             "female"
            ],
            [
             "female"
            ],
            [
             "female"
            ],
            [
             "female"
            ],
            [
             "female"
            ],
            [
             "female"
            ],
            [
             "female"
            ],
            [
             "female"
            ],
            [
             "female"
            ],
            [
             "female"
            ],
            [
             "female"
            ],
            [
             "female"
            ],
            [
             "female"
            ],
            [
             "female"
            ],
            [
             "female"
            ],
            [
             "female"
            ],
            [
             "female"
            ],
            [
             "female"
            ],
            [
             "female"
            ],
            [
             "female"
            ],
            [
             "female"
            ],
            [
             "female"
            ],
            [
             "female"
            ],
            [
             "female"
            ],
            [
             "female"
            ],
            [
             "female"
            ],
            [
             "female"
            ],
            [
             "female"
            ],
            [
             "female"
            ],
            [
             "female"
            ],
            [
             "female"
            ],
            [
             "female"
            ],
            [
             "female"
            ],
            [
             "female"
            ],
            [
             "female"
            ],
            [
             "female"
            ],
            [
             "female"
            ],
            [
             "female"
            ],
            [
             "female"
            ],
            [
             "female"
            ],
            [
             "female"
            ],
            [
             "female"
            ],
            [
             "female"
            ],
            [
             "female"
            ],
            [
             "female"
            ],
            [
             "female"
            ],
            [
             "female"
            ],
            [
             "female"
            ],
            [
             "female"
            ],
            [
             "female"
            ],
            [
             "female"
            ],
            [
             "female"
            ],
            [
             "female"
            ],
            [
             "female"
            ],
            [
             "female"
            ],
            [
             "female"
            ],
            [
             "female"
            ],
            [
             "female"
            ],
            [
             "female"
            ],
            [
             "female"
            ],
            [
             "female"
            ],
            [
             "female"
            ],
            [
             "female"
            ],
            [
             "female"
            ],
            [
             "female"
            ],
            [
             "female"
            ],
            [
             "female"
            ],
            [
             "female"
            ],
            [
             "female"
            ],
            [
             "female"
            ]
           ],
           "hovertemplate": "species=Adelie<br>sex=%{customdata[0]}<br>bill_length_mm=%{x}<br>body_mass_g=%{y}<br>island=%{z}<extra></extra>",
           "legendgroup": "Adelie",
           "marker": {
            "color": "#636efa",
            "symbol": "circle"
           },
           "mode": "markers",
           "name": "Adelie",
           "scene": "scene",
           "showlegend": true,
           "type": "scatter3d",
           "x": [
            39.5,
            40.3,
            36.7,
            38.9,
            41.1,
            36.6,
            38.7,
            34.4,
            37.8,
            35.9,
            35.3,
            40.5,
            37.9,
            39.5,
            39.5,
            36.4,
            42.2,
            37.6,
            36.5,
            36,
            37,
            36,
            39.6,
            35,
            34.5,
            39,
            36.5,
            35.7,
            37.6,
            36.4,
            35.5,
            35.9,
            33.5,
            39.6,
            35.5,
            40.9,
            36.2,
            34.6,
            36.7,
            37.3,
            36.9,
            38.9,
            35.7,
            34,
            36.2,
            38.1,
            33.1,
            35,
            37.7,
            37.9,
            38.6,
            38.1,
            38.1,
            39.7,
            39.6,
            38.6,
            35.7,
            36.2,
            40.2,
            35.2,
            38.8,
            39,
            38.5,
            36.8,
            38.1,
            35.6,
            37,
            40.2,
            32.1,
            37.3,
            36.6,
            36,
            36
           ],
           "y": [
            3800,
            3250,
            3450,
            3625,
            3200,
            3700,
            3450,
            3325,
            3400,
            3800,
            3800,
            3200,
            3150,
            3250,
            3300,
            3325,
            3550,
            3300,
            3150,
            3100,
            3000,
            3450,
            3500,
            3450,
            2900,
            3550,
            2850,
            3150,
            3600,
            2850,
            3350,
            3050,
            3600,
            3550,
            3700,
            3700,
            3550,
            3200,
            3800,
            3350,
            3500,
            3600,
            3550,
            3400,
            3300,
            3700,
            2900,
            3725,
            3075,
            2925,
            3750,
            3175,
            3825,
            3200,
            3900,
            2900,
            3350,
            3150,
            3450,
            3050,
            3275,
            3050,
            3325,
            3500,
            3425,
            3175,
            3400,
            3400,
            3050,
            3000,
            3475,
            3450,
            3700
           ],
           "z": [
            "Torgersen",
            "Torgersen",
            "Torgersen",
            "Torgersen",
            "Torgersen",
            "Torgersen",
            "Torgersen",
            "Torgersen",
            "Biscoe",
            "Biscoe",
            "Biscoe",
            "Biscoe",
            "Biscoe",
            "Dream",
            "Dream",
            "Dream",
            "Dream",
            "Dream",
            "Dream",
            "Dream",
            "Dream",
            "Dream",
            "Biscoe",
            "Biscoe",
            "Biscoe",
            "Biscoe",
            "Biscoe",
            "Biscoe",
            "Biscoe",
            "Biscoe",
            "Biscoe",
            "Torgersen",
            "Torgersen",
            "Torgersen",
            "Torgersen",
            "Torgersen",
            "Torgersen",
            "Torgersen",
            "Torgersen",
            "Dream",
            "Dream",
            "Dream",
            "Dream",
            "Dream",
            "Dream",
            "Dream",
            "Dream",
            "Biscoe",
            "Biscoe",
            "Biscoe",
            "Biscoe",
            "Biscoe",
            "Biscoe",
            "Biscoe",
            "Biscoe",
            "Torgersen",
            "Torgersen",
            "Torgersen",
            "Torgersen",
            "Torgersen",
            "Torgersen",
            "Torgersen",
            "Torgersen",
            "Dream",
            "Dream",
            "Dream",
            "Dream",
            "Dream",
            "Dream",
            "Dream",
            "Dream",
            "Dream",
            "Dream"
           ]
          },
          {
           "customdata": [
            [
             "female"
            ],
            [
             "female"
            ],
            [
             "female"
            ],
            [
             "female"
            ],
            [
             "female"
            ],
            [
             "female"
            ],
            [
             "female"
            ],
            [
             "female"
            ],
            [
             "female"
            ],
            [
             "female"
            ],
            [
             "female"
            ],
            [
             "female"
            ],
            [
             "female"
            ],
            [
             "female"
            ],
            [
             "female"
            ],
            [
             "female"
            ],
            [
             "female"
            ],
            [
             "female"
            ],
            [
             "female"
            ],
            [
             "female"
            ],
            [
             "female"
            ],
            [
             "female"
            ],
            [
             "female"
            ],
            [
             "female"
            ],
            [
             "female"
            ],
            [
             "female"
            ],
            [
             "female"
            ],
            [
             "female"
            ],
            [
             "female"
            ],
            [
             "female"
            ],
            [
             "female"
            ],
            [
             "female"
            ],
            [
             "female"
            ],
            [
             "female"
            ]
           ],
           "hovertemplate": "species=Chinstrap<br>sex=%{customdata[0]}<br>bill_length_mm=%{x}<br>body_mass_g=%{y}<br>island=%{z}<extra></extra>",
           "legendgroup": "Chinstrap",
           "marker": {
            "color": "#EF553B",
            "symbol": "circle"
           },
           "mode": "markers",
           "name": "Chinstrap",
           "scene": "scene",
           "showlegend": true,
           "type": "scatter3d",
           "x": [
            46.5,
            45.4,
            45.2,
            46.1,
            46,
            46.6,
            47,
            45.9,
            58,
            46.4,
            42.4,
            43.2,
            46.7,
            50.5,
            46.4,
            40.9,
            42.5,
            47.5,
            47.6,
            46.9,
            46.2,
            45.5,
            50.9,
            50.1,
            49.8,
            48.1,
            45.7,
            42.5,
            45.2,
            45.6,
            46.8,
            45.7,
            43.5,
            50.2
           ],
           "y": [
            3500,
            3525,
            3950,
            3250,
            4150,
            3800,
            3700,
            3575,
            3700,
            3450,
            3600,
            2900,
            3300,
            3400,
            3700,
            3200,
            3350,
            3900,
            3850,
            2700,
            3650,
            3500,
            3675,
            3400,
            3675,
            3325,
            3600,
            3350,
            3250,
            3525,
            3650,
            3650,
            3400,
            3775
           ],
           "z": [
            "Dream",
            "Dream",
            "Dream",
            "Dream",
            "Dream",
            "Dream",
            "Dream",
            "Dream",
            "Dream",
            "Dream",
            "Dream",
            "Dream",
            "Dream",
            "Dream",
            "Dream",
            "Dream",
            "Dream",
            "Dream",
            "Dream",
            "Dream",
            "Dream",
            "Dream",
            "Dream",
            "Dream",
            "Dream",
            "Dream",
            "Dream",
            "Dream",
            "Dream",
            "Dream",
            "Dream",
            "Dream",
            "Dream",
            "Dream"
           ]
          }
         ],
         "name": "female"
        }
       ],
       "layout": {
        "height": 600,
        "legend": {
         "title": {
          "text": "species"
         },
         "tracegroupgap": 0
        },
        "scene": {
         "aspectmode": "auto",
         "aspectratio": {
          "x": 1,
          "y": 1,
          "z": 1
         },
         "camera": {
          "center": {
           "x": 0,
           "y": 0,
           "z": 0
          },
          "eye": {
           "x": 0.32267337535692425,
           "y": 2.365401332332182,
           "z": 0.21218211310529517
          },
          "projection": {
           "type": "perspective"
          },
          "up": {
           "x": 0,
           "y": 0,
           "z": 1
          }
         },
         "domain": {
          "x": [
           0,
           1
          ],
          "y": [
           0,
           1
          ]
         },
         "xaxis": {
          "title": {
           "text": "bill_length_mm"
          },
          "type": "linear"
         },
         "yaxis": {
          "title": {
           "text": "body_mass_g"
          },
          "type": "linear"
         },
         "zaxis": {
          "title": {
           "text": "island"
          },
          "type": "category"
         }
        },
        "sliders": [
         {
          "active": 1,
          "currentvalue": {
           "prefix": "sex="
          },
          "len": 0.9,
          "pad": {
           "b": 10,
           "t": 60
          },
          "steps": [
           {
            "args": [
             [
              "male"
             ],
             {
              "frame": {
               "duration": 0,
               "redraw": true
              },
              "fromcurrent": true,
              "mode": "immediate",
              "transition": {
               "duration": 0,
               "easing": "linear"
              }
             }
            ],
            "label": "male",
            "method": "animate"
           },
           {
            "args": [
             [
              "female"
             ],
             {
              "frame": {
               "duration": 0,
               "redraw": true
              },
              "fromcurrent": true,
              "mode": "immediate",
              "transition": {
               "duration": 0,
               "easing": "linear"
              }
             }
            ],
            "label": "female",
            "method": "animate"
           }
          ],
          "x": 0.1,
          "xanchor": "left",
          "y": 0,
          "yanchor": "top"
         }
        ],
        "template": {
         "data": {
          "bar": [
           {
            "error_x": {
             "color": "#2a3f5f"
            },
            "error_y": {
             "color": "#2a3f5f"
            },
            "marker": {
             "line": {
              "color": "#E5ECF6",
              "width": 0.5
             },
             "pattern": {
              "fillmode": "overlay",
              "size": 10,
              "solidity": 0.2
             }
            },
            "type": "bar"
           }
          ],
          "barpolar": [
           {
            "marker": {
             "line": {
              "color": "#E5ECF6",
              "width": 0.5
             },
             "pattern": {
              "fillmode": "overlay",
              "size": 10,
              "solidity": 0.2
             }
            },
            "type": "barpolar"
           }
          ],
          "carpet": [
           {
            "aaxis": {
             "endlinecolor": "#2a3f5f",
             "gridcolor": "white",
             "linecolor": "white",
             "minorgridcolor": "white",
             "startlinecolor": "#2a3f5f"
            },
            "baxis": {
             "endlinecolor": "#2a3f5f",
             "gridcolor": "white",
             "linecolor": "white",
             "minorgridcolor": "white",
             "startlinecolor": "#2a3f5f"
            },
            "type": "carpet"
           }
          ],
          "choropleth": [
           {
            "colorbar": {
             "outlinewidth": 0,
             "ticks": ""
            },
            "type": "choropleth"
           }
          ],
          "contour": [
           {
            "colorbar": {
             "outlinewidth": 0,
             "ticks": ""
            },
            "colorscale": [
             [
              0,
              "#0d0887"
             ],
             [
              0.1111111111111111,
              "#46039f"
             ],
             [
              0.2222222222222222,
              "#7201a8"
             ],
             [
              0.3333333333333333,
              "#9c179e"
             ],
             [
              0.4444444444444444,
              "#bd3786"
             ],
             [
              0.5555555555555556,
              "#d8576b"
             ],
             [
              0.6666666666666666,
              "#ed7953"
             ],
             [
              0.7777777777777778,
              "#fb9f3a"
             ],
             [
              0.8888888888888888,
              "#fdca26"
             ],
             [
              1,
              "#f0f921"
             ]
            ],
            "type": "contour"
           }
          ],
          "contourcarpet": [
           {
            "colorbar": {
             "outlinewidth": 0,
             "ticks": ""
            },
            "type": "contourcarpet"
           }
          ],
          "heatmap": [
           {
            "colorbar": {
             "outlinewidth": 0,
             "ticks": ""
            },
            "colorscale": [
             [
              0,
              "#0d0887"
             ],
             [
              0.1111111111111111,
              "#46039f"
             ],
             [
              0.2222222222222222,
              "#7201a8"
             ],
             [
              0.3333333333333333,
              "#9c179e"
             ],
             [
              0.4444444444444444,
              "#bd3786"
             ],
             [
              0.5555555555555556,
              "#d8576b"
             ],
             [
              0.6666666666666666,
              "#ed7953"
             ],
             [
              0.7777777777777778,
              "#fb9f3a"
             ],
             [
              0.8888888888888888,
              "#fdca26"
             ],
             [
              1,
              "#f0f921"
             ]
            ],
            "type": "heatmap"
           }
          ],
          "heatmapgl": [
           {
            "colorbar": {
             "outlinewidth": 0,
             "ticks": ""
            },
            "colorscale": [
             [
              0,
              "#0d0887"
             ],
             [
              0.1111111111111111,
              "#46039f"
             ],
             [
              0.2222222222222222,
              "#7201a8"
             ],
             [
              0.3333333333333333,
              "#9c179e"
             ],
             [
              0.4444444444444444,
              "#bd3786"
             ],
             [
              0.5555555555555556,
              "#d8576b"
             ],
             [
              0.6666666666666666,
              "#ed7953"
             ],
             [
              0.7777777777777778,
              "#fb9f3a"
             ],
             [
              0.8888888888888888,
              "#fdca26"
             ],
             [
              1,
              "#f0f921"
             ]
            ],
            "type": "heatmapgl"
           }
          ],
          "histogram": [
           {
            "marker": {
             "pattern": {
              "fillmode": "overlay",
              "size": 10,
              "solidity": 0.2
             }
            },
            "type": "histogram"
           }
          ],
          "histogram2d": [
           {
            "colorbar": {
             "outlinewidth": 0,
             "ticks": ""
            },
            "colorscale": [
             [
              0,
              "#0d0887"
             ],
             [
              0.1111111111111111,
              "#46039f"
             ],
             [
              0.2222222222222222,
              "#7201a8"
             ],
             [
              0.3333333333333333,
              "#9c179e"
             ],
             [
              0.4444444444444444,
              "#bd3786"
             ],
             [
              0.5555555555555556,
              "#d8576b"
             ],
             [
              0.6666666666666666,
              "#ed7953"
             ],
             [
              0.7777777777777778,
              "#fb9f3a"
             ],
             [
              0.8888888888888888,
              "#fdca26"
             ],
             [
              1,
              "#f0f921"
             ]
            ],
            "type": "histogram2d"
           }
          ],
          "histogram2dcontour": [
           {
            "colorbar": {
             "outlinewidth": 0,
             "ticks": ""
            },
            "colorscale": [
             [
              0,
              "#0d0887"
             ],
             [
              0.1111111111111111,
              "#46039f"
             ],
             [
              0.2222222222222222,
              "#7201a8"
             ],
             [
              0.3333333333333333,
              "#9c179e"
             ],
             [
              0.4444444444444444,
              "#bd3786"
             ],
             [
              0.5555555555555556,
              "#d8576b"
             ],
             [
              0.6666666666666666,
              "#ed7953"
             ],
             [
              0.7777777777777778,
              "#fb9f3a"
             ],
             [
              0.8888888888888888,
              "#fdca26"
             ],
             [
              1,
              "#f0f921"
             ]
            ],
            "type": "histogram2dcontour"
           }
          ],
          "mesh3d": [
           {
            "colorbar": {
             "outlinewidth": 0,
             "ticks": ""
            },
            "type": "mesh3d"
           }
          ],
          "parcoords": [
           {
            "line": {
             "colorbar": {
              "outlinewidth": 0,
              "ticks": ""
             }
            },
            "type": "parcoords"
           }
          ],
          "pie": [
           {
            "automargin": true,
            "type": "pie"
           }
          ],
          "scatter": [
           {
            "fillpattern": {
             "fillmode": "overlay",
             "size": 10,
             "solidity": 0.2
            },
            "type": "scatter"
           }
          ],
          "scatter3d": [
           {
            "line": {
             "colorbar": {
              "outlinewidth": 0,
              "ticks": ""
             }
            },
            "marker": {
             "colorbar": {
              "outlinewidth": 0,
              "ticks": ""
             }
            },
            "type": "scatter3d"
           }
          ],
          "scattercarpet": [
           {
            "marker": {
             "colorbar": {
              "outlinewidth": 0,
              "ticks": ""
             }
            },
            "type": "scattercarpet"
           }
          ],
          "scattergeo": [
           {
            "marker": {
             "colorbar": {
              "outlinewidth": 0,
              "ticks": ""
             }
            },
            "type": "scattergeo"
           }
          ],
          "scattergl": [
           {
            "marker": {
             "colorbar": {
              "outlinewidth": 0,
              "ticks": ""
             }
            },
            "type": "scattergl"
           }
          ],
          "scattermapbox": [
           {
            "marker": {
             "colorbar": {
              "outlinewidth": 0,
              "ticks": ""
             }
            },
            "type": "scattermapbox"
           }
          ],
          "scatterpolar": [
           {
            "marker": {
             "colorbar": {
              "outlinewidth": 0,
              "ticks": ""
             }
            },
            "type": "scatterpolar"
           }
          ],
          "scatterpolargl": [
           {
            "marker": {
             "colorbar": {
              "outlinewidth": 0,
              "ticks": ""
             }
            },
            "type": "scatterpolargl"
           }
          ],
          "scatterternary": [
           {
            "marker": {
             "colorbar": {
              "outlinewidth": 0,
              "ticks": ""
             }
            },
            "type": "scatterternary"
           }
          ],
          "surface": [
           {
            "colorbar": {
             "outlinewidth": 0,
             "ticks": ""
            },
            "colorscale": [
             [
              0,
              "#0d0887"
             ],
             [
              0.1111111111111111,
              "#46039f"
             ],
             [
              0.2222222222222222,
              "#7201a8"
             ],
             [
              0.3333333333333333,
              "#9c179e"
             ],
             [
              0.4444444444444444,
              "#bd3786"
             ],
             [
              0.5555555555555556,
              "#d8576b"
             ],
             [
              0.6666666666666666,
              "#ed7953"
             ],
             [
              0.7777777777777778,
              "#fb9f3a"
             ],
             [
              0.8888888888888888,
              "#fdca26"
             ],
             [
              1,
              "#f0f921"
             ]
            ],
            "type": "surface"
           }
          ],
          "table": [
           {
            "cells": {
             "fill": {
              "color": "#EBF0F8"
             },
             "line": {
              "color": "white"
             }
            },
            "header": {
             "fill": {
              "color": "#C8D4E3"
             },
             "line": {
              "color": "white"
             }
            },
            "type": "table"
           }
          ]
         },
         "layout": {
          "annotationdefaults": {
           "arrowcolor": "#2a3f5f",
           "arrowhead": 0,
           "arrowwidth": 1
          },
          "autotypenumbers": "strict",
          "coloraxis": {
           "colorbar": {
            "outlinewidth": 0,
            "ticks": ""
           }
          },
          "colorscale": {
           "diverging": [
            [
             0,
             "#8e0152"
            ],
            [
             0.1,
             "#c51b7d"
            ],
            [
             0.2,
             "#de77ae"
            ],
            [
             0.3,
             "#f1b6da"
            ],
            [
             0.4,
             "#fde0ef"
            ],
            [
             0.5,
             "#f7f7f7"
            ],
            [
             0.6,
             "#e6f5d0"
            ],
            [
             0.7,
             "#b8e186"
            ],
            [
             0.8,
             "#7fbc41"
            ],
            [
             0.9,
             "#4d9221"
            ],
            [
             1,
             "#276419"
            ]
           ],
           "sequential": [
            [
             0,
             "#0d0887"
            ],
            [
             0.1111111111111111,
             "#46039f"
            ],
            [
             0.2222222222222222,
             "#7201a8"
            ],
            [
             0.3333333333333333,
             "#9c179e"
            ],
            [
             0.4444444444444444,
             "#bd3786"
            ],
            [
             0.5555555555555556,
             "#d8576b"
            ],
            [
             0.6666666666666666,
             "#ed7953"
            ],
            [
             0.7777777777777778,
             "#fb9f3a"
            ],
            [
             0.8888888888888888,
             "#fdca26"
            ],
            [
             1,
             "#f0f921"
            ]
           ],
           "sequentialminus": [
            [
             0,
             "#0d0887"
            ],
            [
             0.1111111111111111,
             "#46039f"
            ],
            [
             0.2222222222222222,
             "#7201a8"
            ],
            [
             0.3333333333333333,
             "#9c179e"
            ],
            [
             0.4444444444444444,
             "#bd3786"
            ],
            [
             0.5555555555555556,
             "#d8576b"
            ],
            [
             0.6666666666666666,
             "#ed7953"
            ],
            [
             0.7777777777777778,
             "#fb9f3a"
            ],
            [
             0.8888888888888888,
             "#fdca26"
            ],
            [
             1,
             "#f0f921"
            ]
           ]
          },
          "colorway": [
           "#636efa",
           "#EF553B",
           "#00cc96",
           "#ab63fa",
           "#FFA15A",
           "#19d3f3",
           "#FF6692",
           "#B6E880",
           "#FF97FF",
           "#FECB52"
          ],
          "font": {
           "color": "#2a3f5f"
          },
          "geo": {
           "bgcolor": "white",
           "lakecolor": "white",
           "landcolor": "#E5ECF6",
           "showlakes": true,
           "showland": true,
           "subunitcolor": "white"
          },
          "hoverlabel": {
           "align": "left"
          },
          "hovermode": "closest",
          "mapbox": {
           "style": "light"
          },
          "paper_bgcolor": "white",
          "plot_bgcolor": "#E5ECF6",
          "polar": {
           "angularaxis": {
            "gridcolor": "white",
            "linecolor": "white",
            "ticks": ""
           },
           "bgcolor": "#E5ECF6",
           "radialaxis": {
            "gridcolor": "white",
            "linecolor": "white",
            "ticks": ""
           }
          },
          "scene": {
           "xaxis": {
            "backgroundcolor": "#E5ECF6",
            "gridcolor": "white",
            "gridwidth": 2,
            "linecolor": "white",
            "showbackground": true,
            "ticks": "",
            "zerolinecolor": "white"
           },
           "yaxis": {
            "backgroundcolor": "#E5ECF6",
            "gridcolor": "white",
            "gridwidth": 2,
            "linecolor": "white",
            "showbackground": true,
            "ticks": "",
            "zerolinecolor": "white"
           },
           "zaxis": {
            "backgroundcolor": "#E5ECF6",
            "gridcolor": "white",
            "gridwidth": 2,
            "linecolor": "white",
            "showbackground": true,
            "ticks": "",
            "zerolinecolor": "white"
           }
          },
          "shapedefaults": {
           "line": {
            "color": "#2a3f5f"
           }
          },
          "ternary": {
           "aaxis": {
            "gridcolor": "white",
            "linecolor": "white",
            "ticks": ""
           },
           "baxis": {
            "gridcolor": "white",
            "linecolor": "white",
            "ticks": ""
           },
           "bgcolor": "#E5ECF6",
           "caxis": {
            "gridcolor": "white",
            "linecolor": "white",
            "ticks": ""
           }
          },
          "title": {
           "x": 0.05
          },
          "xaxis": {
           "automargin": true,
           "gridcolor": "white",
           "linecolor": "white",
           "ticks": "",
           "title": {
            "standoff": 15
           },
           "zerolinecolor": "white",
           "zerolinewidth": 2
          },
          "yaxis": {
           "automargin": true,
           "gridcolor": "white",
           "linecolor": "white",
           "ticks": "",
           "title": {
            "standoff": 15
           },
           "zerolinecolor": "white",
           "zerolinewidth": 2
          }
         }
        },
        "title": {
         "text": "Penguin Bill Length vs Bill Depth Over Time"
        },
        "updatemenus": [
         {
          "buttons": [
           {
            "args": [
             null,
             {
              "frame": {
               "duration": 500,
               "redraw": true
              },
              "fromcurrent": true,
              "mode": "immediate",
              "transition": {
               "duration": 500,
               "easing": "linear"
              }
             }
            ],
            "label": "&#9654;",
            "method": "animate"
           },
           {
            "args": [
             [
              null
             ],
             {
              "frame": {
               "duration": 0,
               "redraw": true
              },
              "fromcurrent": true,
              "mode": "immediate",
              "transition": {
               "duration": 0,
               "easing": "linear"
              }
             }
            ],
            "label": "&#9724;",
            "method": "animate"
           }
          ],
          "direction": "left",
          "pad": {
           "r": 10,
           "t": 70
          },
          "showactive": false,
          "type": "buttons",
          "x": 0.1,
          "xanchor": "right",
          "y": 0,
          "yanchor": "top"
         }
        ],
        "width": 800
       }
      },
      "image/png": "[encoded data removed]",
      "text/html": [
       "<div>                            <div id=\"7afef3be-e28a-4cce-80f5-b68ddbc3aabb\" class=\"plotly-graph-div\" style=\"height:600px; width:800px;\"></div>            <script type=\"text/javascript\">                require([\"plotly\"], function(Plotly) {                    window.PLOTLYENV=window.PLOTLYENV || {};                                    if (document.getElementById(\"7afef3be-e28a-4cce-80f5-b68ddbc3aabb\")) {                    Plotly.newPlot(                        \"7afef3be-e28a-4cce-80f5-b68ddbc3aabb\",                        [{\"customdata\":[[\"male\"],[\"male\"],[\"male\"],[\"male\"],[\"male\"],[\"male\"],[\"male\"],[\"male\"],[\"male\"],[\"male\"],[\"male\"],[\"male\"],[\"male\"],[\"male\"],[\"male\"],[\"male\"],[\"male\"],[\"male\"],[\"male\"],[\"male\"],[\"male\"],[\"male\"],[\"male\"],[\"male\"],[\"male\"],[\"male\"],[\"male\"],[\"male\"],[\"male\"],[\"male\"],[\"male\"],[\"male\"],[\"male\"],[\"male\"],[\"male\"],[\"male\"],[\"male\"],[\"male\"],[\"male\"],[\"male\"],[\"male\"],[\"male\"],[\"male\"],[\"male\"],[\"male\"],[\"male\"],[\"male\"],[\"male\"],[\"male\"],[\"male\"],[\"male\"],[\"male\"],[\"male\"],[\"male\"],[\"male\"],[\"male\"],[\"male\"],[\"male\"],[\"male\"],[\"male\"],[\"male\"],[\"male\"],[\"male\"],[\"male\"],[\"male\"],[\"male\"],[\"male\"],[\"male\"],[\"male\"],[\"male\"],[\"male\"],[\"male\"],[\"male\"]],\"hovertemplate\":\"species=Adelie\\u003cbr\\u003esex=%{customdata[0]}\\u003cbr\\u003ebill_length_mm=%{x}\\u003cbr\\u003ebody_mass_g=%{y}\\u003cbr\\u003eisland=%{z}\\u003cextra\\u003e\\u003c\\u002fextra\\u003e\",\"legendgroup\":\"Adelie\",\"marker\":{\"color\":\"#636efa\",\"symbol\":\"circle\"},\"mode\":\"markers\",\"name\":\"Adelie\",\"scene\":\"scene\",\"showlegend\":true,\"x\":[39.1,39.3,39.2,38.6,34.6,42.5,46.0,37.7,38.2,38.8,40.6,40.5,37.2,40.9,39.2,38.8,39.8,40.8,44.1,39.6,41.1,42.3,40.1,42.0,41.4,40.6,37.6,41.3,41.1,41.6,41.1,41.8,39.7,45.8,42.8,37.2,42.1,42.9,35.1,41.3,36.3,38.3,41.1,39.6,40.8,40.3,43.2,41.0,37.8,39.7,38.2,43.2,45.6,42.2,42.7,37.3,41.1,37.7,41.4,40.6,41.5,44.1,43.1,37.5,41.1,40.2,39.7,40.6,40.7,39.0,39.2,37.8,41.5],\"y\":[3750.0,3650.0,4675.0,3800.0,4400.0,4500.0,4200.0,3600.0,3950.0,3800.0,3550.0,3950.0,3900.0,3900.0,4150.0,3950.0,4650.0,3900.0,4400.0,4600.0,3425.0,4150.0,4300.0,4050.0,3700.0,3800.0,3750.0,4400.0,4050.0,3950.0,4100.0,4450.0,3900.0,4150.0,4250.0,3900.0,4000.0,4700.0,4200.0,3550.0,3800.0,3950.0,4300.0,4450.0,4300.0,4350.0,4100.0,4725.0,4250.0,3550.0,3900.0,4775.0,4600.0,4275.0,4075.0,3775.0,3325.0,3500.0,3875.0,4000.0,4300.0,4000.0,3500.0,4475.0,3900.0,3975.0,4250.0,3475.0,3725.0,3650.0,4250.0,3750.0,4000.0],\"z\":[\"Torgersen\",\"Torgersen\",\"Torgersen\",\"Torgersen\",\"Torgersen\",\"Torgersen\",\"Torgersen\",\"Biscoe\",\"Biscoe\",\"Biscoe\",\"Biscoe\",\"Biscoe\",\"Dream\",\"Dream\",\"Dream\",\"Dream\",\"Dream\",\"Dream\",\"Dream\",\"Dream\",\"Dream\",\"Dream\",\"Biscoe\",\"Biscoe\",\"Biscoe\",\"Biscoe\",\"Biscoe\",\"Biscoe\",\"Biscoe\",\"Biscoe\",\"Biscoe\",\"Torgersen\",\"Torgersen\",\"Torgersen\",\"Torgersen\",\"Torgersen\",\"Torgersen\",\"Torgersen\",\"Torgersen\",\"Dream\",\"Dream\",\"Dream\",\"Dream\",\"Dream\",\"Dream\",\"Dream\",\"Dream\",\"Biscoe\",\"Biscoe\",\"Biscoe\",\"Biscoe\",\"Biscoe\",\"Biscoe\",\"Biscoe\",\"Biscoe\",\"Torgersen\",\"Torgersen\",\"Torgersen\",\"Torgersen\",\"Torgersen\",\"Torgersen\",\"Torgersen\",\"Torgersen\",\"Dream\",\"Dream\",\"Dream\",\"Dream\",\"Dream\",\"Dream\",\"Dream\",\"Dream\",\"Dream\",\"Dream\"],\"type\":\"scatter3d\"},{\"customdata\":[[\"male\"],[\"male\"],[\"male\"],[\"male\"],[\"male\"],[\"male\"],[\"male\"],[\"male\"],[\"male\"],[\"male\"],[\"male\"],[\"male\"],[\"male\"],[\"male\"],[\"male\"],[\"male\"],[\"male\"],[\"male\"],[\"male\"],[\"male\"],[\"male\"],[\"male\"],[\"male\"],[\"male\"],[\"male\"],[\"male\"],[\"male\"],[\"male\"],[\"male\"],[\"male\"],[\"male\"],[\"male\"],[\"male\"],[\"male\"]],\"hovertemplate\":\"species=Chinstrap\\u003cbr\\u003esex=%{customdata[0]}\\u003cbr\\u003ebill_length_mm=%{x}\\u003cbr\\u003ebody_mass_g=%{y}\\u003cbr\\u003eisland=%{z}\\u003cextra\\u003e\\u003c\\u002fextra\\u003e\",\"legendgroup\":\"Chinstrap\",\"marker\":{\"color\":\"#EF553B\",\"symbol\":\"circle\"},\"mode\":\"markers\",\"name\":\"Chinstrap\",\"scene\":\"scene\",\"showlegend\":true,\"x\":[50.0,51.3,52.7,51.3,51.3,51.7,52.0,50.5,50.3,49.2,48.5,50.6,52.0,49.5,52.8,54.2,51.0,49.7,52.0,53.5,49.0,50.9,50.8,49.0,51.5,51.4,50.7,52.2,49.3,50.2,51.9,55.8,49.6,50.8],\"y\":[3900.0,3650.0,3725.0,3750.0,3700.0,3775.0,4050.0,4050.0,3300.0,4400.0,3400.0,3800.0,4150.0,3800.0,4550.0,4300.0,4100.0,3600.0,4800.0,4500.0,3950.0,3550.0,4450.0,4300.0,3250.0,3950.0,4050.0,3450.0,4050.0,3800.0,3950.0,4000.0,3775.0,4100.0],\"z\":[\"Dream\",\"Dream\",\"Dream\",\"Dream\",\"Dream\",\"Dream\",\"Dream\",\"Dream\",\"Dream\",\"Dream\",\"Dream\",\"Dream\",\"Dream\",\"Dream\",\"Dream\",\"Dream\",\"Dream\",\"Dream\",\"Dream\",\"Dream\",\"Dream\",\"Dream\",\"Dream\",\"Dream\",\"Dream\",\"Dream\",\"Dream\",\"Dream\",\"Dream\",\"Dream\",\"Dream\",\"Dream\",\"Dream\",\"Dream\"],\"type\":\"scatter3d\"}],                        {\"template\":{\"data\":{\"histogram2dcontour\":[{\"type\":\"histogram2dcontour\",\"colorbar\":{\"outlinewidth\":0,\"ticks\":\"\"},\"colorscale\":[[0.0,\"#0d0887\"],[0.1111111111111111,\"#46039f\"],[0.2222222222222222,\"#7201a8\"],[0.3333333333333333,\"#9c179e\"],[0.4444444444444444,\"#bd3786\"],[0.5555555555555556,\"#d8576b\"],[0.6666666666666666,\"#ed7953\"],[0.7777777777777778,\"#fb9f3a\"],[0.8888888888888888,\"#fdca26\"],[1.0,\"#f0f921\"]]}],\"choropleth\":[{\"type\":\"choropleth\",\"colorbar\":{\"outlinewidth\":0,\"ticks\":\"\"}}],\"histogram2d\":[{\"type\":\"histogram2d\",\"colorbar\":{\"outlinewidth\":0,\"ticks\":\"\"},\"colorscale\":[[0.0,\"#0d0887\"],[0.1111111111111111,\"#46039f\"],[0.2222222222222222,\"#7201a8\"],[0.3333333333333333,\"#9c179e\"],[0.4444444444444444,\"#bd3786\"],[0.5555555555555556,\"#d8576b\"],[0.6666666666666666,\"#ed7953\"],[0.7777777777777778,\"#fb9f3a\"],[0.8888888888888888,\"#fdca26\"],[1.0,\"#f0f921\"]]}],\"heatmap\":[{\"type\":\"heatmap\",\"colorbar\":{\"outlinewidth\":0,\"ticks\":\"\"},\"colorscale\":[[0.0,\"#0d0887\"],[0.1111111111111111,\"#46039f\"],[0.2222222222222222,\"#7201a8\"],[0.3333333333333333,\"#9c179e\"],[0.4444444444444444,\"#bd3786\"],[0.5555555555555556,\"#d8576b\"],[0.6666666666666666,\"#ed7953\"],[0.7777777777777778,\"#fb9f3a\"],[0.8888888888888888,\"#fdca26\"],[1.0,\"#f0f921\"]]}],\"heatmapgl\":[{\"type\":\"heatmapgl\",\"colorbar\":{\"outlinewidth\":0,\"ticks\":\"\"},\"colorscale\":[[0.0,\"#0d0887\"],[0.1111111111111111,\"#46039f\"],[0.2222222222222222,\"#7201a8\"],[0.3333333333333333,\"#9c179e\"],[0.4444444444444444,\"#bd3786\"],[0.5555555555555556,\"#d8576b\"],[0.6666666666666666,\"#ed7953\"],[0.7777777777777778,\"#fb9f3a\"],[0.8888888888888888,\"#fdca26\"],[1.0,\"#f0f921\"]]}],\"contourcarpet\":[{\"type\":\"contourcarpet\",\"colorbar\":{\"outlinewidth\":0,\"ticks\":\"\"}}],\"contour\":[{\"type\":\"contour\",\"colorbar\":{\"outlinewidth\":0,\"ticks\":\"\"},\"colorscale\":[[0.0,\"#0d0887\"],[0.1111111111111111,\"#46039f\"],[0.2222222222222222,\"#7201a8\"],[0.3333333333333333,\"#9c179e\"],[0.4444444444444444,\"#bd3786\"],[0.5555555555555556,\"#d8576b\"],[0.6666666666666666,\"#ed7953\"],[0.7777777777777778,\"#fb9f3a\"],[0.8888888888888888,\"#fdca26\"],[1.0,\"#f0f921\"]]}],\"surface\":[{\"type\":\"surface\",\"colorbar\":{\"outlinewidth\":0,\"ticks\":\"\"},\"colorscale\":[[0.0,\"#0d0887\"],[0.1111111111111111,\"#46039f\"],[0.2222222222222222,\"#7201a8\"],[0.3333333333333333,\"#9c179e\"],[0.4444444444444444,\"#bd3786\"],[0.5555555555555556,\"#d8576b\"],[0.6666666666666666,\"#ed7953\"],[0.7777777777777778,\"#fb9f3a\"],[0.8888888888888888,\"#fdca26\"],[1.0,\"#f0f921\"]]}],\"mesh3d\":[{\"type\":\"mesh3d\",\"colorbar\":{\"outlinewidth\":0,\"ticks\":\"\"}}],\"scatter\":[{\"fillpattern\":{\"fillmode\":\"overlay\",\"size\":10,\"solidity\":0.2},\"type\":\"scatter\"}],\"parcoords\":[{\"type\":\"parcoords\",\"line\":{\"colorbar\":{\"outlinewidth\":0,\"ticks\":\"\"}}}],\"scatterpolargl\":[{\"type\":\"scatterpolargl\",\"marker\":{\"colorbar\":{\"outlinewidth\":0,\"ticks\":\"\"}}}],\"bar\":[{\"error_x\":{\"color\":\"#2a3f5f\"},\"error_y\":{\"color\":\"#2a3f5f\"},\"marker\":{\"line\":{\"color\":\"#E5ECF6\",\"width\":0.5},\"pattern\":{\"fillmode\":\"overlay\",\"size\":10,\"solidity\":0.2}},\"type\":\"bar\"}],\"scattergeo\":[{\"type\":\"scattergeo\",\"marker\":{\"colorbar\":{\"outlinewidth\":0,\"ticks\":\"\"}}}],\"scatterpolar\":[{\"type\":\"scatterpolar\",\"marker\":{\"colorbar\":{\"outlinewidth\":0,\"ticks\":\"\"}}}],\"histogram\":[{\"marker\":{\"pattern\":{\"fillmode\":\"overlay\",\"size\":10,\"solidity\":0.2}},\"type\":\"histogram\"}],\"scattergl\":[{\"type\":\"scattergl\",\"marker\":{\"colorbar\":{\"outlinewidth\":0,\"ticks\":\"\"}}}],\"scatter3d\":[{\"type\":\"scatter3d\",\"line\":{\"colorbar\":{\"outlinewidth\":0,\"ticks\":\"\"}},\"marker\":{\"colorbar\":{\"outlinewidth\":0,\"ticks\":\"\"}}}],\"scattermapbox\":[{\"type\":\"scattermapbox\",\"marker\":{\"colorbar\":{\"outlinewidth\":0,\"ticks\":\"\"}}}],\"scatterternary\":[{\"type\":\"scatterternary\",\"marker\":{\"colorbar\":{\"outlinewidth\":0,\"ticks\":\"\"}}}],\"scattercarpet\":[{\"type\":\"scattercarpet\",\"marker\":{\"colorbar\":{\"outlinewidth\":0,\"ticks\":\"\"}}}],\"carpet\":[{\"aaxis\":{\"endlinecolor\":\"#2a3f5f\",\"gridcolor\":\"white\",\"linecolor\":\"white\",\"minorgridcolor\":\"white\",\"startlinecolor\":\"#2a3f5f\"},\"baxis\":{\"endlinecolor\":\"#2a3f5f\",\"gridcolor\":\"white\",\"linecolor\":\"white\",\"minorgridcolor\":\"white\",\"startlinecolor\":\"#2a3f5f\"},\"type\":\"carpet\"}],\"table\":[{\"cells\":{\"fill\":{\"color\":\"#EBF0F8\"},\"line\":{\"color\":\"white\"}},\"header\":{\"fill\":{\"color\":\"#C8D4E3\"},\"line\":{\"color\":\"white\"}},\"type\":\"table\"}],\"barpolar\":[{\"marker\":{\"line\":{\"color\":\"#E5ECF6\",\"width\":0.5},\"pattern\":{\"fillmode\":\"overlay\",\"size\":10,\"solidity\":0.2}},\"type\":\"barpolar\"}],\"pie\":[{\"automargin\":true,\"type\":\"pie\"}]},\"layout\":{\"autotypenumbers\":\"strict\",\"colorway\":[\"#636efa\",\"#EF553B\",\"#00cc96\",\"#ab63fa\",\"#FFA15A\",\"#19d3f3\",\"#FF6692\",\"#B6E880\",\"#FF97FF\",\"#FECB52\"],\"font\":{\"color\":\"#2a3f5f\"},\"hovermode\":\"closest\",\"hoverlabel\":{\"align\":\"left\"},\"paper_bgcolor\":\"white\",\"plot_bgcolor\":\"#E5ECF6\",\"polar\":{\"bgcolor\":\"#E5ECF6\",\"angularaxis\":{\"gridcolor\":\"white\",\"linecolor\":\"white\",\"ticks\":\"\"},\"radialaxis\":{\"gridcolor\":\"white\",\"linecolor\":\"white\",\"ticks\":\"\"}},\"ternary\":{\"bgcolor\":\"#E5ECF6\",\"aaxis\":{\"gridcolor\":\"white\",\"linecolor\":\"white\",\"ticks\":\"\"},\"baxis\":{\"gridcolor\":\"white\",\"linecolor\":\"white\",\"ticks\":\"\"},\"caxis\":{\"gridcolor\":\"white\",\"linecolor\":\"white\",\"ticks\":\"\"}},\"coloraxis\":{\"colorbar\":{\"outlinewidth\":0,\"ticks\":\"\"}},\"colorscale\":{\"sequential\":[[0.0,\"#0d0887\"],[0.1111111111111111,\"#46039f\"],[0.2222222222222222,\"#7201a8\"],[0.3333333333333333,\"#9c179e\"],[0.4444444444444444,\"#bd3786\"],[0.5555555555555556,\"#d8576b\"],[0.6666666666666666,\"#ed7953\"],[0.7777777777777778,\"#fb9f3a\"],[0.8888888888888888,\"#fdca26\"],[1.0,\"#f0f921\"]],\"sequentialminus\":[[0.0,\"#0d0887\"],[0.1111111111111111,\"#46039f\"],[0.2222222222222222,\"#7201a8\"],[0.3333333333333333,\"#9c179e\"],[0.4444444444444444,\"#bd3786\"],[0.5555555555555556,\"#d8576b\"],[0.6666666666666666,\"#ed7953\"],[0.7777777777777778,\"#fb9f3a\"],[0.8888888888888888,\"#fdca26\"],[1.0,\"#f0f921\"]],\"diverging\":[[0,\"#8e0152\"],[0.1,\"#c51b7d\"],[0.2,\"#de77ae\"],[0.3,\"#f1b6da\"],[0.4,\"#fde0ef\"],[0.5,\"#f7f7f7\"],[0.6,\"#e6f5d0\"],[0.7,\"#b8e186\"],[0.8,\"#7fbc41\"],[0.9,\"#4d9221\"],[1,\"#276419\"]]},\"xaxis\":{\"gridcolor\":\"white\",\"linecolor\":\"white\",\"ticks\":\"\",\"title\":{\"standoff\":15},\"zerolinecolor\":\"white\",\"automargin\":true,\"zerolinewidth\":2},\"yaxis\":{\"gridcolor\":\"white\",\"linecolor\":\"white\",\"ticks\":\"\",\"title\":{\"standoff\":15},\"zerolinecolor\":\"white\",\"automargin\":true,\"zerolinewidth\":2},\"scene\":{\"xaxis\":{\"backgroundcolor\":\"#E5ECF6\",\"gridcolor\":\"white\",\"linecolor\":\"white\",\"showbackground\":true,\"ticks\":\"\",\"zerolinecolor\":\"white\",\"gridwidth\":2},\"yaxis\":{\"backgroundcolor\":\"#E5ECF6\",\"gridcolor\":\"white\",\"linecolor\":\"white\",\"showbackground\":true,\"ticks\":\"\",\"zerolinecolor\":\"white\",\"gridwidth\":2},\"zaxis\":{\"backgroundcolor\":\"#E5ECF6\",\"gridcolor\":\"white\",\"linecolor\":\"white\",\"showbackground\":true,\"ticks\":\"\",\"zerolinecolor\":\"white\",\"gridwidth\":2}},\"shapedefaults\":{\"line\":{\"color\":\"#2a3f5f\"}},\"annotationdefaults\":{\"arrowcolor\":\"#2a3f5f\",\"arrowhead\":0,\"arrowwidth\":1},\"geo\":{\"bgcolor\":\"white\",\"landcolor\":\"#E5ECF6\",\"subunitcolor\":\"white\",\"showland\":true,\"showlakes\":true,\"lakecolor\":\"white\"},\"title\":{\"x\":0.05},\"mapbox\":{\"style\":\"light\"}}},\"scene\":{\"domain\":{\"x\":[0.0,1.0],\"y\":[0.0,1.0]},\"xaxis\":{\"title\":{\"text\":\"bill_length_mm\"}},\"yaxis\":{\"title\":{\"text\":\"body_mass_g\"}},\"zaxis\":{\"title\":{\"text\":\"island\"}}},\"legend\":{\"title\":{\"text\":\"species\"},\"tracegroupgap\":0},\"title\":{\"text\":\"Penguin Bill Length vs Bill Depth Over Time\"},\"updatemenus\":[{\"buttons\":[{\"args\":[null,{\"frame\":{\"duration\":500,\"redraw\":true},\"mode\":\"immediate\",\"fromcurrent\":true,\"transition\":{\"duration\":500,\"easing\":\"linear\"}}],\"label\":\"&#9654;\",\"method\":\"animate\"},{\"args\":[[null],{\"frame\":{\"duration\":0,\"redraw\":true},\"mode\":\"immediate\",\"fromcurrent\":true,\"transition\":{\"duration\":0,\"easing\":\"linear\"}}],\"label\":\"&#9724;\",\"method\":\"animate\"}],\"direction\":\"left\",\"pad\":{\"r\":10,\"t\":70},\"showactive\":false,\"type\":\"buttons\",\"x\":0.1,\"xanchor\":\"right\",\"y\":0,\"yanchor\":\"top\"}],\"sliders\":[{\"active\":0,\"currentvalue\":{\"prefix\":\"sex=\"},\"len\":0.9,\"pad\":{\"b\":10,\"t\":60},\"steps\":[{\"args\":[[\"male\"],{\"frame\":{\"duration\":0,\"redraw\":true},\"mode\":\"immediate\",\"fromcurrent\":true,\"transition\":{\"duration\":0,\"easing\":\"linear\"}}],\"label\":\"male\",\"method\":\"animate\"},{\"args\":[[\"female\"],{\"frame\":{\"duration\":0,\"redraw\":true},\"mode\":\"immediate\",\"fromcurrent\":true,\"transition\":{\"duration\":0,\"easing\":\"linear\"}}],\"label\":\"female\",\"method\":\"animate\"}],\"x\":0.1,\"xanchor\":\"left\",\"y\":0,\"yanchor\":\"top\"}],\"width\":800,\"height\":600},                        {\"responsive\": true}                    ).then(function(){\n",
       "                            Plotly.addFrames('7afef3be-e28a-4cce-80f5-b68ddbc3aabb', [{\"data\":[{\"customdata\":[[\"male\"],[\"male\"],[\"male\"],[\"male\"],[\"male\"],[\"male\"],[\"male\"],[\"male\"],[\"male\"],[\"male\"],[\"male\"],[\"male\"],[\"male\"],[\"male\"],[\"male\"],[\"male\"],[\"male\"],[\"male\"],[\"male\"],[\"male\"],[\"male\"],[\"male\"],[\"male\"],[\"male\"],[\"male\"],[\"male\"],[\"male\"],[\"male\"],[\"male\"],[\"male\"],[\"male\"],[\"male\"],[\"male\"],[\"male\"],[\"male\"],[\"male\"],[\"male\"],[\"male\"],[\"male\"],[\"male\"],[\"male\"],[\"male\"],[\"male\"],[\"male\"],[\"male\"],[\"male\"],[\"male\"],[\"male\"],[\"male\"],[\"male\"],[\"male\"],[\"male\"],[\"male\"],[\"male\"],[\"male\"],[\"male\"],[\"male\"],[\"male\"],[\"male\"],[\"male\"],[\"male\"],[\"male\"],[\"male\"],[\"male\"],[\"male\"],[\"male\"],[\"male\"],[\"male\"],[\"male\"],[\"male\"],[\"male\"],[\"male\"],[\"male\"]],\"hovertemplate\":\"species=Adelie\\u003cbr\\u003esex=%{customdata[0]}\\u003cbr\\u003ebill_length_mm=%{x}\\u003cbr\\u003ebody_mass_g=%{y}\\u003cbr\\u003eisland=%{z}\\u003cextra\\u003e\\u003c\\u002fextra\\u003e\",\"legendgroup\":\"Adelie\",\"marker\":{\"color\":\"#636efa\",\"symbol\":\"circle\"},\"mode\":\"markers\",\"name\":\"Adelie\",\"scene\":\"scene\",\"showlegend\":true,\"x\":[39.1,39.3,39.2,38.6,34.6,42.5,46.0,37.7,38.2,38.8,40.6,40.5,37.2,40.9,39.2,38.8,39.8,40.8,44.1,39.6,41.1,42.3,40.1,42.0,41.4,40.6,37.6,41.3,41.1,41.6,41.1,41.8,39.7,45.8,42.8,37.2,42.1,42.9,35.1,41.3,36.3,38.3,41.1,39.6,40.8,40.3,43.2,41.0,37.8,39.7,38.2,43.2,45.6,42.2,42.7,37.3,41.1,37.7,41.4,40.6,41.5,44.1,43.1,37.5,41.1,40.2,39.7,40.6,40.7,39.0,39.2,37.8,41.5],\"y\":[3750.0,3650.0,4675.0,3800.0,4400.0,4500.0,4200.0,3600.0,3950.0,3800.0,3550.0,3950.0,3900.0,3900.0,4150.0,3950.0,4650.0,3900.0,4400.0,4600.0,3425.0,4150.0,4300.0,4050.0,3700.0,3800.0,3750.0,4400.0,4050.0,3950.0,4100.0,4450.0,3900.0,4150.0,4250.0,3900.0,4000.0,4700.0,4200.0,3550.0,3800.0,3950.0,4300.0,4450.0,4300.0,4350.0,4100.0,4725.0,4250.0,3550.0,3900.0,4775.0,4600.0,4275.0,4075.0,3775.0,3325.0,3500.0,3875.0,4000.0,4300.0,4000.0,3500.0,4475.0,3900.0,3975.0,4250.0,3475.0,3725.0,3650.0,4250.0,3750.0,4000.0],\"z\":[\"Torgersen\",\"Torgersen\",\"Torgersen\",\"Torgersen\",\"Torgersen\",\"Torgersen\",\"Torgersen\",\"Biscoe\",\"Biscoe\",\"Biscoe\",\"Biscoe\",\"Biscoe\",\"Dream\",\"Dream\",\"Dream\",\"Dream\",\"Dream\",\"Dream\",\"Dream\",\"Dream\",\"Dream\",\"Dream\",\"Biscoe\",\"Biscoe\",\"Biscoe\",\"Biscoe\",\"Biscoe\",\"Biscoe\",\"Biscoe\",\"Biscoe\",\"Biscoe\",\"Torgersen\",\"Torgersen\",\"Torgersen\",\"Torgersen\",\"Torgersen\",\"Torgersen\",\"Torgersen\",\"Torgersen\",\"Dream\",\"Dream\",\"Dream\",\"Dream\",\"Dream\",\"Dream\",\"Dream\",\"Dream\",\"Biscoe\",\"Biscoe\",\"Biscoe\",\"Biscoe\",\"Biscoe\",\"Biscoe\",\"Biscoe\",\"Biscoe\",\"Torgersen\",\"Torgersen\",\"Torgersen\",\"Torgersen\",\"Torgersen\",\"Torgersen\",\"Torgersen\",\"Torgersen\",\"Dream\",\"Dream\",\"Dream\",\"Dream\",\"Dream\",\"Dream\",\"Dream\",\"Dream\",\"Dream\",\"Dream\"],\"type\":\"scatter3d\"},{\"customdata\":[[\"male\"],[\"male\"],[\"male\"],[\"male\"],[\"male\"],[\"male\"],[\"male\"],[\"male\"],[\"male\"],[\"male\"],[\"male\"],[\"male\"],[\"male\"],[\"male\"],[\"male\"],[\"male\"],[\"male\"],[\"male\"],[\"male\"],[\"male\"],[\"male\"],[\"male\"],[\"male\"],[\"male\"],[\"male\"],[\"male\"],[\"male\"],[\"male\"],[\"male\"],[\"male\"],[\"male\"],[\"male\"],[\"male\"],[\"male\"]],\"hovertemplate\":\"species=Chinstrap\\u003cbr\\u003esex=%{customdata[0]}\\u003cbr\\u003ebill_length_mm=%{x}\\u003cbr\\u003ebody_mass_g=%{y}\\u003cbr\\u003eisland=%{z}\\u003cextra\\u003e\\u003c\\u002fextra\\u003e\",\"legendgroup\":\"Chinstrap\",\"marker\":{\"color\":\"#EF553B\",\"symbol\":\"circle\"},\"mode\":\"markers\",\"name\":\"Chinstrap\",\"scene\":\"scene\",\"showlegend\":true,\"x\":[50.0,51.3,52.7,51.3,51.3,51.7,52.0,50.5,50.3,49.2,48.5,50.6,52.0,49.5,52.8,54.2,51.0,49.7,52.0,53.5,49.0,50.9,50.8,49.0,51.5,51.4,50.7,52.2,49.3,50.2,51.9,55.8,49.6,50.8],\"y\":[3900.0,3650.0,3725.0,3750.0,3700.0,3775.0,4050.0,4050.0,3300.0,4400.0,3400.0,3800.0,4150.0,3800.0,4550.0,4300.0,4100.0,3600.0,4800.0,4500.0,3950.0,3550.0,4450.0,4300.0,3250.0,3950.0,4050.0,3450.0,4050.0,3800.0,3950.0,4000.0,3775.0,4100.0],\"z\":[\"Dream\",\"Dream\",\"Dream\",\"Dream\",\"Dream\",\"Dream\",\"Dream\",\"Dream\",\"Dream\",\"Dream\",\"Dream\",\"Dream\",\"Dream\",\"Dream\",\"Dream\",\"Dream\",\"Dream\",\"Dream\",\"Dream\",\"Dream\",\"Dream\",\"Dream\",\"Dream\",\"Dream\",\"Dream\",\"Dream\",\"Dream\",\"Dream\",\"Dream\",\"Dream\",\"Dream\",\"Dream\",\"Dream\",\"Dream\"],\"type\":\"scatter3d\"}],\"name\":\"male\"},{\"data\":[{\"customdata\":[[\"female\"],[\"female\"],[\"female\"],[\"female\"],[\"female\"],[\"female\"],[\"female\"],[\"female\"],[\"female\"],[\"female\"],[\"female\"],[\"female\"],[\"female\"],[\"female\"],[\"female\"],[\"female\"],[\"female\"],[\"female\"],[\"female\"],[\"female\"],[\"female\"],[\"female\"],[\"female\"],[\"female\"],[\"female\"],[\"female\"],[\"female\"],[\"female\"],[\"female\"],[\"female\"],[\"female\"],[\"female\"],[\"female\"],[\"female\"],[\"female\"],[\"female\"],[\"female\"],[\"female\"],[\"female\"],[\"female\"],[\"female\"],[\"female\"],[\"female\"],[\"female\"],[\"female\"],[\"female\"],[\"female\"],[\"female\"],[\"female\"],[\"female\"],[\"female\"],[\"female\"],[\"female\"],[\"female\"],[\"female\"],[\"female\"],[\"female\"],[\"female\"],[\"female\"],[\"female\"],[\"female\"],[\"female\"],[\"female\"],[\"female\"],[\"female\"],[\"female\"],[\"female\"],[\"female\"],[\"female\"],[\"female\"],[\"female\"],[\"female\"],[\"female\"]],\"hovertemplate\":\"species=Adelie\\u003cbr\\u003esex=%{customdata[0]}\\u003cbr\\u003ebill_length_mm=%{x}\\u003cbr\\u003ebody_mass_g=%{y}\\u003cbr\\u003eisland=%{z}\\u003cextra\\u003e\\u003c\\u002fextra\\u003e\",\"legendgroup\":\"Adelie\",\"marker\":{\"color\":\"#636efa\",\"symbol\":\"circle\"},\"mode\":\"markers\",\"name\":\"Adelie\",\"scene\":\"scene\",\"showlegend\":true,\"x\":[39.5,40.3,36.7,38.9,41.1,36.6,38.7,34.4,37.8,35.9,35.3,40.5,37.9,39.5,39.5,36.4,42.2,37.6,36.5,36.0,37.0,36.0,39.6,35.0,34.5,39.0,36.5,35.7,37.6,36.4,35.5,35.9,33.5,39.6,35.5,40.9,36.2,34.6,36.7,37.3,36.9,38.9,35.7,34.0,36.2,38.1,33.1,35.0,37.7,37.9,38.6,38.1,38.1,39.7,39.6,38.6,35.7,36.2,40.2,35.2,38.8,39.0,38.5,36.8,38.1,35.6,37.0,40.2,32.1,37.3,36.6,36.0,36.0],\"y\":[3800.0,3250.0,3450.0,3625.0,3200.0,3700.0,3450.0,3325.0,3400.0,3800.0,3800.0,3200.0,3150.0,3250.0,3300.0,3325.0,3550.0,3300.0,3150.0,3100.0,3000.0,3450.0,3500.0,3450.0,2900.0,3550.0,2850.0,3150.0,3600.0,2850.0,3350.0,3050.0,3600.0,3550.0,3700.0,3700.0,3550.0,3200.0,3800.0,3350.0,3500.0,3600.0,3550.0,3400.0,3300.0,3700.0,2900.0,3725.0,3075.0,2925.0,3750.0,3175.0,3825.0,3200.0,3900.0,2900.0,3350.0,3150.0,3450.0,3050.0,3275.0,3050.0,3325.0,3500.0,3425.0,3175.0,3400.0,3400.0,3050.0,3000.0,3475.0,3450.0,3700.0],\"z\":[\"Torgersen\",\"Torgersen\",\"Torgersen\",\"Torgersen\",\"Torgersen\",\"Torgersen\",\"Torgersen\",\"Torgersen\",\"Biscoe\",\"Biscoe\",\"Biscoe\",\"Biscoe\",\"Biscoe\",\"Dream\",\"Dream\",\"Dream\",\"Dream\",\"Dream\",\"Dream\",\"Dream\",\"Dream\",\"Dream\",\"Biscoe\",\"Biscoe\",\"Biscoe\",\"Biscoe\",\"Biscoe\",\"Biscoe\",\"Biscoe\",\"Biscoe\",\"Biscoe\",\"Torgersen\",\"Torgersen\",\"Torgersen\",\"Torgersen\",\"Torgersen\",\"Torgersen\",\"Torgersen\",\"Torgersen\",\"Dream\",\"Dream\",\"Dream\",\"Dream\",\"Dream\",\"Dream\",\"Dream\",\"Dream\",\"Biscoe\",\"Biscoe\",\"Biscoe\",\"Biscoe\",\"Biscoe\",\"Biscoe\",\"Biscoe\",\"Biscoe\",\"Torgersen\",\"Torgersen\",\"Torgersen\",\"Torgersen\",\"Torgersen\",\"Torgersen\",\"Torgersen\",\"Torgersen\",\"Dream\",\"Dream\",\"Dream\",\"Dream\",\"Dream\",\"Dream\",\"Dream\",\"Dream\",\"Dream\",\"Dream\"],\"type\":\"scatter3d\"},{\"customdata\":[[\"female\"],[\"female\"],[\"female\"],[\"female\"],[\"female\"],[\"female\"],[\"female\"],[\"female\"],[\"female\"],[\"female\"],[\"female\"],[\"female\"],[\"female\"],[\"female\"],[\"female\"],[\"female\"],[\"female\"],[\"female\"],[\"female\"],[\"female\"],[\"female\"],[\"female\"],[\"female\"],[\"female\"],[\"female\"],[\"female\"],[\"female\"],[\"female\"],[\"female\"],[\"female\"],[\"female\"],[\"female\"],[\"female\"],[\"female\"]],\"hovertemplate\":\"species=Chinstrap\\u003cbr\\u003esex=%{customdata[0]}\\u003cbr\\u003ebill_length_mm=%{x}\\u003cbr\\u003ebody_mass_g=%{y}\\u003cbr\\u003eisland=%{z}\\u003cextra\\u003e\\u003c\\u002fextra\\u003e\",\"legendgroup\":\"Chinstrap\",\"marker\":{\"color\":\"#EF553B\",\"symbol\":\"circle\"},\"mode\":\"markers\",\"name\":\"Chinstrap\",\"scene\":\"scene\",\"showlegend\":true,\"x\":[46.5,45.4,45.2,46.1,46.0,46.6,47.0,45.9,58.0,46.4,42.4,43.2,46.7,50.5,46.4,40.9,42.5,47.5,47.6,46.9,46.2,45.5,50.9,50.1,49.8,48.1,45.7,42.5,45.2,45.6,46.8,45.7,43.5,50.2],\"y\":[3500.0,3525.0,3950.0,3250.0,4150.0,3800.0,3700.0,3575.0,3700.0,3450.0,3600.0,2900.0,3300.0,3400.0,3700.0,3200.0,3350.0,3900.0,3850.0,2700.0,3650.0,3500.0,3675.0,3400.0,3675.0,3325.0,3600.0,3350.0,3250.0,3525.0,3650.0,3650.0,3400.0,3775.0],\"z\":[\"Dream\",\"Dream\",\"Dream\",\"Dream\",\"Dream\",\"Dream\",\"Dream\",\"Dream\",\"Dream\",\"Dream\",\"Dream\",\"Dream\",\"Dream\",\"Dream\",\"Dream\",\"Dream\",\"Dream\",\"Dream\",\"Dream\",\"Dream\",\"Dream\",\"Dream\",\"Dream\",\"Dream\",\"Dream\",\"Dream\",\"Dream\",\"Dream\",\"Dream\",\"Dream\",\"Dream\",\"Dream\",\"Dream\",\"Dream\"],\"type\":\"scatter3d\"}],\"name\":\"female\"}]);\n",
       "                        }).then(function(){\n",
       "                            \n",
       "var gd = document.getElementById('7afef3be-e28a-4cce-80f5-b68ddbc3aabb');\n",
       "var x = new MutationObserver(function (mutations, observer) {{\n",
       "        var display = window.getComputedStyle(gd).display;\n",
       "        if (!display || display === 'none') {{\n",
       "            console.log([gd, 'removed!']);\n",
       "            Plotly.purge(gd);\n",
       "            observer.disconnect();\n",
       "        }}\n",
       "}});\n",
       "\n",
       "// Listen for the removal of the full notebook cells\n",
       "var notebookContainer = gd.closest('#notebook-container');\n",
       "if (notebookContainer) {{\n",
       "    x.observe(notebookContainer, {childList: true});\n",
       "}}\n",
       "\n",
       "// Listen for the clearing of the current output cell\n",
       "var outputEl = gd.closest('.output');\n",
       "if (outputEl) {{\n",
       "    x.observe(outputEl, {childList: true});\n",
       "}}\n",
       "\n",
       "                        })                };                });            </script>        </div>"
      ]
     },
     "metadata": {},
     "output_type": "display_data"
    }
   ],
   "source": [
    "# Assuming your DataFrame is named 'df'\n",
    "fig = px.scatter_3d(filtered_df_2, x='bill_length_mm', y='body_mass_g', z='island', animation_frame='sex', color='species', hover_data=['island', 'sex'], title='Penguin Bill Length vs Bill Depth Over Time')\n",
    "\n",
    "# Update the layout to adjust the size\n",
    "fig.update_layout(\n",
    "    width=800,  # width in pixels\n",
    "    height=600,  # height in pixels\n",
    ")\n",
    "\n",
    "# Show the interactive plot\n",
    "fig.show()\n"
   ]
  },
  {
   "cell_type": "markdown",
   "id": "00000966-63f6-4921-834e-a12a17c28b24",
   "metadata": {},
   "source": [
    "Looks like if we seperate by island we can achieve further seperation."
   ]
  },
  {
   "cell_type": "markdown",
   "id": "3d9f66e4-40e9-4b48-b3cc-6ec4e4efde0d",
   "metadata": {},
   "source": [
    "By making some plots we can be confident that the species can be seperated by a machine learning algorithmn."
   ]
  },
  {
   "cell_type": "code",
   "execution_count": null,
   "id": "0a575934-cd67-4e90-a603-822b6f4f4a82",
   "metadata": {},
   "outputs": [],
   "source": []
  }
 ],
 "metadata": {
  "kernelspec": {
   "display_name": "Python (teaching)",
   "language": "python",
   "name": "teaching"
  },
  "language_info": {
   "codemirror_mode": {
    "name": "ipython",
    "version": 3
   },
   "file_extension": ".py",
   "mimetype": "text/x-python",
   "name": "python",
   "nbconvert_exporter": "python",
   "pygments_lexer": "ipython3",
   "version": "3.10.14"
  }
 },
 "nbformat": 4,
 "nbformat_minor": 5
}
