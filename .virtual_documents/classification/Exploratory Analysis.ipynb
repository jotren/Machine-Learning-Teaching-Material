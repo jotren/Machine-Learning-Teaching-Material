





import pandas as pd
import os
import plotly
import plotly.express as px
import plotly.io as pio

df = pd.read_csv("./data/penguin_data.csv")
df.dropna(inplace=True)





# Assuming your DataFrame is named 'df'
fig = px.scatter_3d(df, x='bill_length_mm', y='body_mass_g', z='bill_depth_mm', color='species', hover_data=['island', 'sex'], title='Penguin Bill Length vs Bill Depth Over Time')
# Show the interactive plot

# Update the layout to adjust the size
fig.update_layout(
    width=800,  # width in pixels
    height=600,  # height in pixels
)


fig.show()





# Define the two specified species you want to include
species_to_include_1 = ['Adelie', 'Chinstrap']

# Filter the DataFrame to include only the specified species
filtered_df_1 = df[df['species'].isin(species_to_include_2)].dropna()



# Assuming your DataFrame is named 'df'
fig = px.scatter_3d(filtered_df_2, x='bill_length_mm', y='flipper_length_mm', z='bill_depth_mm', color='species', hover_data=['island', 'sex'], title='Penguin Bill Length vs Bill Depth Over Time')

# Update the layout to adjust the size
fig.update_layout(
    width=800,  # width in pixels
    height=600,  # height in pixels
)

# Show the interactive plot
fig.show()


# Assuming your DataFrame is named 'df'
fig = px.scatter_3d(filtered_df_2, x='bill_length_mm', y='flipper_length_mm', z='bill_depth_mm', animation_frame='sex', color='species', hover_data=['island', 'sex'], title='Penguin Bill Length vs Bill Depth Over Time')

# Update the layout to adjust the size
fig.update_layout(
    width=800,  # width in pixels
    height=600,  # height in pixels
)


# Show the interactive plot
fig.show()






# Assuming your DataFrame is named 'df'
fig = px.scatter_3d(filtered_df_2, x='bill_length_mm', y='body_mass_g', z='bill_depth_mm', animation_frame='sex', color='species', hover_data=['island', 'sex'], title='Penguin Bill Length vs Bill Depth Over Time')

# Update the layout to adjust the size
fig.update_layout(
    width=800,  # width in pixels
    height=600,  # height in pixels
)

# Show the interactive plot
fig.show()





# Assuming your DataFrame is named 'df'
fig = px.scatter_3d(filtered_df_2, x='bill_length_mm', y='body_mass_g', z='island', animation_frame='sex', color='species', hover_data=['island', 'sex'], title='Penguin Bill Length vs Bill Depth Over Time')

# Update the layout to adjust the size
fig.update_layout(
    width=800,  # width in pixels
    height=600,  # height in pixels
)

# Show the interactive plot
fig.show()










